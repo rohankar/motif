{
 "cells": [
  {
   "cell_type": "code",
   "execution_count": 277,
   "metadata": {
    "collapsed": true
   },
   "outputs": [],
   "source": [
    "import pandas as pd\n",
    "import numpy as np\n",
    "pd.options.mode.chained_assignment = None"
   ]
  },
  {
   "cell_type": "code",
   "execution_count": 278,
   "metadata": {
    "collapsed": true
   },
   "outputs": [],
   "source": [
    "df = pd.read_excel('song_data2.xlsx')"
   ]
  },
  {
   "cell_type": "code",
   "execution_count": 279,
   "metadata": {},
   "outputs": [
    {
     "data": {
      "text/html": [
       "<div>\n",
       "<style>\n",
       "    .dataframe thead tr:only-child th {\n",
       "        text-align: right;\n",
       "    }\n",
       "\n",
       "    .dataframe thead th {\n",
       "        text-align: left;\n",
       "    }\n",
       "\n",
       "    .dataframe tbody tr th {\n",
       "        vertical-align: top;\n",
       "    }\n",
       "</style>\n",
       "<table border=\"1\" class=\"dataframe\">\n",
       "  <thead>\n",
       "    <tr style=\"text-align: right;\">\n",
       "      <th></th>\n",
       "      <th>ID</th>\n",
       "      <th>artist</th>\n",
       "      <th>song</th>\n",
       "      <th>album</th>\n",
       "      <th>released</th>\n",
       "      <th>genre</th>\n",
       "      <th>home_country</th>\n",
       "      <th>singer_age_at_release</th>\n",
       "      <th>entity</th>\n",
       "      <th>topic</th>\n",
       "      <th>Google_Entities</th>\n",
       "      <th>overall_sentiment</th>\n",
       "    </tr>\n",
       "  </thead>\n",
       "  <tbody>\n",
       "    <tr>\n",
       "      <th>0</th>\n",
       "      <td>1</td>\n",
       "      <td>Aerosmith</td>\n",
       "      <td>Janie's Got A Gun</td>\n",
       "      <td>Pump</td>\n",
       "      <td>1989</td>\n",
       "      <td>Hard rock, Rock</td>\n",
       "      <td>United States</td>\n",
       "      <td>41</td>\n",
       "      <td>[{\"Janie's Got a Gun\": 0.2361}, {'Honey': 0.05...</td>\n",
       "      <td>[{'Songs written': 1}, {'Aerosmith songs': 1},...</td>\n",
       "      <td>[{'Janie': 0.62619865}, {'honey': 0.10297375},...</td>\n",
       "      <td>-0.7</td>\n",
       "    </tr>\n",
       "    <tr>\n",
       "      <th>1</th>\n",
       "      <td>2</td>\n",
       "      <td>Aerosmith</td>\n",
       "      <td>Magic Touch</td>\n",
       "      <td>Permanent Vacation</td>\n",
       "      <td>1987</td>\n",
       "      <td>Hard rock, Rock</td>\n",
       "      <td>United States</td>\n",
       "      <td>39</td>\n",
       "      <td>[{'Shotgun': 0.1503}, {'babe': 0}]</td>\n",
       "      <td>[{'Albums': 0.5973}, {'Recorded music': 0.5719...</td>\n",
       "      <td>[{'fire burnin': 0.20596175}, {'Cause': 0.0714...</td>\n",
       "      <td>-0.6</td>\n",
       "    </tr>\n",
       "    <tr>\n",
       "      <th>2</th>\n",
       "      <td>3</td>\n",
       "      <td>Aerosmith</td>\n",
       "      <td>Taste Of India</td>\n",
       "      <td>Nine Lives</td>\n",
       "      <td>1997</td>\n",
       "      <td>Hard rock</td>\n",
       "      <td>United States</td>\n",
       "      <td>49</td>\n",
       "      <td>[{'Incense': 0.2548}, {'Sweetness of wine': 0....</td>\n",
       "      <td>[{'Wine': 0.7881}, {'Recorded music': 0.7072},...</td>\n",
       "      <td>[{'kind': 0.3166986}, {'taste': 0.23181729}, {...</td>\n",
       "      <td>0.6</td>\n",
       "    </tr>\n",
       "  </tbody>\n",
       "</table>\n",
       "</div>"
      ],
      "text/plain": [
       "   ID     artist               song               album  released  \\\n",
       "0   1  Aerosmith  Janie's Got A Gun                Pump      1989   \n",
       "1   2  Aerosmith        Magic Touch  Permanent Vacation      1987   \n",
       "2   3  Aerosmith     Taste Of India          Nine Lives      1997   \n",
       "\n",
       "             genre   home_country  singer_age_at_release  \\\n",
       "0  Hard rock, Rock  United States                     41   \n",
       "1  Hard rock, Rock  United States                     39   \n",
       "2        Hard rock  United States                     49   \n",
       "\n",
       "                                              entity  \\\n",
       "0  [{\"Janie's Got a Gun\": 0.2361}, {'Honey': 0.05...   \n",
       "1                 [{'Shotgun': 0.1503}, {'babe': 0}]   \n",
       "2  [{'Incense': 0.2548}, {'Sweetness of wine': 0....   \n",
       "\n",
       "                                               topic  \\\n",
       "0  [{'Songs written': 1}, {'Aerosmith songs': 1},...   \n",
       "1  [{'Albums': 0.5973}, {'Recorded music': 0.5719...   \n",
       "2  [{'Wine': 0.7881}, {'Recorded music': 0.7072},...   \n",
       "\n",
       "                                     Google_Entities  overall_sentiment  \n",
       "0  [{'Janie': 0.62619865}, {'honey': 0.10297375},...               -0.7  \n",
       "1  [{'fire burnin': 0.20596175}, {'Cause': 0.0714...               -0.6  \n",
       "2  [{'kind': 0.3166986}, {'taste': 0.23181729}, {...                0.6  "
      ]
     },
     "execution_count": 279,
     "metadata": {},
     "output_type": "execute_result"
    }
   ],
   "source": [
    "df.head(3)"
   ]
  },
  {
   "cell_type": "code",
   "execution_count": 281,
   "metadata": {
    "collapsed": true
   },
   "outputs": [],
   "source": [
    "# Function to convert the genre value in each row to a list  \n",
    "def list_converter (value):\n",
    "    return value.split(', ') \n",
    "df['genre'] = df['genre'].apply(list_converter)"
   ]
  },
  {
   "cell_type": "code",
   "execution_count": 282,
   "metadata": {},
   "outputs": [
    {
     "data": {
      "text/html": [
       "<div>\n",
       "<style>\n",
       "    .dataframe thead tr:only-child th {\n",
       "        text-align: right;\n",
       "    }\n",
       "\n",
       "    .dataframe thead th {\n",
       "        text-align: left;\n",
       "    }\n",
       "\n",
       "    .dataframe tbody tr th {\n",
       "        vertical-align: top;\n",
       "    }\n",
       "</style>\n",
       "<table border=\"1\" class=\"dataframe\">\n",
       "  <thead>\n",
       "    <tr style=\"text-align: right;\">\n",
       "      <th></th>\n",
       "      <th>ID</th>\n",
       "      <th>artist</th>\n",
       "      <th>song</th>\n",
       "      <th>album</th>\n",
       "      <th>released</th>\n",
       "      <th>genre</th>\n",
       "      <th>home_country</th>\n",
       "      <th>singer_age_at_release</th>\n",
       "      <th>entity</th>\n",
       "      <th>topic</th>\n",
       "      <th>Google_Entities</th>\n",
       "      <th>overall_sentiment</th>\n",
       "    </tr>\n",
       "  </thead>\n",
       "  <tbody>\n",
       "    <tr>\n",
       "      <th>0</th>\n",
       "      <td>1</td>\n",
       "      <td>Aerosmith</td>\n",
       "      <td>Janie's Got A Gun</td>\n",
       "      <td>Pump</td>\n",
       "      <td>1989</td>\n",
       "      <td>[Hard rock, Rock]</td>\n",
       "      <td>United States</td>\n",
       "      <td>41</td>\n",
       "      <td>[{\"Janie's Got a Gun\": 0.2361}, {'Honey': 0.05...</td>\n",
       "      <td>[{'Songs written': 1}, {'Aerosmith songs': 1},...</td>\n",
       "      <td>[{'Janie': 0.62619865}, {'honey': 0.10297375},...</td>\n",
       "      <td>-0.7</td>\n",
       "    </tr>\n",
       "    <tr>\n",
       "      <th>1</th>\n",
       "      <td>2</td>\n",
       "      <td>Aerosmith</td>\n",
       "      <td>Magic Touch</td>\n",
       "      <td>Permanent Vacation</td>\n",
       "      <td>1987</td>\n",
       "      <td>[Hard rock, Rock]</td>\n",
       "      <td>United States</td>\n",
       "      <td>39</td>\n",
       "      <td>[{'Shotgun': 0.1503}, {'babe': 0}]</td>\n",
       "      <td>[{'Albums': 0.5973}, {'Recorded music': 0.5719...</td>\n",
       "      <td>[{'fire burnin': 0.20596175}, {'Cause': 0.0714...</td>\n",
       "      <td>-0.6</td>\n",
       "    </tr>\n",
       "  </tbody>\n",
       "</table>\n",
       "</div>"
      ],
      "text/plain": [
       "   ID     artist               song               album  released  \\\n",
       "0   1  Aerosmith  Janie's Got A Gun                Pump      1989   \n",
       "1   2  Aerosmith        Magic Touch  Permanent Vacation      1987   \n",
       "\n",
       "               genre   home_country  singer_age_at_release  \\\n",
       "0  [Hard rock, Rock]  United States                     41   \n",
       "1  [Hard rock, Rock]  United States                     39   \n",
       "\n",
       "                                              entity  \\\n",
       "0  [{\"Janie's Got a Gun\": 0.2361}, {'Honey': 0.05...   \n",
       "1                 [{'Shotgun': 0.1503}, {'babe': 0}]   \n",
       "\n",
       "                                               topic  \\\n",
       "0  [{'Songs written': 1}, {'Aerosmith songs': 1},...   \n",
       "1  [{'Albums': 0.5973}, {'Recorded music': 0.5719...   \n",
       "\n",
       "                                     Google_Entities  overall_sentiment  \n",
       "0  [{'Janie': 0.62619865}, {'honey': 0.10297375},...               -0.7  \n",
       "1  [{'fire burnin': 0.20596175}, {'Cause': 0.0714...               -0.6  "
      ]
     },
     "execution_count": 282,
     "metadata": {},
     "output_type": "execute_result"
    }
   ],
   "source": [
    "df.head(2)"
   ]
  },
  {
   "cell_type": "code",
   "execution_count": 283,
   "metadata": {
    "collapsed": true
   },
   "outputs": [],
   "source": [
    "# Getting artist choices "
   ]
  },
  {
   "cell_type": "code",
   "execution_count": 284,
   "metadata": {},
   "outputs": [
    {
     "name": "stdout",
     "output_type": "stream",
     "text": [
      "Artist options: \n"
     ]
    },
    {
     "data": {
      "text/plain": [
       "(None,\n",
       " ['Aerosmith',\n",
       "  'Bruno Mars',\n",
       "  'Coldplay',\n",
       "  'Doors',\n",
       "  'Elton John',\n",
       "  'Elvis Presley',\n",
       "  'Grateful Dead',\n",
       "  'Jimi Hendrix',\n",
       "  'John Legend',\n",
       "  'Lady Gaga',\n",
       "  'Linkin Park',\n",
       "  'Maroon 5',\n",
       "  'Metallica',\n",
       "  'Michael Jackson',\n",
       "  'Nickelback',\n",
       "  'Outkast',\n",
       "  'Santana',\n",
       "  'Stevie Wonder',\n",
       "  'Weezer',\n",
       "  'Wu-Tang Clan'])"
      ]
     },
     "execution_count": 284,
     "metadata": {},
     "output_type": "execute_result"
    }
   ],
   "source": [
    "unique_artists = list(df['artist'].unique())\n",
    "print ('Artist options: '), unique_artists"
   ]
  },
  {
   "cell_type": "code",
   "execution_count": 285,
   "metadata": {},
   "outputs": [
    {
     "name": "stdout",
     "output_type": "stream",
     "text": [
      "Please select your artists (or type * to select all): *\n"
     ]
    }
   ],
   "source": [
    "artist_input = input('Please select your artists (or type * to select all): ')"
   ]
  },
  {
   "cell_type": "code",
   "execution_count": 286,
   "metadata": {
    "collapsed": true
   },
   "outputs": [],
   "source": [
    "if artist_input == '*':\n",
    "    artist_input = unique_artists\n",
    "else:\n",
    "    artist_input = artist_input.split(', ')"
   ]
  },
  {
   "cell_type": "code",
   "execution_count": 287,
   "metadata": {
    "collapsed": true
   },
   "outputs": [],
   "source": [
    "# First instance of filtering the dataset\n",
    "df_filtered = df.loc[df['artist'].isin(artist_input)]"
   ]
  },
  {
   "cell_type": "code",
   "execution_count": null,
   "metadata": {
    "collapsed": true
   },
   "outputs": [],
   "source": []
  },
  {
   "cell_type": "code",
   "execution_count": 288,
   "metadata": {},
   "outputs": [
    {
     "name": "stdout",
     "output_type": "stream",
     "text": [
      "Song options: \n"
     ]
    },
    {
     "data": {
      "text/plain": [
       "(None,\n",
       " [\"Janie's Got A Gun\",\n",
       "  'Magic Touch',\n",
       "  'Taste Of India',\n",
       "  'Dream On',\n",
       "  'Eyesight To The Blind',\n",
       "  'Falling Off',\n",
       "  'Jaded',\n",
       "  'Kings And Queens',\n",
       "  'Lightning Strikes',\n",
       "  \"Don't Give Up\",\n",
       "  'It Will Rain',\n",
       "  'Liquor Store Blues',\n",
       "  'When I Was Your Man',\n",
       "  'Gorilla',\n",
       "  'Show Me',\n",
       "  'Young Girls',\n",
       "  'Fix You',\n",
       "  'I Ran Away',\n",
       "  'Miracles',\n",
       "  'Moses',\n",
       "  'Swallowed In The Sea',\n",
       "  'Viva La Vida',\n",
       "  'White Shadows',\n",
       "  'Yellow',\n",
       "  'Gravity',\n",
       "  'Hymn For The Weekend',\n",
       "  'Ink',\n",
       "  'Love Street',\n",
       "  'Orange County Suite',\n",
       "  'Crawling King Snake',\n",
       "  'End Of The Night',\n",
       "  'Light My Fire',\n",
       "  'Love Her Madly',\n",
       "  'Crystal',\n",
       "  'Goodbye',\n",
       "  'Hoop Of Fire',\n",
       "  'Go It Alone',\n",
       "  'Indian Sunset',\n",
       "  'Chesay',\n",
       "  'Do The Clam',\n",
       "  'Earth Boy',\n",
       "  'Hard Luck',\n",
       "  'Double Trouble',\n",
       "  'Girl Of Mine',\n",
       "  'Midnight Hour',\n",
       "  'Casey Jones',\n",
       "  'Cosmic Charlie',\n",
       "  'Dark Star',\n",
       "  'Gypsy Eyes',\n",
       "  'Crosstown Traffic',\n",
       "  'Message Of Love',\n",
       "  'Red House',\n",
       "  'Them Changes',\n",
       "  'Voodoo Child',\n",
       "  'Heaven',\n",
       "  'Penthouse Floor',\n",
       "  'Refuge',\n",
       "  'Shine',\n",
       "  'So Gone',\n",
       "  'I Know Better',\n",
       "  'Money Blown',\n",
       "  'Pride, In The Name Of Love',\n",
       "  'Satisfaction',\n",
       "  'Just Dance',\n",
       "  'Rock Show',\n",
       "  'Bad Romance',\n",
       "  'Money Honey',\n",
       "  \"Don't Stay\",\n",
       "  'In The End',\n",
       "  \"What I've Done\",\n",
       "  'Lies Greed Misery',\n",
       "  'If You Only Knew',\n",
       "  'One More Night',\n",
       "  'Fortune Teller',\n",
       "  'Moves Like Jagger',\n",
       "  'Sad',\n",
       "  'This Love',\n",
       "  'Frantic',\n",
       "  'Beat It',\n",
       "  'Billie Jean',\n",
       "  'Happy',\n",
       "  'Dear Michael',\n",
       "  'Man In The Mirror',\n",
       "  'Off The Wall',\n",
       "  'State Of Shock',\n",
       "  'If Everyone Cared',\n",
       "  'Just For',\n",
       "  'Rockstar',\n",
       "  'Side Of A Bullet',\n",
       "  'Photograph',\n",
       "  'Pusher',\n",
       "  'Sister Sin',\n",
       "  'Decatur Psalm',\n",
       "  'Hey Ya',\n",
       "  'Knowing',\n",
       "  'Mutron Angel',\n",
       "  'Pink And Blue',\n",
       "  'True Dat',\n",
       "  'Shades Of Time',\n",
       "  'Let Me',\n",
       "  'Praise',\n",
       "  'Stand Up',\n",
       "  'Edge Of Eternity',\n",
       "  'Front Line',\n",
       "  'Gotta Have You',\n",
       "  'Sir Duke',\n",
       "  'Sorry',\n",
       "  \"Isn't She Lovely\",\n",
       "  'Keep On Running',\n",
       "  'Devotion',\n",
       "  \"Don't Let Go\",\n",
       "  'Hold Me',\n",
       "  'Living Without You',\n",
       "  'Beverly Hills',\n",
       "  'Everybody Get Dangerous',\n",
       "  'I Do',\n",
       "  'King',\n",
       "  \"Say It Ain't So\",\n",
       "  'Reunited',\n",
       "  'Method Man',\n",
       "  'Second Coming'])"
      ]
     },
     "execution_count": 288,
     "metadata": {},
     "output_type": "execute_result"
    }
   ],
   "source": [
    "unique_songs = list(df_filtered['song'].unique())\n",
    "print ('Song options: '), unique_songs"
   ]
  },
  {
   "cell_type": "code",
   "execution_count": 289,
   "metadata": {},
   "outputs": [
    {
     "name": "stdout",
     "output_type": "stream",
     "text": [
      "Please select your songs (or type * to select all): *\n"
     ]
    }
   ],
   "source": [
    "# Getting song choices - include this?\n",
    "song_input = input('Please select your songs (or type * to select all): ')"
   ]
  },
  {
   "cell_type": "code",
   "execution_count": 290,
   "metadata": {
    "collapsed": true
   },
   "outputs": [],
   "source": [
    "if song_input == '*':\n",
    "    song_input = list(df['song'])\n",
    "else:\n",
    "    song_input = song_input.split(', ')"
   ]
  },
  {
   "cell_type": "code",
   "execution_count": 291,
   "metadata": {},
   "outputs": [],
   "source": [
    "# Filtering again\n",
    "df_filtered = df_filtered.loc[df_filtered['song'].isin(song_input)]"
   ]
  },
  {
   "cell_type": "code",
   "execution_count": 292,
   "metadata": {},
   "outputs": [
    {
     "name": "stdout",
     "output_type": "stream",
     "text": [
      "Album options: \n"
     ]
    },
    {
     "data": {
      "text/plain": [
       "(None,\n",
       " ['Pump',\n",
       "  'Permanent Vacation',\n",
       "  'Nine Lives',\n",
       "  'Aerosmith',\n",
       "  \"Honkin' on Bobo\",\n",
       "  'Just Push Play',\n",
       "  'Draw the Line',\n",
       "  'Rock in a Hard Place',\n",
       "  'Sesame Street',\n",
       "  'The Twighlight Saga: Breaking Dawn',\n",
       "  'Doo-Wops & Hooligans',\n",
       "  'Unorthodox Jukebox',\n",
       "  'X&Y',\n",
       "  'Coldplay',\n",
       "  'Kaleidoscope',\n",
       "  'Live 2003',\n",
       "  'Viva la Vida or Death and All His Friends',\n",
       "  'Parachutes',\n",
       "  'A Head Full of Dreams',\n",
       "  'Ghost Stories',\n",
       "  'The Doors (Movie)',\n",
       "  'L.A. Woman',\n",
       "  'The Doors',\n",
       "  'Too Low for Zero',\n",
       "  'Madman Across the Water',\n",
       "  'Leather Jackets',\n",
       "  'Frankie and Johnny (Movie)',\n",
       "  'Girl Happy (Movie)',\n",
       "  'Girls! Girls! Girls! (Movie)',\n",
       "  'Double Trouble',\n",
       "  'Raised on Rock',\n",
       "  'Vintage Dead',\n",
       "  \"Workingman's Dead\",\n",
       "  'Aoxomoxoa',\n",
       "  'Live/Dead',\n",
       "  'Electric Ladyland',\n",
       "  'Band of Gypsys',\n",
       "  'Are You Experienced',\n",
       "  'Once Again',\n",
       "  'Darkness and Light',\n",
       "  'Get Lifted',\n",
       "  'Wake up!',\n",
       "  'Love in the Future',\n",
       "  'Evolver',\n",
       "  'The Fame',\n",
       "  'The Fame Monster',\n",
       "  'Meteora',\n",
       "  'Hybrid Theory',\n",
       "  'Minutes to Midnight',\n",
       "  'Living Things',\n",
       "  'Songs About Jane',\n",
       "  'Overexposed',\n",
       "  'Hands All Over',\n",
       "  'St. Anger',\n",
       "  'Thriller',\n",
       "  'Music & Me',\n",
       "  'Forever, Michael',\n",
       "  'Bad',\n",
       "  'Off The Wall',\n",
       "  'Victory',\n",
       "  'All the Right Reasons',\n",
       "  'Curb',\n",
       "  'No Fixed Address',\n",
       "  'ATLiens',\n",
       "  'Speakerboxxx/The Love Below',\n",
       "  'Whild Peach',\n",
       "  'Southernplayalisticadillacmuzik',\n",
       "  'Santana',\n",
       "  'Shango',\n",
       "  'Freedom',\n",
       "  'Marathon',\n",
       "  'Conversation Peace',\n",
       "  'Original Musiquarium',\n",
       "  'Jungle Fever',\n",
       "  'Songs in the Key of Life',\n",
       "  'Music of My Mind',\n",
       "  'Pinkerton',\n",
       "  'Weezer',\n",
       "  'Make Believe',\n",
       "  'Maladroit',\n",
       "  'Wu-Tang Forever',\n",
       "  'Enter the Wu-Tang'])"
      ]
     },
     "execution_count": 292,
     "metadata": {},
     "output_type": "execute_result"
    }
   ],
   "source": [
    "# Getting album choices\n",
    "unique_albums = list(df_filtered['album'].unique())\n",
    "print ('Album options: '), unique_albums"
   ]
  },
  {
   "cell_type": "code",
   "execution_count": 293,
   "metadata": {},
   "outputs": [
    {
     "name": "stdout",
     "output_type": "stream",
     "text": [
      "Please select your albums (or type * to select all): *\n"
     ]
    }
   ],
   "source": [
    "album_input = input('Please select your albums (or type * to select all): ')"
   ]
  },
  {
   "cell_type": "code",
   "execution_count": 294,
   "metadata": {
    "collapsed": true
   },
   "outputs": [],
   "source": [
    "if album_input == '*':\n",
    "    album_input = unique_albums\n",
    "else:\n",
    "    album_input = album_input.split(', ')"
   ]
  },
  {
   "cell_type": "code",
   "execution_count": 295,
   "metadata": {
    "collapsed": true
   },
   "outputs": [],
   "source": [
    "# Filtering the dataset again\n",
    "df_filtered = df_filtered.loc[df_filtered['album'].isin(album_input)]"
   ]
  },
  {
   "cell_type": "code",
   "execution_count": 296,
   "metadata": {},
   "outputs": [
    {
     "name": "stdout",
     "output_type": "stream",
     "text": [
      "Country options: \n"
     ]
    },
    {
     "data": {
      "text/plain": [
       "(None, ['United States', 'England'])"
      ]
     },
     "execution_count": 296,
     "metadata": {},
     "output_type": "execute_result"
    }
   ],
   "source": [
    "# Getting country choices\n",
    "unique_countries = list(df_filtered['home_country'].unique())\n",
    "print ('Country options: '), unique_countries"
   ]
  },
  {
   "cell_type": "code",
   "execution_count": 297,
   "metadata": {
    "scrolled": true
   },
   "outputs": [
    {
     "name": "stdout",
     "output_type": "stream",
     "text": [
      "Please select your countries (or type * to select all): *\n"
     ]
    }
   ],
   "source": [
    "country_input = input('Please select your countries (or type * to select all): ')"
   ]
  },
  {
   "cell_type": "code",
   "execution_count": 298,
   "metadata": {
    "collapsed": true
   },
   "outputs": [],
   "source": [
    "if country_input == '*':\n",
    "    country_input = unique_countries\n",
    "else:\n",
    "    country_input = country_input.split(', ')"
   ]
  },
  {
   "cell_type": "code",
   "execution_count": 299,
   "metadata": {},
   "outputs": [],
   "source": [
    "# Filtering the dataset again\n",
    "df_filtered = df_filtered.loc[df_filtered['home_country'].isin(country_input)]"
   ]
  },
  {
   "cell_type": "code",
   "execution_count": 300,
   "metadata": {},
   "outputs": [
    {
     "name": "stdout",
     "output_type": "stream",
     "text": [
      "Genre options: \n"
     ]
    },
    {
     "data": {
      "text/plain": [
       "(None,\n",
       " {'Alternative metal',\n",
       "  'Alternative rock',\n",
       "  'Alternative/Indie',\n",
       "  'Britpop',\n",
       "  'Classic rock',\n",
       "  'Classic soul',\n",
       "  'Contemporary R&B',\n",
       "  'Dance pop',\n",
       "  'Electropo',\n",
       "  'Gospel',\n",
       "  'Hard rock',\n",
       "  'Hip-hop/rap',\n",
       "  'Jamband',\n",
       "  'Metal',\n",
       "  'Neo-soul',\n",
       "  'Pop',\n",
       "  'Pop rock',\n",
       "  'Post-Britpop',\n",
       "  'Psychedelic rock',\n",
       "  'R&B',\n",
       "  'R&B/soul',\n",
       "  'Reggae',\n",
       "  'Rock'})"
      ]
     },
     "execution_count": 300,
     "metadata": {},
     "output_type": "execute_result"
    }
   ],
   "source": [
    "# Getting genre choices - will update once we decide to only use 1 per song\n",
    "\n",
    "unflattened_genre_list = list(df_filtered['genre'])\n",
    "unique_genres = set([item for sublist in unflattened_genre_list for item in sublist])\n",
    "print ('Genre options: '), unique_genres"
   ]
  },
  {
   "cell_type": "code",
   "execution_count": 301,
   "metadata": {
    "scrolled": true
   },
   "outputs": [
    {
     "name": "stdout",
     "output_type": "stream",
     "text": [
      "Please select your genres (or type * to select all): *\n"
     ]
    }
   ],
   "source": [
    "genre_input = input('Please select your genres (or type * to select all): ')"
   ]
  },
  {
   "cell_type": "code",
   "execution_count": 302,
   "metadata": {},
   "outputs": [],
   "source": [
    "if genre_input == '*':\n",
    "    genre_input = list(unique_genres)\n",
    "else:\n",
    "    genre_input = genre_input.split(', ')"
   ]
  },
  {
   "cell_type": "code",
   "execution_count": 303,
   "metadata": {},
   "outputs": [],
   "source": [
    "# Filtering to rows that include the genres mentioned \n",
    "df_filtered['genre_match'] = False\n",
    "for count, each_row in enumerate(df_filtered['genre']):\n",
    "    for item in each_row:\n",
    "        if item in genre_input:\n",
    "            df_filtered['genre_match'].iloc[count] = True\n",
    "df_filtered = df_filtered.loc[df_filtered['genre_match'] == True]"
   ]
  },
  {
   "cell_type": "code",
   "execution_count": 304,
   "metadata": {},
   "outputs": [
    {
     "data": {
      "text/html": [
       "<div>\n",
       "<style>\n",
       "    .dataframe thead tr:only-child th {\n",
       "        text-align: right;\n",
       "    }\n",
       "\n",
       "    .dataframe thead th {\n",
       "        text-align: left;\n",
       "    }\n",
       "\n",
       "    .dataframe tbody tr th {\n",
       "        vertical-align: top;\n",
       "    }\n",
       "</style>\n",
       "<table border=\"1\" class=\"dataframe\">\n",
       "  <thead>\n",
       "    <tr style=\"text-align: right;\">\n",
       "      <th></th>\n",
       "      <th>ID</th>\n",
       "      <th>artist</th>\n",
       "      <th>song</th>\n",
       "      <th>album</th>\n",
       "      <th>released</th>\n",
       "      <th>genre</th>\n",
       "      <th>home_country</th>\n",
       "      <th>singer_age_at_release</th>\n",
       "      <th>entity</th>\n",
       "      <th>topic</th>\n",
       "      <th>Google_Entities</th>\n",
       "      <th>overall_sentiment</th>\n",
       "      <th>genre_match</th>\n",
       "    </tr>\n",
       "  </thead>\n",
       "  <tbody>\n",
       "    <tr>\n",
       "      <th>0</th>\n",
       "      <td>1</td>\n",
       "      <td>Aerosmith</td>\n",
       "      <td>Janie's Got A Gun</td>\n",
       "      <td>Pump</td>\n",
       "      <td>1989</td>\n",
       "      <td>[Hard rock, Rock]</td>\n",
       "      <td>United States</td>\n",
       "      <td>41</td>\n",
       "      <td>[{\"Janie's Got a Gun\": 0.2361}, {'Honey': 0.05...</td>\n",
       "      <td>[{'Songs written': 1}, {'Aerosmith songs': 1},...</td>\n",
       "      <td>[{'Janie': 0.62619865}, {'honey': 0.10297375},...</td>\n",
       "      <td>-0.7</td>\n",
       "      <td>True</td>\n",
       "    </tr>\n",
       "    <tr>\n",
       "      <th>1</th>\n",
       "      <td>2</td>\n",
       "      <td>Aerosmith</td>\n",
       "      <td>Magic Touch</td>\n",
       "      <td>Permanent Vacation</td>\n",
       "      <td>1987</td>\n",
       "      <td>[Hard rock, Rock]</td>\n",
       "      <td>United States</td>\n",
       "      <td>39</td>\n",
       "      <td>[{'Shotgun': 0.1503}, {'babe': 0}]</td>\n",
       "      <td>[{'Albums': 0.5973}, {'Recorded music': 0.5719...</td>\n",
       "      <td>[{'fire burnin': 0.20596175}, {'Cause': 0.0714...</td>\n",
       "      <td>-0.6</td>\n",
       "      <td>True</td>\n",
       "    </tr>\n",
       "    <tr>\n",
       "      <th>2</th>\n",
       "      <td>3</td>\n",
       "      <td>Aerosmith</td>\n",
       "      <td>Taste Of India</td>\n",
       "      <td>Nine Lives</td>\n",
       "      <td>1997</td>\n",
       "      <td>[Hard rock]</td>\n",
       "      <td>United States</td>\n",
       "      <td>49</td>\n",
       "      <td>[{'Incense': 0.2548}, {'Sweetness of wine': 0....</td>\n",
       "      <td>[{'Wine': 0.7881}, {'Recorded music': 0.7072},...</td>\n",
       "      <td>[{'kind': 0.3166986}, {'taste': 0.23181729}, {...</td>\n",
       "      <td>0.6</td>\n",
       "      <td>True</td>\n",
       "    </tr>\n",
       "    <tr>\n",
       "      <th>3</th>\n",
       "      <td>4</td>\n",
       "      <td>Aerosmith</td>\n",
       "      <td>Dream On</td>\n",
       "      <td>Aerosmith</td>\n",
       "      <td>1973</td>\n",
       "      <td>[Classic rock, Rock]</td>\n",
       "      <td>United States</td>\n",
       "      <td>25</td>\n",
       "      <td>[{'Dawn': 0.2379}, {'Sin': 0.2023}, {'Laughter...</td>\n",
       "      <td>[{'Dawn': 0.3767}, {'Entertainment': 0.3653}, ...</td>\n",
       "      <td>[{'Lord': 0.2157075}, {'Everybody': 0.05828119...</td>\n",
       "      <td>0.0</td>\n",
       "      <td>True</td>\n",
       "    </tr>\n",
       "    <tr>\n",
       "      <th>4</th>\n",
       "      <td>5</td>\n",
       "      <td>Aerosmith</td>\n",
       "      <td>Eyesight To The Blind</td>\n",
       "      <td>Honkin' on Bobo</td>\n",
       "      <td>2004</td>\n",
       "      <td>[Hard rock, Rock]</td>\n",
       "      <td>United States</td>\n",
       "      <td>56</td>\n",
       "      <td>[{'God': 0.143}, {'Lordy': 0}, {'Lord': 0}]</td>\n",
       "      <td>[{'Shacharit for Shabbat and Yom Tov': 0.7511}...</td>\n",
       "      <td>[{'girl': 0.32739675}, {'woman': 0.21680547}, ...</td>\n",
       "      <td>0.2</td>\n",
       "      <td>True</td>\n",
       "    </tr>\n",
       "  </tbody>\n",
       "</table>\n",
       "</div>"
      ],
      "text/plain": [
       "   ID     artist                   song               album  released  \\\n",
       "0   1  Aerosmith      Janie's Got A Gun                Pump      1989   \n",
       "1   2  Aerosmith            Magic Touch  Permanent Vacation      1987   \n",
       "2   3  Aerosmith         Taste Of India          Nine Lives      1997   \n",
       "3   4  Aerosmith               Dream On           Aerosmith      1973   \n",
       "4   5  Aerosmith  Eyesight To The Blind     Honkin' on Bobo      2004   \n",
       "\n",
       "                  genre   home_country  singer_age_at_release  \\\n",
       "0     [Hard rock, Rock]  United States                     41   \n",
       "1     [Hard rock, Rock]  United States                     39   \n",
       "2           [Hard rock]  United States                     49   \n",
       "3  [Classic rock, Rock]  United States                     25   \n",
       "4     [Hard rock, Rock]  United States                     56   \n",
       "\n",
       "                                              entity  \\\n",
       "0  [{\"Janie's Got a Gun\": 0.2361}, {'Honey': 0.05...   \n",
       "1                 [{'Shotgun': 0.1503}, {'babe': 0}]   \n",
       "2  [{'Incense': 0.2548}, {'Sweetness of wine': 0....   \n",
       "3  [{'Dawn': 0.2379}, {'Sin': 0.2023}, {'Laughter...   \n",
       "4        [{'God': 0.143}, {'Lordy': 0}, {'Lord': 0}]   \n",
       "\n",
       "                                               topic  \\\n",
       "0  [{'Songs written': 1}, {'Aerosmith songs': 1},...   \n",
       "1  [{'Albums': 0.5973}, {'Recorded music': 0.5719...   \n",
       "2  [{'Wine': 0.7881}, {'Recorded music': 0.7072},...   \n",
       "3  [{'Dawn': 0.3767}, {'Entertainment': 0.3653}, ...   \n",
       "4  [{'Shacharit for Shabbat and Yom Tov': 0.7511}...   \n",
       "\n",
       "                                     Google_Entities  overall_sentiment  \\\n",
       "0  [{'Janie': 0.62619865}, {'honey': 0.10297375},...               -0.7   \n",
       "1  [{'fire burnin': 0.20596175}, {'Cause': 0.0714...               -0.6   \n",
       "2  [{'kind': 0.3166986}, {'taste': 0.23181729}, {...                0.6   \n",
       "3  [{'Lord': 0.2157075}, {'Everybody': 0.05828119...                0.0   \n",
       "4  [{'girl': 0.32739675}, {'woman': 0.21680547}, ...                0.2   \n",
       "\n",
       "   genre_match  \n",
       "0         True  \n",
       "1         True  \n",
       "2         True  \n",
       "3         True  \n",
       "4         True  "
      ]
     },
     "execution_count": 304,
     "metadata": {},
     "output_type": "execute_result"
    }
   ],
   "source": [
    "df_filtered.head()"
   ]
  },
  {
   "cell_type": "code",
   "execution_count": 305,
   "metadata": {
    "scrolled": true
   },
   "outputs": [
    {
     "name": "stdout",
     "output_type": "stream",
     "text": [
      "Release date options: \n",
      " 1960-1969 \n",
      " 1970-1979 \n",
      " 1980-1989 \n",
      " 1990-1999 \n",
      " 2000-2009 \n",
      " 2010-Present\n"
     ]
    }
   ],
   "source": [
    "print ('Release date options: \\n 1960-1969 \\n 1970-1979 \\n 1980-1989 \\n 1990-1999 \\n 2000-2009 \\n 2010-Present')"
   ]
  },
  {
   "cell_type": "code",
   "execution_count": 306,
   "metadata": {},
   "outputs": [
    {
     "name": "stdout",
     "output_type": "stream",
     "text": [
      "Please select your release year (or type * to select all): *\n"
     ]
    }
   ],
   "source": [
    "release_input = input('Please select your release year (or type * to select all): ')"
   ]
  },
  {
   "cell_type": "code",
   "execution_count": 307,
   "metadata": {
    "scrolled": true
   },
   "outputs": [
    {
     "data": {
      "text/plain": [
       "'*'"
      ]
     },
     "execution_count": 307,
     "metadata": {},
     "output_type": "execute_result"
    }
   ],
   "source": [
    "release_input"
   ]
  },
  {
   "cell_type": "code",
   "execution_count": 308,
   "metadata": {},
   "outputs": [],
   "source": [
    "release_year_list = []\n",
    "\n",
    "if release_input == '*':\n",
    "    for elem in range (1960, 2018):\n",
    "        release_year_list.append(elem)\n",
    "else:\n",
    "    release_input = release_input.split(', ')\n",
    "    for elem in release_input:\n",
    "        if '1960' in elem:\n",
    "                for elem in range (1960, 1970):\n",
    "                    release_year_list.append(elem)\n",
    "        elif '1970' in elem:\n",
    "                for elem in range (1970, 1980):\n",
    "                    release_year_list.append(elem)\n",
    "        elif '1980' in elem:\n",
    "                for elem in range (1980, 1990):\n",
    "                    release_year_list.append(elem)\n",
    "        elif '1990' in elem:\n",
    "                for elem in range (1990, 2000):\n",
    "                    release_year_list.append(elem)\n",
    "        elif '2000' in elem:\n",
    "                for elem in range (2000, 2010):\n",
    "                    release_year_list.append(elem)\n",
    "        elif '2010' in elem:\n",
    "                for elem in range (2010, 2018):\n",
    "                    release_year_list.append(elem)\n",
    "                    \n",
    "release_input = release_year_list"
   ]
  },
  {
   "cell_type": "code",
   "execution_count": 309,
   "metadata": {
    "collapsed": true
   },
   "outputs": [],
   "source": [
    "# Filtering the dataset again\n",
    "df_filtered = df_filtered.loc[df_filtered['released'].isin(release_input)]"
   ]
  },
  {
   "cell_type": "code",
   "execution_count": 311,
   "metadata": {
    "collapsed": true
   },
   "outputs": [],
   "source": [
    "# Add ranges for how old the singer was at release"
   ]
  },
  {
   "cell_type": "code",
   "execution_count": 312,
   "metadata": {},
   "outputs": [
    {
     "name": "stdout",
     "output_type": "stream",
     "text": [
      "Singer age options: \n",
      " 10-19 \n",
      " 20-29 \n",
      " 30-39 \n",
      " 40-49 \n",
      " 50-59\n"
     ]
    }
   ],
   "source": [
    "print ('Singer age options: \\n 10-19 \\n 20-29 \\n 30-39 \\n 40-49 \\n 50-59')"
   ]
  },
  {
   "cell_type": "code",
   "execution_count": 313,
   "metadata": {},
   "outputs": [
    {
     "name": "stdout",
     "output_type": "stream",
     "text": [
      "Please select an age range for singers (or type * to select all): 10-19\n"
     ]
    }
   ],
   "source": [
    "age_input = input('Please select an age range for singers (or type * to select all): ')"
   ]
  },
  {
   "cell_type": "code",
   "execution_count": 314,
   "metadata": {
    "collapsed": true
   },
   "outputs": [],
   "source": [
    "age_year_list = []\n",
    "\n",
    "if age_input == '*':\n",
    "    for elem in range (10, 56):\n",
    "        age_year_list.append(elem)\n",
    "else:\n",
    "    age_input = age_input.split(', ')\n",
    "    for elem in age_input:\n",
    "        if '10' in elem:\n",
    "                for elem in range (10, 20):\n",
    "                    age_year_list.append(elem)\n",
    "        elif '20' in elem:\n",
    "                for elem in range (20, 30):\n",
    "                    age_year_list.append(elem)\n",
    "        elif '30' in elem:\n",
    "                for elem in range (30, 40):\n",
    "                    age_year_list.append(elem)\n",
    "        elif '40' in elem:\n",
    "                for elem in range (40, 50):\n",
    "                    age_year_list.append(elem)\n",
    "        elif '50' in elem:\n",
    "                for elem in range (50, 57):\n",
    "                    age_year_list.append(elem)\n",
    "                    \n",
    "age_input = age_year_list"
   ]
  },
  {
   "cell_type": "code",
   "execution_count": 315,
   "metadata": {},
   "outputs": [],
   "source": [
    "# Filtering the dataset again\n",
    "df_filtered = df_filtered.loc[df_filtered['singer_age_at_release'].isin(age_input)]"
   ]
  },
  {
   "cell_type": "code",
   "execution_count": 316,
   "metadata": {
    "scrolled": false
   },
   "outputs": [
    {
     "data": {
      "text/html": [
       "<div>\n",
       "<style>\n",
       "    .dataframe thead tr:only-child th {\n",
       "        text-align: right;\n",
       "    }\n",
       "\n",
       "    .dataframe thead th {\n",
       "        text-align: left;\n",
       "    }\n",
       "\n",
       "    .dataframe tbody tr th {\n",
       "        vertical-align: top;\n",
       "    }\n",
       "</style>\n",
       "<table border=\"1\" class=\"dataframe\">\n",
       "  <thead>\n",
       "    <tr style=\"text-align: right;\">\n",
       "      <th></th>\n",
       "      <th>ID</th>\n",
       "      <th>artist</th>\n",
       "      <th>song</th>\n",
       "      <th>album</th>\n",
       "      <th>released</th>\n",
       "      <th>genre</th>\n",
       "      <th>home_country</th>\n",
       "      <th>singer_age_at_release</th>\n",
       "      <th>entity</th>\n",
       "      <th>topic</th>\n",
       "      <th>Google_Entities</th>\n",
       "      <th>overall_sentiment</th>\n",
       "      <th>genre_match</th>\n",
       "    </tr>\n",
       "  </thead>\n",
       "  <tbody>\n",
       "    <tr>\n",
       "      <th>81</th>\n",
       "      <td>82</td>\n",
       "      <td>Michael Jackson</td>\n",
       "      <td>Happy</td>\n",
       "      <td>Music &amp; Me</td>\n",
       "      <td>1973</td>\n",
       "      <td>[Classic soul]</td>\n",
       "      <td>United States</td>\n",
       "      <td>15</td>\n",
       "      <td>[{'Gambling': 0.1722}, {'Fallin': 0}, {'Little...</td>\n",
       "      <td>[{'Entertainment': 0.4852}, {'American televis...</td>\n",
       "      <td>[{'Happy': 0.6512448}, {'chance': 0.15058303},...</td>\n",
       "      <td>0.3</td>\n",
       "      <td>True</td>\n",
       "    </tr>\n",
       "    <tr>\n",
       "      <th>82</th>\n",
       "      <td>83</td>\n",
       "      <td>Michael Jackson</td>\n",
       "      <td>Dear Michael</td>\n",
       "      <td>Forever, Michael</td>\n",
       "      <td>1975</td>\n",
       "      <td>[Classic soul]</td>\n",
       "      <td>United States</td>\n",
       "      <td>17</td>\n",
       "      <td>[{'American Broadcasting Company': 0.1421}, {'...</td>\n",
       "      <td>[{'Recorded music': 0.7653}, {'Albums': 0.704}...</td>\n",
       "      <td>[{'Michael Michael': 0.5620244}, {'letter': 0....</td>\n",
       "      <td>0.0</td>\n",
       "      <td>True</td>\n",
       "    </tr>\n",
       "    <tr>\n",
       "      <th>98</th>\n",
       "      <td>99</td>\n",
       "      <td>Outkast</td>\n",
       "      <td>True Dat</td>\n",
       "      <td>Southernplayalisticadillacmuzik</td>\n",
       "      <td>1994</td>\n",
       "      <td>[Hip-hop/rap]</td>\n",
       "      <td>United States</td>\n",
       "      <td>19</td>\n",
       "      <td>[{'Truth': 0.2592}, {'Fuck': 0.239}, {'Outkast...</td>\n",
       "      <td>[{'Metaphysics': 1}, {'Philosophical theories'...</td>\n",
       "      <td>[{'outkast': 0.31333974}, {'someone': 0.082627...</td>\n",
       "      <td>-0.4</td>\n",
       "      <td>True</td>\n",
       "    </tr>\n",
       "  </tbody>\n",
       "</table>\n",
       "</div>"
      ],
      "text/plain": [
       "    ID           artist          song                            album  \\\n",
       "81  82  Michael Jackson         Happy                       Music & Me   \n",
       "82  83  Michael Jackson  Dear Michael                 Forever, Michael   \n",
       "98  99          Outkast      True Dat  Southernplayalisticadillacmuzik   \n",
       "\n",
       "    released           genre   home_country  singer_age_at_release  \\\n",
       "81      1973  [Classic soul]  United States                     15   \n",
       "82      1975  [Classic soul]  United States                     17   \n",
       "98      1994   [Hip-hop/rap]  United States                     19   \n",
       "\n",
       "                                               entity  \\\n",
       "81  [{'Gambling': 0.1722}, {'Fallin': 0}, {'Little...   \n",
       "82  [{'American Broadcasting Company': 0.1421}, {'...   \n",
       "98  [{'Truth': 0.2592}, {'Fuck': 0.239}, {'Outkast...   \n",
       "\n",
       "                                                topic  \\\n",
       "81  [{'Entertainment': 0.4852}, {'American televis...   \n",
       "82  [{'Recorded music': 0.7653}, {'Albums': 0.704}...   \n",
       "98  [{'Metaphysics': 1}, {'Philosophical theories'...   \n",
       "\n",
       "                                      Google_Entities  overall_sentiment  \\\n",
       "81  [{'Happy': 0.6512448}, {'chance': 0.15058303},...                0.3   \n",
       "82  [{'Michael Michael': 0.5620244}, {'letter': 0....                0.0   \n",
       "98  [{'outkast': 0.31333974}, {'someone': 0.082627...               -0.4   \n",
       "\n",
       "    genre_match  \n",
       "81         True  \n",
       "82         True  \n",
       "98         True  "
      ]
     },
     "execution_count": 316,
     "metadata": {},
     "output_type": "execute_result"
    }
   ],
   "source": [
    "# This shows the remaining data set after filtering \n",
    "\n",
    "df_filtered"
   ]
  },
  {
   "cell_type": "code",
   "execution_count": 317,
   "metadata": {},
   "outputs": [
    {
     "name": "stdout",
     "output_type": "stream",
     "text": [
      "Average sentiment for these songs: -0.03\n"
     ]
    }
   ],
   "source": [
    "print ('Average sentiment for these songs: ' + str(round(df_filtered['overall_sentiment'].mean(), 2)))"
   ]
  },
  {
   "cell_type": "markdown",
   "metadata": {},
   "source": [
    "# User Interface"
   ]
  },
  {
   "cell_type": "code",
   "execution_count": 7,
   "metadata": {},
   "outputs": [
    {
     "name": "stdout",
     "output_type": "stream",
     "text": [
      "Choose what variables to filter on. You can choose amongst:\n",
      "\n",
      "ID\n",
      "artist\n",
      "song\n",
      "album\n",
      "released\n",
      "genre\n",
      "home_country\n",
      "singer_age_at_release\n",
      "entity\n",
      "topic\n",
      "Google_Entities\n",
      "overall_sentiment\n",
      "Artist options: \n",
      "Please select your artists (or type * to select all): Aerosmith, The Doors\n",
      "Album options: \n",
      "Please select your albums (or type * to select all): *\n",
      "Country options: \n",
      "Please select your countries (or type * to select all): United States\n"
     ]
    }
   ],
   "source": [
    "def UserInterface(df):\n",
    "\n",
    "    print(\"Choose what variables to filter on. You can choose amongst:\\n\")\n",
    "    [print(i) for i in df.columns.values]\n",
    "\n",
    "    \n",
    "    # ARTIST\n",
    "    \n",
    "    unique_artists = list(df['artist'].unique())\n",
    "    print ('Artist options: '), unique_artists\n",
    "    artist_input = input('Please select your artists (or type * to select all): ')\n",
    "\n",
    "    if artist_input == '*':\n",
    "        artist_input = unique_artists\n",
    "    else:\n",
    "        artist_input = artist_input.split(', ')\n",
    "    \n",
    "    # Filtering for artist\n",
    "    df_filtered = df.loc[df['artist'].isin(artist_input)]\n",
    "    \n",
    "    # ALBUM\n",
    "    \n",
    "    unique_albums = list(df_filtered['album'].unique())\n",
    "    print ('Album options: '), unique_albums\n",
    "    album_input = input('Please select your albums (or type * to select all): ')\n",
    "    \n",
    "    if album_input == '*':\n",
    "        album_input = unique_albums\n",
    "    else:\n",
    "        album_input = album_input.split(', ')\n",
    "    \n",
    "    # Filtering for album\n",
    "    df_filtered = df_filtered.loc[df_filtered['album'].isin(album_input)]\n",
    "    \n",
    "    # COUNTRY\n",
    "    \n",
    "    # Getting country choices\n",
    "    unique_countries = list(df_filtered['home_country'].unique())\n",
    "    print ('Country options: '), unique_countries\n",
    "    country_input = input('Please select your countries (or type * to select all): ')\n",
    "    \n",
    "    if country_input == '*':\n",
    "        country_input = unique_countries\n",
    "    else:\n",
    "        country_input = country_input.split(', ')\n",
    "    \n",
    "    \n",
    "    \n",
    "    \n",
    "    \n",
    "    \n",
    "    \n",
    "    \n",
    "    \n",
    "    \n",
    "    \n",
    "    return df_filtered\n",
    "\n",
    "df_filtered = UserInterface(df)"
   ]
  },
  {
   "cell_type": "code",
   "execution_count": 8,
   "metadata": {},
   "outputs": [
    {
     "data": {
      "text/html": [
       "<div>\n",
       "<style scoped>\n",
       "    .dataframe tbody tr th:only-of-type {\n",
       "        vertical-align: middle;\n",
       "    }\n",
       "\n",
       "    .dataframe tbody tr th {\n",
       "        vertical-align: top;\n",
       "    }\n",
       "\n",
       "    .dataframe thead th {\n",
       "        text-align: right;\n",
       "    }\n",
       "</style>\n",
       "<table border=\"1\" class=\"dataframe\">\n",
       "  <thead>\n",
       "    <tr style=\"text-align: right;\">\n",
       "      <th></th>\n",
       "      <th>ID</th>\n",
       "      <th>artist</th>\n",
       "      <th>song</th>\n",
       "      <th>album</th>\n",
       "      <th>released</th>\n",
       "      <th>genre</th>\n",
       "      <th>home_country</th>\n",
       "      <th>singer_age_at_release</th>\n",
       "      <th>entity</th>\n",
       "      <th>topic</th>\n",
       "      <th>Google_Entities</th>\n",
       "      <th>overall_sentiment</th>\n",
       "    </tr>\n",
       "  </thead>\n",
       "  <tbody>\n",
       "    <tr>\n",
       "      <th>0</th>\n",
       "      <td>1</td>\n",
       "      <td>Aerosmith</td>\n",
       "      <td>Janie's Got A Gun</td>\n",
       "      <td>Pump</td>\n",
       "      <td>1989</td>\n",
       "      <td>Hard rock, Rock</td>\n",
       "      <td>United States</td>\n",
       "      <td>41</td>\n",
       "      <td>[{\"Janie's Got a Gun\": 0.2361}, {'Honey': 0.05...</td>\n",
       "      <td>[{'Songs written': 1}, {'Aerosmith songs': 1},...</td>\n",
       "      <td>[{'Janie': 0.62619865}, {'honey': 0.10297375},...</td>\n",
       "      <td>-0.7</td>\n",
       "    </tr>\n",
       "    <tr>\n",
       "      <th>1</th>\n",
       "      <td>2</td>\n",
       "      <td>Aerosmith</td>\n",
       "      <td>Magic Touch</td>\n",
       "      <td>Permanent Vacation</td>\n",
       "      <td>1987</td>\n",
       "      <td>Hard rock, Rock</td>\n",
       "      <td>United States</td>\n",
       "      <td>39</td>\n",
       "      <td>[{'Shotgun': 0.1503}, {'babe': 0}]</td>\n",
       "      <td>[{'Albums': 0.5973}, {'Recorded music': 0.5719...</td>\n",
       "      <td>[{'fire burnin': 0.20596175}, {'Cause': 0.0714...</td>\n",
       "      <td>-0.6</td>\n",
       "    </tr>\n",
       "    <tr>\n",
       "      <th>2</th>\n",
       "      <td>3</td>\n",
       "      <td>Aerosmith</td>\n",
       "      <td>Taste Of India</td>\n",
       "      <td>Nine Lives</td>\n",
       "      <td>1997</td>\n",
       "      <td>Hard rock</td>\n",
       "      <td>United States</td>\n",
       "      <td>49</td>\n",
       "      <td>[{'Incense': 0.2548}, {'Sweetness of wine': 0....</td>\n",
       "      <td>[{'Wine': 0.7881}, {'Recorded music': 0.7072},...</td>\n",
       "      <td>[{'kind': 0.3166986}, {'taste': 0.23181729}, {...</td>\n",
       "      <td>0.6</td>\n",
       "    </tr>\n",
       "    <tr>\n",
       "      <th>3</th>\n",
       "      <td>4</td>\n",
       "      <td>Aerosmith</td>\n",
       "      <td>Dream On</td>\n",
       "      <td>Aerosmith</td>\n",
       "      <td>1973</td>\n",
       "      <td>Classic rock, Rock</td>\n",
       "      <td>United States</td>\n",
       "      <td>25</td>\n",
       "      <td>[{'Dawn': 0.2379}, {'Sin': 0.2023}, {'Laughter...</td>\n",
       "      <td>[{'Dawn': 0.3767}, {'Entertainment': 0.3653}, ...</td>\n",
       "      <td>[{'Lord': 0.2157075}, {'Everybody': 0.05828119...</td>\n",
       "      <td>0.0</td>\n",
       "    </tr>\n",
       "    <tr>\n",
       "      <th>4</th>\n",
       "      <td>5</td>\n",
       "      <td>Aerosmith</td>\n",
       "      <td>Eyesight To The Blind</td>\n",
       "      <td>Honkin' on Bobo</td>\n",
       "      <td>2004</td>\n",
       "      <td>Hard rock, Rock</td>\n",
       "      <td>United States</td>\n",
       "      <td>56</td>\n",
       "      <td>[{'God': 0.143}, {'Lordy': 0}, {'Lord': 0}]</td>\n",
       "      <td>[{'Shacharit for Shabbat and Yom Tov': 0.7511}...</td>\n",
       "      <td>[{'girl': 0.32739675}, {'woman': 0.21680547}, ...</td>\n",
       "      <td>0.2</td>\n",
       "    </tr>\n",
       "    <tr>\n",
       "      <th>5</th>\n",
       "      <td>6</td>\n",
       "      <td>Aerosmith</td>\n",
       "      <td>Falling Off</td>\n",
       "      <td>Nine Lives</td>\n",
       "      <td>1997</td>\n",
       "      <td>Hard rock</td>\n",
       "      <td>United States</td>\n",
       "      <td>49</td>\n",
       "      <td>[{'t callI': 0}, {'I saidI': 0}, {'I didn': 0}...</td>\n",
       "      <td>[{'Literature': 0.3241}, {'Fiction': 0.3006}, ...</td>\n",
       "      <td>[{'way': 0.24776857}, {'man': 0.14769095}, {'h...</td>\n",
       "      <td>-0.6</td>\n",
       "    </tr>\n",
       "    <tr>\n",
       "      <th>6</th>\n",
       "      <td>7</td>\n",
       "      <td>Aerosmith</td>\n",
       "      <td>Jaded</td>\n",
       "      <td>Just Push Play</td>\n",
       "      <td>2001</td>\n",
       "      <td>Hard rock</td>\n",
       "      <td>United States</td>\n",
       "      <td>53</td>\n",
       "      <td>[{'Velvet': 0.0309}, {'Love': 0}]</td>\n",
       "      <td>[{'Recorded music': 0.7737}, {'Albums': 0.6503...</td>\n",
       "      <td>[{'child': 0.46256787}, {'one': 0.3776241}, {'...</td>\n",
       "      <td>-0.3</td>\n",
       "    </tr>\n",
       "    <tr>\n",
       "      <th>7</th>\n",
       "      <td>8</td>\n",
       "      <td>Aerosmith</td>\n",
       "      <td>Kings And Queens</td>\n",
       "      <td>Draw the Line</td>\n",
       "      <td>1977</td>\n",
       "      <td>Classic rock</td>\n",
       "      <td>United States</td>\n",
       "      <td>29</td>\n",
       "      <td>[{'Vikings': 0.1653}, {'Ship': 0.1323}, {'Trut...</td>\n",
       "      <td>[{'Viking Age': 0.3941}, {'Medieval Denmark': ...</td>\n",
       "      <td>[{'greed Maidens': 0.2779506}, {'lords': 0.067...</td>\n",
       "      <td>-0.7</td>\n",
       "    </tr>\n",
       "    <tr>\n",
       "      <th>8</th>\n",
       "      <td>9</td>\n",
       "      <td>Aerosmith</td>\n",
       "      <td>Lightning Strikes</td>\n",
       "      <td>Rock in a Hard Place</td>\n",
       "      <td>1982</td>\n",
       "      <td>Hard rock</td>\n",
       "      <td>United States</td>\n",
       "      <td>34</td>\n",
       "      <td>[{'Knife': 0.3647}, {'Dagger': 0.3184}, {\"Hell...</td>\n",
       "      <td>[{'Blade weapons': 1}, {'Melee weapons': 0.958...</td>\n",
       "      <td>[{'lid': 0.34622723}, {'Boys': 0.13296318}, {'...</td>\n",
       "      <td>0.0</td>\n",
       "    </tr>\n",
       "  </tbody>\n",
       "</table>\n",
       "</div>"
      ],
      "text/plain": [
       "   ID     artist                   song                 album  released  \\\n",
       "0   1  Aerosmith      Janie's Got A Gun                  Pump      1989   \n",
       "1   2  Aerosmith            Magic Touch    Permanent Vacation      1987   \n",
       "2   3  Aerosmith         Taste Of India            Nine Lives      1997   \n",
       "3   4  Aerosmith               Dream On             Aerosmith      1973   \n",
       "4   5  Aerosmith  Eyesight To The Blind       Honkin' on Bobo      2004   \n",
       "5   6  Aerosmith            Falling Off            Nine Lives      1997   \n",
       "6   7  Aerosmith                  Jaded        Just Push Play      2001   \n",
       "7   8  Aerosmith       Kings And Queens         Draw the Line      1977   \n",
       "8   9  Aerosmith      Lightning Strikes  Rock in a Hard Place      1982   \n",
       "\n",
       "                genre   home_country  singer_age_at_release  \\\n",
       "0     Hard rock, Rock  United States                     41   \n",
       "1     Hard rock, Rock  United States                     39   \n",
       "2           Hard rock  United States                     49   \n",
       "3  Classic rock, Rock  United States                     25   \n",
       "4     Hard rock, Rock  United States                     56   \n",
       "5           Hard rock  United States                     49   \n",
       "6           Hard rock  United States                     53   \n",
       "7        Classic rock  United States                     29   \n",
       "8           Hard rock  United States                     34   \n",
       "\n",
       "                                              entity  \\\n",
       "0  [{\"Janie's Got a Gun\": 0.2361}, {'Honey': 0.05...   \n",
       "1                 [{'Shotgun': 0.1503}, {'babe': 0}]   \n",
       "2  [{'Incense': 0.2548}, {'Sweetness of wine': 0....   \n",
       "3  [{'Dawn': 0.2379}, {'Sin': 0.2023}, {'Laughter...   \n",
       "4        [{'God': 0.143}, {'Lordy': 0}, {'Lord': 0}]   \n",
       "5  [{'t callI': 0}, {'I saidI': 0}, {'I didn': 0}...   \n",
       "6                  [{'Velvet': 0.0309}, {'Love': 0}]   \n",
       "7  [{'Vikings': 0.1653}, {'Ship': 0.1323}, {'Trut...   \n",
       "8  [{'Knife': 0.3647}, {'Dagger': 0.3184}, {\"Hell...   \n",
       "\n",
       "                                               topic  \\\n",
       "0  [{'Songs written': 1}, {'Aerosmith songs': 1},...   \n",
       "1  [{'Albums': 0.5973}, {'Recorded music': 0.5719...   \n",
       "2  [{'Wine': 0.7881}, {'Recorded music': 0.7072},...   \n",
       "3  [{'Dawn': 0.3767}, {'Entertainment': 0.3653}, ...   \n",
       "4  [{'Shacharit for Shabbat and Yom Tov': 0.7511}...   \n",
       "5  [{'Literature': 0.3241}, {'Fiction': 0.3006}, ...   \n",
       "6  [{'Recorded music': 0.7737}, {'Albums': 0.6503...   \n",
       "7  [{'Viking Age': 0.3941}, {'Medieval Denmark': ...   \n",
       "8  [{'Blade weapons': 1}, {'Melee weapons': 0.958...   \n",
       "\n",
       "                                     Google_Entities  overall_sentiment  \n",
       "0  [{'Janie': 0.62619865}, {'honey': 0.10297375},...               -0.7  \n",
       "1  [{'fire burnin': 0.20596175}, {'Cause': 0.0714...               -0.6  \n",
       "2  [{'kind': 0.3166986}, {'taste': 0.23181729}, {...                0.6  \n",
       "3  [{'Lord': 0.2157075}, {'Everybody': 0.05828119...                0.0  \n",
       "4  [{'girl': 0.32739675}, {'woman': 0.21680547}, ...                0.2  \n",
       "5  [{'way': 0.24776857}, {'man': 0.14769095}, {'h...               -0.6  \n",
       "6  [{'child': 0.46256787}, {'one': 0.3776241}, {'...               -0.3  \n",
       "7  [{'greed Maidens': 0.2779506}, {'lords': 0.067...               -0.7  \n",
       "8  [{'lid': 0.34622723}, {'Boys': 0.13296318}, {'...                0.0  "
      ]
     },
     "execution_count": 8,
     "metadata": {},
     "output_type": "execute_result"
    }
   ],
   "source": [
    "df_filtered"
   ]
  },
  {
   "cell_type": "code",
   "execution_count": 10,
   "metadata": {},
   "outputs": [
    {
     "name": "stdout",
     "output_type": "stream",
     "text": [
      "[{'fire burnin': 0.20596175}, {'Cause': 0.071476236}, {'doctor': 0.060606025}, {'doctor': 0.060606025}, {'rocker': 0.060606025}, {'rocker': 0.060606025}, {'shove': 0.0531469}, {'love': 0.0531469}, {'Somebody': 0.0531469}, {'fool child': 0.040040202}, {'shotgun': 0.035768528}, {'message': 0.026342258}, {'magic touch': 0.023468586}, {'way': 0.020476708}, {'babe': 0.017384946}, {'habit': 0.017280024}, {'child': 0.016429348}, {'babe': 0.01591489}, {'magic touch': 0.015875107}, {'shotgun': 0.015818797}, {'surprise': 0.013846952}, {'fire': 0.0119019225}, {'wedding': 0.011749176}, {'burnin': 0.010827996}, {'habit': 0.007992555}, {'magic touch': 0.004772486}, {'fire': 0.003921703}, {'babe': 0.003921703}, {'Gonna': 0.0036033934}, {'magic touch': 0.003359938}]\n"
     ]
    }
   ],
   "source": [
    "print(df['Google_Entities'][1])"
   ]
  },
  {
   "cell_type": "code",
   "execution_count": 31,
   "metadata": {},
   "outputs": [
    {
     "name": "stdout",
     "output_type": "stream",
     "text": [
      "[{'Shotgun': 0.1503}, {'babe': 0}]\n"
     ]
    }
   ],
   "source": [
    "print(df['entity'][1])"
   ]
  },
  {
   "cell_type": "code",
   "execution_count": 69,
   "metadata": {},
   "outputs": [
    {
     "name": "stdout",
     "output_type": "stream",
     "text": [
      "{{\"Janie\"s Got a Gun\": 0.2361}, {\"Honey\": 0.05749}, {\"Janie\": 0}}\n",
      "\"{{\\\"Janie\\\"s Got a Gun\\\": 0.2361}, {\\\"Honey\\\": 0.05749}, {\\\"Janie\\\": 0}}\"\n",
      "{{\"Shotgun\": 0.1503}, {\"babe\": 0}}\n",
      "\"{{\\\"Shotgun\\\": 0.1503}, {\\\"babe\\\": 0}}\"\n",
      "{{\"Incense\": 0.2548}, {\"Sweetness of wine\": 0.2099}, {\"Wine\": 0.1998}, {\"Funk\": 0.1291}, {\"Vindaloo\": 0.104}, {\"Yin and yang\": 0.09469}, {\"Perfume\": 0.09216}, {\"Appetite\": 0.07393}, {\"Concubinage\": 0.02971}, {\"India\": 0.02025}}\n",
      "\"{{\\\"Incense\\\": 0.2548}, {\\\"Sweetness of wine\\\": 0.2099}, {\\\"Wine\\\": 0.1998}, {\\\"Funk\\\": 0.1291}, {\\\"Vindaloo\\\": 0.104}, {\\\"Yin and yang\\\": 0.09469}, {\\\"Perfume\\\": 0.09216}, {\\\"Appetite\\\": 0.07393}, {\\\"Concubinage\\\": 0.02971}, {\\\"India\\\": 0.02025}}\"\n",
      "{{\"Dawn\": 0.2379}, {\"Sin\": 0.2023}, {\"Laughter\": 0.1001}, {\"Dream\": 0}}\n",
      "\"{{\\\"Dawn\\\": 0.2379}, {\\\"Sin\\\": 0.2023}, {\\\"Laughter\\\": 0.1001}, {\\\"Dream\\\": 0}}\"\n",
      "{{\"God\": 0.143}, {\"Lordy\": 0}, {\"Lord\": 0}}\n",
      "\"{{\\\"God\\\": 0.143}, {\\\"Lordy\\\": 0}, {\\\"Lord\\\": 0}}\"\n",
      "{{\"t callI\": 0}, {\"I saidI\": 0}, {\"I didn\": 0}, {\"Labellum (botany)\": 0}, {\"10\": 0}}\n",
      "\"{{\\\"t callI\\\": 0}, {\\\"I saidI\\\": 0}, {\\\"I didn\\\": 0}, {\\\"Labellum (botany)\\\": 0}, {\\\"10\\\": 0}}\"\n",
      "{{\"Velvet\": 0.0309}, {\"Love\": 0}}\n",
      "\"{{\\\"Velvet\\\": 0.0309}, {\\\"Love\\\": 0}}\"\n",
      "{{\"Vikings\": 0.1653}, {\"Ship\": 0.1323}, {\"Truth\": 0.1216}, {\"Guillotine\": 0.0981}, {\"Parchment\": 0.07165}, {\"Greed\": 0.05726}, {\"Déjà vu\": 0.04725}, {\"Starch\": 0.03787}, {\"Sailing ship\": 0.03633}, {\"Spit (landform)\": 0}, {\"Long\": 0}, {\"Kings\": 0}, {\"Lordy\": 0}}\n",
      "\"{{\\\"Vikings\\\": 0.1653}, {\\\"Ship\\\": 0.1323}, {\\\"Truth\\\": 0.1216}, {\\\"Guillotine\\\": 0.0981}, {\\\"Parchment\\\": 0.07165}, {\\\"Greed\\\": 0.05726}, {\\\"D\\u00e9j\\u00e0 vu\\\": 0.04725}, {\\\"Starch\\\": 0.03787}, {\\\"Sailing ship\\\": 0.03633}, {\\\"Spit (landform)\\\": 0}, {\\\"Long\\\": 0}, {\\\"Kings\\\": 0}, {\\\"Lordy\\\": 0}}\"\n",
      "{{\"Knife\": 0.3647}, {\"Dagger\": 0.3184}, {\"Hell\"s Kitchen, Manhattan\": 0.2367}, {\"Thunder\": 0.2206}, {\"Eye for an eye\": 0.1754}, {\"Lightning\": 0.1613}, {\"Hell\": 0.1282}, {\"Ready to Rumble\": 0.1263}, {\"Improvised firearm\": 0.07956}, {\"Location identifier\": 0.02128}}\n",
      "\"{{\\\"Knife\\\": 0.3647}, {\\\"Dagger\\\": 0.3184}, {\\\"Hell\\\"s Kitchen, Manhattan\\\": 0.2367}, {\\\"Thunder\\\": 0.2206}, {\\\"Eye for an eye\\\": 0.1754}, {\\\"Lightning\\\": 0.1613}, {\\\"Hell\\\": 0.1282}, {\\\"Ready to Rumble\\\": 0.1263}, {\\\"Improvised firearm\\\": 0.07956}, {\\\"Location identifier\\\": 0.02128}}\"\n",
      "{{\"Roller skates\": 0.3822}, {\"Bruno Mars\": 0.2695}}\n",
      "\"{{\\\"Roller skates\\\": 0.3822}, {\\\"Bruno Mars\\\": 0.2695}}\"\n",
      "{{\"Morphine\": 0.1131}, {\"Makin (islands)\": 0.08094}, {\"Sunlight\": 0.05073}, {\"Sayin\": 0}, {\"Walkin\": 0}}\n",
      "\"{{\\\"Morphine\\\": 0.1131}, {\\\"Makin (islands)\\\": 0.08094}, {\\\"Sunlight\\\": 0.05073}, {\\\"Sayin\\\": 0}, {\\\"Walkin\\\": 0}}\"\n",
      "{{\"Superman\": 0.1991}, {\"Distilled beverage\": 0.1705}, {\"Lottery\": 0.1598}, {\"Blues\": 0.1498}, {\"Beer\": 0.1354}, {\"Liquor store\": 0.09106}, {\"Whisky\": 0.07344}, {\"Guitar\": 0.06695}, {\"Gong\": 0.06488}, {\"Pineapple\": 0.05862}, {\"Tryna\": 0}, {\"68\": 0}}\n",
      "\"{{\\\"Superman\\\": 0.1991}, {\\\"Distilled beverage\\\": 0.1705}, {\\\"Lottery\\\": 0.1598}, {\\\"Blues\\\": 0.1498}, {\\\"Beer\\\": 0.1354}, {\\\"Liquor store\\\": 0.09106}, {\\\"Whisky\\\": 0.07344}, {\\\"Guitar\\\": 0.06695}, {\\\"Gong\\\": 0.06488}, {\\\"Pineapple\\\": 0.05862}, {\\\"Tryna\\\": 0}, {\\\"68\\\": 0}}\"\n",
      "{{\"When I Was Your Man\": 0.5615}, {\"Pride\": 0.239}}\n",
      "\"{{\\\"When I Was Your Man\\\": 0.5615}, {\\\"Pride\\\": 0.239}}\"\n",
      "{{\"Cocaine\": 0.1768}, {\"Gorilla\": 0.173}, {\"Devil\": 0.1024}, {\"SWAT\": 0.09798}, {\"Door\": 0.09789}, {\"Distilled beverage\": 0.0892}, {\"30\": 0}, {\"Bang\": 0}}\n",
      "\"{{\\\"Cocaine\\\": 0.1768}, {\\\"Gorilla\\\": 0.173}, {\\\"Devil\\\": 0.1024}, {\\\"SWAT\\\": 0.09798}, {\\\"Door\\\": 0.09789}, {\\\"Distilled beverage\\\": 0.0892}, {\\\"30\\\": 0}, {\\\"Bang\\\": 0}}\"\n",
      "{{\"Land of Toys\": 0.22}, {\"Girl\": 0}, {\"Darling\": 0}}\n",
      "\"{{\\\"Land of Toys\\\": 0.22}, {\\\"Girl\\\": 0}, {\\\"Darling\\\": 0}}\"\n",
      "{{\"2017-12-03T00:00:00.000-05:00\": 0}}\n",
      "\"{{\\\"2017-12-03T00:00:00.000-05:00\\\": 0}}\"\n",
      "{{\"Fix You\": 0.3404}}\n",
      "\"{{\\\"Fix You\\\": 0.3404}}\"\n",
      "{{\"2017-12-03T00:00:00.000-05:00\": 0}}\n",
      "\"{{\\\"2017-12-03T00:00:00.000-05:00\\\": 0}}\"\n",
      "{{\"Song structure\": 0.5095}, {\"Refrain\": 0.2307}, {\"Lightning\": 0.2263}, {\"Conclusion (music)\": 0.04273}, {\"2\": 0}, {\"1\": 0}}\n",
      "\"{{\\\"Song structure\\\": 0.5095}, {\\\"Refrain\\\": 0.2307}, {\\\"Lightning\\\": 0.2263}, {\\\"Conclusion (music)\\\": 0.04273}, {\\\"2\\\": 0}, {\\\"1\\\": 0}}\"\n",
      "{{\"Rain\": 0.1774}, {\"Moses\": 0}}\n",
      "\"{{\\\"Rain\\\": 0.1774}, {\\\"Moses\\\": 0}}\"\n",
      "{{\"You Belong with Me\": 0.2827}, {\"100\": 0}}\n",
      "\"{{\\\"You Belong with Me\\\": 0.2827}, {\\\"100\\\": 0}}\"\n",
      "{{\"Saint Peter\": 0.2547}, {\"Choir\": 0.2429}, {\"Shield\": 0.2248}, {\"Jerusalem\": 0.2035}, {\"Salt\": 0.1979}, {\"Sword\": 0.1908}, {\"Mirror\": 0.187}, {\"Missionary\": 0.1784}, {\"The Sound of Drums\": 0.1766}, {\"Door\": 0.1598}, {\"Bells Are Ringing (musical)\": 0.1587}, {\"Refrain\": 0.1238}}\n",
      "\"{{\\\"Saint Peter\\\": 0.2547}, {\\\"Choir\\\": 0.2429}, {\\\"Shield\\\": 0.2248}, {\\\"Jerusalem\\\": 0.2035}, {\\\"Salt\\\": 0.1979}, {\\\"Sword\\\": 0.1908}, {\\\"Mirror\\\": 0.187}, {\\\"Missionary\\\": 0.1784}, {\\\"The Sound of Drums\\\": 0.1766}, {\\\"Door\\\": 0.1598}, {\\\"Bells Are Ringing (musical)\\\": 0.1587}, {\\\"Refrain\\\": 0.1238}}\"\n",
      "{{\"Outer space\": 0.2331}, {\"Tide\": 0.1813}, {\"Whoa\": 0}, {\"2017-12-03T00:00:00.000-05:00\": 0}}\n",
      "\"{{\\\"Outer space\\\": 0.2331}, {\\\"Tide\\\": 0.1813}, {\\\"Whoa\\\": 0}, {\\\"2017-12-03T00:00:00.000-05:00\\\": 0}}\"\n"
     ]
    },
    {
     "ename": "TypeError",
     "evalue": "expected string or bytes-like object",
     "output_type": "error",
     "traceback": [
      "\u001b[1;31m---------------------------------------------------------------------------\u001b[0m",
      "\u001b[1;31mTypeError\u001b[0m                                 Traceback (most recent call last)",
      "\u001b[1;32m<ipython-input-69-97c371d84c36>\u001b[0m in \u001b[0;36m<module>\u001b[1;34m()\u001b[0m\n\u001b[0;32m      2\u001b[0m \u001b[1;32mimport\u001b[0m \u001b[0mre\u001b[0m\u001b[1;33m\u001b[0m\u001b[0m\n\u001b[0;32m      3\u001b[0m \u001b[1;32mfor\u001b[0m \u001b[0mi\u001b[0m \u001b[1;32min\u001b[0m \u001b[0mdf\u001b[0m\u001b[1;33m[\u001b[0m\u001b[1;34m'entity'\u001b[0m\u001b[1;33m]\u001b[0m\u001b[1;33m:\u001b[0m\u001b[1;33m\u001b[0m\u001b[0m\n\u001b[1;32m----> 4\u001b[1;33m     \u001b[0mm\u001b[0m \u001b[1;33m=\u001b[0m \u001b[0mre\u001b[0m\u001b[1;33m.\u001b[0m\u001b[0msearch\u001b[0m\u001b[1;33m(\u001b[0m\u001b[1;34m'\\[(.*)\\]'\u001b[0m\u001b[1;33m,\u001b[0m \u001b[0mi\u001b[0m\u001b[1;33m)\u001b[0m\u001b[1;33m\u001b[0m\u001b[0m\n\u001b[0m\u001b[0;32m      5\u001b[0m     \u001b[0mn\u001b[0m \u001b[1;33m=\u001b[0m \u001b[1;34m\"{\"\u001b[0m\u001b[1;33m+\u001b[0m\u001b[0mm\u001b[0m\u001b[1;33m.\u001b[0m\u001b[0mgroup\u001b[0m\u001b[1;33m(\u001b[0m\u001b[1;36m1\u001b[0m\u001b[1;33m)\u001b[0m\u001b[1;33m+\u001b[0m\u001b[1;34m\"}\"\u001b[0m\u001b[1;33m\u001b[0m\u001b[0m\n\u001b[0;32m      6\u001b[0m     \u001b[1;31m#print(m.group(1))\u001b[0m\u001b[1;33m\u001b[0m\u001b[1;33m\u001b[0m\u001b[0m\n",
      "\u001b[1;32mC:\\Anaconda\\envs\\Data-X\\lib\\re.py\u001b[0m in \u001b[0;36msearch\u001b[1;34m(pattern, string, flags)\u001b[0m\n\u001b[0;32m    180\u001b[0m     \"\"\"Scan through string looking for a match to the pattern, returning\n\u001b[0;32m    181\u001b[0m     a match object, or None if no match was found.\"\"\"\n\u001b[1;32m--> 182\u001b[1;33m     \u001b[1;32mreturn\u001b[0m \u001b[0m_compile\u001b[0m\u001b[1;33m(\u001b[0m\u001b[0mpattern\u001b[0m\u001b[1;33m,\u001b[0m \u001b[0mflags\u001b[0m\u001b[1;33m)\u001b[0m\u001b[1;33m.\u001b[0m\u001b[0msearch\u001b[0m\u001b[1;33m(\u001b[0m\u001b[0mstring\u001b[0m\u001b[1;33m)\u001b[0m\u001b[1;33m\u001b[0m\u001b[0m\n\u001b[0m\u001b[0;32m    183\u001b[0m \u001b[1;33m\u001b[0m\u001b[0m\n\u001b[0;32m    184\u001b[0m \u001b[1;32mdef\u001b[0m \u001b[0msub\u001b[0m\u001b[1;33m(\u001b[0m\u001b[0mpattern\u001b[0m\u001b[1;33m,\u001b[0m \u001b[0mrepl\u001b[0m\u001b[1;33m,\u001b[0m \u001b[0mstring\u001b[0m\u001b[1;33m,\u001b[0m \u001b[0mcount\u001b[0m\u001b[1;33m=\u001b[0m\u001b[1;36m0\u001b[0m\u001b[1;33m,\u001b[0m \u001b[0mflags\u001b[0m\u001b[1;33m=\u001b[0m\u001b[1;36m0\u001b[0m\u001b[1;33m)\u001b[0m\u001b[1;33m:\u001b[0m\u001b[1;33m\u001b[0m\u001b[0m\n",
      "\u001b[1;31mTypeError\u001b[0m: expected string or bytes-like object"
     ]
    }
   ],
   "source": [
    "import json\n",
    "import re\n",
    "for i in df['entity']:\n",
    "    m = re.search('\\[(.*)\\]', i)\n",
    "    n = \"{\"+m.group(1)+\"}\"\n",
    "    #print(m.group(1))\n",
    "    n = n.replace(\"\\'\",\"\\\"\")\n",
    "    print(n)\n",
    "    print(json.dumps(n))\n",
    "    #for j in i:\n",
    "     #   print(j)\n",
    "    #for key,value in i:\n",
    "        #print(key,value)"
   ]
  },
  {
   "cell_type": "code",
   "execution_count": 56,
   "metadata": {
    "collapsed": true
   },
   "outputs": [],
   "source": [
    "word = \"'hdv' dvs'vd'\"\n",
    "word = word.replace(\"'\", \"\")"
   ]
  },
  {
   "cell_type": "code",
   "execution_count": 57,
   "metadata": {},
   "outputs": [
    {
     "data": {
      "text/plain": [
       "'hdv dvsvd'"
      ]
     },
     "execution_count": 57,
     "metadata": {},
     "output_type": "execute_result"
    }
   ],
   "source": [
    "word"
   ]
  },
  {
   "cell_type": "code",
   "execution_count": null,
   "metadata": {
    "collapsed": true
   },
   "outputs": [],
   "source": []
  }
 ],
 "metadata": {
  "kernelspec": {
   "display_name": "Python 3",
   "language": "python",
   "name": "python3"
  },
  "language_info": {
   "codemirror_mode": {
    "name": "ipython",
    "version": 3
   },
   "file_extension": ".py",
   "mimetype": "text/x-python",
   "name": "python",
   "nbconvert_exporter": "python",
   "pygments_lexer": "ipython3",
   "version": "3.6.1"
  }
 },
 "nbformat": 4,
 "nbformat_minor": 2
}
