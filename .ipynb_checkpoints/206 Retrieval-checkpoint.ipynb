{
 "cells": [
  {
   "cell_type": "code",
   "execution_count": 1,
   "metadata": {
    "collapsed": true
   },
   "outputs": [],
   "source": [
    "import pandas as pd\n",
    "import numpy as np"
   ]
  },
  {
   "cell_type": "code",
   "execution_count": 27,
   "metadata": {
    "collapsed": true
   },
   "outputs": [],
   "source": [
    "df = pd.read_csv('song_data.csv')"
   ]
  },
  {
   "cell_type": "code",
   "execution_count": 28,
   "metadata": {
    "collapsed": true
   },
   "outputs": [],
   "source": [
    "df2 = pd.read_excel('song_data2.xlsx')"
   ]
  },
  {
   "cell_type": "code",
   "execution_count": 31,
   "metadata": {},
   "outputs": [
    {
     "data": {
      "text/html": [
       "<div>\n",
       "<style scoped>\n",
       "    .dataframe tbody tr th:only-of-type {\n",
       "        vertical-align: middle;\n",
       "    }\n",
       "\n",
       "    .dataframe tbody tr th {\n",
       "        vertical-align: top;\n",
       "    }\n",
       "\n",
       "    .dataframe thead th {\n",
       "        text-align: right;\n",
       "    }\n",
       "</style>\n",
       "<table border=\"1\" class=\"dataframe\">\n",
       "  <thead>\n",
       "    <tr style=\"text-align: right;\">\n",
       "      <th></th>\n",
       "      <th>ID</th>\n",
       "      <th>artist</th>\n",
       "      <th>song</th>\n",
       "      <th>album</th>\n",
       "      <th>released</th>\n",
       "      <th>genre</th>\n",
       "      <th>home_country</th>\n",
       "      <th>singer_age_at_release</th>\n",
       "      <th>entity</th>\n",
       "      <th>topic</th>\n",
       "      <th>Google_Entities_Tentative</th>\n",
       "      <th>overall_sentiment</th>\n",
       "    </tr>\n",
       "  </thead>\n",
       "  <tbody>\n",
       "    <tr>\n",
       "      <th>0</th>\n",
       "      <td>1</td>\n",
       "      <td>Aerosmith</td>\n",
       "      <td>Janie's Got A Gun</td>\n",
       "      <td>Pump</td>\n",
       "      <td>1989</td>\n",
       "      <td>Hard rock, Rock</td>\n",
       "      <td>United States</td>\n",
       "      <td>41</td>\n",
       "      <td>[\"Janie's Got a Gun\", 'Honey', 'Janie']</td>\n",
       "      <td>['Songs written', 'Aerosmith songs', 'Song rec...</td>\n",
       "      <td>Janie,honey,Dum,sound,dog day,gun,run,honey,Du...</td>\n",
       "      <td>-0.7</td>\n",
       "    </tr>\n",
       "    <tr>\n",
       "      <th>1</th>\n",
       "      <td>2</td>\n",
       "      <td>Aerosmith</td>\n",
       "      <td>Magic Touch</td>\n",
       "      <td>Permanent Vacation</td>\n",
       "      <td>1987</td>\n",
       "      <td>Hard rock, Rock</td>\n",
       "      <td>United States</td>\n",
       "      <td>39</td>\n",
       "      <td>['Shotgun', 'babe']</td>\n",
       "      <td>['Albums', 'Recorded music', 'Music media', 'T...</td>\n",
       "      <td>fire burnin,Cause,doctor,doctor,rocker,rocker,...</td>\n",
       "      <td>-0.6</td>\n",
       "    </tr>\n",
       "    <tr>\n",
       "      <th>2</th>\n",
       "      <td>3</td>\n",
       "      <td>Aerosmith</td>\n",
       "      <td>Taste Of India</td>\n",
       "      <td>Nine Lives</td>\n",
       "      <td>1997</td>\n",
       "      <td>Hard rock</td>\n",
       "      <td>United States</td>\n",
       "      <td>49</td>\n",
       "      <td>['Incense', 'Sweetness of wine', 'Wine', 'Funk...</td>\n",
       "      <td>['Wine', 'Recorded music', 'Grape', 'Fermented...</td>\n",
       "      <td>kind,taste,Gotta,tongue,tip,beat,India,Taste O...</td>\n",
       "      <td>0.6</td>\n",
       "    </tr>\n",
       "  </tbody>\n",
       "</table>\n",
       "</div>"
      ],
      "text/plain": [
       "   ID     artist               song               album  released  \\\n",
       "0   1  Aerosmith  Janie's Got A Gun                Pump      1989   \n",
       "1   2  Aerosmith        Magic Touch  Permanent Vacation      1987   \n",
       "2   3  Aerosmith     Taste Of India          Nine Lives      1997   \n",
       "\n",
       "             genre   home_country  singer_age_at_release  \\\n",
       "0  Hard rock, Rock  United States                     41   \n",
       "1  Hard rock, Rock  United States                     39   \n",
       "2        Hard rock  United States                     49   \n",
       "\n",
       "                                              entity  \\\n",
       "0            [\"Janie's Got a Gun\", 'Honey', 'Janie']   \n",
       "1                                ['Shotgun', 'babe']   \n",
       "2  ['Incense', 'Sweetness of wine', 'Wine', 'Funk...   \n",
       "\n",
       "                                               topic  \\\n",
       "0  ['Songs written', 'Aerosmith songs', 'Song rec...   \n",
       "1  ['Albums', 'Recorded music', 'Music media', 'T...   \n",
       "2  ['Wine', 'Recorded music', 'Grape', 'Fermented...   \n",
       "\n",
       "                           Google_Entities_Tentative  overall_sentiment  \n",
       "0  Janie,honey,Dum,sound,dog day,gun,run,honey,Du...               -0.7  \n",
       "1  fire burnin,Cause,doctor,doctor,rocker,rocker,...               -0.6  \n",
       "2  kind,taste,Gotta,tongue,tip,beat,India,Taste O...                0.6  "
      ]
     },
     "execution_count": 31,
     "metadata": {},
     "output_type": "execute_result"
    }
   ],
   "source": [
    "df.head(3)"
   ]
  },
  {
   "cell_type": "code",
   "execution_count": 32,
   "metadata": {},
   "outputs": [
    {
     "data": {
      "text/html": [
       "<div>\n",
       "<style scoped>\n",
       "    .dataframe tbody tr th:only-of-type {\n",
       "        vertical-align: middle;\n",
       "    }\n",
       "\n",
       "    .dataframe tbody tr th {\n",
       "        vertical-align: top;\n",
       "    }\n",
       "\n",
       "    .dataframe thead th {\n",
       "        text-align: right;\n",
       "    }\n",
       "</style>\n",
       "<table border=\"1\" class=\"dataframe\">\n",
       "  <thead>\n",
       "    <tr style=\"text-align: right;\">\n",
       "      <th></th>\n",
       "      <th>ID</th>\n",
       "      <th>artist</th>\n",
       "      <th>song</th>\n",
       "      <th>album</th>\n",
       "      <th>released</th>\n",
       "      <th>genre</th>\n",
       "      <th>home_country</th>\n",
       "      <th>singer_age_at_release</th>\n",
       "      <th>entity</th>\n",
       "      <th>topic</th>\n",
       "      <th>Google_Entities</th>\n",
       "      <th>overall_sentiment</th>\n",
       "    </tr>\n",
       "  </thead>\n",
       "  <tbody>\n",
       "    <tr>\n",
       "      <th>0</th>\n",
       "      <td>1</td>\n",
       "      <td>Aerosmith</td>\n",
       "      <td>Janie's Got A Gun</td>\n",
       "      <td>Pump</td>\n",
       "      <td>1989</td>\n",
       "      <td>Hard rock, Rock</td>\n",
       "      <td>United States</td>\n",
       "      <td>41</td>\n",
       "      <td>[{\"Janie's Got a Gun\": 0.2361}, {'Honey': 0.05...</td>\n",
       "      <td>[{'Songs written': 1}, {'Aerosmith songs': 1},...</td>\n",
       "      <td>[{'Janie': 0.62619865}, {'honey': 0.10297375},...</td>\n",
       "      <td>-0.7</td>\n",
       "    </tr>\n",
       "    <tr>\n",
       "      <th>1</th>\n",
       "      <td>2</td>\n",
       "      <td>Aerosmith</td>\n",
       "      <td>Magic Touch</td>\n",
       "      <td>Permanent Vacation</td>\n",
       "      <td>1987</td>\n",
       "      <td>Hard rock, Rock</td>\n",
       "      <td>United States</td>\n",
       "      <td>39</td>\n",
       "      <td>[{'Shotgun': 0.1503}, {'babe': 0}]</td>\n",
       "      <td>[{'Albums': 0.5973}, {'Recorded music': 0.5719...</td>\n",
       "      <td>[{'fire burnin': 0.20596175}, {'Cause': 0.0714...</td>\n",
       "      <td>-0.6</td>\n",
       "    </tr>\n",
       "    <tr>\n",
       "      <th>2</th>\n",
       "      <td>3</td>\n",
       "      <td>Aerosmith</td>\n",
       "      <td>Taste Of India</td>\n",
       "      <td>Nine Lives</td>\n",
       "      <td>1997</td>\n",
       "      <td>Hard rock</td>\n",
       "      <td>United States</td>\n",
       "      <td>49</td>\n",
       "      <td>[{'Incense': 0.2548}, {'Sweetness of wine': 0....</td>\n",
       "      <td>[{'Wine': 0.7881}, {'Recorded music': 0.7072},...</td>\n",
       "      <td>[{'kind': 0.3166986}, {'taste': 0.23181729}, {...</td>\n",
       "      <td>0.6</td>\n",
       "    </tr>\n",
       "  </tbody>\n",
       "</table>\n",
       "</div>"
      ],
      "text/plain": [
       "   ID     artist               song               album  released  \\\n",
       "0   1  Aerosmith  Janie's Got A Gun                Pump      1989   \n",
       "1   2  Aerosmith        Magic Touch  Permanent Vacation      1987   \n",
       "2   3  Aerosmith     Taste Of India          Nine Lives      1997   \n",
       "\n",
       "             genre   home_country  singer_age_at_release  \\\n",
       "0  Hard rock, Rock  United States                     41   \n",
       "1  Hard rock, Rock  United States                     39   \n",
       "2        Hard rock  United States                     49   \n",
       "\n",
       "                                              entity  \\\n",
       "0  [{\"Janie's Got a Gun\": 0.2361}, {'Honey': 0.05...   \n",
       "1                 [{'Shotgun': 0.1503}, {'babe': 0}]   \n",
       "2  [{'Incense': 0.2548}, {'Sweetness of wine': 0....   \n",
       "\n",
       "                                               topic  \\\n",
       "0  [{'Songs written': 1}, {'Aerosmith songs': 1},...   \n",
       "1  [{'Albums': 0.5973}, {'Recorded music': 0.5719...   \n",
       "2  [{'Wine': 0.7881}, {'Recorded music': 0.7072},...   \n",
       "\n",
       "                                     Google_Entities  overall_sentiment  \n",
       "0  [{'Janie': 0.62619865}, {'honey': 0.10297375},...               -0.7  \n",
       "1  [{'fire burnin': 0.20596175}, {'Cause': 0.0714...               -0.6  \n",
       "2  [{'kind': 0.3166986}, {'taste': 0.23181729}, {...                0.6  "
      ]
     },
     "execution_count": 32,
     "metadata": {},
     "output_type": "execute_result"
    }
   ],
   "source": [
    "df2.head(3)"
   ]
  },
  {
   "cell_type": "code",
   "execution_count": 4,
   "metadata": {
    "collapsed": true
   },
   "outputs": [],
   "source": [
    "# *This code will be deleted if we end up only having one genre in each column\n",
    "\n",
    "# Code for getting the unique genres (kind of a pain in the ass lol)\n",
    "# genre_list = list(df['genre'].unique())\n",
    "# for count, item in enumerate(genre_list):\n",
    "#     if ',' in item:\n",
    "#         genre_list[count] = genre_list[count].split(', ')\n",
    "\n",
    "# full_genre_list = []\n",
    "# for item in genre_list:\n",
    "#     if len(item) == 2:\n",
    "#         for subitem in item:\n",
    "#             full_genre_list.append(subitem)\n",
    "#     else:\n",
    "#         full_genre_list.append(item)\n",
    "\n",
    "# unique_genres = set(full_genre_list)"
   ]
  },
  {
   "cell_type": "code",
   "execution_count": 5,
   "metadata": {
    "collapsed": true
   },
   "outputs": [],
   "source": [
    "# Getting artist choices "
   ]
  },
  {
   "cell_type": "code",
   "execution_count": 6,
   "metadata": {},
   "outputs": [
    {
     "name": "stdout",
     "output_type": "stream",
     "text": [
      "Artist options: \n"
     ]
    },
    {
     "data": {
      "text/plain": [
       "(None,\n",
       " ['Aerosmith',\n",
       "  'Bruno Mars',\n",
       "  'Coldplay',\n",
       "  'Doors',\n",
       "  'Elton John',\n",
       "  'Elvis Presley',\n",
       "  'Grateful Dead',\n",
       "  'Jimi Hendrix',\n",
       "  'John Legend',\n",
       "  'Lady Gaga',\n",
       "  'Linkin Park',\n",
       "  'Maroon 5',\n",
       "  'Metallica',\n",
       "  'Michael Jackson',\n",
       "  'Nickelback',\n",
       "  'Outkast',\n",
       "  'Santana',\n",
       "  'Stevie Wonder',\n",
       "  'Weezer',\n",
       "  'Wu-Tang Clan'])"
      ]
     },
     "execution_count": 6,
     "metadata": {},
     "output_type": "execute_result"
    }
   ],
   "source": [
    "unique_artists = list(df['artist'].unique())\n",
    "print ('Artist options: '), unique_artists"
   ]
  },
  {
   "cell_type": "code",
   "execution_count": 8,
   "metadata": {},
   "outputs": [
    {
     "name": "stdout",
     "output_type": "stream",
     "text": [
      "Please select your artists (or type * to select all): *\n"
     ]
    }
   ],
   "source": [
    "artist_input = input('Please select your artists (or type * to select all): ')"
   ]
  },
  {
   "cell_type": "code",
   "execution_count": 10,
   "metadata": {},
   "outputs": [],
   "source": [
    "if artist_input == '*':\n",
    "    artist_input = unique_artists\n",
    "else:\n",
    "    artist_input = artist_input.split(', ')"
   ]
  },
  {
   "cell_type": "code",
   "execution_count": 11,
   "metadata": {
    "collapsed": true
   },
   "outputs": [],
   "source": [
    "# First instance of filtering the dataset\n",
    "df_filtered = df.loc[df['artist'].isin(artist_input)]"
   ]
  },
  {
   "cell_type": "code",
   "execution_count": 12,
   "metadata": {
    "collapsed": true
   },
   "outputs": [],
   "source": [
    "# Getting song choices - include this?"
   ]
  },
  {
   "cell_type": "code",
   "execution_count": 13,
   "metadata": {},
   "outputs": [
    {
     "name": "stdout",
     "output_type": "stream",
     "text": [
      "Album options: \n"
     ]
    },
    {
     "data": {
      "text/plain": [
       "(None,\n",
       " ['Pump',\n",
       "  'Permanent Vacation',\n",
       "  'Nine Lives',\n",
       "  'Aerosmith',\n",
       "  \"Honkin' on Bobo\",\n",
       "  'Just Push Play',\n",
       "  'Draw the Line',\n",
       "  'Rock in a Hard Place',\n",
       "  'Sesame Street',\n",
       "  'The Twighlight Saga: Breaking Dawn',\n",
       "  'Doo-Wops & Hooligans',\n",
       "  'Unorthodox Jukebox',\n",
       "  'X&Y',\n",
       "  'Coldplay',\n",
       "  'Kaleidoscope',\n",
       "  'Live 2003',\n",
       "  'Viva la Vida or Death and All His Friends',\n",
       "  'Parachutes',\n",
       "  'A Head Full of Dreams',\n",
       "  'Ghost Stories',\n",
       "  'The Doors (Movie)',\n",
       "  'L.A. Woman',\n",
       "  'The Doors',\n",
       "  'Too Low for Zero',\n",
       "  'Madman Across the Water',\n",
       "  'Leather Jackets',\n",
       "  'Frankie and Johnny (Movie)',\n",
       "  'Girl Happy (Movie)',\n",
       "  'Girls! Girls! Girls! (Movie)',\n",
       "  'Double Trouble',\n",
       "  'Raised on Rock',\n",
       "  'Vintage Dead',\n",
       "  \"Workingman's Dead\",\n",
       "  'Aoxomoxoa',\n",
       "  'Live/Dead',\n",
       "  'Electric Ladyland',\n",
       "  'Band of Gypsys',\n",
       "  'Are You Experienced',\n",
       "  'Once Again',\n",
       "  'Darkness and Light',\n",
       "  'Get Lifted',\n",
       "  'Wake up!',\n",
       "  'Love in the Future',\n",
       "  'Evolver',\n",
       "  'The Fame',\n",
       "  'The Fame Monster',\n",
       "  'Meteora',\n",
       "  'Hybrid Theory',\n",
       "  'Minutes to Midnight',\n",
       "  'Living Things',\n",
       "  'Songs About Jane',\n",
       "  'Overexposed',\n",
       "  'Hands All Over',\n",
       "  'St. Anger',\n",
       "  'Thriller',\n",
       "  'Music & Me',\n",
       "  'Forever, Michael',\n",
       "  'Bad',\n",
       "  'Off The Wall',\n",
       "  'Victory',\n",
       "  'All the Right Reasons',\n",
       "  'Curb',\n",
       "  'No Fixed Address',\n",
       "  'ATLiens',\n",
       "  'Speakerboxxx/The Love Below',\n",
       "  'Whild Peach',\n",
       "  'Southernplayalisticadillacmuzik',\n",
       "  'Santana',\n",
       "  'Shango',\n",
       "  'Freedom',\n",
       "  'Marathon',\n",
       "  'Conversation Peace',\n",
       "  'Original Musiquarium',\n",
       "  'Jungle Fever',\n",
       "  'Songs in the Key of Life',\n",
       "  'Music of My Mind',\n",
       "  'Pinkerton',\n",
       "  'Weezer',\n",
       "  'Make Believe',\n",
       "  'Maladroit',\n",
       "  'Wu-Tang Forever',\n",
       "  'Enter the Wu-Tang'])"
      ]
     },
     "execution_count": 13,
     "metadata": {},
     "output_type": "execute_result"
    }
   ],
   "source": [
    "# Getting album choices\n",
    "unique_albums = list(df_filtered['album'].unique())\n",
    "print ('Album options: '), unique_albums"
   ]
  },
  {
   "cell_type": "code",
   "execution_count": 14,
   "metadata": {},
   "outputs": [
    {
     "name": "stdout",
     "output_type": "stream",
     "text": [
      "Please select your albums (or type * to select all): Once Again, Parachutes, Evolver, Ghost Stories\n"
     ]
    }
   ],
   "source": [
    "album_input = input('Please select your albums (or type * to select all): ')"
   ]
  },
  {
   "cell_type": "code",
   "execution_count": 15,
   "metadata": {
    "collapsed": true
   },
   "outputs": [],
   "source": [
    "if album_input == '*':\n",
    "    album_input = unique_albums\n",
    "else:\n",
    "    album_input = album_input.split(', ')"
   ]
  },
  {
   "cell_type": "code",
   "execution_count": 16,
   "metadata": {
    "collapsed": true
   },
   "outputs": [],
   "source": [
    "# Filtering the dataset again\n",
    "df_filtered = df_filtered.loc[df_filtered['album'].isin(album_input)]"
   ]
  },
  {
   "cell_type": "code",
   "execution_count": 17,
   "metadata": {},
   "outputs": [
    {
     "name": "stdout",
     "output_type": "stream",
     "text": [
      "Country options: \n"
     ]
    },
    {
     "data": {
      "text/plain": [
       "(None, ['England', 'United States'])"
      ]
     },
     "execution_count": 17,
     "metadata": {},
     "output_type": "execute_result"
    }
   ],
   "source": [
    "# Getting country choices\n",
    "unique_countries = list(df_filtered['home_country'].unique())\n",
    "print ('Country options: '), unique_countries"
   ]
  },
  {
   "cell_type": "code",
   "execution_count": 18,
   "metadata": {
    "scrolled": true
   },
   "outputs": [
    {
     "name": "stdout",
     "output_type": "stream",
     "text": [
      "Please select your countries (or type * to select all): *\n"
     ]
    }
   ],
   "source": [
    "country_input = input('Please select your countries (or type * to select all): ')"
   ]
  },
  {
   "cell_type": "code",
   "execution_count": 19,
   "metadata": {
    "collapsed": true
   },
   "outputs": [],
   "source": [
    "if country_input == '*':\n",
    "    country_input = unique_countries\n",
    "else:\n",
    "    country_input = country_input.split(', ')"
   ]
  },
  {
   "cell_type": "code",
   "execution_count": 20,
   "metadata": {
    "collapsed": true
   },
   "outputs": [],
   "source": [
    "# Getting genre choices - will update once we decide to only use 1 per song\n",
    "\n",
    "# unique_genres = list(df_filtered['genre'].unique())\n",
    "# print ('Genre options: '), unique_genres"
   ]
  },
  {
   "cell_type": "code",
   "execution_count": 21,
   "metadata": {
    "collapsed": true
   },
   "outputs": [],
   "source": [
    "# Also leaving this commented out for now, until we fix the part above\n",
    "\n",
    "# genre_input = input('Please select your genres (or type * to select all): ')"
   ]
  },
  {
   "cell_type": "code",
   "execution_count": 22,
   "metadata": {
    "collapsed": true
   },
   "outputs": [],
   "source": [
    "# Also leaving this commented out for now, until we fix the part above\n",
    "\n",
    "# if genre_input == '*':\n",
    "#     genre_input = unique_genres\n",
    "# else:\n",
    "#     genre_input = genre_input.split(', ')"
   ]
  },
  {
   "cell_type": "code",
   "execution_count": null,
   "metadata": {
    "collapsed": true
   },
   "outputs": [],
   "source": []
  },
  {
   "cell_type": "code",
   "execution_count": 23,
   "metadata": {
    "collapsed": true
   },
   "outputs": [],
   "source": [
    "# Add ranges for when the songs came out"
   ]
  },
  {
   "cell_type": "code",
   "execution_count": 24,
   "metadata": {
    "collapsed": true
   },
   "outputs": [],
   "source": [
    "# Add ranges for how old the singer was at release"
   ]
  },
  {
   "cell_type": "code",
   "execution_count": 25,
   "metadata": {
    "scrolled": false
   },
   "outputs": [
    {
     "data": {
      "text/html": [
       "<div>\n",
       "<style scoped>\n",
       "    .dataframe tbody tr th:only-of-type {\n",
       "        vertical-align: middle;\n",
       "    }\n",
       "\n",
       "    .dataframe tbody tr th {\n",
       "        vertical-align: top;\n",
       "    }\n",
       "\n",
       "    .dataframe thead th {\n",
       "        text-align: right;\n",
       "    }\n",
       "</style>\n",
       "<table border=\"1\" class=\"dataframe\">\n",
       "  <thead>\n",
       "    <tr style=\"text-align: right;\">\n",
       "      <th></th>\n",
       "      <th>ID</th>\n",
       "      <th>artist</th>\n",
       "      <th>song</th>\n",
       "      <th>album</th>\n",
       "      <th>released</th>\n",
       "      <th>genre</th>\n",
       "      <th>home_country</th>\n",
       "      <th>singer_age_at_release</th>\n",
       "      <th>entity</th>\n",
       "      <th>topic</th>\n",
       "      <th>Google_Entities_Tentative</th>\n",
       "      <th>overall_sentiment</th>\n",
       "    </tr>\n",
       "  </thead>\n",
       "  <tbody>\n",
       "    <tr>\n",
       "      <th>23</th>\n",
       "      <td>24</td>\n",
       "      <td>Coldplay</td>\n",
       "      <td>Yellow</td>\n",
       "      <td>Parachutes</td>\n",
       "      <td>2000</td>\n",
       "      <td>Britpop</td>\n",
       "      <td>England</td>\n",
       "      <td>23</td>\n",
       "      <td>NaN</td>\n",
       "      <td>['Medicine', 'Health sciences', 'Medical speci...</td>\n",
       "      <td>thing,everything,stars,song,Look,things,turn,t...</td>\n",
       "      <td>0.7</td>\n",
       "    </tr>\n",
       "    <tr>\n",
       "      <th>26</th>\n",
       "      <td>27</td>\n",
       "      <td>Coldplay</td>\n",
       "      <td>Ink</td>\n",
       "      <td>Ghost Stories</td>\n",
       "      <td>2014</td>\n",
       "      <td>Alternative/Indie</td>\n",
       "      <td>England</td>\n",
       "      <td>37</td>\n",
       "      <td>['Tattoo', 'Pocketknife', 'Knife']</td>\n",
       "      <td>['Tattoo', 'Tattooing', 'Body art', 'Televisio...</td>\n",
       "      <td>all,tattoo,all,life,name,pocket knife,All,Feel...</td>\n",
       "      <td>-0.3</td>\n",
       "    </tr>\n",
       "    <tr>\n",
       "      <th>54</th>\n",
       "      <td>55</td>\n",
       "      <td>John Legend</td>\n",
       "      <td>Heaven</td>\n",
       "      <td>Once Again</td>\n",
       "      <td>2006</td>\n",
       "      <td>R&amp;B/soul</td>\n",
       "      <td>United States</td>\n",
       "      <td>28</td>\n",
       "      <td>['Refrain', 'Heaven']</td>\n",
       "      <td>['Entertainment', 'Heaven', 'Refrain', 'Litera...</td>\n",
       "      <td>Things,Things,end,words,Heaven,chance,mind,thi...</td>\n",
       "      <td>0.0</td>\n",
       "    </tr>\n",
       "    <tr>\n",
       "      <th>58</th>\n",
       "      <td>59</td>\n",
       "      <td>John Legend</td>\n",
       "      <td>Show Me</td>\n",
       "      <td>Once Again</td>\n",
       "      <td>2006</td>\n",
       "      <td>R&amp;B/soul</td>\n",
       "      <td>United States</td>\n",
       "      <td>28</td>\n",
       "      <td>['Heaven', 'God', 'NME', 'Show', 'Wonder', 'Li...</td>\n",
       "      <td>['Heaven', 'Television episodes', 'American te...</td>\n",
       "      <td>things,heaven,sleep,something,talk,sign,watchi...</td>\n",
       "      <td>0.1</td>\n",
       "    </tr>\n",
       "    <tr>\n",
       "      <th>62</th>\n",
       "      <td>63</td>\n",
       "      <td>John Legend</td>\n",
       "      <td>Pride, In The Name Of Love</td>\n",
       "      <td>Evolver</td>\n",
       "      <td>2008</td>\n",
       "      <td>Neo-soul</td>\n",
       "      <td>United States</td>\n",
       "      <td>30</td>\n",
       "      <td>['Beach', 'Barbed wire', 'Memphis, Tennessee',...</td>\n",
       "      <td>['Fences', 'Walls', 'Beaches', 'Coastal geogra...</td>\n",
       "      <td>name,name,man,man,man,man,love,love,name,love,...</td>\n",
       "      <td>0.7</td>\n",
       "    </tr>\n",
       "    <tr>\n",
       "      <th>63</th>\n",
       "      <td>64</td>\n",
       "      <td>John Legend</td>\n",
       "      <td>Satisfaction</td>\n",
       "      <td>Evolver</td>\n",
       "      <td>2008</td>\n",
       "      <td>Neo-soul</td>\n",
       "      <td>United States</td>\n",
       "      <td>30</td>\n",
       "      <td>['Hocus pocus (magic)', 'Refrain', 'I wonder',...</td>\n",
       "      <td>['Television episodes', 'American television e...</td>\n",
       "      <td>hocus pocus,spell,wonder wonder,satisfaction,e...</td>\n",
       "      <td>-0.3</td>\n",
       "    </tr>\n",
       "  </tbody>\n",
       "</table>\n",
       "</div>"
      ],
      "text/plain": [
       "    ID       artist                        song          album  released  \\\n",
       "23  24     Coldplay                      Yellow     Parachutes      2000   \n",
       "26  27     Coldplay                         Ink  Ghost Stories      2014   \n",
       "54  55  John Legend                      Heaven     Once Again      2006   \n",
       "58  59  John Legend                     Show Me     Once Again      2006   \n",
       "62  63  John Legend  Pride, In The Name Of Love        Evolver      2008   \n",
       "63  64  John Legend                Satisfaction        Evolver      2008   \n",
       "\n",
       "                genre   home_country  singer_age_at_release  \\\n",
       "23            Britpop        England                     23   \n",
       "26  Alternative/Indie        England                     37   \n",
       "54           R&B/soul  United States                     28   \n",
       "58           R&B/soul  United States                     28   \n",
       "62           Neo-soul  United States                     30   \n",
       "63           Neo-soul  United States                     30   \n",
       "\n",
       "                                               entity  \\\n",
       "23                                                NaN   \n",
       "26                 ['Tattoo', 'Pocketknife', 'Knife']   \n",
       "54                              ['Refrain', 'Heaven']   \n",
       "58  ['Heaven', 'God', 'NME', 'Show', 'Wonder', 'Li...   \n",
       "62  ['Beach', 'Barbed wire', 'Memphis, Tennessee',...   \n",
       "63  ['Hocus pocus (magic)', 'Refrain', 'I wonder',...   \n",
       "\n",
       "                                                topic  \\\n",
       "23  ['Medicine', 'Health sciences', 'Medical speci...   \n",
       "26  ['Tattoo', 'Tattooing', 'Body art', 'Televisio...   \n",
       "54  ['Entertainment', 'Heaven', 'Refrain', 'Litera...   \n",
       "58  ['Heaven', 'Television episodes', 'American te...   \n",
       "62  ['Fences', 'Walls', 'Beaches', 'Coastal geogra...   \n",
       "63  ['Television episodes', 'American television e...   \n",
       "\n",
       "                            Google_Entities_Tentative  overall_sentiment  \n",
       "23  thing,everything,stars,song,Look,things,turn,t...                0.7  \n",
       "26  all,tattoo,all,life,name,pocket knife,All,Feel...               -0.3  \n",
       "54  Things,Things,end,words,Heaven,chance,mind,thi...                0.0  \n",
       "58  things,heaven,sleep,something,talk,sign,watchi...                0.1  \n",
       "62  name,name,man,man,man,man,love,love,name,love,...                0.7  \n",
       "63  hocus pocus,spell,wonder wonder,satisfaction,e...               -0.3  "
      ]
     },
     "execution_count": 25,
     "metadata": {},
     "output_type": "execute_result"
    }
   ],
   "source": [
    "# This shows the remaining data set after filtering \n",
    "\n",
    "df_filtered"
   ]
  },
  {
   "cell_type": "code",
   "execution_count": 26,
   "metadata": {},
   "outputs": [
    {
     "name": "stdout",
     "output_type": "stream",
     "text": [
      "Average sentiment for these songs: 0.15\n"
     ]
    }
   ],
   "source": [
    "print ('Average sentiment for these songs: ' + str(df_filtered['overall_sentiment'].mean()))"
   ]
  },
  {
   "cell_type": "code",
   "execution_count": null,
   "metadata": {
    "collapsed": true
   },
   "outputs": [],
   "source": []
  }
 ],
 "metadata": {
  "kernelspec": {
   "display_name": "Python 3",
   "language": "python",
   "name": "python3"
  },
  "language_info": {
   "codemirror_mode": {
    "name": "ipython",
    "version": 3
   },
   "file_extension": ".py",
   "mimetype": "text/x-python",
   "name": "python",
   "nbconvert_exporter": "python",
   "pygments_lexer": "ipython3",
   "version": "3.6.1"
  }
 },
 "nbformat": 4,
 "nbformat_minor": 2
}
