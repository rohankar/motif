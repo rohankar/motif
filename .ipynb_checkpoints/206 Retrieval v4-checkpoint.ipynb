{
 "cells": [
  {
   "cell_type": "code",
   "execution_count": 1,
   "metadata": {
    "collapsed": true
   },
   "outputs": [],
   "source": [
    "import pandas as pd\n",
    "import numpy as np\n",
    "import functools\n",
    "import collections\n",
    "pd.options.mode.chained_assignment = None"
   ]
  },
  {
   "cell_type": "code",
   "execution_count": 2,
   "metadata": {
    "collapsed": true
   },
   "outputs": [],
   "source": [
    "df = pd.read_excel('song_data2.xlsx')"
   ]
  },
  {
   "cell_type": "code",
   "execution_count": 3,
   "metadata": {},
   "outputs": [
    {
     "data": {
      "text/html": [
       "<div>\n",
       "<style scoped>\n",
       "    .dataframe tbody tr th:only-of-type {\n",
       "        vertical-align: middle;\n",
       "    }\n",
       "\n",
       "    .dataframe tbody tr th {\n",
       "        vertical-align: top;\n",
       "    }\n",
       "\n",
       "    .dataframe thead th {\n",
       "        text-align: right;\n",
       "    }\n",
       "</style>\n",
       "<table border=\"1\" class=\"dataframe\">\n",
       "  <thead>\n",
       "    <tr style=\"text-align: right;\">\n",
       "      <th></th>\n",
       "      <th>ID</th>\n",
       "      <th>artist</th>\n",
       "      <th>song</th>\n",
       "      <th>album</th>\n",
       "      <th>released</th>\n",
       "      <th>genre</th>\n",
       "      <th>home_country</th>\n",
       "      <th>singer_age_at_release</th>\n",
       "      <th>entity</th>\n",
       "      <th>topic</th>\n",
       "      <th>Google_Entities</th>\n",
       "      <th>overall_sentiment</th>\n",
       "    </tr>\n",
       "  </thead>\n",
       "  <tbody>\n",
       "    <tr>\n",
       "      <th>0</th>\n",
       "      <td>1</td>\n",
       "      <td>Aerosmith</td>\n",
       "      <td>Janie's Got A Gun</td>\n",
       "      <td>Pump</td>\n",
       "      <td>1989</td>\n",
       "      <td>Hard rock, Rock</td>\n",
       "      <td>United States</td>\n",
       "      <td>41</td>\n",
       "      <td>[{\"Janie's Got a Gun\": 0.2361}, {'Honey': 0.05...</td>\n",
       "      <td>[{'Songs written': 1}, {'Aerosmith songs': 1},...</td>\n",
       "      <td>[{'Janie': 0.62619865}, {'honey': 0.10297375},...</td>\n",
       "      <td>-0.7</td>\n",
       "    </tr>\n",
       "    <tr>\n",
       "      <th>1</th>\n",
       "      <td>2</td>\n",
       "      <td>Aerosmith</td>\n",
       "      <td>Magic Touch</td>\n",
       "      <td>Permanent Vacation</td>\n",
       "      <td>1987</td>\n",
       "      <td>Hard rock, Rock</td>\n",
       "      <td>United States</td>\n",
       "      <td>39</td>\n",
       "      <td>[{'Shotgun': 0.1503}, {'babe': 0}]</td>\n",
       "      <td>[{'Albums': 0.5973}, {'Recorded music': 0.5719...</td>\n",
       "      <td>[{'fire burnin': 0.20596175}, {'Cause': 0.0714...</td>\n",
       "      <td>-0.6</td>\n",
       "    </tr>\n",
       "    <tr>\n",
       "      <th>2</th>\n",
       "      <td>3</td>\n",
       "      <td>Aerosmith</td>\n",
       "      <td>Taste Of India</td>\n",
       "      <td>Nine Lives</td>\n",
       "      <td>1997</td>\n",
       "      <td>Hard rock</td>\n",
       "      <td>United States</td>\n",
       "      <td>49</td>\n",
       "      <td>[{'Incense': 0.2548}, {'Sweetness of wine': 0....</td>\n",
       "      <td>[{'Wine': 0.7881}, {'Recorded music': 0.7072},...</td>\n",
       "      <td>[{'kind': 0.3166986}, {'taste': 0.23181729}, {...</td>\n",
       "      <td>0.6</td>\n",
       "    </tr>\n",
       "  </tbody>\n",
       "</table>\n",
       "</div>"
      ],
      "text/plain": [
       "   ID     artist               song               album  released  \\\n",
       "0   1  Aerosmith  Janie's Got A Gun                Pump      1989   \n",
       "1   2  Aerosmith        Magic Touch  Permanent Vacation      1987   \n",
       "2   3  Aerosmith     Taste Of India          Nine Lives      1997   \n",
       "\n",
       "             genre   home_country  singer_age_at_release  \\\n",
       "0  Hard rock, Rock  United States                     41   \n",
       "1  Hard rock, Rock  United States                     39   \n",
       "2        Hard rock  United States                     49   \n",
       "\n",
       "                                              entity  \\\n",
       "0  [{\"Janie's Got a Gun\": 0.2361}, {'Honey': 0.05...   \n",
       "1                 [{'Shotgun': 0.1503}, {'babe': 0}]   \n",
       "2  [{'Incense': 0.2548}, {'Sweetness of wine': 0....   \n",
       "\n",
       "                                               topic  \\\n",
       "0  [{'Songs written': 1}, {'Aerosmith songs': 1},...   \n",
       "1  [{'Albums': 0.5973}, {'Recorded music': 0.5719...   \n",
       "2  [{'Wine': 0.7881}, {'Recorded music': 0.7072},...   \n",
       "\n",
       "                                     Google_Entities  overall_sentiment  \n",
       "0  [{'Janie': 0.62619865}, {'honey': 0.10297375},...               -0.7  \n",
       "1  [{'fire burnin': 0.20596175}, {'Cause': 0.0714...               -0.6  \n",
       "2  [{'kind': 0.3166986}, {'taste': 0.23181729}, {...                0.6  "
      ]
     },
     "execution_count": 3,
     "metadata": {},
     "output_type": "execute_result"
    }
   ],
   "source": [
    "df.head(3)"
   ]
  },
  {
   "cell_type": "code",
   "execution_count": 33,
   "metadata": {
    "collapsed": true
   },
   "outputs": [],
   "source": [
    "# Replace NaN values with empty strings\n",
    "\n",
    "df['entity'] = df['entity'].fillna('')\n",
    "df['Google_Entities'] = df['Google_Entities'].fillna('')"
   ]
  },
  {
   "cell_type": "code",
   "execution_count": 5,
   "metadata": {
    "collapsed": true
   },
   "outputs": [],
   "source": [
    "# Function to convert the genre value in each row to a list  \n",
    "def list_converter (value):\n",
    "    return value.split(', ') \n",
    "df['genre'] = df['genre'].apply(list_converter)"
   ]
  },
  {
   "cell_type": "code",
   "execution_count": 23,
   "metadata": {},
   "outputs": [
    {
     "data": {
      "text/html": [
       "<div>\n",
       "<style>\n",
       "    .dataframe thead tr:only-child th {\n",
       "        text-align: right;\n",
       "    }\n",
       "\n",
       "    .dataframe thead th {\n",
       "        text-align: left;\n",
       "    }\n",
       "\n",
       "    .dataframe tbody tr th {\n",
       "        vertical-align: top;\n",
       "    }\n",
       "</style>\n",
       "<table border=\"1\" class=\"dataframe\">\n",
       "  <thead>\n",
       "    <tr style=\"text-align: right;\">\n",
       "      <th></th>\n",
       "      <th>ID</th>\n",
       "      <th>artist</th>\n",
       "      <th>song</th>\n",
       "      <th>album</th>\n",
       "      <th>released</th>\n",
       "      <th>genre</th>\n",
       "      <th>home_country</th>\n",
       "      <th>singer_age_at_release</th>\n",
       "      <th>entity</th>\n",
       "      <th>topic</th>\n",
       "      <th>Google_Entities</th>\n",
       "      <th>overall_sentiment</th>\n",
       "    </tr>\n",
       "  </thead>\n",
       "  <tbody>\n",
       "    <tr>\n",
       "      <th>0</th>\n",
       "      <td>1</td>\n",
       "      <td>Aerosmith</td>\n",
       "      <td>Janie's Got A Gun</td>\n",
       "      <td>Pump</td>\n",
       "      <td>1989</td>\n",
       "      <td>[Hard rock, Rock]</td>\n",
       "      <td>United States</td>\n",
       "      <td>41</td>\n",
       "      <td>[{\"Janie's Got a Gun\": 0.2361}, {'Honey': 0.05...</td>\n",
       "      <td>[{'Songs written': 1}, {'Aerosmith songs': 1},...</td>\n",
       "      <td>[{'Janie': 0.62619865}, {'honey': 0.10297375},...</td>\n",
       "      <td>-0.7</td>\n",
       "    </tr>\n",
       "    <tr>\n",
       "      <th>1</th>\n",
       "      <td>2</td>\n",
       "      <td>Aerosmith</td>\n",
       "      <td>Magic Touch</td>\n",
       "      <td>Permanent Vacation</td>\n",
       "      <td>1987</td>\n",
       "      <td>[Hard rock, Rock]</td>\n",
       "      <td>United States</td>\n",
       "      <td>39</td>\n",
       "      <td>[{'Shotgun': 0.1503}, {'babe': 0}]</td>\n",
       "      <td>[{'Albums': 0.5973}, {'Recorded music': 0.5719...</td>\n",
       "      <td>[{'fire burnin': 0.20596175}, {'Cause': 0.0714...</td>\n",
       "      <td>-0.6</td>\n",
       "    </tr>\n",
       "  </tbody>\n",
       "</table>\n",
       "</div>"
      ],
      "text/plain": [
       "   ID     artist               song               album  released  \\\n",
       "0   1  Aerosmith  Janie's Got A Gun                Pump      1989   \n",
       "1   2  Aerosmith        Magic Touch  Permanent Vacation      1987   \n",
       "\n",
       "               genre   home_country  singer_age_at_release  \\\n",
       "0  [Hard rock, Rock]  United States                     41   \n",
       "1  [Hard rock, Rock]  United States                     39   \n",
       "\n",
       "                                              entity  \\\n",
       "0  [{\"Janie's Got a Gun\": 0.2361}, {'Honey': 0.05...   \n",
       "1                 [{'Shotgun': 0.1503}, {'babe': 0}]   \n",
       "\n",
       "                                               topic  \\\n",
       "0  [{'Songs written': 1}, {'Aerosmith songs': 1},...   \n",
       "1  [{'Albums': 0.5973}, {'Recorded music': 0.5719...   \n",
       "\n",
       "                                     Google_Entities  overall_sentiment  \n",
       "0  [{'Janie': 0.62619865}, {'honey': 0.10297375},...               -0.7  \n",
       "1  [{'fire burnin': 0.20596175}, {'Cause': 0.0714...               -0.6  "
      ]
     },
     "execution_count": 23,
     "metadata": {},
     "output_type": "execute_result"
    }
   ],
   "source": [
    "df.head(2)"
   ]
  },
  {
   "cell_type": "code",
   "execution_count": 24,
   "metadata": {
    "collapsed": true
   },
   "outputs": [],
   "source": [
    "# Getting artist choices "
   ]
  },
  {
   "cell_type": "code",
   "execution_count": 25,
   "metadata": {},
   "outputs": [
    {
     "name": "stdout",
     "output_type": "stream",
     "text": [
      "Artist options: \n"
     ]
    },
    {
     "data": {
      "text/plain": [
       "(None,\n",
       " ['Aerosmith',\n",
       "  'Bruno Mars',\n",
       "  'Coldplay',\n",
       "  'Doors',\n",
       "  'Elton John',\n",
       "  'Elvis Presley',\n",
       "  'Grateful Dead',\n",
       "  'Jimi Hendrix',\n",
       "  'John Legend',\n",
       "  'Lady Gaga',\n",
       "  'Linkin Park',\n",
       "  'Maroon 5',\n",
       "  'Metallica',\n",
       "  'Michael Jackson',\n",
       "  'Nickelback',\n",
       "  'Outkast',\n",
       "  'Santana',\n",
       "  'Stevie Wonder',\n",
       "  'Weezer',\n",
       "  'Wu-Tang Clan'])"
      ]
     },
     "execution_count": 25,
     "metadata": {},
     "output_type": "execute_result"
    }
   ],
   "source": [
    "unique_artists = list(df['artist'].unique())\n",
    "print ('Artist options: '), unique_artists"
   ]
  },
  {
   "cell_type": "code",
   "execution_count": 9,
   "metadata": {},
   "outputs": [
    {
     "name": "stdout",
     "output_type": "stream",
     "text": [
      "Please select your artists (or type * to select all): \n"
     ]
    }
   ],
   "source": [
    "artist_input = input('Please select your artists (or type * to select all): ')"
   ]
  },
  {
   "cell_type": "code",
   "execution_count": 10,
   "metadata": {
    "collapsed": true
   },
   "outputs": [],
   "source": [
    "if artist_input == '*':\n",
    "    artist_input = unique_artists\n",
    "else:\n",
    "    artist_input = artist_input.split(', ')"
   ]
  },
  {
   "cell_type": "code",
   "execution_count": 11,
   "metadata": {
    "collapsed": true
   },
   "outputs": [],
   "source": [
    "# First instance of filtering the dataset\n",
    "df_filtered = df.loc[df['artist'].isin(artist_input)]"
   ]
  },
  {
   "cell_type": "code",
   "execution_count": null,
   "metadata": {
    "collapsed": true
   },
   "outputs": [],
   "source": []
  },
  {
   "cell_type": "code",
   "execution_count": 12,
   "metadata": {},
   "outputs": [
    {
     "name": "stdout",
     "output_type": "stream",
     "text": [
      "Song options: \n"
     ]
    },
    {
     "data": {
      "text/plain": [
       "(None, [])"
      ]
     },
     "execution_count": 12,
     "metadata": {},
     "output_type": "execute_result"
    }
   ],
   "source": [
    "unique_songs = list(df_filtered['song'].unique())\n",
    "print ('Song options: '), unique_songs"
   ]
  },
  {
   "cell_type": "code",
   "execution_count": 13,
   "metadata": {},
   "outputs": [
    {
     "name": "stdout",
     "output_type": "stream",
     "text": [
      "Please select your songs (or type * to select all): \n"
     ]
    }
   ],
   "source": [
    "# Getting song choices - include this?\n",
    "song_input = input('Please select your songs (or type * to select all): ')"
   ]
  },
  {
   "cell_type": "code",
   "execution_count": 14,
   "metadata": {
    "collapsed": true
   },
   "outputs": [],
   "source": [
    "if song_input == '*':\n",
    "    song_input = list(df['song'])\n",
    "else:\n",
    "    song_input = song_input.split(', ')"
   ]
  },
  {
   "cell_type": "code",
   "execution_count": 15,
   "metadata": {
    "collapsed": true
   },
   "outputs": [],
   "source": [
    "# Filtering again\n",
    "df_filtered = df_filtered.loc[df_filtered['song'].isin(song_input)]"
   ]
  },
  {
   "cell_type": "code",
   "execution_count": 16,
   "metadata": {},
   "outputs": [
    {
     "name": "stdout",
     "output_type": "stream",
     "text": [
      "Album options: \n"
     ]
    },
    {
     "data": {
      "text/plain": [
       "(None, [])"
      ]
     },
     "execution_count": 16,
     "metadata": {},
     "output_type": "execute_result"
    }
   ],
   "source": [
    "# Getting album choices\n",
    "unique_albums = list(df_filtered['album'].unique())\n",
    "print ('Album options: '), unique_albums"
   ]
  },
  {
   "cell_type": "code",
   "execution_count": 17,
   "metadata": {},
   "outputs": [
    {
     "name": "stdout",
     "output_type": "stream",
     "text": [
      "Please select your albums (or type * to select all): \n"
     ]
    }
   ],
   "source": [
    "album_input = input('Please select your albums (or type * to select all): ')"
   ]
  },
  {
   "cell_type": "code",
   "execution_count": 18,
   "metadata": {
    "collapsed": true
   },
   "outputs": [],
   "source": [
    "if album_input == '*':\n",
    "    album_input = unique_albums\n",
    "else:\n",
    "    album_input = album_input.split(', ')"
   ]
  },
  {
   "cell_type": "code",
   "execution_count": 19,
   "metadata": {
    "collapsed": true
   },
   "outputs": [],
   "source": [
    "# Filtering the dataset again\n",
    "df_filtered = df_filtered.loc[df_filtered['album'].isin(album_input)]"
   ]
  },
  {
   "cell_type": "code",
   "execution_count": 20,
   "metadata": {},
   "outputs": [
    {
     "name": "stdout",
     "output_type": "stream",
     "text": [
      "Country options: \n"
     ]
    },
    {
     "data": {
      "text/plain": [
       "(None, [])"
      ]
     },
     "execution_count": 20,
     "metadata": {},
     "output_type": "execute_result"
    }
   ],
   "source": [
    "# Getting country choices\n",
    "unique_countries = list(df_filtered['home_country'].unique())\n",
    "print ('Country options: '), unique_countries"
   ]
  },
  {
   "cell_type": "code",
   "execution_count": 21,
   "metadata": {
    "scrolled": true
   },
   "outputs": [
    {
     "name": "stdout",
     "output_type": "stream",
     "text": [
      "Please select your countries (or type * to select all): \n"
     ]
    }
   ],
   "source": [
    "country_input = input('Please select your countries (or type * to select all): ')"
   ]
  },
  {
   "cell_type": "code",
   "execution_count": 22,
   "metadata": {
    "collapsed": true
   },
   "outputs": [],
   "source": [
    "if country_input == '*':\n",
    "    country_input = unique_countries\n",
    "else:\n",
    "    country_input = country_input.split(', ')"
   ]
  },
  {
   "cell_type": "code",
   "execution_count": 23,
   "metadata": {
    "collapsed": true
   },
   "outputs": [],
   "source": [
    "# Filtering the dataset again\n",
    "df_filtered = df_filtered.loc[df_filtered['home_country'].isin(country_input)]"
   ]
  },
  {
   "cell_type": "code",
   "execution_count": 24,
   "metadata": {},
   "outputs": [
    {
     "name": "stdout",
     "output_type": "stream",
     "text": [
      "Genre options: \n"
     ]
    },
    {
     "data": {
      "text/plain": [
       "(None, set())"
      ]
     },
     "execution_count": 24,
     "metadata": {},
     "output_type": "execute_result"
    }
   ],
   "source": [
    "# Getting genre choices - will update once we decide to only use 1 per song\n",
    "\n",
    "unflattened_genre_list = list(df_filtered['genre'])\n",
    "unique_genres = set([item for sublist in unflattened_genre_list for item in sublist])\n",
    "print ('Genre options: '), unique_genres"
   ]
  },
  {
   "cell_type": "code",
   "execution_count": 25,
   "metadata": {
    "scrolled": true
   },
   "outputs": [
    {
     "name": "stdout",
     "output_type": "stream",
     "text": [
      "Please select your genres (or type * to select all): \n"
     ]
    }
   ],
   "source": [
    "genre_input = input('Please select your genres (or type * to select all): ')"
   ]
  },
  {
   "cell_type": "code",
   "execution_count": 26,
   "metadata": {
    "collapsed": true
   },
   "outputs": [],
   "source": [
    "if genre_input == '*':\n",
    "    genre_input = list(unique_genres)\n",
    "else:\n",
    "    genre_input = genre_input.split(', ')"
   ]
  },
  {
   "cell_type": "code",
   "execution_count": 27,
   "metadata": {
    "collapsed": true
   },
   "outputs": [],
   "source": [
    "# Filtering to rows that include the genres mentioned \n",
    "df_filtered['genre_match'] = False\n",
    "for count, each_row in enumerate(df_filtered['genre']):\n",
    "    for item in each_row:\n",
    "        if item in genre_input:\n",
    "            df_filtered['genre_match'].iloc[count] = True\n",
    "df_filtered = df_filtered.loc[df_filtered['genre_match'] == True]"
   ]
  },
  {
   "cell_type": "code",
   "execution_count": 28,
   "metadata": {},
   "outputs": [
    {
     "data": {
      "text/html": [
       "<div>\n",
       "<style scoped>\n",
       "    .dataframe tbody tr th:only-of-type {\n",
       "        vertical-align: middle;\n",
       "    }\n",
       "\n",
       "    .dataframe tbody tr th {\n",
       "        vertical-align: top;\n",
       "    }\n",
       "\n",
       "    .dataframe thead th {\n",
       "        text-align: right;\n",
       "    }\n",
       "</style>\n",
       "<table border=\"1\" class=\"dataframe\">\n",
       "  <thead>\n",
       "    <tr style=\"text-align: right;\">\n",
       "      <th></th>\n",
       "      <th>ID</th>\n",
       "      <th>artist</th>\n",
       "      <th>song</th>\n",
       "      <th>album</th>\n",
       "      <th>released</th>\n",
       "      <th>genre</th>\n",
       "      <th>home_country</th>\n",
       "      <th>singer_age_at_release</th>\n",
       "      <th>entity</th>\n",
       "      <th>topic</th>\n",
       "      <th>Google_Entities</th>\n",
       "      <th>overall_sentiment</th>\n",
       "      <th>genre_match</th>\n",
       "    </tr>\n",
       "  </thead>\n",
       "  <tbody>\n",
       "  </tbody>\n",
       "</table>\n",
       "</div>"
      ],
      "text/plain": [
       "Empty DataFrame\n",
       "Columns: [ID, artist, song, album, released, genre, home_country, singer_age_at_release, entity, topic, Google_Entities, overall_sentiment, genre_match]\n",
       "Index: []"
      ]
     },
     "execution_count": 28,
     "metadata": {},
     "output_type": "execute_result"
    }
   ],
   "source": [
    "df_filtered.head()"
   ]
  },
  {
   "cell_type": "code",
   "execution_count": 29,
   "metadata": {
    "scrolled": true
   },
   "outputs": [
    {
     "name": "stdout",
     "output_type": "stream",
     "text": [
      "Release date options: \n",
      " 1960-1969 \n",
      " 1970-1979 \n",
      " 1980-1989 \n",
      " 1990-1999 \n",
      " 2000-2009 \n",
      " 2010-Present\n"
     ]
    }
   ],
   "source": [
    "print ('Release date options: \\n 1960-1969 \\n 1970-1979 \\n 1980-1989 \\n 1990-1999 \\n 2000-2009 \\n 2010-Present')"
   ]
  },
  {
   "cell_type": "code",
   "execution_count": 30,
   "metadata": {},
   "outputs": [
    {
     "name": "stdout",
     "output_type": "stream",
     "text": [
      "Please select your release year (or type * to select all): \n"
     ]
    }
   ],
   "source": [
    "release_input = input('Please select your release year (or type * to select all): ')"
   ]
  },
  {
   "cell_type": "code",
   "execution_count": 31,
   "metadata": {
    "scrolled": true
   },
   "outputs": [
    {
     "data": {
      "text/plain": [
       "''"
      ]
     },
     "execution_count": 31,
     "metadata": {},
     "output_type": "execute_result"
    }
   ],
   "source": [
    "release_input"
   ]
  },
  {
   "cell_type": "code",
   "execution_count": 32,
   "metadata": {
    "collapsed": true
   },
   "outputs": [],
   "source": [
    "release_year_list = []\n",
    "\n",
    "if release_input == '*':\n",
    "    for elem in range (1960, 2018):\n",
    "        release_year_list.append(elem)\n",
    "else:\n",
    "    release_input = release_input.split(', ')\n",
    "    for elem in release_input:\n",
    "        if '1960' in elem:\n",
    "                for elem in range (1960, 1970):\n",
    "                    release_year_list.append(elem)\n",
    "        elif '1970' in elem:\n",
    "                for elem in range (1970, 1980):\n",
    "                    release_year_list.append(elem)\n",
    "        elif '1980' in elem:\n",
    "                for elem in range (1980, 1990):\n",
    "                    release_year_list.append(elem)\n",
    "        elif '1990' in elem:\n",
    "                for elem in range (1990, 2000):\n",
    "                    release_year_list.append(elem)\n",
    "        elif '2000' in elem:\n",
    "                for elem in range (2000, 2010):\n",
    "                    release_year_list.append(elem)\n",
    "        elif '2010' in elem:\n",
    "                for elem in range (2010, 2018):\n",
    "                    release_year_list.append(elem)\n",
    "                    \n",
    "release_input = release_year_list"
   ]
  },
  {
   "cell_type": "code",
   "execution_count": 14,
   "metadata": {},
   "outputs": [
    {
     "ename": "NameError",
     "evalue": "name 'df_filtered' is not defined",
     "output_type": "error",
     "traceback": [
      "\u001b[1;31m---------------------------------------------------------------------------\u001b[0m",
      "\u001b[1;31mNameError\u001b[0m                                 Traceback (most recent call last)",
      "\u001b[1;32m<ipython-input-14-5f1d29d8dbe8>\u001b[0m in \u001b[0;36m<module>\u001b[1;34m()\u001b[0m\n\u001b[0;32m      1\u001b[0m \u001b[1;31m# Filtering the dataset again\u001b[0m\u001b[1;33m\u001b[0m\u001b[1;33m\u001b[0m\u001b[0m\n\u001b[1;32m----> 2\u001b[1;33m \u001b[0mdf_filtered\u001b[0m \u001b[1;33m=\u001b[0m \u001b[0mdf_filtered\u001b[0m\u001b[1;33m.\u001b[0m\u001b[0mloc\u001b[0m\u001b[1;33m[\u001b[0m\u001b[0mdf_filtered\u001b[0m\u001b[1;33m[\u001b[0m\u001b[1;34m'released'\u001b[0m\u001b[1;33m]\u001b[0m\u001b[1;33m.\u001b[0m\u001b[0misin\u001b[0m\u001b[1;33m(\u001b[0m\u001b[0mrelease_input\u001b[0m\u001b[1;33m)\u001b[0m\u001b[1;33m]\u001b[0m\u001b[1;33m\u001b[0m\u001b[0m\n\u001b[0m",
      "\u001b[1;31mNameError\u001b[0m: name 'df_filtered' is not defined"
     ]
    }
   ],
   "source": [
    "# Filtering the dataset again\n",
    "df_filtered = df_filtered.loc[df_filtered['released'].isin(release_input)]"
   ]
  },
  {
   "cell_type": "code",
   "execution_count": 34,
   "metadata": {
    "collapsed": true
   },
   "outputs": [],
   "source": [
    "# Add ranges for how old the singer was at release"
   ]
  },
  {
   "cell_type": "code",
   "execution_count": 35,
   "metadata": {},
   "outputs": [
    {
     "name": "stdout",
     "output_type": "stream",
     "text": [
      "Singer age options: \n",
      " 10-19 \n",
      " 20-29 \n",
      " 30-39 \n",
      " 40-49 \n",
      " 50-59\n"
     ]
    }
   ],
   "source": [
    "print ('Singer age options: \\n 10-19 \\n 20-29 \\n 30-39 \\n 40-49 \\n 50-59')"
   ]
  },
  {
   "cell_type": "code",
   "execution_count": 36,
   "metadata": {},
   "outputs": [
    {
     "name": "stdout",
     "output_type": "stream",
     "text": [
      "Please select an age range for singers (or type * to select all): *\n"
     ]
    }
   ],
   "source": [
    "age_input = input('Please select an age range for singers (or type * to select all): ')"
   ]
  },
  {
   "cell_type": "code",
   "execution_count": 37,
   "metadata": {
    "collapsed": true
   },
   "outputs": [],
   "source": [
    "age_year_list = []\n",
    "\n",
    "if age_input == '*':\n",
    "    for elem in range (10, 56):\n",
    "        age_year_list.append(elem)\n",
    "else:\n",
    "    age_input = age_input.split(', ')\n",
    "    for elem in age_input:\n",
    "        if '10' in elem:\n",
    "                for elem in range (10, 20):\n",
    "                    age_year_list.append(elem)\n",
    "        elif '20' in elem:\n",
    "                for elem in range (20, 30):\n",
    "                    age_year_list.append(elem)\n",
    "        elif '30' in elem:\n",
    "                for elem in range (30, 40):\n",
    "                    age_year_list.append(elem)\n",
    "        elif '40' in elem:\n",
    "                for elem in range (40, 50):\n",
    "                    age_year_list.append(elem)\n",
    "        elif '50' in elem:\n",
    "                for elem in range (50, 57):\n",
    "                    age_year_list.append(elem)\n",
    "                    \n",
    "age_input = age_year_list"
   ]
  },
  {
   "cell_type": "code",
   "execution_count": 38,
   "metadata": {
    "collapsed": true
   },
   "outputs": [],
   "source": [
    "# Filtering the dataset again\n",
    "df_filtered = df_filtered.loc[df_filtered['singer_age_at_release'].isin(age_input)]"
   ]
  },
  {
   "cell_type": "code",
   "execution_count": 39,
   "metadata": {
    "scrolled": false
   },
   "outputs": [
    {
     "data": {
      "text/html": [
       "<div>\n",
       "<style scoped>\n",
       "    .dataframe tbody tr th:only-of-type {\n",
       "        vertical-align: middle;\n",
       "    }\n",
       "\n",
       "    .dataframe tbody tr th {\n",
       "        vertical-align: top;\n",
       "    }\n",
       "\n",
       "    .dataframe thead th {\n",
       "        text-align: right;\n",
       "    }\n",
       "</style>\n",
       "<table border=\"1\" class=\"dataframe\">\n",
       "  <thead>\n",
       "    <tr style=\"text-align: right;\">\n",
       "      <th></th>\n",
       "      <th>ID</th>\n",
       "      <th>artist</th>\n",
       "      <th>song</th>\n",
       "      <th>album</th>\n",
       "      <th>released</th>\n",
       "      <th>genre</th>\n",
       "      <th>home_country</th>\n",
       "      <th>singer_age_at_release</th>\n",
       "      <th>entity</th>\n",
       "      <th>topic</th>\n",
       "      <th>Google_Entities</th>\n",
       "      <th>overall_sentiment</th>\n",
       "      <th>genre_match</th>\n",
       "    </tr>\n",
       "  </thead>\n",
       "  <tbody>\n",
       "    <tr>\n",
       "      <th>0</th>\n",
       "      <td>1</td>\n",
       "      <td>Aerosmith</td>\n",
       "      <td>Janie's Got A Gun</td>\n",
       "      <td>Pump</td>\n",
       "      <td>1989</td>\n",
       "      <td>[Hard rock, Rock]</td>\n",
       "      <td>United States</td>\n",
       "      <td>41</td>\n",
       "      <td>[{\"Janie's Got a Gun\": 0.2361}, {'Honey': 0.05...</td>\n",
       "      <td>[{'Songs written': 1}, {'Aerosmith songs': 1},...</td>\n",
       "      <td>[{'Janie': 0.62619865}, {'honey': 0.10297375},...</td>\n",
       "      <td>-0.7</td>\n",
       "      <td>True</td>\n",
       "    </tr>\n",
       "    <tr>\n",
       "      <th>1</th>\n",
       "      <td>2</td>\n",
       "      <td>Aerosmith</td>\n",
       "      <td>Magic Touch</td>\n",
       "      <td>Permanent Vacation</td>\n",
       "      <td>1987</td>\n",
       "      <td>[Hard rock, Rock]</td>\n",
       "      <td>United States</td>\n",
       "      <td>39</td>\n",
       "      <td>[{'Shotgun': 0.1503}, {'babe': 0}]</td>\n",
       "      <td>[{'Albums': 0.5973}, {'Recorded music': 0.5719...</td>\n",
       "      <td>[{'fire burnin': 0.20596175}, {'Cause': 0.0714...</td>\n",
       "      <td>-0.6</td>\n",
       "      <td>True</td>\n",
       "    </tr>\n",
       "    <tr>\n",
       "      <th>2</th>\n",
       "      <td>3</td>\n",
       "      <td>Aerosmith</td>\n",
       "      <td>Taste Of India</td>\n",
       "      <td>Nine Lives</td>\n",
       "      <td>1997</td>\n",
       "      <td>[Hard rock]</td>\n",
       "      <td>United States</td>\n",
       "      <td>49</td>\n",
       "      <td>[{'Incense': 0.2548}, {'Sweetness of wine': 0....</td>\n",
       "      <td>[{'Wine': 0.7881}, {'Recorded music': 0.7072},...</td>\n",
       "      <td>[{'kind': 0.3166986}, {'taste': 0.23181729}, {...</td>\n",
       "      <td>0.6</td>\n",
       "      <td>True</td>\n",
       "    </tr>\n",
       "    <tr>\n",
       "      <th>3</th>\n",
       "      <td>4</td>\n",
       "      <td>Aerosmith</td>\n",
       "      <td>Dream On</td>\n",
       "      <td>Aerosmith</td>\n",
       "      <td>1973</td>\n",
       "      <td>[Classic rock, Rock]</td>\n",
       "      <td>United States</td>\n",
       "      <td>25</td>\n",
       "      <td>[{'Dawn': 0.2379}, {'Sin': 0.2023}, {'Laughter...</td>\n",
       "      <td>[{'Dawn': 0.3767}, {'Entertainment': 0.3653}, ...</td>\n",
       "      <td>[{'Lord': 0.2157075}, {'Everybody': 0.05828119...</td>\n",
       "      <td>0.0</td>\n",
       "      <td>True</td>\n",
       "    </tr>\n",
       "    <tr>\n",
       "      <th>5</th>\n",
       "      <td>6</td>\n",
       "      <td>Aerosmith</td>\n",
       "      <td>Falling Off</td>\n",
       "      <td>Nine Lives</td>\n",
       "      <td>1997</td>\n",
       "      <td>[Hard rock]</td>\n",
       "      <td>United States</td>\n",
       "      <td>49</td>\n",
       "      <td>[{'t callI': 0}, {'I saidI': 0}, {'I didn': 0}...</td>\n",
       "      <td>[{'Literature': 0.3241}, {'Fiction': 0.3006}, ...</td>\n",
       "      <td>[{'way': 0.24776857}, {'man': 0.14769095}, {'h...</td>\n",
       "      <td>-0.6</td>\n",
       "      <td>True</td>\n",
       "    </tr>\n",
       "  </tbody>\n",
       "</table>\n",
       "</div>"
      ],
      "text/plain": [
       "   ID     artist               song               album  released  \\\n",
       "0   1  Aerosmith  Janie's Got A Gun                Pump      1989   \n",
       "1   2  Aerosmith        Magic Touch  Permanent Vacation      1987   \n",
       "2   3  Aerosmith     Taste Of India          Nine Lives      1997   \n",
       "3   4  Aerosmith           Dream On           Aerosmith      1973   \n",
       "5   6  Aerosmith        Falling Off          Nine Lives      1997   \n",
       "\n",
       "                  genre   home_country  singer_age_at_release  \\\n",
       "0     [Hard rock, Rock]  United States                     41   \n",
       "1     [Hard rock, Rock]  United States                     39   \n",
       "2           [Hard rock]  United States                     49   \n",
       "3  [Classic rock, Rock]  United States                     25   \n",
       "5           [Hard rock]  United States                     49   \n",
       "\n",
       "                                              entity  \\\n",
       "0  [{\"Janie's Got a Gun\": 0.2361}, {'Honey': 0.05...   \n",
       "1                 [{'Shotgun': 0.1503}, {'babe': 0}]   \n",
       "2  [{'Incense': 0.2548}, {'Sweetness of wine': 0....   \n",
       "3  [{'Dawn': 0.2379}, {'Sin': 0.2023}, {'Laughter...   \n",
       "5  [{'t callI': 0}, {'I saidI': 0}, {'I didn': 0}...   \n",
       "\n",
       "                                               topic  \\\n",
       "0  [{'Songs written': 1}, {'Aerosmith songs': 1},...   \n",
       "1  [{'Albums': 0.5973}, {'Recorded music': 0.5719...   \n",
       "2  [{'Wine': 0.7881}, {'Recorded music': 0.7072},...   \n",
       "3  [{'Dawn': 0.3767}, {'Entertainment': 0.3653}, ...   \n",
       "5  [{'Literature': 0.3241}, {'Fiction': 0.3006}, ...   \n",
       "\n",
       "                                     Google_Entities  overall_sentiment  \\\n",
       "0  [{'Janie': 0.62619865}, {'honey': 0.10297375},...               -0.7   \n",
       "1  [{'fire burnin': 0.20596175}, {'Cause': 0.0714...               -0.6   \n",
       "2  [{'kind': 0.3166986}, {'taste': 0.23181729}, {...                0.6   \n",
       "3  [{'Lord': 0.2157075}, {'Everybody': 0.05828119...                0.0   \n",
       "5  [{'way': 0.24776857}, {'man': 0.14769095}, {'h...               -0.6   \n",
       "\n",
       "   genre_match  \n",
       "0         True  \n",
       "1         True  \n",
       "2         True  \n",
       "3         True  \n",
       "5         True  "
      ]
     },
     "execution_count": 39,
     "metadata": {},
     "output_type": "execute_result"
    }
   ],
   "source": [
    "# This shows the remaining data set after filtering \n",
    "\n",
    "df_filtered.head()"
   ]
  },
  {
   "cell_type": "code",
   "execution_count": 40,
   "metadata": {
    "scrolled": true
   },
   "outputs": [
    {
     "name": "stdout",
     "output_type": "stream",
     "text": [
      "Average sentiment for these songs: -0.2\n"
     ]
    }
   ],
   "source": [
    "print ('Average sentiment for these songs: ' + str(round(df_filtered['overall_sentiment'].mean(), 2)))"
   ]
  },
  {
   "cell_type": "code",
   "execution_count": 41,
   "metadata": {},
   "outputs": [
    {
     "name": "stdout",
     "output_type": "stream",
     "text": [
      "Song: \"Mutron Angel\", Artist: Outkast, Sentiment: 0.7\n",
      "Song: \"Taste Of India\", Artist: Aerosmith, Sentiment: 0.6\n",
      "Song: \"Hey Ya\", Artist: Outkast, Sentiment: 0.1\n",
      "Song: \"Dream On\", Artist: Aerosmith, Sentiment: 0.0\n",
      "Song: \"Lightning Strikes\", Artist: Aerosmith, Sentiment: 0.0\n"
     ]
    }
   ],
   "source": [
    "# Returning the Top 5 topics and sentiment from the filtered songs\n",
    "\n",
    "df_sentiment_copy = df_filtered.copy()\n",
    "df_sentiment_copy = df_sentiment_copy.sort_values(by=['overall_sentiment'], axis=0, ascending=False)[:5]\n",
    "df_sentiment_copy = df_sentiment_copy.reset_index()\n",
    "\n",
    "counter = 0\n",
    "while counter < len(df_sentiment_copy['artist']):\n",
    "    print ('Song: \"' + (df_sentiment_copy['song'][counter]) + '\", Artist: ' + str((df_sentiment_copy['artist'][counter])) + ', '  \n",
    "    + 'Sentiment: ' + str((df_sentiment_copy['overall_sentiment'][counter])))  \n",
    "    counter +=1"
   ]
  },
  {
   "cell_type": "code",
   "execution_count": 42,
   "metadata": {
    "collapsed": true
   },
   "outputs": [],
   "source": [
    "# The code below is how we can sum up all the values from the entities and return the top 5\n",
    "\n",
    "###\n",
    "### TO BE DELETED ?\n",
    "###"
   ]
  },
  {
   "cell_type": "code",
   "execution_count": 36,
   "metadata": {},
   "outputs": [
    {
     "name": "stdout",
     "output_type": "stream",
     "text": [
      "[['Songs written', 1], ['Aerosmith songs', 1], ['Song recordings produced', 1], ['Glam metal songs', 1], ['Hard rock ballads', 1], ['Geffen Records singles', 1], ['Blade weapons', 1], ['When I Was Your Man', 1], ['Song structure', 1], ['Songs', 1], ['Musical compositions', 1], ['Music', 1], ['Musical form', 1], ['Vocal music', 1], ['John Lee Hooker songs', 1], ['Death customs', 1], ['Funerals', 1], ['Commemoration', 1], ['Card games', 1], ['Games', 1], ['Playing cards', 1], ['Glass applications', 1], ['Optics', 1], ['Equipment', 1], ['Recorded music', 1], ['Song structure', 1], ['Songs', 1], ['Just Dance (song)', 1], ['Lady Gaga', 1], ['Bad Romance', 1], ['Number-one singles', 1], ['MTV Video of the Year Award', 1], ['Song recordings', 1], ['Multilingual songs', 1], ['Songs', 1], ['Music videos directed', 1], ['American songs', 1], ['Grammy Awards for music videos', 1], ['Electropop', 1], ['Seven deadly sins', 1], ['Fortune-telling', 1], ['Moves like Jagger', 1], ['Recorded music', 1], ['Albums', 1], ['Recorded music', 1], ['Song structure', 1], ['Refrain', 1], ['Songs', 1], ['Music', 1], ['Musical form', 1], ['Hey Ya!', 1], ['Tropics', 1], ['Storm', 1], ['Tropical cyclones', 1], ['Tropical cyclone seasons', 1], ['Atlantic hurricanes', 1], ['Atlantic hurricane seasons', 1], ['Natural disasters', 1], ['Windstorms', 1], ['Tropical meteorology', 1], ['Vortices', 1], ['Metaphysics', 1], ['Philosophical theories', 1], ['Cognitive science', 1], ['Philosophy', 1], ['Truth', 1], ['Theoretical philosophy', 1], ['Epistemology', 1], ['Culture', 1], ['Propositional attitudes', 1], ['Religion', 1], ['Religious belief and doctrine', 1], ['Theology', 1], ['Christianity', 1], ['Religious behaviour and experience', 1], ['Wu-Tang Clan', 1], ['Musical collectives', 1], ['Hip hop people', 1], ['American musical groups', 1], ['East Coast hip hop', 1], ['Hip hop collectives', 1], ['Wu-Tang Clan members', 1], ['New York hip hop', 1], ['African-American music', 1], ['Five percenters', 1], ['Wu-Tang Clan', 1], ['Billie Jean', 0.9902], ['Luck', 0.9858], ['American blues rock songs', 0.9823], ['Death care industry', 0.9819], ['Religious philosophy', 0.9763], ['Music', 0.9688], ['Performing arts', 0.9687], ['Eric Burdon songs', 0.9622], ['Recorded music', 0.9617], ['Melee weapons', 0.9587], ['Games of chance', 0.9562], ['American hard rock songs', 0.9515], ['Knives', 0.9505], ['Mythology', 0.9499], ['Christian theology', 0.9448], ['Song forms', 0.9447], ['Psychological attitude', 0.9405], ['Electromagnetic radiation', 0.939], ['Songs written', 0.9389], ['Rituals', 0.934], ['Musical compositions', 0.9288], ['Hard rock songs', 0.9231], ['Blues songs', 0.9165], ['Lady Gaga songs', 0.9158], ['Albums', 0.9051], ['Abrahamic religions', 0.9047], ['Songs about child abuse', 0.8969], ['Wu-Tang Clan', 0.8967], ['Gaming devices', 0.8952], ['Music media', 0.8949], ['Natural philosophy', 0.8928], ['Hand tools', 0.8879], ['Ephemera', 0.8858], ['Musical forms', 0.877], ['Blues', 0.8762], ['Social conventions', 0.8748], ['Physical geography', 0.8714], ['Weapons', 0.8687], ['Dance-pop', 0.8617], ['Poetry', 0.8599], ['God', 0.8569], ['Games of mental skill', 0.855], ['Glass engineering and science', 0.8523], ['Glass', 0.85], ['Heaven', 0.8494], ['Cutting tools', 0.8488], ['Tabletop games', 0.8483], ['Cultural aspects of death', 0.8477], ['Traditions', 0.8464], ['Dance-pop songs', 0.8414], ['American blues rock songs', 0.8402], ['Vocal music', 0.8338], ['Popular music', 0.8279], ['Music', 0.8252], ['Musical compositions', 0.821], ['Casey Jones', 0.8209], ['Recorded music', 0.8182], ['Elements of music', 0.8165], ['Applied and interdisciplinary physics', 0.8125], ['Fix You', 0.8096], ['Acid rock songs', 0.808], ['American songs', 0.8069], ['American synthpop songs', 0.8009], ['Music', 0.7991], ['Albums', 0.7946], ['Wine', 0.7881], ['Electropop songs', 0.788], ['Dance music songs', 0.7879], ['Vocal music', 0.7875], ['Music media', 0.7872], ['Songs', 0.7845], ['Toys', 0.7783], ['You Belong with Me', 0.777], ['Recorded music', 0.7737], ['Optical materials', 0.7703], ['Songs', 0.7681], ['Popular music', 0.7666], ['Recorded music', 0.7653], ['Albums', 0.763], ['Pop songs', 0.7611], ['Music', 0.7571], ['American psychedelic rock songs', 0.7522], ['Personal weapons', 0.7521], ['Shacharit for Shabbat and Yom Tov', 0.7511], ['Music industry', 0.7486], ['Musical form', 0.7466], ['Shabbat prayers', 0.742], ['Literature', 0.742], ['Sky', 0.7415], ['Popular music', 0.7354], ['Consumer goods', 0.7349], ['Performing arts', 0.7315], ['Albums', 0.7305], ['American rock songs', 0.7279], ['Sound recording', 0.7241], ['Recorded music', 0.7237], ['Albums', 0.722], ['Torah reading', 0.7206], ['Songs', 0.7176], ['Song structure', 0.7108], ['Music media', 0.7085], ['Recorded music', 0.7072], ['Songwriter unknown', 0.7055], ['Albums', 0.704], ['Months of the Hebrew calendar', 0.7038], ['Shacharit for Shabbat and Yom Tov', 0.7], ['Materials', 0.6997], ['Television episodes', 0.6881], ['Shabbat prayers', 0.6877], ['Rock albums', 0.687], ['Grape', 0.6864], ['Music', 0.6788], ['American musicians', 0.6757], ['Shabbat', 0.6752], ['Torah reading', 0.6639], ['Recorded music', 0.6635], ['Music', 0.6634], ['Sound recording', 0.6598], ['Recorded music', 0.6561], ['Fermented drinks', 0.655], ['Torah books', 0.6512], ['Weekly Torah readings', 0.6508], ['Pop music', 0.6505], ['Albums', 0.6503], ['African-American music', 0.6501], ['Months of the Hebrew calendar', 0.6494], ['Popular music', 0.6494], ['Music media', 0.6489], ['American television episodes', 0.6486], ['Pop music', 0.6451], ['Recorded music', 0.645], ['Albums', 0.6439], ['Popular music', 0.642], ['Entertainment', 0.6415], ['Visual perception', 0.6414], ['American musicians', 0.641], ['Music industry', 0.6375], ['Natural disasters', 0.6336], ['Rail transport', 0.6324], ['Man in the Mirror', 0.6307], ['Musical compositions', 0.6257], ['Music media', 0.6246], ['Television episodes', 0.6233], ['Dream', 0.6176], ['Earth', 0.6175], ['Performing arts', 0.6167], ['Playboy', 0.6161], ['Jewish services', 0.6155], ['Elvis Presley', 0.6119], ['Shabbat', 0.6101], ['Love Her Madly', 0.6073], ['Television episodes', 0.6072], ['Musical compositions', 0.6064], ['Pop music', 0.6054], ['Roller skates', 0.6051], ['Alcoholic drinks', 0.6041], ['Torah books', 0.603], ['Undertaking', 0.6029], ['Indigenous peoples of North America', 0.6025], ['Recorded music', 0.6017], ['American musicians', 0.6004], ['Hip hop', 0.6001], ['Weekly Torah readings', 0.5984], ['Jewish prayer and ritual texts', 0.5977], ['Albums', 0.5973], ['Pop songs', 0.5957], ['Recorded music', 0.5936], ['Jewish life cycle', 0.5915], ['Hip hop music', 0.5913], ['Rock music', 0.5872], ['Television episodes', 0.5868], ['American television episodes', 0.5867], ['Religion', 0.5849], ['Recorded music', 0.5822], ['RZA', 0.5821], ['Alcohol', 0.5813], ['Cher', 0.5803], ['Knife', 0.5775], ['American television episodes', 0.5757], ['Songs', 0.5756], ['Music', 0.5748], ['Knot', 0.5745], ['Albums', 0.5735], ['Geronimo', 0.5731], ['Television episodes', 0.5723], ['Recorded music', 0.5719], ['Vocal music', 0.5713], ['Religious belief and doctrine', 0.5694], ['Rock albums', 0.5691], ['Television episodes', 0.5666], ['American railroaders', 0.5645], ['Jewish services', 0.564], ['Music media', 0.5609], ['Religious behaviour and experience', 0.5596], ['Rock music', 0.5595], ['Television episodes', 0.5557], ['Mind', 0.5546], ['Entertainment', 0.5543], ['Entertainment', 0.5542], ['Clock', 0.5533], ['Agent Orange', 0.5529], ['American television episodes', 0.5516], ['Hip hop music', 0.5511], ['Fiction', 0.5499], ['Gorilla', 0.5492], ['Jewish prayer and ritual texts', 0.5492], ['Television episodes', 0.5488], ['Recorded music', 0.5482], ['American television episodes', 0.548], ['Natural hazards', 0.5473], ['Pendulum', 0.5471], ['Music industry', 0.5453], ['Music industry', 0.5445], ['Albums', 0.5429], ['Nothing', 0.5428], ['Music', 0.542], ['Albums', 0.541], ['Television episodes', 0.5402], ['Contemporary music', 0.5385], ['Television episodes', 0.5371], ['American television episodes', 0.5371], ['Religion', 0.5354], ['Sound recording', 0.5343], ['Iroquois', 0.5335], ['Jewish life cycle', 0.5326], ['Heaven', 0.5321], ['Entertainment', 0.5319], ['People from Fulton County, Kentucky', 0.5303], ['Crops originating from Europe', 0.5297], ['Albums', 0.529], ['American television episodes', 0.5284], ['American television episodes', 0.5279], ['String (music)', 0.5268], ['Pop music', 0.5248], ['Thunder', 0.5247], ['Television episodes', 0.5245], ['Performing arts', 0.5244], ['Vocal music', 0.5242], ['Refrain', 0.5225], ['Albums', 0.5221], ['Eye', 0.5211], ['Entertainment', 0.5207], ['John Legend', 0.5188], ['Culture', 0.5175], ['Fiction', 0.5153], ['Recorded music', 0.5136], ['Entertainment', 0.513], ['Recorded music', 0.5126], ['Disco', 0.5098], ['Recorded music', 0.5097], ['Music media', 0.5096], ['Culture', 0.5091], ['Pearl', 0.5084], ['Choir', 0.5065], ['Cutting', 0.506], ['Pop songs', 0.5057], ['People from Jackson, Tennessee', 0.5051], ['Recorded music', 0.5034], ['Popular music', 0.5033], ['Recorded music', 0.5031], ['Buddy Miles', 0.5026], ['Railroad engineers', 0.5025], ['Popular music', 0.5024], ['Religious behaviour and experience', 0.5017], ['Television episodes', 0.4995], ['Music media', 0.4989], ['Recorded music', 0.4988], ['Albums', 0.4985], ['Recorded music', 0.4977], ['Entertainment', 0.4974], ['Television episodes', 0.496], ['American television episodes', 0.4953], ['American television episodes', 0.4947], ['Fiction', 0.493], ['Sky', 0.492], ['Railway safety', 0.4919], ['Television episodes', 0.4909], ['Religious belief and doctrine', 0.4901], ['Music media', 0.4898], ['Television episodes', 0.4897], ['Literature', 0.4897], ['Outer space', 0.4886], ['Entertainment', 0.4881], ['Religion', 0.4877], ['Music media', 0.4866], ['Entertainment', 0.4852], ['Fulton County, Kentucky', 0.4827], ['Weather events', 0.4819], ['Shacharit for Shabbat and Yom Tov', 0.4802], ['Recorded music', 0.4801], ['Grief', 0.4795], ['Pop music', 0.4793], ['Literature', 0.4791], ['American television episodes', 0.4789], ['Music', 0.4775], ['Moon', 0.4762], ['American television episodes', 0.4756], ['Entertainment', 0.4747], ['Literature', 0.4746], ['Religious behaviour and experience', 0.474], ['Recorded music', 0.4736], ['Music media', 0.4729], ['Shabbat prayers', 0.4723], ['Speculative fiction', 0.4719], ['Literature', 0.4715], ['Sound recording', 0.471], ['Sound recording', 0.471], ['Music', 0.4706], ['Television episodes', 0.4698], ['Music industry', 0.4696], ['Shield', 0.4688], ['Entertainment', 0.468], ['Flood', 0.4679], ['Recorded music', 0.4664], ['American television episodes', 0.465], ['American television episodes', 0.4644], ['Fiction', 0.4639], ['Television episodes', 0.4638], ['Pop songs', 0.4635], ['Water', 0.462], ['Earth sciences', 0.4605], ['Mirror', 0.4604], ['Albums', 0.4604], ['Television series', 0.4603], ['Popular music', 0.459], ['Songs', 0.4582], ['Albums', 0.4575], ['Albums', 0.4568], ['Culture', 0.4567], ['Months of the Hebrew calendar', 0.4558], ['Vocal music', 0.4555], ['Torah reading', 0.4547], ['Transport', 0.452], ['Literature', 0.4511], ['American television episodes', 0.4509], ['Indigenous peoples of the Great Plains', 0.4508], ['Music media', 0.4501], ['Railway accidents', 0.4499], ['Music', 0.4498], ['Music', 0.4495], ['Entertainment', 0.4485], ['Albums', 0.4481], ['American popular music', 0.4468], ['Music media', 0.4463], ['Entertainment', 0.446], ['Entertainment', 0.446], ['Fiction', 0.4452], ['Entertainment', 0.4449], ['Entertainment', 0.4436], ['Television episodes', 0.4425], ['Music media', 0.4425], ['Recorded music', 0.4423], ['Entertainment', 0.4417], ['Television episodes', 0.4416], ['Popular music', 0.4416], ['Albums', 0.4406], ['American television episodes', 0.44], ['Recorded music', 0.4396], ['Recorded music', 0.4369], ['Music industry', 0.4368], ['Television episodes', 0.4363], ['Fiction', 0.4356], ['Music', 0.4353], ['Albums', 0.4352], ['Literature', 0.4352], ['Music industry', 0.4334], ['Meteorology', 0.4328], ['God', 0.4324], ['Entertainment', 0.4316], ['Performing arts', 0.4312], ['Music', 0.4308], ['Native American people', 0.4305], ['Hip hop', 0.4305], ['Television episodes', 0.4304], ['American Dream', 0.4301], ['Music', 0.4292], ['Literature', 0.4292], ['Sioux', 0.4283], ['Astronomy', 0.4279], ['Bruno Mars', 0.4267], ['Fiction', 0.4267], ['Culture', 0.4267], ['Guitar', 0.425], ['Entertainment', 0.4247], ['Fiction', 0.4245], ['Pop songs', 0.4244], ['Jerusalem', 0.4243], ['American television episodes', 0.4242], ['Shabbat', 0.4239], ['East Coast hip hop', 0.4236], ['Television series', 0.4231], ['Television episodes', 0.4223], ['Rain', 0.422], ['Entertainment', 0.4211], ['English-language music', 0.421], ['Television episodes', 0.4208], ['Recorded music', 0.4206], ['Entertainment', 0.4202], ['Purple Heart', 0.42], ['Television series', 0.4197], ['Entertainment', 0.4197], ['Recorded music', 0.4195], ['Entertainment', 0.4189], ['Entertainment', 0.4186], ['American television episodes', 0.4183], ['Sound recording', 0.4174], ['Shacharit for Shabbat and Yom Tov', 0.4174], ['Shabbat prayers', 0.4174], ['American television episodes', 0.4171], ['Rock music', 0.4169], ['American television episodes', 0.4144], ['Entertainment', 0.4144], ['Television series', 0.4143], ['English-language music', 0.4141], ['Entertainment', 0.4112], ['Disasters', 0.4106], ['Television series', 0.4098], ['Entertainment', 0.4097], ['Fiction', 0.4094], ['Fiction', 0.4094], ['Culture', 0.4089], ['Sound recording', 0.4058], ['Literature', 0.4058], ['Weekly Torah readings', 0.4056], ['Distilled beverage', 0.4055], ['American television episodes', 0.4055], ['Television series', 0.4053], ['Recorded music', 0.4042], ['Literature', 0.4038], ['Saint Peter', 0.4033], ['Take It From Here', 0.4032], ['Torah books', 0.4031], ['Television episodes', 0.4027], ['Music', 0.4026], ['Albums', 0.4016], ['Pop music', 0.4015], ['Television series', 0.4004], ['Music of the African diaspora', 0.4], ['Sword', 0.3978], ['Albums', 0.3978], ['Sound recording', 0.3978], ['Fiction', 0.3971], ['American musicians', 0.397], ['Music media', 0.3964], ['Rock albums', 0.3958], ['Entertainment', 0.3955], ['Entertainment', 0.3952], ['Television series', 0.3951], ['Television series', 0.3947], ['American styles of music', 0.3946], ['Viking Age', 0.3941], ['Television episodes', 0.394], ['Smile', 0.3932], ['Music', 0.3918], ['Performing arts', 0.3903], ['Philosophy', 0.39], ['Mirror', 0.3899], ['Music industry', 0.3892], ['Truth', 0.3888], ['Television episodes', 0.3887], ['Entertainment', 0.3886], ['Music media', 0.3883], ['Hell', 0.3863], ['In Living Color', 0.3861], ['Music media', 0.386], ['Music industry', 0.3852], ['Albums', 0.385], ['Oyster', 0.3849], ['Recorded music', 0.3835], ['Television series', 0.3833], ['Fences', 0.3832], ['Rock albums', 0.3828], ['Literature', 0.3824], ['Entertainment', 0.3815], ['Boarding school', 0.3808], ['Fiction', 0.3806], ['Television series', 0.3799], ['Musical instruments', 0.379], ['Entertainment', 0.379], ['Pride', 0.3785], ['Music', 0.3782], ['Entertainment', 0.3772], ['Recorded music', 0.377], ['Entertainment', 0.3768], ['Rock music', 0.3768], ['Dawn', 0.3767], ['Culture', 0.3767], ['Literature', 0.3766], ['Creative works', 0.3766], ['Fiction', 0.3765], ['Popular music', 0.376], ['String instruments', 0.3749], ['Music', 0.3748], ['Entertainment', 0.3738], ['Popular music', 0.3738], ['Recorded music', 0.3733], ['Recorded music', 0.3728], ['Sound recording', 0.372], ['Missionary', 0.3719], ['Poems', 0.3716], ['Entertainment', 0.3712], ['Entertainment', 0.3711], ['American television episodes', 0.3711], ['Television episodes', 0.3709], ['Chair', 0.3709], ['Music', 0.3706], ['Entertainment', 0.3701], ['Entertainment', 0.3697], ['Music media', 0.3693], ['American television episodes', 0.3676], ['Chordophones', 0.367], ['Albums', 0.3665], ['Nothing', 0.3664], ['Music media', 0.3661], ['Fiction', 0.3655], ['Entertainment', 0.3653], ['Fiction', 0.3649], ['American musicians', 0.3644], ['Entertainment', 0.3641], ['Television series', 0.3636], ['Television episodes', 0.3629], ['Baseball', 0.3623], ['Singles (music)', 0.3621], ['American Dream', 0.3613], ['Entertainment', 0.3608], ['Entertainment', 0.3606], ['Television episodes', 0.3602], ['Recorded music', 0.3598], ['Musical compositions', 0.3594], ['Television episodes', 0.3569], ['Rock music', 0.3567], ['Music industry', 0.3566], ['Rock albums', 0.3564], ['Creative works', 0.3563], ['Fiction', 0.3562], ['English poetry', 0.3556], ['Indian television series', 0.3556], ['Literature', 0.3552], ['Television series', 0.355], ['Television series', 0.354], ['Entertainment', 0.3539], ['Sound recording', 0.3534], ['Music industry', 0.3532], ['Theology', 0.3514], ['Albums', 0.3513], ['Performing arts', 0.3512], ['Music', 0.3511], ['Music media', 0.351], ['American television episodes', 0.3499], ['Heaven', 0.3497], ['Religious faiths, traditions, and movements', 0.3494], ['Television series', 0.3488], ['Albums', 0.3488], ['Land of Toys', 0.3484], ['Music media', 0.348], ['Popular music', 0.3475], ['Songs', 0.346], ['Perfume', 0.3459], ['Entertainment', 0.3458], ['Entertainment', 0.3457], ['Entertainment', 0.3455], ['Pop music', 0.3454], ['Music media', 0.3453], ['Music media', 0.3446], ['Fiction', 0.3445], ['Monster Energy NASCAR Cup Series seasons', 0.3443], ['Music media', 0.3435], ['American television episodes', 0.3419], ['Tattoo', 0.3416], ['Fiction', 0.3403], ['Songs', 0.34], ['Pop songs', 0.34], ['Pop music', 0.3399], ['Literature', 0.338], ['Television series', 0.3378], ['Literature', 0.3377], ['Entertainment', 0.3376], ['Albums', 0.3374], ['Music industry', 0.3373], ['Albums', 0.3373], ['Television series', 0.337], ['Miser', 0.337], ['Entertainment', 0.3369], ['Religious belief and doctrine', 0.3368], ['Creative works', 0.3367], ['Television episodes', 0.3364], ['Pop songs', 0.3356], ['Literature', 0.3354], ['Music industry', 0.3353], ['Ninja', 0.3348], ['American television episodes', 0.3345], ['Music media', 0.3344], ['Literature', 0.3344], ['Music media', 0.3339], ['Gravity', 0.3336], ['Entertainment', 0.3331], ['Fiction', 0.3328], ['Entertainment', 0.3327], ['American television episodes', 0.3325], ['Fiction', 0.3318], ['Religion', 0.3311], ['Novels', 0.3309], ['Rock music', 0.3308], ['Sound recording', 0.3307], ['Pop music', 0.33], ['Creative works', 0.3297], ['Culture', 0.3292], ['Culture', 0.329], ['Nothing', 0.329], ['Novels', 0.3289], ['Christianity', 0.3285], ['Music', 0.3282], ['Novels', 0.3279], ['British poetry', 0.3257], ['Abrahamic religions', 0.3257], ['Fiction', 0.3252], ['Television series', 0.3251], ['Entertainment', 0.3247], ['Pop music', 0.3246], ['Literature', 0.3241], ['Moon', 0.3239], ['Music media', 0.3239], ['Television series', 0.3233], ['Television series', 0.3232], ['Music', 0.3227], ['Popular music', 0.3223], ['Literature', 0.3214], ['Recorded music', 0.321], ['Sin', 0.3202], ['Popular music', 0.3199], ['Music industry', 0.3193], ['Television series', 0.319], ['Monster Energy NASCAR Cup Series', 0.3189], ['Popular music', 0.3179], ['Television episodes', 0.3178], ['Walls', 0.3166], ['Entertainment', 0.3166], ['Entertainment', 0.3163], ['Music industry', 0.316], ['Fiction', 0.3159], ['Superman', 0.3153], ['Albums', 0.3152], ['Television series', 0.314], ['Entertainment', 0.3138], ['Shotgun', 0.3134], ['Music industry', 0.3133], ['Fiction', 0.3132], ['Literature', 0.3129], ['Songs', 0.3128], ['Entertainment', 0.3126], ['Sound recording', 0.3125], ['Nylon', 0.3124], ['Medieval Denmark', 0.3119], ['Baby talk', 0.3119], ['Rock albums', 0.3116], ['Songs', 0.3116], ['Recorded music', 0.3096], ['Culture', 0.3096], ['American television episodes', 0.3096], ['Culture', 0.3092], ['Music', 0.3092], ['Devil', 0.3081], ['Fiction', 0.308], ['Television series', 0.3078], ['Drama', 0.3077], ['Fiction', 0.3072], ['American television episodes', 0.3072], ['Entertainment', 0.3067], ['Creative works', 0.3066], ['Christianity', 0.3061], ['Songs', 0.3059], ['Fiction', 0.3057], ['Songs', 0.3055], ['Entertainment', 0.3052], ['Novels', 0.3047], ['Song recordings', 0.3044], ['Literature', 0.3041], ['Performing arts', 0.3037], ['Entertainment', 0.3033], ['Mythology', 0.303], ['Music technology', 0.3026], ['American musicians', 0.3025], ['Rhyme', 0.302], ['Theology', 0.3018], ['Drink', 0.3017], ['Entertainment', 0.3016], ['Pillow', 0.3014], ['Literature', 0.301], ['Rock albums', 0.3007], ['Fiction', 0.3006], ['Fiction', 0.3006], ['Music', 0.3002], ['Creative works', 0.3], ['Recorded music', 0.2999], ['Sound recording', 0.2996], ['Television episodes', 0.2993], ['Television series', 0.2992], ['Novels', 0.299], ['Spoon', 0.2989], ['Popular music', 0.2989], ['Entertainment', 0.2976], ['Fiction', 0.2972], ['Performing arts', 0.2968], ['Fiction', 0.2963], ['Fiction', 0.2962], ['American television episodes', 0.296], ['Fiction', 0.2955], ['Entertainment', 0.2953], ['American television episodes', 0.2952], ['Drama', 0.2951], ['Israel', 0.2951], ['Performing arts', 0.2943], ['Entertainment', 0.2941], ['Pop music', 0.2936], ['Music industry', 0.2935], ['Fiction', 0.2935], ['Fiction', 0.2932], ['Songs', 0.2923], ['Horology', 0.2922], ['Elements of fiction', 0.2916], ['Entertainment', 0.2915], ['Novels', 0.2911], ['Television episodes', 0.2898], ['Culture', 0.2898], ['Creative works', 0.2895], ['Creative works', 0.2893], ['Pop music', 0.2893], ['Entertainment', 0.2891], ['Canoe', 0.289], ['Sky', 0.2889], ['Television episodes', 0.2889], ['Entertainment', 0.2883], ['Television series', 0.2879], ['Beaches', 0.2878], ['Sound recording', 0.2877], ['Fiction', 0.2876], ['American television episodes', 0.2876], ['Novels', 0.2875], ['Fiction', 0.2875], ['Tide', 0.2871], ['Firefly', 0.2868], ['Television series', 0.2862], ['Crystal ball', 0.2861], ['American television episodes', 0.286], ['Literature', 0.2851], ['Recorded music', 0.2848], ['Fiction', 0.2845], ['Door', 0.284], ['Culture', 0.2838], ['Popular music', 0.2838], ['Music media', 0.2832], ['Literature', 0.2829], ['Entertainment', 0.2829], ['Television series', 0.2827], ['Musical compositions', 0.2827], ['Culture', 0.2825], ['Television episodes', 0.2822], ['Novels', 0.2822], ['Christian hamartiology', 0.2822], ['Music', 0.2821], ['Television series', 0.282], ['Films', 0.2819], ['Medicine', 0.2818], ['Fiction', 0.2815], ['Music', 0.2806], ['Rock music', 0.2804], ['Literature', 0.2802], ['Cocaine', 0.2799], ['Sound recording', 0.2798], ['Television episodes', 0.2797], ['Pop music', 0.2795], ['Sound recording', 0.2794], ['Novels', 0.2791], ['Recorded music', 0.2791], ['Novels', 0.279], ['Entertainment', 0.279], ['Music', 0.279], ['American television episodes', 0.2789], ['Pop music', 0.2787], ['Bus', 0.2785], ['Culture', 0.2777], ['Sound recording', 0.2775], ['Sound recording', 0.2774], ['Sound recording', 0.2771], ['Entertainment', 0.2771], ['Albums', 0.2762], ['Culture', 0.2761], ['Literature', 0.276], ['Fiction', 0.2759], ['Sports', 0.2757], ['Literature', 0.2756], ['Music industry', 0.2747], ['Music media', 0.274], ['Entertainment', 0.2735], ['Music', 0.2734], ['Honey', 0.2731], ['Gambling', 0.2726], ['Creative works', 0.2718], ['Creative works', 0.2705], ['Funeral', 0.2704], ['Fiction', 0.2698], ['Literature', 0.2695], ['Coastal geography', 0.2693], ['Creative works', 0.2693], ['Entertainment', 0.268], ['Creative works', 0.268], ['Refrigerator', 0.2673], ['Fiction', 0.2658], ['Music industry', 0.2654], ['Culture', 0.2653], ['Music industry', 0.2644], ['Early Middle Ages', 0.264], ['American musicians', 0.264], ['Sin', 0.264], ['Culture', 0.2635], ['Creative works', 0.2631], ['Novels', 0.2629], ['Creative works', 0.2626], ['Massage', 0.2623], ['Beauty pageant', 0.262], ['Tattoo', 0.2619], ['Vikings', 0.2618], ['Television series', 0.2617], ['Religious belief and doctrine', 0.2616], ['Fiction', 0.2612], ['Music media', 0.2611], ['Sound recording', 0.2602], ['Clam', 0.2601], ['Music', 0.2593], ['Recorded music', 0.2592], ['Television series', 0.2592], ['Performing arts', 0.2591], ['Laughter', 0.2589], ['Television episodes', 0.2586], ['Albums', 0.2585], ['Tattooing', 0.2584], ['Film', 0.2581], ['Culture', 0.2579], ['Creative works', 0.2577], ['Literature', 0.2575], ['Drama', 0.2566], ['Music media', 0.2563], ['Literature', 0.2555], ['English-language music', 0.2554], ['Rock music', 0.2544], ['Culture', 0.2543], ['Fiction', 0.2543], ['Music media', 0.2536], ['Novels', 0.2532], ['Coasts', 0.2531], ['Television episodes', 0.2526], ['Entertainment', 0.2523], ['English-language music', 0.2522], ['Fiction', 0.2521], ['Controlled-access highway', 0.252], ['Creative works', 0.2519], ['Musical compositions', 0.2518], ['Creative works', 0.2518], ['Literature', 0.2514], ['Entertainment', 0.2512], ['Catholic doctrines', 0.2512], ['Creative works', 0.251], ['Television series', 0.2507], ['Games', 0.2504], ['Knife', 0.2496], ['Music industry', 0.2488], ['Literature', 0.2484], ['Recorded music', 0.2483], ['Television episodes', 0.2479], ['Artificial objects', 0.2478], ['Literature', 0.2477], ['Film', 0.2477], ['Entertainment', 0.2476], ['Recorded music', 0.2474], ['Monotheistic religions', 0.2472], ['Door', 0.247], ['Refrain', 0.2468], ['Baseball bat', 0.2465], ['Novels', 0.2464], ['Creative works', 0.2463], ['Music', 0.2457], ['Religious rituals', 0.2452], ['Culture', 0.2443], ['Works', 0.2441], ['Creative works', 0.2437], ['Novels', 0.2434], ['Songs about The Rolling Stones', 0.2422], ['Sky', 0.2421], ['Music', 0.2419], ['Body art', 0.2412], ['Substance dependence', 0.2409], ['Novels', 0.2406], ['Entertainment', 0.2406], ['NME', 0.2406], ['Drama', 0.2405], ['Nothing', 0.2405], ['Arts', 0.2402], ['Culture', 0.2398], ['Recorded music', 0.2397], ['Literature', 0.239], ['Tourism geography', 0.2388], ['Television series', 0.2387], ['Song recordings', 0.2385], ['Novels', 0.2384], ['Pop music', 0.2384], ['Literature', 0.2382], ['Nothing', 0.2382], ['English-language music', 0.238], ['Creative works', 0.2374], ['Physical sciences', 0.2365], ['Rock music', 0.2354], ['Karma', 0.235], ['Fiction', 0.2347], ['English-language works', 0.2347], ['Refrain', 0.2343], ['Entertainment', 0.234], ['Performing arts', 0.234], ['Literature', 0.234], ['Rock music', 0.2333], ['In the Midnight Hour', 0.2333], ['Creative works', 0.2329], ['Bivalves and humans', 0.2328], ['Music media', 0.2326], ['Religion', 0.2324], ['Television series', 0.2306], ['Culture', 0.2306], ['Drama', 0.2302], ['Television episodes', 0.2298], ['Religious ethics', 0.2292], ['Literature', 0.2277], ['Culture', 0.2276], ['Truth', 0.2275], ['Entertainment', 0.2272], ['American television episodes', 0.2271], ['Speculative fiction', 0.227], ['Erosion', 0.2261], ['Drama', 0.2257], ['Cultural depictions of The Rolling Stones', 0.2257], ['Popular music', 0.2253], ['Television episodes', 0.2244], ['Novels', 0.2236], ['Card games', 0.223], ['English-language works', 0.223], ['Creative works', 0.2222], ['Television series', 0.2217], ['Literature', 0.2211], ['American television episodes', 0.2199], ['Machines', 0.2198], ['Wire', 0.2197], ['Hindi-language television programs', 0.2197], ['Mythology', 0.2192], ['Entertainment', 0.2192], ['Contemporary music', 0.2189], ['American music articles needing attention', 0.2181], ['Drama', 0.2181], ['Novels', 0.2178], ['Television series', 0.217], ['Novels', 0.2163], ['Drama', 0.2161], ['Bivalves', 0.2149], ['Erosion landforms', 0.2146], ['Culture', 0.2142], ['Chicago', 0.2141], ['Hip hop', 0.2138], ['Games of chance', 0.2136], ['Playing cards', 0.2131], ['Novels', 0.2128], ['Novels', 0.2122], ['Sky', 0.2118], ['Arts', 0.2108], ['Literature', 0.2099], ['Religious behaviour and experience', 0.2094], ['Ship', 0.2094], ['Works', 0.2085], ['Outer space', 0.2078], ['Television series', 0.2069], ['Drama', 0.2069], ['Creative works', 0.2059], ['Hardware (mechanical)', 0.2056], ['Creative works', 0.2054], ['Body modification', 0.2052], ['Creative works', 0.2044], ['Novels', 0.2041], ['Blacklight', 0.204], ['Songs', 0.2039], ['Traditional stories', 0.2038], ['Fiction', 0.2036], ['Recorded music', 0.2021], ['Creative works', 0.2016], ['American television episodes', 0.2013], ['Television series', 0.2013], ['Creative works', 0.2003], ['Recorded music', 0.1992], ['Literature', 0.199], ['Television episodes', 0.1984], ['Television franchises', 0.1979], ['Fiction', 0.1976], ['Health sciences', 0.1968], ['Religious belief and doctrine', 0.1964], ['Drama', 0.1953], ['Music', 0.1953], ['Speculative fiction', 0.1938], ['Recorded music', 0.1937], ['Novel series', 0.1933], ['Gaming devices', 0.1929], ['Popular music', 0.1921], ['Albums', 0.1915], ['Traditional stories', 0.19], ['Religion', 0.19], ['Appetite', 0.19], ['Creative works', 0.1898], ['Culture', 0.1885], ['Ephemera', 0.1881], ['Drama', 0.1881], ['Fiction', 0.1877], ['Culture', 0.1847], ['Fiction', 0.1831], ['Mythology', 0.1821], ['Literature', 0.1817], ['Ships', 0.1808], ['Creative works', 0.1807], ['Games of mental skill', 0.1805], ['Creative works', 0.1799], ['Tide', 0.1796], ['Hocus pocus (magic)', 0.1793], ['Morphine', 0.1791], ['Human appearance', 0.1787], ['Recorded music', 0.1786], ['Television franchises', 0.1783], ['Entertainment', 0.1779], ['Fiction', 0.1759], ['Creative works', 0.1759], ['Creative works', 0.1754], ['Tabletop games', 0.1749], ['Novels', 0.1738], ['Creative works', 0.1736], ['Works', 0.1735], ['Television programs', 0.1734], ['Shacharit for Shabbat and Yom Tov', 0.1728], ['Entertainment', 0.1716], ['Speculative fiction', 0.1709], ['Novels', 0.1704], ['Medical specialties', 0.1701], ['Viking Age people', 0.1694], ['Literature', 0.1687], ['Culture', 0.1686], ['Culture', 0.1686], ['Speculative fiction', 0.1685], ['Toys', 0.1669], ['Literature', 0.1652], ['Fiction books', 0.1642], ['Speculative fiction', 0.1641], ['Culture', 0.1636], ['Drama', 0.1597], ['Works', 0.1596], ['Creative works', 0.1593], ['Fiction', 0.1593], ['Entertainment', 0.1592], ['Fiction', 0.1576], ['Elements of fiction', 0.1555], ['Human body', 0.1549], ['Drama', 0.1543], ['Drama', 0.1541], ['Zee TV television series', 0.1524], ['Books', 0.1502], ['Fiction books', 0.1484], ['Fantasy', 0.1474], ['Literature', 0.1472], ['Primates and humans', 0.1467], ['Cultural anthropology', 0.1442], ['Drama', 0.144], ['Monkeys', 0.1421], ['Zee Entertainment Enterprises', 0.1404], ['American styles of music', 0.1389], ['Novels', 0.1382], ['Recorded music', 0.1377], ['Albums', 0.1367], ['Criminal law', 0.1322], ['Religious belief and doctrine', 0.1303], ['Religious belief and doctrine', 0.1295], ['Culture', 0.1278], ['Novels', 0.1273], ['American television episodes', 0.1269], ['Religion', 0.1268], ['United States', 0.1268], ['Literature', 0.1259], ['Politics', 0.1238], ['African-American music', 0.1231], ['Literature', 0.123], ['Television series', 0.1159], ['Theology', 0.1139], ['Mouth', 0.1121], ['Clinical medicine', 0.1091], ['Speculative fiction', 0.109], ['Entertainment', 0.1078], ['Novels', 0.1069], ['Primate taxonomy', 0.1038], ['Literature', 0.1028], ['Fictional locations', 0.1025], ['Recorded music', 0.1015], ['Recorded music', 0.09885], ['Dentistry', 0.09868], ['Metaphysics of religion', 0.09352], ['Human communication', 0.09154], ['Elements of fiction', 0.09063], ['Dentistry procedures', 0.09026], ['Novels', 0.08635], ['Afterlife', 0.08051], ['Entertainment', 0.08016], ['Mythology', 0.06814], ['Drama', 0.06753], ['Mythological cosmologies', 0.06546], ['Poetry', 0.06393], ['Culture', 0.05738], ['The Sun (United Kingdom)', 0.05684], ['Popular music', 0.05336], ['Cognitive science', 0.0528], ['American television episodes', 0.05059]]\n"
     ]
    }
   ],
   "source": [
    "TopTopics = []\n",
    "for i in df['topic']:\n",
    "    for L in eval(i):\n",
    "        for key,value in L.items():\n",
    "            TopTopics.append([key,value])\n",
    "            \n",
    "#print(TopTopics)\n",
    "\n",
    "import operator\n",
    "\n",
    "li = sorted(TopTopics, key=operator.itemgetter(1), reverse = True)   # Ascending order\n",
    "\n",
    "print(li)\n",
    "\n",
    "#reverse\n",
    "#sorted(li, key=operator.itemgetter(1), reverse=True)  # Reverse Sort"
   ]
  },
  {
   "cell_type": "code",
   "execution_count": 43,
   "metadata": {},
   "outputs": [
    {
     "data": {
      "text/plain": [
       "{'Computer': 5, 'Jake': 2, 'Test': 6}"
      ]
     },
     "execution_count": 43,
     "metadata": {},
     "output_type": "execute_result"
    }
   ],
   "source": [
    "# Test out the top_entity function\n",
    "dict_test = [{'Test': 6, 'Jake': 2, 'Computer': 5}, {'Pizza': 3, 'Jake': 5, 'Cat': 1}, {'John': 2, 'Jeff': 1}]\n",
    "dict_test[0]"
   ]
  },
  {
   "cell_type": "code",
   "execution_count": 44,
   "metadata": {},
   "outputs": [
    {
     "data": {
      "text/plain": [
       "['Jake', 'Test', 'Computer', 'Pizza', 'John']"
      ]
     },
     "execution_count": 44,
     "metadata": {},
     "output_type": "execute_result"
    }
   ],
   "source": [
    "summed_dict = collections.Counter()\n",
    "for d in dict_test: \n",
    "    summed_dict.update(d)\n",
    "low_to_high = sorted(summed_dict, key=summed_dict.__getitem__)[-5:]\n",
    "top_five_entities = low_to_high[::-1]\n",
    "top_five_entities"
   ]
  },
  {
   "cell_type": "markdown",
   "metadata": {},
   "source": [
    "# Use Cases"
   ]
  },
  {
   "cell_type": "markdown",
   "metadata": {},
   "source": [
    "## Define User Interface"
   ]
  },
  {
   "cell_type": "code",
   "execution_count": 26,
   "metadata": {
    "collapsed": true
   },
   "outputs": [],
   "source": [
    "# Here we define the user interface function the includes all the filters created above \n",
    "\n",
    "def UserInterface(df):\n",
    "    \n",
    "    print(\"In the following steps you will filter the song dataset on the following variables: \")\n",
    "    [print(i) for i in df.columns.values]\n",
    "    print(\"\")\n",
    "    \n",
    "    ####################\n",
    "    ###    ARTIST    ###\n",
    "    ####################\n",
    "    \n",
    "    unique_artists = list(df['artist'].unique())\n",
    "    print ('\\nArtist options: ', unique_artists)\n",
    "    artist_input = input('\\nPlease select your artists (or type * to select all): ')\n",
    "\n",
    "    if artist_input == '*':\n",
    "        artist_input = unique_artists\n",
    "    else:\n",
    "        artist_input = artist_input.split(', ')\n",
    "    \n",
    "    # Filtering for artist\n",
    "    df_filtered = df.loc[df['artist'].isin(artist_input)]\n",
    "    \n",
    "    ####################\n",
    "    ###     ALBUM    ###\n",
    "    ####################\n",
    "    \n",
    "    unique_albums = list(df_filtered['album'].unique())\n",
    "    print ('\\nAlbum options: ', unique_albums)\n",
    "    album_input = input('\\nPlease select your albums (or type * to select all): ')\n",
    "    \n",
    "    if album_input == '*':\n",
    "        album_input = unique_albums\n",
    "    else:\n",
    "        album_input = album_input.split(', ')\n",
    "    \n",
    "    df_filtered = df_filtered.loc[df_filtered['album'].isin(album_input)]\n",
    "    \n",
    "    ####################\n",
    "    ###   COUNTRY    ###\n",
    "    ####################\n",
    "    \n",
    "    unique_countries = list(df_filtered['home_country'].unique())\n",
    "    print ('\\nCountry options: ', unique_countries)\n",
    "    country_input = input('\\nPlease select your countries (or type * to select all): ')\n",
    "    \n",
    "    if country_input == '*':\n",
    "        country_input = unique_countries\n",
    "    else:\n",
    "        country_input = country_input.split(', ')\n",
    "    \n",
    "    df_filtered = df_filtered.loc[df_filtered['home_country'].isin(country_input)]\n",
    "    \n",
    "    ###################\n",
    "    ###    GENRE    ###\n",
    "    ###################\n",
    "\n",
    "    unflattened_genre_list = list(df_filtered['genre'])\n",
    "    unique_genres = set([item for sublist in unflattened_genre_list for item in sublist])\n",
    "    print ('\\nGenre options: '), unique_genres\n",
    "    \n",
    "    genre_input = input('\\nPlease select your genres (or type * to select all): ')\n",
    "    \n",
    "    if genre_input == '*':\n",
    "        genre_input = list(unique_genres)\n",
    "    else:\n",
    "        genre_input = genre_input.split(', ')\n",
    "    \n",
    "    df_filtered['genre_match'] = False\n",
    "    for count, each_row in enumerate(df_filtered['genre']):\n",
    "        for item in each_row:\n",
    "            if item in genre_input:\n",
    "                df_filtered['genre_match'].iloc[count] = True\n",
    "    df_filtered = df_filtered.loc[df_filtered['genre_match'] == True]\n",
    "    \n",
    "    \n",
    "    ####################\n",
    "    ### RELEASE YEAR ###\n",
    "    ####################\n",
    "    \n",
    "    print ('\\nRelease date options: \\n 1960-1969 \\n 1970-1979 \\n 1980-1989 \\n 1990-1999 \\n 2000-2009 \\n 2010-Present')\n",
    "    \n",
    "    release_input = input('\\nPlease select your release year (or type * to select all): ')\n",
    "    \n",
    "    release_year_list = []\n",
    "\n",
    "    if release_input == '*':\n",
    "        for elem in range (1960, 2018):\n",
    "            release_year_list.append(elem)\n",
    "    else:\n",
    "        release_input = release_input.split(', ')\n",
    "        for elem in release_input:\n",
    "            if '1960' in elem:\n",
    "                    for elem in range (1960, 1970):\n",
    "                        release_year_list.append(elem)\n",
    "            elif '1970' in elem:\n",
    "                    for elem in range (1970, 1980):\n",
    "                        release_year_list.append(elem)\n",
    "            elif '1980' in elem:\n",
    "                    for elem in range (1980, 1990):\n",
    "                        release_year_list.append(elem)\n",
    "            elif '1990' in elem:\n",
    "                    for elem in range (1990, 2000):\n",
    "                        release_year_list.append(elem)\n",
    "            elif '2000' in elem:\n",
    "                    for elem in range (2000, 2010):\n",
    "                        release_year_list.append(elem)\n",
    "            elif '2010' in elem:\n",
    "                    for elem in range (2010, 2018):\n",
    "                        release_year_list.append(elem)\n",
    "\n",
    "    release_input = release_year_list\n",
    "    \n",
    "    df_filtered = df_filtered.loc[df_filtered['released'].isin(release_input)]\n",
    "    \n",
    "    ##################\n",
    "    ### SINGER AGE ###\n",
    "    ##################\n",
    "    \n",
    "    print ('\\nSinger age options: \\n 10-19 \\n 20-29 \\n 30-39 \\n 40-49 \\n 50-59')\n",
    "    \n",
    "    age_input = input('\\nPlease select an age range for singers (or type * to select all): ')\n",
    "    \n",
    "    age_year_list = []\n",
    "\n",
    "    if age_input == '*':\n",
    "        for elem in range (10, 56):\n",
    "            age_year_list.append(elem)\n",
    "    else:\n",
    "        age_input = age_input.split(', ')\n",
    "        for elem in age_input:\n",
    "            if '10' in elem:\n",
    "                    for elem in range (10, 20):\n",
    "                        age_year_list.append(elem)\n",
    "            elif '20' in elem:\n",
    "                    for elem in range (20, 30):\n",
    "                        age_year_list.append(elem)\n",
    "            elif '30' in elem:\n",
    "                    for elem in range (30, 40):\n",
    "                        age_year_list.append(elem)\n",
    "            elif '40' in elem:\n",
    "                    for elem in range (40, 50):\n",
    "                        age_year_list.append(elem)\n",
    "            elif '50' in elem:\n",
    "                    for elem in range (50, 57):\n",
    "                        age_year_list.append(elem)\n",
    "\n",
    "    age_input = age_year_list\n",
    "    \n",
    "    df_filtered = df_filtered.loc[df_filtered['singer_age_at_release'].isin(age_input)]\n",
    "    \n",
    "    \n",
    "    #      ____        _               _   \n",
    "    #    / __ \\      | |             | |  \n",
    "    #   | |  | |_   _| |_ _ __  _   _| |_ \n",
    "    #   | |  | | | | | __| '_ \\| | | | __|\n",
    "    #   | |__| | |_| | |_| |_) | |_| | |_ \n",
    "    #    \\____/ \\__,_|\\__| .__/ \\__,_|\\__|\n",
    "    #                    | |              \n",
    "    #                    |_|              \n",
    "    \n",
    "    \n",
    "    print(\"\\n===================================================================\\n===================================================================\\n\")\n",
    "    \n",
    "    ## Print average sentiment of songs reslting from filtering ##\n",
    "    ####\n",
    "    \n",
    "    print ('The average sentiment of the songs resulting from your search is: ' + str(round(df_filtered['overall_sentiment'].mean(), 2)))\n",
    "    \n",
    "    print(\"\\n===================================================================\\n\")\n",
    "    \n",
    "    ## Return the Top 5 topics and their sentiment for the filtered songs\n",
    "    ####\n",
    "    \n",
    "    print('\\nThe top 5 most prevalent topics of the songs resulting from your search are:\\n')\n",
    "    \n",
    "    df_sentiment_copy = df_filtered.copy()\n",
    "    df_sentiment_copy = df_sentiment_copy.sort_values(by=['overall_sentiment'], axis=0, ascending=False)[:5]\n",
    "    df_sentiment_copy = df_sentiment_copy.reset_index()\n",
    "    \n",
    "    counter = 0\n",
    "    while counter < len(df_sentiment_copy['artist']):\n",
    "        print ('Song: \"' + (df_sentiment_copy['song'][counter]) + '\", Artist: ' + str((df_sentiment_copy['artist'][counter])) + ', '  \n",
    "        + 'Sentiment: ' + str((df_sentiment_copy['overall_sentiment'][counter])))  \n",
    "        print(\"\")\n",
    "        counter +=1\n",
    "    \n",
    "    return df_filtered\n",
    "\n"
   ]
  },
  {
   "cell_type": "markdown",
   "metadata": {},
   "source": [
    "## Run User Interface"
   ]
  },
  {
   "cell_type": "code",
   "execution_count": 35,
   "metadata": {},
   "outputs": [
    {
     "name": "stdout",
     "output_type": "stream",
     "text": [
      "In the following steps you will filter the song dataset on the following variables: \n",
      "ID\n",
      "artist\n",
      "song\n",
      "album\n",
      "released\n",
      "genre\n",
      "home_country\n",
      "singer_age_at_release\n",
      "entity\n",
      "topic\n",
      "Google_Entities\n",
      "overall_sentiment\n",
      "\n",
      "\n",
      "Artist options:  ['Aerosmith', 'Bruno Mars', 'Coldplay', 'Doors', 'Elton John', 'Elvis Presley', 'Grateful Dead', 'Jimi Hendrix', 'John Legend', 'Lady Gaga', 'Linkin Park', 'Maroon 5', 'Metallica', 'Michael Jackson', 'Nickelback', 'Outkast', 'Santana', 'Stevie Wonder', 'Weezer', 'Wu-Tang Clan']\n",
      "\n",
      "Please select your artists (or type * to select all): Aeromith, The Doors\n",
      "\n",
      "Album options:  []\n",
      "\n",
      "Please select your albums (or type * to select all): *\n",
      "\n",
      "Country options:  []\n",
      "\n",
      "Please select your countries (or type * to select all): *\n",
      "\n",
      "Genre options: \n",
      "\n",
      "Please select your genres (or type * to select all): *\n",
      "\n",
      "Release date options: \n",
      " 1960-1969 \n",
      " 1970-1979 \n",
      " 1980-1989 \n",
      " 1990-1999 \n",
      " 2000-2009 \n",
      " 2010-Present\n",
      "\n",
      "Please select your release year (or type * to select all): *\n",
      "\n",
      "Singer age options: \n",
      " 10-19 \n",
      " 20-29 \n",
      " 30-39 \n",
      " 40-49 \n",
      " 50-59\n",
      "\n",
      "Please select an age range for singers (or type * to select all): *\n",
      "\n",
      "===================================================================\n",
      "===================================================================\n",
      "\n",
      "The average sentiment of the songs resulting from your search is: nan\n",
      "\n",
      "===================================================================\n",
      "\n",
      "\n",
      "The top 5 most prevalent topics of the songs resulting from your search are:\n",
      "\n"
     ]
    }
   ],
   "source": [
    "# Test User Interface\n",
    "df_filtered = UserInterface(df)"
   ]
  },
  {
   "cell_type": "markdown",
   "metadata": {},
   "source": [
    "# Create Inverted Index"
   ]
  },
  {
   "cell_type": "code",
   "execution_count": 36,
   "metadata": {},
   "outputs": [
    {
     "name": "stdout",
     "output_type": "stream",
     "text": [
      "['Presley', 'Truth', 'Pick', 'Lord', 'Breakin', 'Kim', \"Janie's\", 'Peter', 'carrier', 'Snake', 'Morphine', '(islands)', 'Honda', 'I', 'Refrigerator', 'Hahaha', 'GZA', 'Street', 'Rube', 'Guitar', 'de', 'Hoe', 'Music', 'Belong', 'Petal', 'Bratwurst', 'Starch', 'Got', 'From', 'Lady', 'Charlie', 'Central', 'pageant', 'Stream', 'Ella', 'Pride', '68', 'gauntlet', 'Clan', 'Land', 'Brick', 'Take', 'Jean', 'Beauty', '3', 'Warlord', 'Mural', '40', 'Outkast', 'Dawn', 'butter', 'Living', 'Shade', 'rock', 'Fetus', '(landform)', 'Long', 'Sweetness', 'Sound', 'Disco', 'willin', 'String', 'Spoon', 'Hug', 'Sword', 'Mars', 'Fruit', 'Honey', 'Boarding', 'Rumble', 'Pillow', 'Bongo', 'Wanda', 'Time', 'Heine', 'Labellum', 'In', 'Dean', 'Bruno', 'Boi', 'Perfume', 'Know', 'Melody', '2017-12-01T00:00:00.000-05:00', 'Controlled-access', 'Method', 'Have', 'poker', 'Ohhh', 'Parchment', 'Déjà', 'Deck', 'wonder', 'Whoo', 'Was', 'Miss', 'Steven', 'Mail', 'Sachmo', '2', 'Miles', 'wire', 'Demon', 'slide', 'sins', 'Locket', 'Roller', 'Drums', 'Just', 'Legend', 'Michael', 'Vietnam', 'Breastfeeding', 'Altitude', 'You', 'Wine', '(botany)', 'Warrior', 'music', 'Canoe', 'Tipi', 'football)', 'Ship', 'spoon', 'United', 'Dough', 'Hip', 'Knife', 'Man', 'Ounce', 'Frantic', 'Hills,', 'congestion', 'or', 'Jr.', 'Raekwon', 'Hocus', 'Rock', '(music)', 'Liquor', 'Jimi', 'NME', 'Cocaine', 'Pocko', 'Blacklight', 'ball', 'an', 'Casey', '2017-12-09T00:00:00.000-05:00', 'perception', 'Elevator', 'Martin', 'Baghdad', 'SWAT', 'Soldier', 'saidI', 'Buddy', 'Bus', '2017-12-04T00:00:00.000-05:00', 'Prairie', 'Everything', 'Doodoo', 'Your', 'Photograph', 'Yin', 'Baby', 'Clampett', 'Delusion', 'Iron', 'Feet', 'Improvised', 'Silver', 'Heaven', 'Juice', 'cyclone', 'Fat', 'Jimmy', 'Bang', 'Red', 'Mind', 'Clam', 'Running', 'Corvette', 'Nigga', 'Dirty', 'My', 'Concubinage', 'Shotgun', 'space', 'Billie', 'Betting', 'Squaw', 'glass', 'Disease', 'Color', 'Sin', 'Show', 'Beggin', 'in', 'Lightning', 'Mirror', 'Duke', 'Toys', 'talk', 'mister', 'Chance', 'Gambling', 'Sunlight', 'Laughter', 'Rosey', 'Whoa', 'Heart', 'Albert', 'Water', 'beverage', 'Funeral', 'dare?', 'Miser', 'Sliding', 'Velvet', '2017-12-03T00:00:00.000-05:00', 'Diamond', 'Angel', 'Salt', '4', 'man', 'White', 'Oyster', 'powers', '90', 'Playboy', 'Cal', 'Gabriel', 'Fortune-telling', 'Big', 'Light', 'Jesus', 'Radio', 'Elvis', 'Israel', 't', 'Jerusalem', 'India', 'Autograph', 'Iroquois', 'Midnight', 'House', \"Fools'\", 'Town', 'Drivin', 'Defender', 'Powerful', 'Little', 'Choir', 'Bullet', 'Crosstown', 'Everybody', 'Searchlight', '1000000', 'Fuck', 'Curse', 'Whisky', 'Soul', 'Kings', 'Hell', 'Credit', 'God', 'Whatcha', 'Fire', 'Pearl', 'pocus', 'Life', 'Fence', 'Seven', 'Cher', 'Tryna', 'Crawling', 'Walkin', 'Barbed', 'Inspectah', 'yang', 'Luck', 'Substance', \"Ol'\", 'Calico', 'Gorilla', 'didn', 'Bunny', 'Gravity', 'Traffic', 'Are', 'Incense', 'Me', 'Dum', 'Wolf', 'Kids', 'Basie', 'Truckin', '(magic)', 'series)', '(firearms)', 'Axis', 'lee', 'Sky', '2018-04-04T00:00:00.000-04:00', 'Beer', 'Pyre', '20', 'Daddy', '100', '(TV', 'Dead', 'babe', 'wanna', 'Mountain', 'tree', 'Gun', 'Benzo', 'Claire', '(association', 'Day', 'Steering', 'Tide', 'deadly', '2018-02-01T00:00:00.000-05:00', 'Wicked', 'April', 'Flower', 'Romance', 'hop', 'Violin', 'New', '(stadium)', 'Aisha', 'chief', 'Icebox', 'Pineapple', 'Londie', 'Baseball', 'California', 'Geronimo', 'Punk', 'Sailing', 'Lottery', 'Sioux', 'Spit', 'Rapper', '(song)', 'highway', 'drum', 'Procuring', 'Massage', 'Moon', 'Karma', 'station', 'Girl', '10', 'identifier', 'States', 'Love', 'Chair', 'with', 'Riddler', 'school', 'Cadillac', 'Prophecy', 'Nickel', 'structure', '2018-06-24T00:00:00.000-04:00', 'Ooo', 'Cosby', 'Gettin', 'Orange', 'Bridge', 'Knot', 'Tire', 'Greed', 'Location', 'butter)', 'vu', 'Fix', 'Dog', 'Beach', 'Tsunami', 'Peanut', '(musical)', 'Mansion', 'Shield', 'Her', 'Gods', 'Destruction', 'Blues', 'Slate', 'Ninja', 'A', 'Lane', 'Airport', 'Trigger', 'Chicago', 'air', 'Jagger', 'Jif', '6', 'King', 'Company', 'Conversation', 'Dream', 'Missionary', 'skates', 'Purple', 'Wu-Tang', 'Uncle', 'Dimensions', 'Calliope', 'back', 'Pendulum', 'Wonder', 'Gong', 'Tomahawk', 'Crystal', '(prostitution)', 'Madly', 'Alibi', 'Kitchen,', 'Here', 'Drink', 'Clothing', 'Appetite', 'Pie', 'Toilet', 'Ready', 'Superman', 'Refrain', 'Car', 'bat', 'Conclusion', 'card', 'Cuz', 'The', 'to', 'Huxtible', 'Makin', 'Joey', 'Outer', 'Distilled', 'Sam', 'York', 'eye', 'Station', 'Seein', 'Monk', 'store', 'Ya!', 'the', 'Miller', 'Spades', 'and', 'Eternity', 'Dooooo', 'for', 'Vindaloo', 'Moses', 'paper', 'Thunder', 'like', 'Manhattan', 'Lip', 'sync', 'a', 'wheel', 'Saint', 'Monica', 'Hour', 'of', 'Bells', 'Nothing', 'Tribal', 'Eye', 'James', 'Bad', 'Lexus', 'Hemp', 'wine', 'Santa', 'Livin', 'Smile', 'Flood', 'Funk', '30', '1', 'Fallin', 'Darling', 'Nylon', 'Blond', 'Bastard', 'Fall', 'Clock', 'callI', 'Muscle', 'John', 'Rhyme', 'Switchman', 'Bill', 'Memphis,', 'Better', 'Buffalo,', 'Luther', 'Earth', 'Broadcasting', 'Bit', '(peanut', 'Dagger', 'door', \"Hell's\", 'Our', 'Snow', 'Song', 'rob', 'Lordy', 'Ringing', 'Firefly', 'Night', 'mmm', 'Dance', '(tool)', 'Guillotine', 'It', 'Poetry', 'Pond', 'Fleetwood', 'Happy', 'Tennessee', 'Devil', 'When', 'Hey', 'Beverly', 'Moves', 'Buckie', 'Vikings', 'Chesay', 'dependence', 'Pocketknife', 'Paddle', '2018-05-01T00:00:00.000-04:00', 'firearm', 'Tropical', 'Agent', 'Crawlin', 'Sayin', 'Skin', 'Visual', 'Door', 'Sir', '2018-10-01T00:00:00.000-04:00', 'Mmm', 'Tattoo', 'RZA', 'American', 'ship', 'Janie', 'Teeth', 'Jones', 'Right', 'Rain']\n",
      "['Presley', 'tools', 'Truth', 'Zee', 'compositions', 'Coast', 'originating', 'Peter', 'sciences', 'musical', 'Coasts', 'Morphine', 'Artificial', 'works', 'I', 'arts', 'Hooker', 'Refrigerator', 'hurricane', 'collectives', 'Catholic', 'Applied', 'Electropop', 'stories', 'Songwriter', 'Age', 'Politics', 'Albums', 'poetry', 'Kentucky', 'texts', 'Dance-pop', 'Songs', 'Novel', 'Vortices', 'Guitar', 'Atlantic', 'Yom', 'Chordophones', 'Rolling', 'Gaming', 'Music', 'Belong', 'materials', 'Consumer', 'episodes', 'singles', 'Middle', 'Jackson,', 'behaviour', 'Religion', 'Glass', 'form', 'From', 'Erosion', 'Lady', 'Railway', 'Traditions', 'Poems', 'programs', 'pageant', 'Pride', 'Philosophy', 'Clan', 'Melee', 'Land', 'Tattooing', 'Take', 'art', 'Jean', 'Astronomy', 'Weapons', 'Beauty', 'Fantasy', 'railroaders', 'Recorded', 'religions', 'Railroad', 'engineering', 'Dawn', 'Fictional', 'Living', 'rock', 'psychedelic', 'Sound', 'Disco', 'String', 'Funerals', 'Psychological', 'Spoon', 'Sword', 'Months', 'Alcoholic', 'Mars', 'articles', 'Honey', 'Boarding', 'East', 'Pillow', 'weapons', 'Equipment', 'Vocal', 'landforms', 'Bruno', 'In', 'philosophy', 'Number-one', 'Fiction', 'Perfume', 'Europe', 'videos', 'Controlled-access', 'Theology', 'Speculative', 'Was', 'fiction', 'Lee', 'Rituals', 'Card', 'Miles', 'Christian', 'sins', 'Roller', 'Just', 'Legend', 'People', 'You', 'Singles', 'Wine', 'music', 'Canoe', 'Crops', 'Metaphysics', 'County,', 'Ship', 'MTV', 'United', 'Hip', 'goods', 'Knife', 'Literature', 'Man', 'Native', 'Enterprises', 'Walls', 'Optical', 'Hocus', 'Rock', '(music)', 'NME', 'Cocaine', 'Blacklight', 'ball', 'attitude', 'Casey', 'perception', 'Elements', 'Transport', 'Epistemology', 'Buddy', 'Mythology', 'Bus', 'Meteorology', 'Your', 'Rail', 'Baby', 'conventions', 'religion', 'Heaven', 'from', 'cyclone', 'Ages', 'Clinical', 'Materials', 'aspects', 'about', 'Hindi-language', 'Clam', 'Mind', 'Jewish', 'synthpop', 'anthropology', 'mental', 'Weekly', 'industry', 'Shotgun', 'space', 'Billie', 'Electromagnetic', 'Mouth', 'Sin', 'taxonomy', 'Color', 'written', 'styles', 'Records', 'in', 'specialties', 'Mirror', 'Disasters', 'Toys', 'talk', 'blues', 'abuse', 'Gambling', 'percenters', 'Laughter', 'Acid', 'Heart', 'Alcohol', 'albums', 'Water', 'beverage', 'Funeral', 'Miser', 'Weather', 'series', 'care', 'peoples', 'Books', 'books', 'Christianity', 'hamartiology', 'modification', 'diaspora', 'Oyster', 'Afterlife', 'Playboy', 'objects', 'devices', 'physics', 'Fortune-telling', 'Tourism', 'Hand', 'members', 'franchises', 'Elvis', 'Israel', 'Jerusalem', 'Bivalves', 'Iroquois', 'Midnight', 'Grammy', 'ballads', 'Wire', 'Films', 'customs', 'cosmologies', 'cyclones', 'interdisciplinary', 'Dentistry', 'groups', 'Human', 'Health', 'British', 'prayer', 'Video', 'Choir', 'locations', 'Geffen', 'popular', 'Medieval', 'Performing', 'Cultural', 'hip', 'Monster', 'Hell', 'God', 'Pearl', 'pocus', 'Seven', 'Cher', 'Cutting', 'life', 'Indigenous', 'Luck', 'Substance', 'Viking', 'Gorilla', 'Hard', 'Gravity', 'Drama', 'Games', 'Film', 'events', 'attention', 'instruments', 'Tov', 'Me', 'needing', 'hard', 'Undertaking', '(magic)', 'Blade', 'Musical', 'Monkeys', 'safety', 'Pop', 'Sky', 'Primates', 'Hardware', 'doctrine', 'Ships', 'NASCAR', 'science', 'television', 'services', 'hazards', 'Culture', 'Traditional', 'Tide', 'deadly', 'Beaches', 'Romance', 'English', 'hop', 'New', 'Entertainment', 'directed', 'Baseball', 'Natural', 'Geronimo', 'theology', 'Creative', 'technology', 'Sioux', '(song)', 'appearance', 'radiation', 'highway', 'Fermented', 'songs', 'Award', 'Massage', 'Moon', 'Karma', 'Propositional', 'Death', 'States', 'Popular', 'Love', 'Chair', 'with', 'hurricanes', 'child', 'skill', 'TV', 'school', 'English-language', 'engineers', 'Medical', 'structure', 'Orange', 'Knot', 'Novels', 'disasters', 'Plains', 'Fix', 'Medicine', 'Knives', 'Shield', 'Her', 'Blues', 'Five', 'musicians', 'Ninja', 'doctrines', 'Philosophical', 'recordings', 'ethics', 'traditions,', 'Ephemera', 'Chicago', 'Body', 'communication', 'Cup', 'Jagger', 'Kingdom)', 'Hebrew', 'law', 'people', 'Dream', 'Missionary', 'skates', 'media', 'Purple', 'Wu-Tang', 'recording', 'Storm', 'Eric', 'Multilingual', 'Gaga', 'medicine', 'Pendulum', 'Cognitive', 'Religious', 'Crystal', 'Madly', 'calendar', 'reading', 'Here', 'Drink', 'Appetite', 'humans', 'belief', 'Superman', 'Great', 'Refrain', 'movements', 'bat', 'Denmark', 'The', 'Energy', 'Commemoration', 'prayers', 'African', 'applications', 'Outer', 'Distilled', 'York', 'depictions', 'Ya!', 'Sun', 'the', 'Primate', 'and', 'Criminal', 'readings', 'for', 'Coastal', 'Tabletop', 'geography', 'Shabbat', 'Playing', 'Thunder', 'Mythological', 'like', 'Year', 'Burdon', 'Series', 'faiths,', 'Horology', 'Aerosmith', 'Saint', 'Windstorms', 'Hour', 'of', 'Nothing', 'Eye', 'Bad', 'meteorology', 'Smile', 'Flood', 'procedures', 'Torah', 'body', 'drinks', 'Grief', 'Shacharit', 'Awards', 'Nylon', 'Sports', 'cards', 'Personal', 'Monotheistic', 'produced', 'Clock', 'America', 'metal', 'Grape', 'John', 'Television', 'Glam', 'Rhyme', 'transport', 'Earth', 'accidents', 'Song', 'Firefly', 'Early', 'forms', 'Dance', 'It', 'Poetry', 'Theoretical', 'African-American', 'rituals', 'Physical', 'games', 'Abrahamic', 'Tennessee', 'Devil', 'Optics', 'When', 'seasons', 'experience', 'Hey', 'Moves', 'chance', 'ritual', 'Vikings', 'dependence', 'Works', 'Arts', 'Machines', 'unknown', 'Tropical', 'Agent', 'Stones', 'Social', 'cycle', 'Visual', 'Door', 'attitudes', 'theories', 'RZA', 'Tattoo', 'death', '(mechanical)', 'Indian', 'American', 'Fences', 'Fulton', 'Jones', 'Contemporary', 'Tropics', 'Rain', 'North', '(United']\n",
      "['Presley', 'tools', 'Truth', 'Zee', 'compositions', 'Coast', 'originating', 'Peter', 'sciences', 'musical', 'Coasts', 'Morphine', 'Artificial', 'works', 'I', 'arts', 'Hooker', 'Refrigerator', 'hurricane', 'collectives', 'Catholic', 'Applied', 'Electropop', 'stories', 'Songwriter', 'Age', 'Politics', 'Albums', 'poetry', 'Kentucky', 'texts', 'Dance-pop', 'Songs', 'Novel', 'Vortices', 'Guitar', 'Atlantic', 'Yom', 'Chordophones', 'Rolling', 'Gaming', 'Music', 'Belong', 'materials', 'Consumer', 'episodes', 'singles', 'Middle', 'Jackson,', 'behaviour', 'Religion', 'Glass', 'form', 'From', 'Erosion', 'Lady', 'Railway', 'Traditions', 'Poems', 'programs', 'pageant', 'Pride', 'Philosophy', 'Clan', 'Melee', 'Land', 'Tattooing', 'Take', 'art', 'Jean', 'Astronomy', 'Weapons', 'Beauty', 'Fantasy', 'railroaders', 'Recorded', 'religions', 'Railroad', 'engineering', 'Dawn', 'Fictional', 'Living', 'rock', 'psychedelic', 'Sound', 'Disco', 'String', 'Funerals', 'Psychological', 'Spoon', 'Sword', 'Months', 'Alcoholic', 'Mars', 'articles', 'Honey', 'Boarding', 'East', 'Pillow', 'weapons', 'Equipment', 'Vocal', 'landforms', 'Bruno', 'In', 'philosophy', 'Number-one', 'Fiction', 'Perfume', 'Europe', 'videos', 'Controlled-access', 'Theology', 'Speculative', 'Was', 'fiction', 'Lee', 'Rituals', 'Card', 'Miles', 'Christian', 'sins', 'Roller', 'Just', 'Legend', 'People', 'You', 'Singles', 'Wine', 'music', 'Canoe', 'Crops', 'Metaphysics', 'County,', 'Ship', 'MTV', 'United', 'Hip', 'goods', 'Knife', 'Literature', 'Man', 'Native', 'Enterprises', 'Walls', 'Optical', 'Hocus', 'Rock', '(music)', 'NME', 'Cocaine', 'Blacklight', 'ball', 'attitude', 'Casey', 'perception', 'Elements', 'Transport', 'Epistemology', 'Buddy', 'Mythology', 'Bus', 'Meteorology', 'Your', 'Rail', 'Baby', 'conventions', 'religion', 'Heaven', 'from', 'cyclone', 'Ages', 'Clinical', 'Materials', 'aspects', 'about', 'Hindi-language', 'Clam', 'Mind', 'Jewish', 'synthpop', 'anthropology', 'mental', 'Weekly', 'industry', 'Shotgun', 'space', 'Billie', 'Electromagnetic', 'Mouth', 'Sin', 'taxonomy', 'Color', 'written', 'styles', 'Records', 'in', 'specialties', 'Mirror', 'Disasters', 'Toys', 'talk', 'blues', 'abuse', 'Gambling', 'percenters', 'Laughter', 'Acid', 'Heart', 'Alcohol', 'albums', 'Water', 'beverage', 'Funeral', 'Miser', 'Weather', 'series', 'care', 'peoples', 'Books', 'books', 'Christianity', 'hamartiology', 'modification', 'diaspora', 'Oyster', 'Afterlife', 'Playboy', 'objects', 'devices', 'physics', 'Fortune-telling', 'Tourism', 'Hand', 'members', 'franchises', 'Elvis', 'Israel', 'Jerusalem', 'Bivalves', 'Iroquois', 'Midnight', 'Grammy', 'ballads', 'Wire', 'Films', 'customs', 'cosmologies', 'cyclones', 'interdisciplinary', 'Dentistry', 'groups', 'Human', 'Health', 'British', 'prayer', 'Video', 'Choir', 'locations', 'Geffen', 'popular', 'Medieval', 'Performing', 'Cultural', 'hip', 'Monster', 'Hell', 'God', 'Pearl', 'pocus', 'Seven', 'Cher', 'Cutting', 'life', 'Indigenous', 'Luck', 'Substance', 'Gorilla', 'Viking', 'Gravity', 'Hard', 'Drama', 'Games', 'Film', 'events', 'attention', 'instruments', 'Tov', 'Me', 'needing', 'hard', 'Undertaking', 'Musical', 'Blade', '(magic)', 'Monkeys', 'safety', 'Pop', 'Sky', 'Primates', 'Hardware', 'doctrine', 'Ships', 'NASCAR', 'science', 'television', 'services', 'hazards', 'Culture', 'Traditional', 'Tide', 'deadly', 'Beaches', 'Romance', 'English', 'hop', 'New', 'Entertainment', 'directed', 'Baseball', 'Natural', 'Geronimo', 'theology', 'Creative', 'technology', 'Sioux', '(song)', 'appearance', 'radiation', 'Fermented', 'songs', 'highway', 'Award', 'Massage', 'Moon', 'Karma', 'Propositional', 'Death', 'States', 'Popular', 'Love', 'Chair', 'with', 'hurricanes', 'child', 'skill', 'TV', 'school', 'English-language', 'engineers', 'Medical', 'structure', 'Orange', 'Knot', 'Novels', 'disasters', 'Plains', 'Fix', 'Medicine', 'Knives', 'Shield', 'Her', 'Blues', 'Five', 'musicians', 'Ninja', 'doctrines', 'Philosophical', 'recordings', 'ethics', '(United', 'traditions,', 'Ephemera', 'Chicago', 'Body', 'communication', 'Cup', 'Jagger', 'Kingdom)', 'Hebrew', 'law', 'people', 'Dream', 'Missionary', 'skates', 'media', 'Purple', 'Wu-Tang', 'recording', 'Storm', 'Eric', 'Multilingual', 'Gaga', 'medicine', 'Pendulum', 'Cognitive', 'Religious', 'Crystal', 'Madly', 'calendar', 'reading', 'Here', 'Drink', 'Appetite', 'humans', 'belief', 'Superman', 'Great', 'Refrain', 'movements', 'bat', 'Denmark', 'The', 'Energy', 'Commemoration', 'prayers', 'African', 'applications', 'Outer', 'Distilled', 'York', 'depictions', 'Ya!', 'Sun', 'the', 'Primate', 'and', 'Criminal', 'readings', 'for', 'Coastal', 'Tabletop', 'geography', 'Shabbat', 'Playing', 'Thunder', 'Mythological', 'like', 'Year', 'Burdon', 'Series', 'faiths,', 'Horology', 'Aerosmith', 'Saint', 'Windstorms', 'Hour', 'of', 'Nothing', 'Eye', 'Bad', 'meteorology', 'Smile', 'Flood', 'procedures', 'Torah', 'body', 'drinks', 'Grief', 'Shacharit', 'Awards', 'Nylon', 'Sports', 'cards', 'Personal', 'Monotheistic', 'produced', 'Clock', 'America', 'metal', 'Grape', 'John', 'Television', 'Glam', 'Rhyme', 'transport', 'Earth', 'accidents', 'Song', 'Firefly', 'Early', 'forms', 'Dance', 'It', 'Poetry', 'Theoretical', 'African-American', 'rituals', 'Physical', 'games', 'Abrahamic', 'Tennessee', 'Devil', 'Optics', 'When', 'seasons', 'experience', 'Hey', 'Moves', 'chance', 'ritual', 'Vikings', 'dependence', 'Works', 'Arts', 'Machines', 'unknown', 'Tropical', 'Agent', 'Social', 'cycle', 'Visual', 'Door', 'attitudes', 'theories', 'RZA', 'Tattoo', 'death', '(mechanical)', 'Indian', 'American', 'Fences', 'Fulton', 'Jones', 'Contemporary', 'Tropics', 'Rain', 'North', 'Stones']\n"
     ]
    }
   ],
   "source": [
    "# Create vocabularies of individual columns 'entity','topic' and 'Google_Entity' \n",
    "# to be used in the vocabulary train for the inverted index\n",
    "\n",
    "# Create vocabulary for 'entity'\n",
    "\n",
    "entity_vocabulary = []\n",
    "\n",
    "for i in range(len(df['entity'])):\n",
    "    \n",
    "    if df['entity'][i] != '':\n",
    "        test = eval(df['entity'][i])\n",
    "        for j in test:\n",
    "            for key,value in j.items():\n",
    "                temp = key.split(' ')\n",
    "                for item in temp:\n",
    "                    entity_vocabulary.append(item)\n",
    "\n",
    "entity_vocabulary = list(set(entity_vocabulary))\n",
    "print(list(set(entity_vocabulary)))\n",
    "\n",
    "\n",
    "# Create vocabulary for 'topic'\n",
    "\n",
    "topic_vocabulary = []\n",
    "\n",
    "for i in range(len(df['topic'])):\n",
    "    test = eval(df['topic'][i])\n",
    "    for j in test:\n",
    "        for key,value in j.items():\n",
    "            temp = key.split(' ')\n",
    "            for item in temp:\n",
    "                topic_vocabulary.append(item)\n",
    "\n",
    "topic_vocabulary = list(set(topic_vocabulary))\n",
    "print(list(set(topic_vocabulary)))\n",
    "        \n",
    "\n",
    "# Create vocabulary for 'Google_Entities'\n",
    "\n",
    "google_entity_vocabulary = []\n",
    "\n",
    "for i in range(len(df['topic'])):\n",
    "    test = eval(df['topic'][i])\n",
    "    for j in test:\n",
    "        for key,value in j.items():\n",
    "            temp = key.split(' ')\n",
    "            for item in temp:\n",
    "                google_entity_vocabulary.append(item)\n",
    "\n",
    "google_entity_vocabulary = list(set(google_entity_vocabulary))\n",
    "print(google_entity_vocabulary)"
   ]
  },
  {
   "cell_type": "code",
   "execution_count": 37,
   "metadata": {
    "collapsed": true
   },
   "outputs": [],
   "source": [
    "# Create vocabulary train by merging the individual column vocabularies\n",
    "\n",
    "vocabulary_train = entity_vocabulary + topic_vocabulary + google_entity_vocabulary\n",
    "vocabulary_train = list(set(vocabulary_train))"
   ]
  },
  {
   "cell_type": "code",
   "execution_count": 38,
   "metadata": {
    "collapsed": true
   },
   "outputs": [],
   "source": [
    "# Create inverted index to query song entities\n",
    "\n",
    "def makeInvertedIndex(df,voctrain):\n",
    "       \n",
    "    InvertInd = {}\n",
    "    \n",
    "    for word in voctrain:\n",
    "        InvertInd[word] = []\n",
    "    \n",
    "\n",
    "    for j in voctrain:\n",
    "        for ind, val in enumerate(df['topic']):\n",
    "            if df['topic'][ind] != '':\n",
    "                evalue = eval(val) \n",
    "                #print(evalue)\n",
    "                for dual in evalue:\n",
    "                    for key,value in dual.items():\n",
    "                        keySplit = key.split(' ')\n",
    "                        for kS in keySplit:\n",
    "                            if j == kS:\n",
    "                                InvertInd[j].append(ind)\n",
    "    \n",
    "        \n",
    "    for j in voctrain:\n",
    "        for ind, val in enumerate(df['Google_Entities']):\n",
    "            if df['Google_Entities'][ind] != '':\n",
    "                evalue = eval(val) \n",
    "                for dual in evalue:\n",
    "                    for key,value in dual.items():\n",
    "                        keySplit = key.split(' ')\n",
    "                        for kS in keySplit:\n",
    "                            if j == kS:\n",
    "                                InvertInd[j].append(ind)  \n",
    "    \n",
    "\n",
    "    for j in voctrain:\n",
    "        for ind, val in enumerate(df['entity']):\n",
    "            if df['entity'][ind] != '':\n",
    "                evalue = eval(val) \n",
    "                for dual in evalue:\n",
    "                    for key,value in dual.items():\n",
    "                        keySplit = key.split(' ')\n",
    "                        for kS in keySplit:\n",
    "                            if j == kS:\n",
    "                                InvertInd[j].append(ind)\n",
    "             \n",
    "        \n",
    "        \n",
    "    return InvertInd          \n"
   ]
  },
  {
   "cell_type": "code",
   "execution_count": 39,
   "metadata": {
    "collapsed": true
   },
   "outputs": [],
   "source": [
    "# Store inverted index in a variable\n",
    "\n",
    "invertind = makeInvertedIndex(df,vocabulary_train)"
   ]
  },
  {
   "cell_type": "markdown",
   "metadata": {},
   "source": [
    "## Create OR search query"
   ]
  },
  {
   "cell_type": "code",
   "execution_count": 40,
   "metadata": {
    "collapsed": true
   },
   "outputs": [],
   "source": [
    "def orSearch(invertedIndex, query, df):\n",
    "    \n",
    "    results = []\n",
    "    \n",
    "    print(\"Query is:\",query,\"\\n\")\n",
    "    \n",
    "    for ask in query:\n",
    "        print(\"Check for:\",ask)\n",
    "        if ask in invertedIndex:\n",
    "            word = invertedIndex[ask]\n",
    "            print(\"Found...\\n\")\n",
    "            for res in word:\n",
    "                #print(res)\n",
    "                if res not in results:\n",
    "                    results.append(res)\n",
    "        else:\n",
    "            print(\"Not found...\\n\")\n",
    "        \n",
    "    for i in results:\n",
    "        print(df['song'].iloc[i],\" by \", df['artist'].iloc[i])\n",
    "    #print(\"Results: \",results)\n",
    "    "
   ]
  },
  {
   "cell_type": "markdown",
   "metadata": {},
   "source": [
    "## Run OR Search Query"
   ]
  },
  {
   "cell_type": "code",
   "execution_count": 37,
   "metadata": {},
   "outputs": [
    {
     "name": "stdout",
     "output_type": "stream",
     "text": [
      "Query is: ['Pond', 'Canoe'] \n",
      "\n",
      "Check for: Pond\n",
      "Found...\n",
      "\n",
      "Check for: Canoe\n",
      "Found...\n",
      "\n",
      "Everybody Get Dangerous  by  Weezer\n",
      "Cosmic Charlie  by  Grateful Dead\n"
     ]
    }
   ],
   "source": [
    "orSearch(invertind,['Pond','Canoe'],df)"
   ]
  },
  {
   "cell_type": "markdown",
   "metadata": {
    "collapsed": true
   },
   "source": [
    "## Creat AND Search Query"
   ]
  },
  {
   "cell_type": "code",
   "execution_count": 46,
   "metadata": {
    "collapsed": true
   },
   "outputs": [],
   "source": [
    "def andSearch(invertedIndex, query, df):\n",
    "    \n",
    "    results = {}\n",
    "    resultCheck = []\n",
    "    \n",
    "    for ask in query:\n",
    "        results[ask] = []\n",
    "    \n",
    "    print(\"Query is:\",query,\"\\n\")\n",
    "    \n",
    "    Match = False\n",
    "    \n",
    "    for ask in query:\n",
    "        print(\"Check for:\",ask,\"...\")\n",
    "        if ask in invertedIndex:\n",
    "            word = invertedIndex[ask]\n",
    "            print(\"Found\\n\")\n",
    "            for res in word:\n",
    "                results[ask].append(res)\n",
    "                if res not in resultCheck:\n",
    "                    resultCheck.append(res)\n",
    "        else:\n",
    "            print(\"Not found\\n\")\n",
    "    \n",
    "    print(\"Results: \",results)\n",
    "    \n",
    "    Matches = []\n",
    "    \n",
    "    for check in resultCheck:\n",
    "        Check = True\n",
    "        for key,value in results.items():\n",
    "            if check in value:\n",
    "                Check = Check and True\n",
    "            else:\n",
    "                Check = Check and False\n",
    "        if Check == True:\n",
    "            Matches.append(check)\n",
    "    \n",
    "    Matches = set (Matches)\n",
    "    print('\\n===================================\\n')\n",
    "    print(\"Common matches:\",Matches,\"\\n\")\n",
    "    \n",
    "    for num in Matches:\n",
    "        print(\"Found in title: \",df.iloc[num][2], \" by \", df.iloc[num][1])"
   ]
  },
  {
   "cell_type": "markdown",
   "metadata": {},
   "source": [
    "## Run AND search query"
   ]
  },
  {
   "cell_type": "code",
   "execution_count": 47,
   "metadata": {},
   "outputs": [
    {
     "name": "stdout",
     "output_type": "stream",
     "text": [
      "Query is: ['God', 'life'] \n",
      "\n",
      "Check for: God ...\n",
      "Found\n",
      "\n",
      "Check for: life ...\n",
      "Found\n",
      "\n",
      "Results:  {'God': [58, 108, 2, 58, 89, 90, 94, 108, 4, 50, 58, 89, 90, 108, 122], 'life': [4, 89, 3, 3, 7, 12, 26, 43, 43, 50, 56, 56, 57, 58, 61, 62, 69, 79, 81, 81, 83, 84, 84, 87, 88, 88, 88, 89, 89, 95, 97, 98, 104, 104, 106, 107, 108, 114, 114, 119, 119, 119]}\n",
      "\n",
      "===================================\n",
      "\n",
      "Common matches: {4, 108, 50, 89, 58} \n",
      "\n",
      "Found in title:  Eyesight To The Blind  by  Aerosmith\n",
      "Found in title:  Isn't She Lovely  by  Stevie Wonder\n",
      "Found in title:  Message Of Love  by  Jimi Hendrix\n",
      "Found in title:  Side Of A Bullet  by  Nickelback\n",
      "Found in title:  Show Me  by  John Legend\n"
     ]
    }
   ],
   "source": [
    "andSearch(invertind,['God','life'], df)\n",
    "\n",
    "# Wow remarkably many songs have 'God' and 'life' in them."
   ]
  },
  {
   "cell_type": "code",
   "execution_count": null,
   "metadata": {
    "collapsed": true
   },
   "outputs": [],
   "source": []
  }
 ],
 "metadata": {
  "kernelspec": {
   "display_name": "Python 3",
   "language": "python",
   "name": "python3"
  },
  "language_info": {
   "codemirror_mode": {
    "name": "ipython",
    "version": 3
   },
   "file_extension": ".py",
   "mimetype": "text/x-python",
   "name": "python",
   "nbconvert_exporter": "python",
   "pygments_lexer": "ipython3",
   "version": "3.6.1"
  }
 },
 "nbformat": 4,
 "nbformat_minor": 2
}
