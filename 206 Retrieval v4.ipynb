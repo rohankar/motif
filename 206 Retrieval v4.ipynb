{
 "cells": [
  {
   "cell_type": "code",
   "execution_count": 1,
   "metadata": {
    "collapsed": true
   },
   "outputs": [],
   "source": [
    "import pandas as pd\n",
    "import numpy as np\n",
    "import functools\n",
    "import collections\n",
    "pd.options.mode.chained_assignment = None"
   ]
  },
  {
   "cell_type": "code",
   "execution_count": 2,
   "metadata": {
    "collapsed": true
   },
   "outputs": [],
   "source": [
    "df = pd.read_excel('song_data2.xlsx')"
   ]
  },
  {
   "cell_type": "code",
   "execution_count": 3,
   "metadata": {},
   "outputs": [
    {
     "data": {
      "text/html": [
       "<div>\n",
       "<style scoped>\n",
       "    .dataframe tbody tr th:only-of-type {\n",
       "        vertical-align: middle;\n",
       "    }\n",
       "\n",
       "    .dataframe tbody tr th {\n",
       "        vertical-align: top;\n",
       "    }\n",
       "\n",
       "    .dataframe thead th {\n",
       "        text-align: right;\n",
       "    }\n",
       "</style>\n",
       "<table border=\"1\" class=\"dataframe\">\n",
       "  <thead>\n",
       "    <tr style=\"text-align: right;\">\n",
       "      <th></th>\n",
       "      <th>ID</th>\n",
       "      <th>artist</th>\n",
       "      <th>song</th>\n",
       "      <th>album</th>\n",
       "      <th>released</th>\n",
       "      <th>genre</th>\n",
       "      <th>home_country</th>\n",
       "      <th>singer_age_at_release</th>\n",
       "      <th>entity</th>\n",
       "      <th>topic</th>\n",
       "      <th>Google_Entities</th>\n",
       "      <th>overall_sentiment</th>\n",
       "    </tr>\n",
       "  </thead>\n",
       "  <tbody>\n",
       "    <tr>\n",
       "      <th>0</th>\n",
       "      <td>1</td>\n",
       "      <td>Aerosmith</td>\n",
       "      <td>Janie's Got A Gun</td>\n",
       "      <td>Pump</td>\n",
       "      <td>1989</td>\n",
       "      <td>Hard rock, Rock</td>\n",
       "      <td>United States</td>\n",
       "      <td>41</td>\n",
       "      <td>[{\"Janie's Got a Gun\": 0.2361}, {'Honey': 0.05...</td>\n",
       "      <td>[{'Songs written': 1}, {'Aerosmith songs': 1},...</td>\n",
       "      <td>[{'Janie': 0.62619865}, {'honey': 0.10297375},...</td>\n",
       "      <td>-0.7</td>\n",
       "    </tr>\n",
       "    <tr>\n",
       "      <th>1</th>\n",
       "      <td>2</td>\n",
       "      <td>Aerosmith</td>\n",
       "      <td>Magic Touch</td>\n",
       "      <td>Permanent Vacation</td>\n",
       "      <td>1987</td>\n",
       "      <td>Hard rock, Rock</td>\n",
       "      <td>United States</td>\n",
       "      <td>39</td>\n",
       "      <td>[{'Shotgun': 0.1503}, {'babe': 0}]</td>\n",
       "      <td>[{'Albums': 0.5973}, {'Recorded music': 0.5719...</td>\n",
       "      <td>[{'fire burnin': 0.20596175}, {'Cause': 0.0714...</td>\n",
       "      <td>-0.6</td>\n",
       "    </tr>\n",
       "    <tr>\n",
       "      <th>2</th>\n",
       "      <td>3</td>\n",
       "      <td>Aerosmith</td>\n",
       "      <td>Taste Of India</td>\n",
       "      <td>Nine Lives</td>\n",
       "      <td>1997</td>\n",
       "      <td>Hard rock</td>\n",
       "      <td>United States</td>\n",
       "      <td>49</td>\n",
       "      <td>[{'Incense': 0.2548}, {'Sweetness of wine': 0....</td>\n",
       "      <td>[{'Wine': 0.7881}, {'Recorded music': 0.7072},...</td>\n",
       "      <td>[{'kind': 0.3166986}, {'taste': 0.23181729}, {...</td>\n",
       "      <td>0.6</td>\n",
       "    </tr>\n",
       "  </tbody>\n",
       "</table>\n",
       "</div>"
      ],
      "text/plain": [
       "   ID     artist               song               album  released  \\\n",
       "0   1  Aerosmith  Janie's Got A Gun                Pump      1989   \n",
       "1   2  Aerosmith        Magic Touch  Permanent Vacation      1987   \n",
       "2   3  Aerosmith     Taste Of India          Nine Lives      1997   \n",
       "\n",
       "             genre   home_country  singer_age_at_release  \\\n",
       "0  Hard rock, Rock  United States                     41   \n",
       "1  Hard rock, Rock  United States                     39   \n",
       "2        Hard rock  United States                     49   \n",
       "\n",
       "                                              entity  \\\n",
       "0  [{\"Janie's Got a Gun\": 0.2361}, {'Honey': 0.05...   \n",
       "1                 [{'Shotgun': 0.1503}, {'babe': 0}]   \n",
       "2  [{'Incense': 0.2548}, {'Sweetness of wine': 0....   \n",
       "\n",
       "                                               topic  \\\n",
       "0  [{'Songs written': 1}, {'Aerosmith songs': 1},...   \n",
       "1  [{'Albums': 0.5973}, {'Recorded music': 0.5719...   \n",
       "2  [{'Wine': 0.7881}, {'Recorded music': 0.7072},...   \n",
       "\n",
       "                                     Google_Entities  overall_sentiment  \n",
       "0  [{'Janie': 0.62619865}, {'honey': 0.10297375},...               -0.7  \n",
       "1  [{'fire burnin': 0.20596175}, {'Cause': 0.0714...               -0.6  \n",
       "2  [{'kind': 0.3166986}, {'taste': 0.23181729}, {...                0.6  "
      ]
     },
     "execution_count": 3,
     "metadata": {},
     "output_type": "execute_result"
    }
   ],
   "source": [
    "df.head(3)"
   ]
  },
  {
   "cell_type": "code",
   "execution_count": 4,
   "metadata": {
    "collapsed": true
   },
   "outputs": [],
   "source": [
    "# Replace NaN values with empty strings\n",
    "\n",
    "df['entity'] = df['entity'].fillna('')\n",
    "df['Google_Entities'] = df['Google_Entities'].fillna('')"
   ]
  },
  {
   "cell_type": "code",
   "execution_count": 5,
   "metadata": {
    "collapsed": true
   },
   "outputs": [],
   "source": [
    "# Function to convert the genre value in each row to a list  \n",
    "def list_converter (value):\n",
    "    return value.split(', ') \n",
    "df['genre'] = df['genre'].apply(list_converter)"
   ]
  },
  {
   "cell_type": "code",
   "execution_count": 6,
   "metadata": {},
   "outputs": [
    {
     "data": {
      "text/html": [
       "<div>\n",
       "<style scoped>\n",
       "    .dataframe tbody tr th:only-of-type {\n",
       "        vertical-align: middle;\n",
       "    }\n",
       "\n",
       "    .dataframe tbody tr th {\n",
       "        vertical-align: top;\n",
       "    }\n",
       "\n",
       "    .dataframe thead th {\n",
       "        text-align: right;\n",
       "    }\n",
       "</style>\n",
       "<table border=\"1\" class=\"dataframe\">\n",
       "  <thead>\n",
       "    <tr style=\"text-align: right;\">\n",
       "      <th></th>\n",
       "      <th>ID</th>\n",
       "      <th>artist</th>\n",
       "      <th>song</th>\n",
       "      <th>album</th>\n",
       "      <th>released</th>\n",
       "      <th>genre</th>\n",
       "      <th>home_country</th>\n",
       "      <th>singer_age_at_release</th>\n",
       "      <th>entity</th>\n",
       "      <th>topic</th>\n",
       "      <th>Google_Entities</th>\n",
       "      <th>overall_sentiment</th>\n",
       "    </tr>\n",
       "  </thead>\n",
       "  <tbody>\n",
       "    <tr>\n",
       "      <th>0</th>\n",
       "      <td>1</td>\n",
       "      <td>Aerosmith</td>\n",
       "      <td>Janie's Got A Gun</td>\n",
       "      <td>Pump</td>\n",
       "      <td>1989</td>\n",
       "      <td>[Hard rock, Rock]</td>\n",
       "      <td>United States</td>\n",
       "      <td>41</td>\n",
       "      <td>[{\"Janie's Got a Gun\": 0.2361}, {'Honey': 0.05...</td>\n",
       "      <td>[{'Songs written': 1}, {'Aerosmith songs': 1},...</td>\n",
       "      <td>[{'Janie': 0.62619865}, {'honey': 0.10297375},...</td>\n",
       "      <td>-0.7</td>\n",
       "    </tr>\n",
       "    <tr>\n",
       "      <th>1</th>\n",
       "      <td>2</td>\n",
       "      <td>Aerosmith</td>\n",
       "      <td>Magic Touch</td>\n",
       "      <td>Permanent Vacation</td>\n",
       "      <td>1987</td>\n",
       "      <td>[Hard rock, Rock]</td>\n",
       "      <td>United States</td>\n",
       "      <td>39</td>\n",
       "      <td>[{'Shotgun': 0.1503}, {'babe': 0}]</td>\n",
       "      <td>[{'Albums': 0.5973}, {'Recorded music': 0.5719...</td>\n",
       "      <td>[{'fire burnin': 0.20596175}, {'Cause': 0.0714...</td>\n",
       "      <td>-0.6</td>\n",
       "    </tr>\n",
       "  </tbody>\n",
       "</table>\n",
       "</div>"
      ],
      "text/plain": [
       "   ID     artist               song               album  released  \\\n",
       "0   1  Aerosmith  Janie's Got A Gun                Pump      1989   \n",
       "1   2  Aerosmith        Magic Touch  Permanent Vacation      1987   \n",
       "\n",
       "               genre   home_country  singer_age_at_release  \\\n",
       "0  [Hard rock, Rock]  United States                     41   \n",
       "1  [Hard rock, Rock]  United States                     39   \n",
       "\n",
       "                                              entity  \\\n",
       "0  [{\"Janie's Got a Gun\": 0.2361}, {'Honey': 0.05...   \n",
       "1                 [{'Shotgun': 0.1503}, {'babe': 0}]   \n",
       "\n",
       "                                               topic  \\\n",
       "0  [{'Songs written': 1}, {'Aerosmith songs': 1},...   \n",
       "1  [{'Albums': 0.5973}, {'Recorded music': 0.5719...   \n",
       "\n",
       "                                     Google_Entities  overall_sentiment  \n",
       "0  [{'Janie': 0.62619865}, {'honey': 0.10297375},...               -0.7  \n",
       "1  [{'fire burnin': 0.20596175}, {'Cause': 0.0714...               -0.6  "
      ]
     },
     "execution_count": 6,
     "metadata": {},
     "output_type": "execute_result"
    }
   ],
   "source": [
    "df.head(2)"
   ]
  },
  {
   "cell_type": "code",
   "execution_count": 7,
   "metadata": {
    "collapsed": true
   },
   "outputs": [],
   "source": [
    "# Getting artist choices "
   ]
  },
  {
   "cell_type": "code",
   "execution_count": 8,
   "metadata": {},
   "outputs": [
    {
     "name": "stdout",
     "output_type": "stream",
     "text": [
      "Artist options: \n"
     ]
    },
    {
     "data": {
      "text/plain": [
       "(None,\n",
       " ['Aerosmith',\n",
       "  'Bruno Mars',\n",
       "  'Coldplay',\n",
       "  'Doors',\n",
       "  'Elton John',\n",
       "  'Elvis Presley',\n",
       "  'Grateful Dead',\n",
       "  'Jimi Hendrix',\n",
       "  'John Legend',\n",
       "  'Lady Gaga',\n",
       "  'Linkin Park',\n",
       "  'Maroon 5',\n",
       "  'Metallica',\n",
       "  'Michael Jackson',\n",
       "  'Nickelback',\n",
       "  'Outkast',\n",
       "  'Santana',\n",
       "  'Stevie Wonder',\n",
       "  'Weezer',\n",
       "  'Wu-Tang Clan'])"
      ]
     },
     "execution_count": 8,
     "metadata": {},
     "output_type": "execute_result"
    }
   ],
   "source": [
    "unique_artists = list(df['artist'].unique())\n",
    "print ('Artist options: '), unique_artists"
   ]
  },
  {
   "cell_type": "code",
   "execution_count": 9,
   "metadata": {},
   "outputs": [
    {
     "name": "stdout",
     "output_type": "stream",
     "text": [
      "Please select your artists (or type * to select all): Outkast, Aerosmith\n"
     ]
    }
   ],
   "source": [
    "artist_input = input('Please select your artists (or type * to select all): ')"
   ]
  },
  {
   "cell_type": "code",
   "execution_count": 10,
   "metadata": {
    "collapsed": true
   },
   "outputs": [],
   "source": [
    "if artist_input == '*':\n",
    "    artist_input = unique_artists\n",
    "else:\n",
    "    artist_input = artist_input.split(', ')"
   ]
  },
  {
   "cell_type": "code",
   "execution_count": 11,
   "metadata": {
    "collapsed": true
   },
   "outputs": [],
   "source": [
    "# First instance of filtering the dataset\n",
    "df_filtered = df.loc[df['artist'].isin(artist_input)]"
   ]
  },
  {
   "cell_type": "code",
   "execution_count": null,
   "metadata": {
    "collapsed": true
   },
   "outputs": [],
   "source": []
  },
  {
   "cell_type": "code",
   "execution_count": 12,
   "metadata": {},
   "outputs": [
    {
     "name": "stdout",
     "output_type": "stream",
     "text": [
      "Song options: \n"
     ]
    },
    {
     "data": {
      "text/plain": [
       "(None,\n",
       " [\"Janie's Got A Gun\",\n",
       "  'Magic Touch',\n",
       "  'Taste Of India',\n",
       "  'Dream On',\n",
       "  'Eyesight To The Blind',\n",
       "  'Falling Off',\n",
       "  'Jaded',\n",
       "  'Kings And Queens',\n",
       "  'Lightning Strikes',\n",
       "  'Decatur Psalm',\n",
       "  'Hey Ya',\n",
       "  'Knowing',\n",
       "  'Mutron Angel',\n",
       "  'Pink And Blue',\n",
       "  'True Dat'])"
      ]
     },
     "execution_count": 12,
     "metadata": {},
     "output_type": "execute_result"
    }
   ],
   "source": [
    "unique_songs = list(df_filtered['song'].unique())\n",
    "print ('Song options: '), unique_songs"
   ]
  },
  {
   "cell_type": "code",
   "execution_count": 13,
   "metadata": {},
   "outputs": [
    {
     "name": "stdout",
     "output_type": "stream",
     "text": [
      "Please select your songs (or type * to select all): *\n"
     ]
    }
   ],
   "source": [
    "# Getting song choices - include this?\n",
    "song_input = input('Please select your songs (or type * to select all): ')"
   ]
  },
  {
   "cell_type": "code",
   "execution_count": 14,
   "metadata": {
    "collapsed": true
   },
   "outputs": [],
   "source": [
    "if song_input == '*':\n",
    "    song_input = list(df['song'])\n",
    "else:\n",
    "    song_input = song_input.split(', ')"
   ]
  },
  {
   "cell_type": "code",
   "execution_count": 15,
   "metadata": {
    "collapsed": true
   },
   "outputs": [],
   "source": [
    "# Filtering again\n",
    "df_filtered = df_filtered.loc[df_filtered['song'].isin(song_input)]"
   ]
  },
  {
   "cell_type": "code",
   "execution_count": 16,
   "metadata": {},
   "outputs": [
    {
     "name": "stdout",
     "output_type": "stream",
     "text": [
      "Album options: \n"
     ]
    },
    {
     "data": {
      "text/plain": [
       "(None,\n",
       " ['Pump',\n",
       "  'Permanent Vacation',\n",
       "  'Nine Lives',\n",
       "  'Aerosmith',\n",
       "  \"Honkin' on Bobo\",\n",
       "  'Just Push Play',\n",
       "  'Draw the Line',\n",
       "  'Rock in a Hard Place',\n",
       "  'ATLiens',\n",
       "  'Speakerboxxx/The Love Below',\n",
       "  'Whild Peach',\n",
       "  'Southernplayalisticadillacmuzik'])"
      ]
     },
     "execution_count": 16,
     "metadata": {},
     "output_type": "execute_result"
    }
   ],
   "source": [
    "# Getting album choices\n",
    "unique_albums = list(df_filtered['album'].unique())\n",
    "print ('Album options: '), unique_albums"
   ]
  },
  {
   "cell_type": "code",
   "execution_count": 17,
   "metadata": {},
   "outputs": [
    {
     "name": "stdout",
     "output_type": "stream",
     "text": [
      "Please select your albums (or type * to select all): *\n"
     ]
    }
   ],
   "source": [
    "album_input = input('Please select your albums (or type * to select all): ')"
   ]
  },
  {
   "cell_type": "code",
   "execution_count": 18,
   "metadata": {
    "collapsed": true
   },
   "outputs": [],
   "source": [
    "if album_input == '*':\n",
    "    album_input = unique_albums\n",
    "else:\n",
    "    album_input = album_input.split(', ')"
   ]
  },
  {
   "cell_type": "code",
   "execution_count": 19,
   "metadata": {
    "collapsed": true
   },
   "outputs": [],
   "source": [
    "# Filtering the dataset again\n",
    "df_filtered = df_filtered.loc[df_filtered['album'].isin(album_input)]"
   ]
  },
  {
   "cell_type": "code",
   "execution_count": 20,
   "metadata": {},
   "outputs": [
    {
     "name": "stdout",
     "output_type": "stream",
     "text": [
      "Country options: \n"
     ]
    },
    {
     "data": {
      "text/plain": [
       "(None, ['United States'])"
      ]
     },
     "execution_count": 20,
     "metadata": {},
     "output_type": "execute_result"
    }
   ],
   "source": [
    "# Getting country choices\n",
    "unique_countries = list(df_filtered['home_country'].unique())\n",
    "print ('Country options: '), unique_countries"
   ]
  },
  {
   "cell_type": "code",
   "execution_count": 21,
   "metadata": {
    "scrolled": true
   },
   "outputs": [
    {
     "name": "stdout",
     "output_type": "stream",
     "text": [
      "Please select your countries (or type * to select all): *\n"
     ]
    }
   ],
   "source": [
    "country_input = input('Please select your countries (or type * to select all): ')"
   ]
  },
  {
   "cell_type": "code",
   "execution_count": 22,
   "metadata": {
    "collapsed": true
   },
   "outputs": [],
   "source": [
    "if country_input == '*':\n",
    "    country_input = unique_countries\n",
    "else:\n",
    "    country_input = country_input.split(', ')"
   ]
  },
  {
   "cell_type": "code",
   "execution_count": 23,
   "metadata": {
    "collapsed": true
   },
   "outputs": [],
   "source": [
    "# Filtering the dataset again\n",
    "df_filtered = df_filtered.loc[df_filtered['home_country'].isin(country_input)]"
   ]
  },
  {
   "cell_type": "code",
   "execution_count": 24,
   "metadata": {},
   "outputs": [
    {
     "name": "stdout",
     "output_type": "stream",
     "text": [
      "Genre options: \n"
     ]
    },
    {
     "data": {
      "text/plain": [
       "(None, {'Classic rock', 'Hard rock', 'Hip-hop/rap', 'Pop', 'Rock'})"
      ]
     },
     "execution_count": 24,
     "metadata": {},
     "output_type": "execute_result"
    }
   ],
   "source": [
    "# Getting genre choices - will update once we decide to only use 1 per song\n",
    "\n",
    "unflattened_genre_list = list(df_filtered['genre'])\n",
    "unique_genres = set([item for sublist in unflattened_genre_list for item in sublist])\n",
    "print ('Genre options: '), unique_genres"
   ]
  },
  {
   "cell_type": "code",
   "execution_count": 25,
   "metadata": {
    "scrolled": true
   },
   "outputs": [
    {
     "name": "stdout",
     "output_type": "stream",
     "text": [
      "Please select your genres (or type * to select all): *\n"
     ]
    }
   ],
   "source": [
    "genre_input = input('Please select your genres (or type * to select all): ')"
   ]
  },
  {
   "cell_type": "code",
   "execution_count": 26,
   "metadata": {
    "collapsed": true
   },
   "outputs": [],
   "source": [
    "if genre_input == '*':\n",
    "    genre_input = list(unique_genres)\n",
    "else:\n",
    "    genre_input = genre_input.split(', ')"
   ]
  },
  {
   "cell_type": "code",
   "execution_count": 27,
   "metadata": {
    "collapsed": true
   },
   "outputs": [],
   "source": [
    "# Filtering to rows that include the genres mentioned \n",
    "df_filtered['genre_match'] = False\n",
    "for count, each_row in enumerate(df_filtered['genre']):\n",
    "    for item in each_row:\n",
    "        if item in genre_input:\n",
    "            df_filtered['genre_match'].iloc[count] = True\n",
    "df_filtered = df_filtered.loc[df_filtered['genre_match'] == True]"
   ]
  },
  {
   "cell_type": "code",
   "execution_count": 28,
   "metadata": {},
   "outputs": [
    {
     "data": {
      "text/html": [
       "<div>\n",
       "<style scoped>\n",
       "    .dataframe tbody tr th:only-of-type {\n",
       "        vertical-align: middle;\n",
       "    }\n",
       "\n",
       "    .dataframe tbody tr th {\n",
       "        vertical-align: top;\n",
       "    }\n",
       "\n",
       "    .dataframe thead th {\n",
       "        text-align: right;\n",
       "    }\n",
       "</style>\n",
       "<table border=\"1\" class=\"dataframe\">\n",
       "  <thead>\n",
       "    <tr style=\"text-align: right;\">\n",
       "      <th></th>\n",
       "      <th>ID</th>\n",
       "      <th>artist</th>\n",
       "      <th>song</th>\n",
       "      <th>album</th>\n",
       "      <th>released</th>\n",
       "      <th>genre</th>\n",
       "      <th>home_country</th>\n",
       "      <th>singer_age_at_release</th>\n",
       "      <th>entity</th>\n",
       "      <th>topic</th>\n",
       "      <th>Google_Entities</th>\n",
       "      <th>overall_sentiment</th>\n",
       "      <th>genre_match</th>\n",
       "    </tr>\n",
       "  </thead>\n",
       "  <tbody>\n",
       "    <tr>\n",
       "      <th>0</th>\n",
       "      <td>1</td>\n",
       "      <td>Aerosmith</td>\n",
       "      <td>Janie's Got A Gun</td>\n",
       "      <td>Pump</td>\n",
       "      <td>1989</td>\n",
       "      <td>[Hard rock, Rock]</td>\n",
       "      <td>United States</td>\n",
       "      <td>41</td>\n",
       "      <td>[{\"Janie's Got a Gun\": 0.2361}, {'Honey': 0.05...</td>\n",
       "      <td>[{'Songs written': 1}, {'Aerosmith songs': 1},...</td>\n",
       "      <td>[{'Janie': 0.62619865}, {'honey': 0.10297375},...</td>\n",
       "      <td>-0.7</td>\n",
       "      <td>True</td>\n",
       "    </tr>\n",
       "    <tr>\n",
       "      <th>1</th>\n",
       "      <td>2</td>\n",
       "      <td>Aerosmith</td>\n",
       "      <td>Magic Touch</td>\n",
       "      <td>Permanent Vacation</td>\n",
       "      <td>1987</td>\n",
       "      <td>[Hard rock, Rock]</td>\n",
       "      <td>United States</td>\n",
       "      <td>39</td>\n",
       "      <td>[{'Shotgun': 0.1503}, {'babe': 0}]</td>\n",
       "      <td>[{'Albums': 0.5973}, {'Recorded music': 0.5719...</td>\n",
       "      <td>[{'fire burnin': 0.20596175}, {'Cause': 0.0714...</td>\n",
       "      <td>-0.6</td>\n",
       "      <td>True</td>\n",
       "    </tr>\n",
       "    <tr>\n",
       "      <th>2</th>\n",
       "      <td>3</td>\n",
       "      <td>Aerosmith</td>\n",
       "      <td>Taste Of India</td>\n",
       "      <td>Nine Lives</td>\n",
       "      <td>1997</td>\n",
       "      <td>[Hard rock]</td>\n",
       "      <td>United States</td>\n",
       "      <td>49</td>\n",
       "      <td>[{'Incense': 0.2548}, {'Sweetness of wine': 0....</td>\n",
       "      <td>[{'Wine': 0.7881}, {'Recorded music': 0.7072},...</td>\n",
       "      <td>[{'kind': 0.3166986}, {'taste': 0.23181729}, {...</td>\n",
       "      <td>0.6</td>\n",
       "      <td>True</td>\n",
       "    </tr>\n",
       "    <tr>\n",
       "      <th>3</th>\n",
       "      <td>4</td>\n",
       "      <td>Aerosmith</td>\n",
       "      <td>Dream On</td>\n",
       "      <td>Aerosmith</td>\n",
       "      <td>1973</td>\n",
       "      <td>[Classic rock, Rock]</td>\n",
       "      <td>United States</td>\n",
       "      <td>25</td>\n",
       "      <td>[{'Dawn': 0.2379}, {'Sin': 0.2023}, {'Laughter...</td>\n",
       "      <td>[{'Dawn': 0.3767}, {'Entertainment': 0.3653}, ...</td>\n",
       "      <td>[{'Lord': 0.2157075}, {'Everybody': 0.05828119...</td>\n",
       "      <td>0.0</td>\n",
       "      <td>True</td>\n",
       "    </tr>\n",
       "    <tr>\n",
       "      <th>4</th>\n",
       "      <td>5</td>\n",
       "      <td>Aerosmith</td>\n",
       "      <td>Eyesight To The Blind</td>\n",
       "      <td>Honkin' on Bobo</td>\n",
       "      <td>2004</td>\n",
       "      <td>[Hard rock, Rock]</td>\n",
       "      <td>United States</td>\n",
       "      <td>56</td>\n",
       "      <td>[{'God': 0.143}, {'Lordy': 0}, {'Lord': 0}]</td>\n",
       "      <td>[{'Shacharit for Shabbat and Yom Tov': 0.7511}...</td>\n",
       "      <td>[{'girl': 0.32739675}, {'woman': 0.21680547}, ...</td>\n",
       "      <td>0.2</td>\n",
       "      <td>True</td>\n",
       "    </tr>\n",
       "  </tbody>\n",
       "</table>\n",
       "</div>"
      ],
      "text/plain": [
       "   ID     artist                   song               album  released  \\\n",
       "0   1  Aerosmith      Janie's Got A Gun                Pump      1989   \n",
       "1   2  Aerosmith            Magic Touch  Permanent Vacation      1987   \n",
       "2   3  Aerosmith         Taste Of India          Nine Lives      1997   \n",
       "3   4  Aerosmith               Dream On           Aerosmith      1973   \n",
       "4   5  Aerosmith  Eyesight To The Blind     Honkin' on Bobo      2004   \n",
       "\n",
       "                  genre   home_country  singer_age_at_release  \\\n",
       "0     [Hard rock, Rock]  United States                     41   \n",
       "1     [Hard rock, Rock]  United States                     39   \n",
       "2           [Hard rock]  United States                     49   \n",
       "3  [Classic rock, Rock]  United States                     25   \n",
       "4     [Hard rock, Rock]  United States                     56   \n",
       "\n",
       "                                              entity  \\\n",
       "0  [{\"Janie's Got a Gun\": 0.2361}, {'Honey': 0.05...   \n",
       "1                 [{'Shotgun': 0.1503}, {'babe': 0}]   \n",
       "2  [{'Incense': 0.2548}, {'Sweetness of wine': 0....   \n",
       "3  [{'Dawn': 0.2379}, {'Sin': 0.2023}, {'Laughter...   \n",
       "4        [{'God': 0.143}, {'Lordy': 0}, {'Lord': 0}]   \n",
       "\n",
       "                                               topic  \\\n",
       "0  [{'Songs written': 1}, {'Aerosmith songs': 1},...   \n",
       "1  [{'Albums': 0.5973}, {'Recorded music': 0.5719...   \n",
       "2  [{'Wine': 0.7881}, {'Recorded music': 0.7072},...   \n",
       "3  [{'Dawn': 0.3767}, {'Entertainment': 0.3653}, ...   \n",
       "4  [{'Shacharit for Shabbat and Yom Tov': 0.7511}...   \n",
       "\n",
       "                                     Google_Entities  overall_sentiment  \\\n",
       "0  [{'Janie': 0.62619865}, {'honey': 0.10297375},...               -0.7   \n",
       "1  [{'fire burnin': 0.20596175}, {'Cause': 0.0714...               -0.6   \n",
       "2  [{'kind': 0.3166986}, {'taste': 0.23181729}, {...                0.6   \n",
       "3  [{'Lord': 0.2157075}, {'Everybody': 0.05828119...                0.0   \n",
       "4  [{'girl': 0.32739675}, {'woman': 0.21680547}, ...                0.2   \n",
       "\n",
       "   genre_match  \n",
       "0         True  \n",
       "1         True  \n",
       "2         True  \n",
       "3         True  \n",
       "4         True  "
      ]
     },
     "execution_count": 28,
     "metadata": {},
     "output_type": "execute_result"
    }
   ],
   "source": [
    "df_filtered.head()"
   ]
  },
  {
   "cell_type": "code",
   "execution_count": 29,
   "metadata": {
    "scrolled": true
   },
   "outputs": [
    {
     "name": "stdout",
     "output_type": "stream",
     "text": [
      "Release date options: \n",
      " 1960-1969 \n",
      " 1970-1979 \n",
      " 1980-1989 \n",
      " 1990-1999 \n",
      " 2000-2009 \n",
      " 2010-Present\n"
     ]
    }
   ],
   "source": [
    "print ('Release date options: \\n 1960-1969 \\n 1970-1979 \\n 1980-1989 \\n 1990-1999 \\n 2000-2009 \\n 2010-Present')"
   ]
  },
  {
   "cell_type": "code",
   "execution_count": 11,
   "metadata": {},
   "outputs": [
    {
     "name": "stdout",
     "output_type": "stream",
     "text": [
      "Please select your release year (or type * to select all): *\n"
     ]
    }
   ],
   "source": [
    "release_input = input('Please select your release year (or type * to select all): ')"
   ]
  },
  {
   "cell_type": "code",
   "execution_count": 12,
   "metadata": {
    "scrolled": true
   },
   "outputs": [
    {
     "data": {
      "text/plain": [
       "'*'"
      ]
     },
     "execution_count": 12,
     "metadata": {},
     "output_type": "execute_result"
    }
   ],
   "source": [
    "release_input"
   ]
  },
  {
   "cell_type": "code",
   "execution_count": 13,
   "metadata": {
    "collapsed": true
   },
   "outputs": [],
   "source": [
    "release_year_list = []\n",
    "\n",
    "if release_input == '*':\n",
    "    for elem in range (1960, 2018):\n",
    "        release_year_list.append(elem)\n",
    "else:\n",
    "    release_input = release_input.split(', ')\n",
    "    for elem in release_input:\n",
    "        if '1960' in elem:\n",
    "                for elem in range (1960, 1970):\n",
    "                    release_year_list.append(elem)\n",
    "        elif '1970' in elem:\n",
    "                for elem in range (1970, 1980):\n",
    "                    release_year_list.append(elem)\n",
    "        elif '1980' in elem:\n",
    "                for elem in range (1980, 1990):\n",
    "                    release_year_list.append(elem)\n",
    "        elif '1990' in elem:\n",
    "                for elem in range (1990, 2000):\n",
    "                    release_year_list.append(elem)\n",
    "        elif '2000' in elem:\n",
    "                for elem in range (2000, 2010):\n",
    "                    release_year_list.append(elem)\n",
    "        elif '2010' in elem:\n",
    "                for elem in range (2010, 2018):\n",
    "                    release_year_list.append(elem)\n",
    "                    \n",
    "release_input = release_year_list"
   ]
  },
  {
   "cell_type": "code",
   "execution_count": 14,
   "metadata": {},
   "outputs": [
    {
     "ename": "NameError",
     "evalue": "name 'df_filtered' is not defined",
     "output_type": "error",
     "traceback": [
      "\u001b[1;31m---------------------------------------------------------------------------\u001b[0m",
      "\u001b[1;31mNameError\u001b[0m                                 Traceback (most recent call last)",
      "\u001b[1;32m<ipython-input-14-5f1d29d8dbe8>\u001b[0m in \u001b[0;36m<module>\u001b[1;34m()\u001b[0m\n\u001b[0;32m      1\u001b[0m \u001b[1;31m# Filtering the dataset again\u001b[0m\u001b[1;33m\u001b[0m\u001b[1;33m\u001b[0m\u001b[0m\n\u001b[1;32m----> 2\u001b[1;33m \u001b[0mdf_filtered\u001b[0m \u001b[1;33m=\u001b[0m \u001b[0mdf_filtered\u001b[0m\u001b[1;33m.\u001b[0m\u001b[0mloc\u001b[0m\u001b[1;33m[\u001b[0m\u001b[0mdf_filtered\u001b[0m\u001b[1;33m[\u001b[0m\u001b[1;34m'released'\u001b[0m\u001b[1;33m]\u001b[0m\u001b[1;33m.\u001b[0m\u001b[0misin\u001b[0m\u001b[1;33m(\u001b[0m\u001b[0mrelease_input\u001b[0m\u001b[1;33m)\u001b[0m\u001b[1;33m]\u001b[0m\u001b[1;33m\u001b[0m\u001b[0m\n\u001b[0m",
      "\u001b[1;31mNameError\u001b[0m: name 'df_filtered' is not defined"
     ]
    }
   ],
   "source": [
    "# Filtering the dataset again\n",
    "df_filtered = df_filtered.loc[df_filtered['released'].isin(release_input)]"
   ]
  },
  {
   "cell_type": "code",
   "execution_count": 34,
   "metadata": {
    "collapsed": true
   },
   "outputs": [],
   "source": [
    "# Add ranges for how old the singer was at release"
   ]
  },
  {
   "cell_type": "code",
   "execution_count": 35,
   "metadata": {},
   "outputs": [
    {
     "name": "stdout",
     "output_type": "stream",
     "text": [
      "Singer age options: \n",
      " 10-19 \n",
      " 20-29 \n",
      " 30-39 \n",
      " 40-49 \n",
      " 50-59\n"
     ]
    }
   ],
   "source": [
    "print ('Singer age options: \\n 10-19 \\n 20-29 \\n 30-39 \\n 40-49 \\n 50-59')"
   ]
  },
  {
   "cell_type": "code",
   "execution_count": 36,
   "metadata": {},
   "outputs": [
    {
     "name": "stdout",
     "output_type": "stream",
     "text": [
      "Please select an age range for singers (or type * to select all): *\n"
     ]
    }
   ],
   "source": [
    "age_input = input('Please select an age range for singers (or type * to select all): ')"
   ]
  },
  {
   "cell_type": "code",
   "execution_count": 37,
   "metadata": {
    "collapsed": true
   },
   "outputs": [],
   "source": [
    "age_year_list = []\n",
    "\n",
    "if age_input == '*':\n",
    "    for elem in range (10, 56):\n",
    "        age_year_list.append(elem)\n",
    "else:\n",
    "    age_input = age_input.split(', ')\n",
    "    for elem in age_input:\n",
    "        if '10' in elem:\n",
    "                for elem in range (10, 20):\n",
    "                    age_year_list.append(elem)\n",
    "        elif '20' in elem:\n",
    "                for elem in range (20, 30):\n",
    "                    age_year_list.append(elem)\n",
    "        elif '30' in elem:\n",
    "                for elem in range (30, 40):\n",
    "                    age_year_list.append(elem)\n",
    "        elif '40' in elem:\n",
    "                for elem in range (40, 50):\n",
    "                    age_year_list.append(elem)\n",
    "        elif '50' in elem:\n",
    "                for elem in range (50, 57):\n",
    "                    age_year_list.append(elem)\n",
    "                    \n",
    "age_input = age_year_list"
   ]
  },
  {
   "cell_type": "code",
   "execution_count": 38,
   "metadata": {
    "collapsed": true
   },
   "outputs": [],
   "source": [
    "# Filtering the dataset again\n",
    "df_filtered = df_filtered.loc[df_filtered['singer_age_at_release'].isin(age_input)]"
   ]
  },
  {
   "cell_type": "code",
   "execution_count": 39,
   "metadata": {
    "scrolled": false
   },
   "outputs": [
    {
     "data": {
      "text/html": [
       "<div>\n",
       "<style scoped>\n",
       "    .dataframe tbody tr th:only-of-type {\n",
       "        vertical-align: middle;\n",
       "    }\n",
       "\n",
       "    .dataframe tbody tr th {\n",
       "        vertical-align: top;\n",
       "    }\n",
       "\n",
       "    .dataframe thead th {\n",
       "        text-align: right;\n",
       "    }\n",
       "</style>\n",
       "<table border=\"1\" class=\"dataframe\">\n",
       "  <thead>\n",
       "    <tr style=\"text-align: right;\">\n",
       "      <th></th>\n",
       "      <th>ID</th>\n",
       "      <th>artist</th>\n",
       "      <th>song</th>\n",
       "      <th>album</th>\n",
       "      <th>released</th>\n",
       "      <th>genre</th>\n",
       "      <th>home_country</th>\n",
       "      <th>singer_age_at_release</th>\n",
       "      <th>entity</th>\n",
       "      <th>topic</th>\n",
       "      <th>Google_Entities</th>\n",
       "      <th>overall_sentiment</th>\n",
       "      <th>genre_match</th>\n",
       "    </tr>\n",
       "  </thead>\n",
       "  <tbody>\n",
       "    <tr>\n",
       "      <th>0</th>\n",
       "      <td>1</td>\n",
       "      <td>Aerosmith</td>\n",
       "      <td>Janie's Got A Gun</td>\n",
       "      <td>Pump</td>\n",
       "      <td>1989</td>\n",
       "      <td>[Hard rock, Rock]</td>\n",
       "      <td>United States</td>\n",
       "      <td>41</td>\n",
       "      <td>[{\"Janie's Got a Gun\": 0.2361}, {'Honey': 0.05...</td>\n",
       "      <td>[{'Songs written': 1}, {'Aerosmith songs': 1},...</td>\n",
       "      <td>[{'Janie': 0.62619865}, {'honey': 0.10297375},...</td>\n",
       "      <td>-0.7</td>\n",
       "      <td>True</td>\n",
       "    </tr>\n",
       "    <tr>\n",
       "      <th>1</th>\n",
       "      <td>2</td>\n",
       "      <td>Aerosmith</td>\n",
       "      <td>Magic Touch</td>\n",
       "      <td>Permanent Vacation</td>\n",
       "      <td>1987</td>\n",
       "      <td>[Hard rock, Rock]</td>\n",
       "      <td>United States</td>\n",
       "      <td>39</td>\n",
       "      <td>[{'Shotgun': 0.1503}, {'babe': 0}]</td>\n",
       "      <td>[{'Albums': 0.5973}, {'Recorded music': 0.5719...</td>\n",
       "      <td>[{'fire burnin': 0.20596175}, {'Cause': 0.0714...</td>\n",
       "      <td>-0.6</td>\n",
       "      <td>True</td>\n",
       "    </tr>\n",
       "    <tr>\n",
       "      <th>2</th>\n",
       "      <td>3</td>\n",
       "      <td>Aerosmith</td>\n",
       "      <td>Taste Of India</td>\n",
       "      <td>Nine Lives</td>\n",
       "      <td>1997</td>\n",
       "      <td>[Hard rock]</td>\n",
       "      <td>United States</td>\n",
       "      <td>49</td>\n",
       "      <td>[{'Incense': 0.2548}, {'Sweetness of wine': 0....</td>\n",
       "      <td>[{'Wine': 0.7881}, {'Recorded music': 0.7072},...</td>\n",
       "      <td>[{'kind': 0.3166986}, {'taste': 0.23181729}, {...</td>\n",
       "      <td>0.6</td>\n",
       "      <td>True</td>\n",
       "    </tr>\n",
       "    <tr>\n",
       "      <th>3</th>\n",
       "      <td>4</td>\n",
       "      <td>Aerosmith</td>\n",
       "      <td>Dream On</td>\n",
       "      <td>Aerosmith</td>\n",
       "      <td>1973</td>\n",
       "      <td>[Classic rock, Rock]</td>\n",
       "      <td>United States</td>\n",
       "      <td>25</td>\n",
       "      <td>[{'Dawn': 0.2379}, {'Sin': 0.2023}, {'Laughter...</td>\n",
       "      <td>[{'Dawn': 0.3767}, {'Entertainment': 0.3653}, ...</td>\n",
       "      <td>[{'Lord': 0.2157075}, {'Everybody': 0.05828119...</td>\n",
       "      <td>0.0</td>\n",
       "      <td>True</td>\n",
       "    </tr>\n",
       "    <tr>\n",
       "      <th>5</th>\n",
       "      <td>6</td>\n",
       "      <td>Aerosmith</td>\n",
       "      <td>Falling Off</td>\n",
       "      <td>Nine Lives</td>\n",
       "      <td>1997</td>\n",
       "      <td>[Hard rock]</td>\n",
       "      <td>United States</td>\n",
       "      <td>49</td>\n",
       "      <td>[{'t callI': 0}, {'I saidI': 0}, {'I didn': 0}...</td>\n",
       "      <td>[{'Literature': 0.3241}, {'Fiction': 0.3006}, ...</td>\n",
       "      <td>[{'way': 0.24776857}, {'man': 0.14769095}, {'h...</td>\n",
       "      <td>-0.6</td>\n",
       "      <td>True</td>\n",
       "    </tr>\n",
       "  </tbody>\n",
       "</table>\n",
       "</div>"
      ],
      "text/plain": [
       "   ID     artist               song               album  released  \\\n",
       "0   1  Aerosmith  Janie's Got A Gun                Pump      1989   \n",
       "1   2  Aerosmith        Magic Touch  Permanent Vacation      1987   \n",
       "2   3  Aerosmith     Taste Of India          Nine Lives      1997   \n",
       "3   4  Aerosmith           Dream On           Aerosmith      1973   \n",
       "5   6  Aerosmith        Falling Off          Nine Lives      1997   \n",
       "\n",
       "                  genre   home_country  singer_age_at_release  \\\n",
       "0     [Hard rock, Rock]  United States                     41   \n",
       "1     [Hard rock, Rock]  United States                     39   \n",
       "2           [Hard rock]  United States                     49   \n",
       "3  [Classic rock, Rock]  United States                     25   \n",
       "5           [Hard rock]  United States                     49   \n",
       "\n",
       "                                              entity  \\\n",
       "0  [{\"Janie's Got a Gun\": 0.2361}, {'Honey': 0.05...   \n",
       "1                 [{'Shotgun': 0.1503}, {'babe': 0}]   \n",
       "2  [{'Incense': 0.2548}, {'Sweetness of wine': 0....   \n",
       "3  [{'Dawn': 0.2379}, {'Sin': 0.2023}, {'Laughter...   \n",
       "5  [{'t callI': 0}, {'I saidI': 0}, {'I didn': 0}...   \n",
       "\n",
       "                                               topic  \\\n",
       "0  [{'Songs written': 1}, {'Aerosmith songs': 1},...   \n",
       "1  [{'Albums': 0.5973}, {'Recorded music': 0.5719...   \n",
       "2  [{'Wine': 0.7881}, {'Recorded music': 0.7072},...   \n",
       "3  [{'Dawn': 0.3767}, {'Entertainment': 0.3653}, ...   \n",
       "5  [{'Literature': 0.3241}, {'Fiction': 0.3006}, ...   \n",
       "\n",
       "                                     Google_Entities  overall_sentiment  \\\n",
       "0  [{'Janie': 0.62619865}, {'honey': 0.10297375},...               -0.7   \n",
       "1  [{'fire burnin': 0.20596175}, {'Cause': 0.0714...               -0.6   \n",
       "2  [{'kind': 0.3166986}, {'taste': 0.23181729}, {...                0.6   \n",
       "3  [{'Lord': 0.2157075}, {'Everybody': 0.05828119...                0.0   \n",
       "5  [{'way': 0.24776857}, {'man': 0.14769095}, {'h...               -0.6   \n",
       "\n",
       "   genre_match  \n",
       "0         True  \n",
       "1         True  \n",
       "2         True  \n",
       "3         True  \n",
       "5         True  "
      ]
     },
     "execution_count": 39,
     "metadata": {},
     "output_type": "execute_result"
    }
   ],
   "source": [
    "# This shows the remaining data set after filtering \n",
    "\n",
    "df_filtered.head()"
   ]
  },
  {
   "cell_type": "code",
   "execution_count": 40,
   "metadata": {
    "scrolled": true
   },
   "outputs": [
    {
     "name": "stdout",
     "output_type": "stream",
     "text": [
      "Average sentiment for these songs: -0.2\n"
     ]
    }
   ],
   "source": [
    "print ('Average sentiment for these songs: ' + str(round(df_filtered['overall_sentiment'].mean(), 2)))"
   ]
  },
  {
   "cell_type": "code",
   "execution_count": 41,
   "metadata": {},
   "outputs": [
    {
     "name": "stdout",
     "output_type": "stream",
     "text": [
      "Song: \"Mutron Angel\", Artist: Outkast, Sentiment: 0.7\n",
      "Song: \"Taste Of India\", Artist: Aerosmith, Sentiment: 0.6\n",
      "Song: \"Hey Ya\", Artist: Outkast, Sentiment: 0.1\n",
      "Song: \"Dream On\", Artist: Aerosmith, Sentiment: 0.0\n",
      "Song: \"Lightning Strikes\", Artist: Aerosmith, Sentiment: 0.0\n"
     ]
    }
   ],
   "source": [
    "# Returning the Top 5 topics and sentiment from the filtered songs\n",
    "\n",
    "df_sentiment_copy = df_filtered.copy()\n",
    "df_sentiment_copy = df_sentiment_copy.sort_values(by=['overall_sentiment'], axis=0, ascending=False)[:5]\n",
    "df_sentiment_copy = df_sentiment_copy.reset_index()\n",
    "\n",
    "counter = 0\n",
    "while counter < len(df_sentiment_copy['artist']):\n",
    "    print ('Song: \"' + (df_sentiment_copy['song'][counter]) + '\", Artist: ' + str((df_sentiment_copy['artist'][counter])) + ', '  \n",
    "    + 'Sentiment: ' + str((df_sentiment_copy['overall_sentiment'][counter])))  \n",
    "    counter +=1"
   ]
  },
  {
   "cell_type": "code",
   "execution_count": 42,
   "metadata": {
    "collapsed": true
   },
   "outputs": [],
   "source": [
    "# The code below is how we can sum up all the values from the entities and return the top 5\n",
    "\n",
    "###\n",
    "### TO BE DELETED ?\n",
    "###"
   ]
  },
  {
   "cell_type": "code",
   "execution_count": 43,
   "metadata": {},
   "outputs": [
    {
     "data": {
      "text/plain": [
       "{'Computer': 5, 'Jake': 2, 'Test': 6}"
      ]
     },
     "execution_count": 43,
     "metadata": {},
     "output_type": "execute_result"
    }
   ],
   "source": [
    "# Test out the top_entity function\n",
    "dict_test = [{'Test': 6, 'Jake': 2, 'Computer': 5}, {'Pizza': 3, 'Jake': 5, 'Cat': 1}, {'John': 2, 'Jeff': 1}]\n",
    "dict_test[0]"
   ]
  },
  {
   "cell_type": "code",
   "execution_count": 44,
   "metadata": {},
   "outputs": [
    {
     "data": {
      "text/plain": [
       "['Jake', 'Test', 'Computer', 'Pizza', 'John']"
      ]
     },
     "execution_count": 44,
     "metadata": {},
     "output_type": "execute_result"
    }
   ],
   "source": [
    "summed_dict = collections.Counter()\n",
    "for d in dict_test: \n",
    "    summed_dict.update(d)\n",
    "low_to_high = sorted(summed_dict, key=summed_dict.__getitem__)[-5:]\n",
    "top_five_entities = low_to_high[::-1]\n",
    "top_five_entities"
   ]
  },
  {
   "cell_type": "markdown",
   "metadata": {},
   "source": [
    "# User Interface"
   ]
  },
  {
   "cell_type": "code",
   "execution_count": 25,
   "metadata": {},
   "outputs": [],
   "source": [
    "# Here we define the user interface function the includes all the filters created above \n",
    "\n",
    "def UserInterface(df):\n",
    "    \n",
    "    print(\"In the following steps you will filter the song dataset on the following variables: \")\n",
    "    [print(i) for i in df.columns.values]\n",
    "    print(\"\")\n",
    "    \n",
    "    ####################\n",
    "    ###    ARTIST    ###\n",
    "    ####################\n",
    "    \n",
    "    unique_artists = list(df['artist'].unique())\n",
    "    print ('\\nArtist options: ', unique_artists)\n",
    "    artist_input = input('\\nPlease select your artists (or type * to select all): ')\n",
    "\n",
    "    if artist_input == '*':\n",
    "        artist_input = unique_artists\n",
    "    else:\n",
    "        artist_input = artist_input.split(', ')\n",
    "    \n",
    "    # Filtering for artist\n",
    "    df_filtered = df.loc[df['artist'].isin(artist_input)]\n",
    "    \n",
    "    ####################\n",
    "    ###     ALBUM    ###\n",
    "    ####################\n",
    "    \n",
    "    unique_albums = list(df_filtered['album'].unique())\n",
    "    print ('\\nAlbum options: ', unique_albums)\n",
    "    album_input = input('\\nPlease select your albums (or type * to select all): ')\n",
    "    \n",
    "    if album_input == '*':\n",
    "        album_input = unique_albums\n",
    "    else:\n",
    "        album_input = album_input.split(', ')\n",
    "    \n",
    "    df_filtered = df_filtered.loc[df_filtered['album'].isin(album_input)]\n",
    "    \n",
    "    ####################\n",
    "    ###   COUNTRY    ###\n",
    "    ####################\n",
    "    \n",
    "    unique_countries = list(df_filtered['home_country'].unique())\n",
    "    print ('\\nCountry options: ', unique_countries)\n",
    "    country_input = input('\\nPlease select your countries (or type * to select all): ')\n",
    "    \n",
    "    if country_input == '*':\n",
    "        country_input = unique_countries\n",
    "    else:\n",
    "        country_input = country_input.split(', ')\n",
    "    \n",
    "    df_filtered = df_filtered.loc[df_filtered['home_country'].isin(country_input)]\n",
    "    \n",
    "    ###################\n",
    "    ###    GENRE    ###\n",
    "    ###################\n",
    "\n",
    "    unflattened_genre_list = list(df_filtered['genre'])\n",
    "    unique_genres = set([item for sublist in unflattened_genre_list for item in sublist])\n",
    "    print ('\\nGenre options: '), unique_genres\n",
    "    \n",
    "    genre_input = input('\\nPlease select your genres (or type * to select all): ')\n",
    "    \n",
    "    if genre_input == '*':\n",
    "        genre_input = list(unique_genres)\n",
    "    else:\n",
    "        genre_input = genre_input.split(', ')\n",
    "    \n",
    "    df_filtered['genre_match'] = False\n",
    "    for count, each_row in enumerate(df_filtered['genre']):\n",
    "        for item in each_row:\n",
    "            if item in genre_input:\n",
    "                df_filtered['genre_match'].iloc[count] = True\n",
    "    df_filtered = df_filtered.loc[df_filtered['genre_match'] == True]\n",
    "    \n",
    "    \n",
    "    ####################\n",
    "    ### RELEASE YEAR ###\n",
    "    ####################\n",
    "    \n",
    "    print ('\\nRelease date options: \\n 1960-1969 \\n 1970-1979 \\n 1980-1989 \\n 1990-1999 \\n 2000-2009 \\n 2010-Present')\n",
    "    \n",
    "    release_input = input('\\nPlease select your release year (or type * to select all): ')\n",
    "    \n",
    "    release_year_list = []\n",
    "\n",
    "    if release_input == '*':\n",
    "        for elem in range (1960, 2018):\n",
    "            release_year_list.append(elem)\n",
    "    else:\n",
    "        release_input = release_input.split(', ')\n",
    "        for elem in release_input:\n",
    "            if '1960' in elem:\n",
    "                    for elem in range (1960, 1970):\n",
    "                        release_year_list.append(elem)\n",
    "            elif '1970' in elem:\n",
    "                    for elem in range (1970, 1980):\n",
    "                        release_year_list.append(elem)\n",
    "            elif '1980' in elem:\n",
    "                    for elem in range (1980, 1990):\n",
    "                        release_year_list.append(elem)\n",
    "            elif '1990' in elem:\n",
    "                    for elem in range (1990, 2000):\n",
    "                        release_year_list.append(elem)\n",
    "            elif '2000' in elem:\n",
    "                    for elem in range (2000, 2010):\n",
    "                        release_year_list.append(elem)\n",
    "            elif '2010' in elem:\n",
    "                    for elem in range (2010, 2018):\n",
    "                        release_year_list.append(elem)\n",
    "\n",
    "    release_input = release_year_list\n",
    "    \n",
    "    df_filtered = df_filtered.loc[df_filtered['released'].isin(release_input)]\n",
    "    \n",
    "    ##################\n",
    "    ### SINGER AGE ###\n",
    "    ##################\n",
    "    \n",
    "    print ('\\nSinger age options: \\n 10-19 \\n 20-29 \\n 30-39 \\n 40-49 \\n 50-59')\n",
    "    \n",
    "    age_input = input('\\nPlease select an age range for singers (or type * to select all): ')\n",
    "    \n",
    "    age_year_list = []\n",
    "\n",
    "    if age_input == '*':\n",
    "        for elem in range (10, 56):\n",
    "            age_year_list.append(elem)\n",
    "    else:\n",
    "        age_input = age_input.split(', ')\n",
    "        for elem in age_input:\n",
    "            if '10' in elem:\n",
    "                    for elem in range (10, 20):\n",
    "                        age_year_list.append(elem)\n",
    "            elif '20' in elem:\n",
    "                    for elem in range (20, 30):\n",
    "                        age_year_list.append(elem)\n",
    "            elif '30' in elem:\n",
    "                    for elem in range (30, 40):\n",
    "                        age_year_list.append(elem)\n",
    "            elif '40' in elem:\n",
    "                    for elem in range (40, 50):\n",
    "                        age_year_list.append(elem)\n",
    "            elif '50' in elem:\n",
    "                    for elem in range (50, 57):\n",
    "                        age_year_list.append(elem)\n",
    "\n",
    "    age_input = age_year_list\n",
    "    \n",
    "    df_filtered = df_filtered.loc[df_filtered['singer_age_at_release'].isin(age_input)]\n",
    "    \n",
    "    \n",
    "    #      ____        _               _   \n",
    "    #    / __ \\      | |             | |  \n",
    "    #   | |  | |_   _| |_ _ __  _   _| |_ \n",
    "    #   | |  | | | | | __| '_ \\| | | | __|\n",
    "    #   | |__| | |_| | |_| |_) | |_| | |_ \n",
    "    #    \\____/ \\__,_|\\__| .__/ \\__,_|\\__|\n",
    "    #                    | |              \n",
    "    #                    |_|              \n",
    "    \n",
    "    \n",
    "    print(\"\\n===================================================================\\n===================================================================\\n\")\n",
    "    \n",
    "    ## Print average sentiment of songs reslting from filtering ##\n",
    "    ####\n",
    "    \n",
    "    print ('The average sentiment of the songs resulting from your search is: ' + str(round(df_filtered['overall_sentiment'].mean(), 2)))\n",
    "    \n",
    "    print(\"\\n===================================================================\\n\")\n",
    "    \n",
    "    ## Return the Top 5 topics and their sentiment for the filtered songs\n",
    "    ####\n",
    "    \n",
    "    print('\\nThe top 5 most prevalent topics of the songs resulting from your search are:\\n')\n",
    "    \n",
    "    df_sentiment_copy = df_filtered.copy()\n",
    "    df_sentiment_copy = df_sentiment_copy.sort_values(by=['overall_sentiment'], axis=0, ascending=False)[:5]\n",
    "    df_sentiment_copy = df_sentiment_copy.reset_index()\n",
    "    \n",
    "    counter = 0\n",
    "    while counter < len(df_sentiment_copy['artist']):\n",
    "        print ('Song: \"' + (df_sentiment_copy['song'][counter]) + '\", Artist: ' + str((df_sentiment_copy['artist'][counter])) + ', '  \n",
    "        + 'Sentiment: ' + str((df_sentiment_copy['overall_sentiment'][counter])))  \n",
    "        print(\"\")\n",
    "        counter +=1\n",
    "    \n",
    "    return df_filtered\n",
    "\n"
   ]
  },
  {
   "cell_type": "code",
   "execution_count": 26,
   "metadata": {},
   "outputs": [
    {
     "name": "stdout",
     "output_type": "stream",
     "text": [
      "In the following steps you will filter the song dataset on the following variables: \n",
      "ID\n",
      "artist\n",
      "song\n",
      "album\n",
      "released\n",
      "genre\n",
      "home_country\n",
      "singer_age_at_release\n",
      "entity\n",
      "topic\n",
      "Google_Entities\n",
      "overall_sentiment\n",
      "\n",
      "\n",
      "Artist options:  ['Aerosmith', 'Bruno Mars', 'Coldplay', 'Doors', 'Elton John', 'Elvis Presley', 'Grateful Dead', 'Jimi Hendrix', 'John Legend', 'Lady Gaga', 'Linkin Park', 'Maroon 5', 'Metallica', 'Michael Jackson', 'Nickelback', 'Outkast', 'Santana', 'Stevie Wonder', 'Weezer', 'Wu-Tang Clan']\n",
      "\n",
      "Please select your artists (or type * to select all): Aerosmith\n",
      "\n",
      "Album options:  ['Pump', 'Permanent Vacation', 'Nine Lives', 'Aerosmith', \"Honkin' on Bobo\", 'Just Push Play', 'Draw the Line', 'Rock in a Hard Place']\n",
      "\n",
      "Please select your albums (or type * to select all): *\n",
      "\n",
      "Country options:  ['United States']\n",
      "\n",
      "Please select your countries (or type * to select all): *\n",
      "\n",
      "Genre options: \n",
      "\n",
      "Please select your genres (or type * to select all): *\n",
      "\n",
      "Release date options: \n",
      " 1960-1969 \n",
      " 1970-1979 \n",
      " 1980-1989 \n",
      " 1990-1999 \n",
      " 2000-2009 \n",
      " 2010-Present\n",
      "\n",
      "Please select your release year (or type * to select all): *\n",
      "\n",
      "Singer age options: \n",
      " 10-19 \n",
      " 20-29 \n",
      " 30-39 \n",
      " 40-49 \n",
      " 50-59\n",
      "\n",
      "Please select an age range for singers (or type * to select all): *\n",
      "\n",
      "===================================================================\n",
      "===================================================================\n",
      "\n",
      "The average sentiment of the songs resulting from your search is: -0.29\n",
      "\n",
      "===================================================================\n",
      "\n",
      "\n",
      "The top 5 most prevalent topics of the songs resulting from your search are:\n",
      "\n",
      "Song: \"Taste Of India\", Artist: Aerosmith, Sentiment: 0.6\n",
      "\n",
      "Song: \"Dream On\", Artist: Aerosmith, Sentiment: 0.0\n",
      "\n",
      "Song: \"Lightning Strikes\", Artist: Aerosmith, Sentiment: 0.0\n",
      "\n",
      "Song: \"Jaded\", Artist: Aerosmith, Sentiment: -0.3\n",
      "\n",
      "Song: \"Magic Touch\", Artist: Aerosmith, Sentiment: -0.6\n",
      "\n"
     ]
    }
   ],
   "source": [
    "# Test User Interface\n",
    "df_filtered = UserInterface(df)"
   ]
  },
  {
   "cell_type": "code",
   "execution_count": 24,
   "metadata": {
    "scrolled": false
   },
   "outputs": [
    {
     "data": {
      "text/html": [
       "<div>\n",
       "<style scoped>\n",
       "    .dataframe tbody tr th:only-of-type {\n",
       "        vertical-align: middle;\n",
       "    }\n",
       "\n",
       "    .dataframe tbody tr th {\n",
       "        vertical-align: top;\n",
       "    }\n",
       "\n",
       "    .dataframe thead th {\n",
       "        text-align: right;\n",
       "    }\n",
       "</style>\n",
       "<table border=\"1\" class=\"dataframe\">\n",
       "  <thead>\n",
       "    <tr style=\"text-align: right;\">\n",
       "      <th></th>\n",
       "      <th>ID</th>\n",
       "      <th>artist</th>\n",
       "      <th>song</th>\n",
       "      <th>album</th>\n",
       "      <th>released</th>\n",
       "      <th>genre</th>\n",
       "      <th>home_country</th>\n",
       "      <th>singer_age_at_release</th>\n",
       "      <th>entity</th>\n",
       "      <th>topic</th>\n",
       "      <th>Google_Entities</th>\n",
       "      <th>overall_sentiment</th>\n",
       "      <th>genre_match</th>\n",
       "    </tr>\n",
       "  </thead>\n",
       "  <tbody>\n",
       "    <tr>\n",
       "      <th>0</th>\n",
       "      <td>1</td>\n",
       "      <td>Aerosmith</td>\n",
       "      <td>Janie's Got A Gun</td>\n",
       "      <td>Pump</td>\n",
       "      <td>1989</td>\n",
       "      <td>[Hard rock, Rock]</td>\n",
       "      <td>United States</td>\n",
       "      <td>41</td>\n",
       "      <td>[{\"Janie's Got a Gun\": 0.2361}, {'Honey': 0.05...</td>\n",
       "      <td>[{'Songs written': 1}, {'Aerosmith songs': 1},...</td>\n",
       "      <td>[{'Janie': 0.62619865}, {'honey': 0.10297375},...</td>\n",
       "      <td>-0.7</td>\n",
       "      <td>True</td>\n",
       "    </tr>\n",
       "    <tr>\n",
       "      <th>1</th>\n",
       "      <td>2</td>\n",
       "      <td>Aerosmith</td>\n",
       "      <td>Magic Touch</td>\n",
       "      <td>Permanent Vacation</td>\n",
       "      <td>1987</td>\n",
       "      <td>[Hard rock, Rock]</td>\n",
       "      <td>United States</td>\n",
       "      <td>39</td>\n",
       "      <td>[{'Shotgun': 0.1503}, {'babe': 0}]</td>\n",
       "      <td>[{'Albums': 0.5973}, {'Recorded music': 0.5719...</td>\n",
       "      <td>[{'fire burnin': 0.20596175}, {'Cause': 0.0714...</td>\n",
       "      <td>-0.6</td>\n",
       "      <td>True</td>\n",
       "    </tr>\n",
       "    <tr>\n",
       "      <th>2</th>\n",
       "      <td>3</td>\n",
       "      <td>Aerosmith</td>\n",
       "      <td>Taste Of India</td>\n",
       "      <td>Nine Lives</td>\n",
       "      <td>1997</td>\n",
       "      <td>[Hard rock]</td>\n",
       "      <td>United States</td>\n",
       "      <td>49</td>\n",
       "      <td>[{'Incense': 0.2548}, {'Sweetness of wine': 0....</td>\n",
       "      <td>[{'Wine': 0.7881}, {'Recorded music': 0.7072},...</td>\n",
       "      <td>[{'kind': 0.3166986}, {'taste': 0.23181729}, {...</td>\n",
       "      <td>0.6</td>\n",
       "      <td>True</td>\n",
       "    </tr>\n",
       "    <tr>\n",
       "      <th>3</th>\n",
       "      <td>4</td>\n",
       "      <td>Aerosmith</td>\n",
       "      <td>Dream On</td>\n",
       "      <td>Aerosmith</td>\n",
       "      <td>1973</td>\n",
       "      <td>[Classic rock, Rock]</td>\n",
       "      <td>United States</td>\n",
       "      <td>25</td>\n",
       "      <td>[{'Dawn': 0.2379}, {'Sin': 0.2023}, {'Laughter...</td>\n",
       "      <td>[{'Dawn': 0.3767}, {'Entertainment': 0.3653}, ...</td>\n",
       "      <td>[{'Lord': 0.2157075}, {'Everybody': 0.05828119...</td>\n",
       "      <td>0.0</td>\n",
       "      <td>True</td>\n",
       "    </tr>\n",
       "    <tr>\n",
       "      <th>5</th>\n",
       "      <td>6</td>\n",
       "      <td>Aerosmith</td>\n",
       "      <td>Falling Off</td>\n",
       "      <td>Nine Lives</td>\n",
       "      <td>1997</td>\n",
       "      <td>[Hard rock]</td>\n",
       "      <td>United States</td>\n",
       "      <td>49</td>\n",
       "      <td>[{'t callI': 0}, {'I saidI': 0}, {'I didn': 0}...</td>\n",
       "      <td>[{'Literature': 0.3241}, {'Fiction': 0.3006}, ...</td>\n",
       "      <td>[{'way': 0.24776857}, {'man': 0.14769095}, {'h...</td>\n",
       "      <td>-0.6</td>\n",
       "      <td>True</td>\n",
       "    </tr>\n",
       "    <tr>\n",
       "      <th>6</th>\n",
       "      <td>7</td>\n",
       "      <td>Aerosmith</td>\n",
       "      <td>Jaded</td>\n",
       "      <td>Just Push Play</td>\n",
       "      <td>2001</td>\n",
       "      <td>[Hard rock]</td>\n",
       "      <td>United States</td>\n",
       "      <td>53</td>\n",
       "      <td>[{'Velvet': 0.0309}, {'Love': 0}]</td>\n",
       "      <td>[{'Recorded music': 0.7737}, {'Albums': 0.6503...</td>\n",
       "      <td>[{'child': 0.46256787}, {'one': 0.3776241}, {'...</td>\n",
       "      <td>-0.3</td>\n",
       "      <td>True</td>\n",
       "    </tr>\n",
       "    <tr>\n",
       "      <th>7</th>\n",
       "      <td>8</td>\n",
       "      <td>Aerosmith</td>\n",
       "      <td>Kings And Queens</td>\n",
       "      <td>Draw the Line</td>\n",
       "      <td>1977</td>\n",
       "      <td>[Classic rock]</td>\n",
       "      <td>United States</td>\n",
       "      <td>29</td>\n",
       "      <td>[{'Vikings': 0.1653}, {'Ship': 0.1323}, {'Trut...</td>\n",
       "      <td>[{'Viking Age': 0.3941}, {'Medieval Denmark': ...</td>\n",
       "      <td>[{'greed Maidens': 0.2779506}, {'lords': 0.067...</td>\n",
       "      <td>-0.7</td>\n",
       "      <td>True</td>\n",
       "    </tr>\n",
       "    <tr>\n",
       "      <th>8</th>\n",
       "      <td>9</td>\n",
       "      <td>Aerosmith</td>\n",
       "      <td>Lightning Strikes</td>\n",
       "      <td>Rock in a Hard Place</td>\n",
       "      <td>1982</td>\n",
       "      <td>[Hard rock]</td>\n",
       "      <td>United States</td>\n",
       "      <td>34</td>\n",
       "      <td>[{'Knife': 0.3647}, {'Dagger': 0.3184}, {\"Hell...</td>\n",
       "      <td>[{'Blade weapons': 1}, {'Melee weapons': 0.958...</td>\n",
       "      <td>[{'lid': 0.34622723}, {'Boys': 0.13296318}, {'...</td>\n",
       "      <td>0.0</td>\n",
       "      <td>True</td>\n",
       "    </tr>\n",
       "  </tbody>\n",
       "</table>\n",
       "</div>"
      ],
      "text/plain": [
       "   ID     artist               song                 album  released  \\\n",
       "0   1  Aerosmith  Janie's Got A Gun                  Pump      1989   \n",
       "1   2  Aerosmith        Magic Touch    Permanent Vacation      1987   \n",
       "2   3  Aerosmith     Taste Of India            Nine Lives      1997   \n",
       "3   4  Aerosmith           Dream On             Aerosmith      1973   \n",
       "5   6  Aerosmith        Falling Off            Nine Lives      1997   \n",
       "6   7  Aerosmith              Jaded        Just Push Play      2001   \n",
       "7   8  Aerosmith   Kings And Queens         Draw the Line      1977   \n",
       "8   9  Aerosmith  Lightning Strikes  Rock in a Hard Place      1982   \n",
       "\n",
       "                  genre   home_country  singer_age_at_release  \\\n",
       "0     [Hard rock, Rock]  United States                     41   \n",
       "1     [Hard rock, Rock]  United States                     39   \n",
       "2           [Hard rock]  United States                     49   \n",
       "3  [Classic rock, Rock]  United States                     25   \n",
       "5           [Hard rock]  United States                     49   \n",
       "6           [Hard rock]  United States                     53   \n",
       "7        [Classic rock]  United States                     29   \n",
       "8           [Hard rock]  United States                     34   \n",
       "\n",
       "                                              entity  \\\n",
       "0  [{\"Janie's Got a Gun\": 0.2361}, {'Honey': 0.05...   \n",
       "1                 [{'Shotgun': 0.1503}, {'babe': 0}]   \n",
       "2  [{'Incense': 0.2548}, {'Sweetness of wine': 0....   \n",
       "3  [{'Dawn': 0.2379}, {'Sin': 0.2023}, {'Laughter...   \n",
       "5  [{'t callI': 0}, {'I saidI': 0}, {'I didn': 0}...   \n",
       "6                  [{'Velvet': 0.0309}, {'Love': 0}]   \n",
       "7  [{'Vikings': 0.1653}, {'Ship': 0.1323}, {'Trut...   \n",
       "8  [{'Knife': 0.3647}, {'Dagger': 0.3184}, {\"Hell...   \n",
       "\n",
       "                                               topic  \\\n",
       "0  [{'Songs written': 1}, {'Aerosmith songs': 1},...   \n",
       "1  [{'Albums': 0.5973}, {'Recorded music': 0.5719...   \n",
       "2  [{'Wine': 0.7881}, {'Recorded music': 0.7072},...   \n",
       "3  [{'Dawn': 0.3767}, {'Entertainment': 0.3653}, ...   \n",
       "5  [{'Literature': 0.3241}, {'Fiction': 0.3006}, ...   \n",
       "6  [{'Recorded music': 0.7737}, {'Albums': 0.6503...   \n",
       "7  [{'Viking Age': 0.3941}, {'Medieval Denmark': ...   \n",
       "8  [{'Blade weapons': 1}, {'Melee weapons': 0.958...   \n",
       "\n",
       "                                     Google_Entities  overall_sentiment  \\\n",
       "0  [{'Janie': 0.62619865}, {'honey': 0.10297375},...               -0.7   \n",
       "1  [{'fire burnin': 0.20596175}, {'Cause': 0.0714...               -0.6   \n",
       "2  [{'kind': 0.3166986}, {'taste': 0.23181729}, {...                0.6   \n",
       "3  [{'Lord': 0.2157075}, {'Everybody': 0.05828119...                0.0   \n",
       "5  [{'way': 0.24776857}, {'man': 0.14769095}, {'h...               -0.6   \n",
       "6  [{'child': 0.46256787}, {'one': 0.3776241}, {'...               -0.3   \n",
       "7  [{'greed Maidens': 0.2779506}, {'lords': 0.067...               -0.7   \n",
       "8  [{'lid': 0.34622723}, {'Boys': 0.13296318}, {'...                0.0   \n",
       "\n",
       "   genre_match  \n",
       "0         True  \n",
       "1         True  \n",
       "2         True  \n",
       "3         True  \n",
       "5         True  \n",
       "6         True  \n",
       "7         True  \n",
       "8         True  "
      ]
     },
     "execution_count": 24,
     "metadata": {},
     "output_type": "execute_result"
    }
   ],
   "source": [
    "df_filtered"
   ]
  },
  {
   "cell_type": "markdown",
   "metadata": {},
   "source": [
    "# Create Inverted Index"
   ]
  },
  {
   "cell_type": "code",
   "execution_count": 250,
   "metadata": {},
   "outputs": [
    {
     "name": "stdout",
     "output_type": "stream",
     "text": [
      "['Déjà', 'Big', 'back', 'Albert', 'Sliding', 'Beach', 'Girl', 'Tribal', 'Choir', 'a', 'Powerful', 'Juice', 'wonder', 'Parchment', 'Was', 'Cuz', 'Take', 'James', 'Alibi', 'Elvis', 'saidI', 'door', 'Miller', 'Pearl', 'Morphine', 'Sin', 'Stream', 'Dream', 'Peter', 'Ship', 'Dawn', 'Tattoo', 'Calliope', 'vu', 'Smile', 'Hemp', 'Soldier', 'Mural', 'Disco', 'ship', 'Bunny', 'From', 'Jagger', 'Heine', '(landform)', 'Eye', 'Tomahawk', 'Color', 'Salt', 'Mail', 'deadly', 'Pendulum', 'Seein', 'Presley', 'Massage', 'Yin', '(firearms)', 'Ninja', 'Photograph', 'Breakin', 'Improvised', 'Buffalo,', 'Hocus', 'Locket', 'Fetus', 'station', 'Everybody', 'Clothing', 'Jr.', 'Londie', 'A', 'Sunlight', 'Darling', 'Feet', 'Know', 'Toys', 'Heart', '2018-06-24T00:00:00.000-04:00', 'Claire', 'Sound', 'ball', 'Jesus', 'school', 'hop', 'butter)', 'Mountain', 'Romance', 'Agent', 'New', 'Diamond', 'Miser', 'Hey', 'Destruction', 't', 'store', 'Flood', 'butter', 'didn', 'Shield', 'Fortune-telling', 'Jimi', '(prostitution)', '10', 'Hug', 'States', 'Joey', 'Corvette', '(association', 'Miles', 'Deck', 'card', 'Lottery', 'series)', 'the', 'Town', 'Prairie', 'Toilet', '(musical)', 'Guitar', 'Gun', 'Miss', 'Charlie', 'Dagger', 'Delusion', 'Kim', 'Blond', 'Paddle', 'Autograph', 'Substance', 'Her', 'April', 'Door', 'Living', 'carrier', 'Pond', 'Belong', 'It', 'Roller', 'Conclusion', 'Warlord', 'talk', '(TV', 'Nylon', 'Show', 'Demon', 'Honey', 'Location', 'Are', 'Dean', 'Shotgun', 'Petal', '4', 'RZA', 'Baghdad', 'Land', '68', 'Kitchen,', 'Gambling', 'Pillow', 'Angel', 'lee', 'Trigger', 'Switchman', 'Uncle', 'Car', 'Jif', 'Midnight', 'Geronimo', 'Snake', 'Wicked', 'String', 'beverage', 'Tennessee', 'Gabriel', 'Dum', 'sync', 'Method', 'Wine', 'Ella', \"Fools'\", 'Procuring', '30', 'Skin', 'Beer', 'Laughter', 'Chicago', 'Warrior', 'Fleetwood', 'Time', 'Radio', 'Bongo', 'Tire', 'Starch', 'Jones', 'Riddler', 'Snow', 'Canoe', 'Clampett', 'congestion', 'Gravity', 'Night', 'like', 'identifier', 'Everything', 'Orange', 'space', 'Cal', 'Bill', 'United', 'in', 'mmm', 'Casey', 'Eternity', 'Beverly', 'Got', 'Poetry', 'Cocaine', 'Gods', 'firearm', 'Refrigerator', 'Sachmo', 'Water', 'eye', 'Nickel', 'Missionary', 'Firefly', 'Playboy', 'yang', 'Bang', 'Clam', 'Searchlight', 'Violin', 'Mirror', '(islands)', 'paper', 'Defender', 'Rain', 'Mars', 'Makin', 'Light', 'Pie', 'Rube', 'Madly', '(botany)', 'Tipi', '2018-10-01T00:00:00.000-04:00', 'Mind', 'Sayin', 'Station', 'Bit', 'cyclone', 'Bus', 'pocus', 'Shade', 'Concubinage', 'Brick', 'Dirty', 'Janie', 'glass', 'Better', 'Curse', 'Hour', 'Fence', '40', 'Lane', 'Tide', 'Punk', 'California', 'Duke', 'Truth', 'Pocko', 'The', 'I', '2017-12-04T00:00:00.000-05:00', 'Wolf', 'Visual', 'Credit', 'Wu-Tang', 'Walkin', 'Refrain', 'Ringing', \"Ol'\", 'structure', '1', 'Dead', 'NME', 'Long', 'Clock', 'Steering', 'Outer', 'Fat', 'Billie', 'Raekwon', 'chief', 'Street', 'Sweetness', 'Gorilla', 'Buddy', 'slide', 'Peanut', 'Fix', 'Muscle', 'Bells', 'Inspectah', 'sins', 'Fruit', 'Bridge', 'Iron', 'John', 'Hills,', 'Altitude', 'Ounce', 'Central', 'House', 'Red', 'Moves', 'wheel', '20', 'Outkast', 'Moses', 'Fire', 'Happy', 'babe', 'Purple', 'Bad', 'Gong', 'Life', 'Karma', 'Bratwurst', 'Daddy', 'Iroquois', 'GZA', 'Velvet', 'Sioux', 'Elevator', 'powers', 'Flower', 'Betting', 'King', 'Squaw', 'Whoo', 'Crosstown', 'Lord', 'Whatcha', 'Chance', 'or', 'Funk', 'Sky', 'Cadillac', 'Ohhh', '1000000', 'Livin', 'Doodoo', 'Spoon', 'American', 'Tsunami', 'rock', 'Fuck', 'York', 'Frantic', 'Rumble', 'Running', 'Manhattan', 'Here', 'Baseball', 'Fall', '2018-05-01T00:00:00.000-04:00', 'Slate', 'Crystal', 'Just', 'Aisha', 'Barbed', 'music', 'Lady', 'In', 'and', 'Hell', '(tool)', 'Dance', 'Luther', 'Broadcasting', 'Whisky', 'Tryna', 'Vietnam', 'Israel', 'Seven', 'Blacklight', 'Perfume', 'Incense', 'Your', 'Vikings', 'Distilled', 'Hoe', 'de', 'Drink', 'Labellum', 'Devil', 'Love', 'Lightning', 'Sword', 'Oyster', 'Tropical', 'football)', 'Melody', \"Hell's\", 'Bruno', 'Have', 'Saint', 'dependence', 'pageant', '(stadium)', 'Heaven', 'an', 'Pocketknife', 'Little', 'man', 'Breastfeeding', 'drum', 'Nigga', 'Dooooo', 'Baby', 'Jimmy', 'Superman', 'India', '3', 'Lordy', 'Axis', 'When', 'Jerusalem', '(music)', 'Sailing', 'My', 'Beggin', 'Hip', 'Appetite', 'skates', 'of', '100', 'Earth', 'Prophecy', 'tree', 'Knife', 'Truckin', 'Day', '2017-12-03T00:00:00.000-05:00', 'Cosby', 'Man', 'Cher', 'Dimensions', 'Dough', '(song)', 'God', 'Right', 'Rosey', 'Wonder', 'Sir', '2018-02-01T00:00:00.000-05:00', 'Rhyme', 'willin', 'Liquor', 'callI', 'Luck', 'spoon', 'Greed', 'Spit', 'Drums', 'Boarding', 'Hahaha', '(peanut', 'Thunder', 'Beauty', 'Monk', 'Fallin', 'Whoa', 'Mmm', 'Michael', 'Silver', '6', 'White', 'Basie', 'to', 'Jean', 'Icebox', 'Conversation', 'Chair', 'Honda', 'mister', 'Rock', 'SWAT', 'Knot', 'wine', 'You', 'Pick', 'Guillotine', 'Funeral', 'Controlled-access', 'Vindaloo', 'Company', 'air', 'Pride', 'Crawling', '90', 'Wanda', 'Legend', 'rob', 'Bullet', 'Ooo', 'Traffic', 'Our', 'Calico', 'Buckie', 'Teeth', 'Martin', '2017-12-01T00:00:00.000-05:00', \"Janie's\", 'Steven', '(magic)', '2017-12-09T00:00:00.000-05:00', '2018-04-04T00:00:00.000-04:00', 'Rapper', 'Kings', 'Nothing', 'Monica', 'Spades', 'perception', 'Crawlin', 'Memphis,', 'Dog', 'Clan', 'Ya!', 'highway', 'gauntlet', 'dare?', 'Sam', 'Boi', '2', 'Kids', 'Bastard', 'Disease', 'poker', 'Lip', 'with', 'Mansion', 'Moon', 'Airport', 'wire', 'Music', 'Huxtible', 'Benzo', 'Santa', 'for', 'Chesay', 'wanna', 'Ready', 'Blues', 'Pyre', 'Drivin', 'Me', 'Soul', 'Song', 'Gettin', 'Pineapple', 'Lexus', 'bat']\n",
      "['Machines', 'sciences', 'Zee', 'Religion', 'Tabletop', 'Acid', 'Awards', 'skill', 'Choir', 'Crops', 'Was', 'Take', 'Afterlife', 'Christian', 'Elvis', 'Contemporary', 'franchises', 'Pearl', 'Morphine', 'Sin', 'Weekly', 'East', 'Dream', 'materials', 'Ages', 'Peter', 'Ship', 'unknown', 'Sun', 'Dawn', 'Tattoo', 'Body', 'Alcohol', 'Smile', 'Blade', 'Politics', 'Disco', 'Health', 'From', 'Jagger', 'cosmologies', 'from', 'Culture', 'readings', 'Eye', 'Musical', 'Color', 'songs', 'Bivalves', 'Mythology', 'recording', 'Traditions', 'deadly', 'Pendulum', 'Presley', 'Massage', 'Ninja', 'Grammy', 'hamartiology', 'recordings', 'Traditional', 'physics', 'Equipment', 'Hocus', 'Jewish', 'Theology', 'Theoretical', 'taxonomy', 'Eric', 'geography', 'blues', 'Toys', 'Hooker', 'Heart', 'aspects', 'Natural', 'MTV', 'Consumer', 'Sound', 'tools', 'Poems', 'ball', 'school', 'hop', 'Romance', 'albums', 'English', '(mechanical)', 'Card', 'Agent', 'Lee', 'Number-one', 'African', 'New', 'Miser', 'Hey', 'Flood', 'Human', 'popular', 'collectives', 'Knives', 'Shield', 'Fortune-telling', 'Applied', 'care', 'Undertaking', 'States', 'people', 'cycle', 'Singles', 'Recorded', 'Catholic', 'Miles', 'Shacharit', 'the', 'Creative', 'form', 'Electropop', 'communication', 'Guitar', 'originating', 'Rituals', 'engineering', 'Commemoration', 'movements', 'works', 'Substance', 'Vortices', 'Criminal', 'Her', 'locations', 'Cup', 'safety', 'Door', 'Living', 'media', 'Belong', 'groups', 'It', 'Pop', 'Roller', 'talk', 'Nylon', 'Railway', 'religion', 'episodes', 'Honey', 'Shotgun', 'Chordophones', 'Elements', 'meteorology', 'modification', 'Tattooing', 'Land', 'RZA', 'Speculative', 'Psychological', 'musical', 'Gambling', 'Pillow', 'Medicine', 'Games', 'Medical', 'philosophy', 'goods', 'interdisciplinary', 'Series', 'specialties', 'Geronimo', 'Midnight', 'Year', 'String', 'beverage', 'Tennessee', 'Yom', 'calendar', 'Performing', 'Hand', 'Wine', 'British', 'religions', 'hard', 'Erosion', 'Grape', 'Laughter', 'belief', 'Chicago', 'Weapons', 'theology', 'Storm', 'Propositional', 'Personal', 'ballads', 'written', 'Viking', 'Plains', 'Jones', 'Electromagnetic', '(United', 'Canoe', 'Months', 'Popular', 'Gravity', 'like', 'Monotheistic', 'Orange', 'hurricanes', 'Hebrew', 'Windstorms', 'space', 'Indigenous', 'objects', 'Alcoholic', 'in', 'United', 'Casey', 'Torah', 'theories', 'Poetry', 'Cocaine', 'Shabbat', 'Refrigerator', 'cards', 'Water', 'Firefly', 'Missionary', 'Playboy', 'Clam', 'Mirror', 'Rain', 'Mars', 'Enterprises', 'articles', 'Optics', 'ethics', 'Madly', 'Energy', 'cyclones', 'Kingdom)', 'Jackson,', 'railroaders', 'TV', 'Mind', 'Age', 'doctrine', 'texts', 'cyclone', 'Tropics', 'Bus', 'pocus', 'metal', 'Ephemera', 'Atlantic', 'Melee', 'Works', 'Hardware', 'Video', 'Hour', 'Coast', 'Tide', 'Hard', 'Fulton', 'Truth', 'Gaga', 'The', 'customs', 'I', 'Epistemology', 'Visual', 'experience', 'Wu-Tang', 'Refrain', 'structure', 'ritual', 'styles', 'NME', 'Clinical', 'Clock', 'fiction', 'transport', 'Outer', 'Billie', 'Transport', 'Optical', 'Gorilla', 'appearance', 'Buddy', 'Fix', 'Fences', 'sins', 'John', 'humans', 'Rail', 'diaspora', 'Religious', 'Disasters', 'Moves', 'reading', 'Early', 'Philosophy', 'musicians', 'Astronomy', 'attitude', 'Fermented', 'members', 'Purple', 'television', 'Films', 'videos', 'Bad', 'Karma', 'Albums', 'Iroquois', 'Sioux', 'Native', 'English-language', 'Coastal', 'services', 'events', 'Entertainment', 'Cognitive', 'Meteorology', 'Television', 'Novel', 'Sky', 'hazards', 'Spoon', 'American', 'rock', 'York', 'Baseball', 'Here', 'child', 'Weather', 'abuse', 'Just', 'NASCAR', 'peoples', 'Crystal', 'music', 'behaviour', 'medicine', 'Lady', 'In', 'and', 'Hell', 'forms', 'Denmark', 'hurricane', 'conventions', 'Dance', 'African-American', 'Film', 'Medieval', 'Israel', 'Seven', 'Blacklight', 'Perfume', 'about', 'Your', 'Vikings', 'Distilled', 'Fictional', 'Dance-pop', 'depictions', 'Drink', 'Devil', 'accidents', 'Love', 'Glam', 'Tov', 'Dentistry', 'Sword', 'life', 'hip', 'Oyster', 'Mouth', 'Tropical', 'Drama', 'Burdon', 'Great', 'Bruno', 'Songwriter', 'Railroad', 'Materials', 'attitudes', 'compositions', 'Artificial', 'Saint', 'dependence', 'books', 'pageant', 'Heaven', 'engineers', 'Fiction', 'Indian', 'Primates', 'Sports', 'death', 'Fantasy', 'disasters', 'Cultural', 'Middle', 'Baby', 'Superman', 'rituals', 'When', 'Jerusalem', 'devices', '(music)', 'Hip', 'Appetite', 'skates', 'mental', 'of', 'directed', 'People', 'Earth', 'Ships', 'Europe', 'Knife', 'Walls', 'Man', 'Cher', 'Books', 'percenters', '(song)', 'faiths,', 'God', 'prayer', 'prayers', 'weapons', 'attention', 'radiation', 'Rhyme', 'Coasts', 'Luck', 'Geffen', 'landforms', 'Rolling', 'traditions,', 'Boarding', 'Wire', 'Death', 'stories', 'chance', 'North', 'Christianity', 'Thunder', 'Beauty', 'technology', 'Horology', 'poetry', 'Playing', 'singles', 'procedures', 'Novels', 'America', 'Primate', 'body', 'Jean', 'Cutting', 'Award', 'Philosophical', 'Chair', 'Rock', 'County,', 'Knot', 'Records', 'psychedelic', 'Glass', 'synthpop', 'You', 'Five', 'Physical', 'Monster', 'programs', 'Arts', 'Controlled-access', 'Funeral', 'seasons', 'Pride', 'Literature', 'Mythological', 'Funerals', 'Legend', 'art', 'Beaches', 'Monkeys', '(magic)', 'Stones', 'Nothing', 'perception', 'law', 'Vocal', 'applications', 'Tourism', 'Social', 'Ya!', 'Clan', 'needing', 'doctrines', 'highway', 'drinks', 'with', 'Gaming', 'Moon', 'instruments', 'arts', 'produced', 'Songs', 'games', 'Music', 'Grief', 'series', 'Hindi-language', 'industry', 'for', 'Abrahamic', 'Blues', 'Multilingual', 'anthropology', 'Me', 'Kentucky', 'science', 'Aerosmith', 'Song', 'Metaphysics', 'bat']\n",
      "['Machines', 'sciences', 'Religion', 'Zee', 'Tabletop', 'Acid', 'Awards', 'skill', 'Choir', 'Crops', 'Was', 'Take', 'Afterlife', 'Christian', 'Elvis', 'Contemporary', 'franchises', 'Pearl', 'Morphine', 'Sin', 'Weekly', 'East', 'Dream', 'materials', 'Ages', 'Peter', 'Ship', 'unknown', 'Sun', 'Dawn', 'Tattoo', 'Body', 'Alcohol', 'Smile', 'Blade', 'Politics', 'Disco', 'Health', 'From', 'Jagger', 'cosmologies', 'from', 'Culture', 'readings', 'Eye', 'Musical', 'Color', 'songs', 'Bivalves', 'Mythology', 'recording', 'Traditions', 'deadly', 'Pendulum', 'Presley', 'Massage', 'Ninja', 'Grammy', 'hamartiology', 'recordings', 'Traditional', 'physics', 'Equipment', 'Hocus', 'Jewish', 'Theology', 'Theoretical', 'taxonomy', 'Eric', 'geography', 'blues', 'Toys', 'Hooker', 'Heart', 'aspects', 'Natural', 'MTV', 'Consumer', 'Sound', 'tools', 'Poems', 'ball', 'school', 'hop', 'Romance', 'albums', 'English', '(mechanical)', 'Card', 'Agent', 'Lee', 'Number-one', 'African', 'New', 'Miser', 'Hey', 'Flood', 'Human', 'popular', 'collectives', 'Knives', 'Shield', 'Fortune-telling', 'Applied', 'care', 'Undertaking', 'States', 'people', 'cycle', 'Singles', 'Recorded', 'Catholic', 'Miles', 'Shacharit', 'the', 'Creative', 'form', 'Electropop', 'communication', 'Guitar', 'originating', 'Rituals', 'engineering', 'Commemoration', 'movements', 'works', 'Substance', 'Vortices', 'Criminal', 'Her', 'locations', 'Cup', 'safety', 'Door', 'Living', 'media', 'Belong', 'groups', 'It', 'Pop', 'Roller', 'talk', 'Nylon', 'Railway', 'religion', 'episodes', 'Honey', 'Shotgun', 'Chordophones', 'Elements', 'meteorology', 'modification', 'Tattooing', 'Land', 'RZA', 'Speculative', 'Psychological', 'musical', 'Gambling', 'Pillow', 'Medicine', 'Games', 'Medical', 'philosophy', 'goods', 'interdisciplinary', 'Series', 'specialties', 'Geronimo', 'Midnight', 'Year', 'String', 'beverage', 'Tennessee', 'Yom', 'calendar', 'Performing', 'Hand', 'Wine', 'British', 'religions', 'hard', 'Erosion', 'Grape', 'Laughter', 'belief', 'Chicago', 'Weapons', 'theology', 'Storm', 'Propositional', 'Personal', 'ballads', 'written', 'Viking', 'Plains', 'Jones', 'Electromagnetic', '(United', 'Canoe', 'Months', 'Popular', 'Gravity', 'like', 'Monotheistic', 'Orange', 'hurricanes', 'Hebrew', 'Windstorms', 'space', 'Indigenous', 'objects', 'Alcoholic', 'in', 'United', 'Casey', 'Torah', 'theories', 'Poetry', 'Cocaine', 'Shabbat', 'Refrigerator', 'cards', 'Water', 'Firefly', 'Missionary', 'Playboy', 'Clam', 'Mirror', 'Rain', 'Mars', 'Enterprises', 'articles', 'Optics', 'ethics', 'Madly', 'Energy', 'cyclones', 'Kingdom)', 'Jackson,', 'railroaders', 'TV', 'Mind', 'Age', 'doctrine', 'texts', 'cyclone', 'Tropics', 'Bus', 'pocus', 'metal', 'Ephemera', 'Atlantic', 'Melee', 'Works', 'Hardware', 'Video', 'Hour', 'Coast', 'Tide', 'Hard', 'Fulton', 'Truth', 'Gaga', 'The', 'customs', 'I', 'Epistemology', 'Visual', 'experience', 'Wu-Tang', 'Refrain', 'structure', 'ritual', 'styles', 'NME', 'Clinical', 'Clock', 'fiction', 'transport', 'Outer', 'Billie', 'Transport', 'Optical', 'Gorilla', 'appearance', 'Buddy', 'Fix', 'Fences', 'sins', 'John', 'humans', 'Rail', 'diaspora', 'Religious', 'Disasters', 'Moves', 'reading', 'Early', 'Philosophy', 'musicians', 'Astronomy', 'attitude', 'Fermented', 'members', 'Purple', 'television', 'Films', 'Bad', 'Karma', 'Albums', 'Iroquois', 'Sioux', 'Native', 'English-language', 'Coastal', 'services', 'events', 'Entertainment', 'Cognitive', 'Meteorology', 'Television', 'Novel', 'Sky', 'hazards', 'Spoon', 'American', 'rock', 'York', 'Baseball', 'Here', 'child', 'Weather', 'abuse', 'Just', 'NASCAR', 'peoples', 'Crystal', 'music', 'behaviour', 'medicine', 'Lady', 'In', 'and', 'Hell', 'forms', 'Denmark', 'hurricane', 'conventions', 'Dance', 'African-American', 'Film', 'Medieval', 'Israel', 'Seven', 'Blacklight', 'Perfume', 'about', 'Your', 'Vikings', 'Distilled', 'Fictional', 'Dance-pop', 'depictions', 'Drink', 'Devil', 'accidents', 'Love', 'Glam', 'Tov', 'Dentistry', 'bat', 'Sword', 'life', 'hip', 'Oyster', 'Mouth', 'Tropical', 'Drama', 'Burdon', 'Great', 'Bruno', 'Songwriter', 'Railroad', 'Materials', 'attitudes', 'compositions', 'Artificial', 'Saint', 'dependence', 'books', 'pageant', 'Heaven', 'engineers', 'Fiction', 'Indian', 'Primates', 'Sports', 'death', 'Fantasy', 'disasters', 'Cultural', 'Middle', 'Baby', 'Superman', 'rituals', 'When', 'Jerusalem', 'devices', '(music)', 'Hip', 'Appetite', 'skates', 'mental', 'of', 'directed', 'People', 'Earth', 'Ships', 'Europe', 'Knife', 'Walls', 'Man', 'Cher', 'Books', 'percenters', '(song)', 'faiths,', 'God', 'prayer', 'prayers', 'weapons', 'attention', 'radiation', 'Rhyme', 'Coasts', 'Luck', 'Geffen', 'landforms', 'Rolling', 'traditions,', 'Boarding', 'Wire', 'Death', 'stories', 'chance', 'North', 'Christianity', 'Thunder', 'Beauty', 'technology', 'Horology', 'poetry', 'Playing', 'singles', 'procedures', 'Novels', 'America', 'Primate', 'body', 'Jean', 'Cutting', 'Award', 'Philosophical', 'Chair', 'Rock', 'County,', 'Knot', 'Records', 'psychedelic', 'Glass', 'synthpop', 'You', 'Five', 'Physical', 'Monster', 'programs', 'Arts', 'Controlled-access', 'Funeral', 'seasons', 'Pride', 'Literature', 'Mythological', 'Funerals', 'Legend', 'art', 'Beaches', 'Monkeys', '(magic)', 'Stones', 'Nothing', 'perception', 'law', 'Vocal', 'applications', 'Tourism', 'Social', 'Ya!', 'Clan', 'needing', 'doctrines', 'highway', 'drinks', 'with', 'Gaming', 'Moon', 'instruments', 'arts', 'produced', 'Songs', 'games', 'Music', 'Grief', 'series', 'Hindi-language', 'industry', 'for', 'Abrahamic', 'Blues', 'Multilingual', 'anthropology', 'Me', 'Kentucky', 'science', 'Aerosmith', 'Song', 'Metaphysics', 'videos']\n"
     ]
    }
   ],
   "source": [
    "# Create vocabularies of individual columns 'entity','topic' and 'Google_Entity' \n",
    "# to be used in the vocabulary train for the inverted index\n",
    "\n",
    "# Create vocabulary for 'entity'\n",
    "\n",
    "entity_vocabulary = []\n",
    "\n",
    "for i in range(len(df['entity'])):\n",
    "    \n",
    "    if df['entity'][i] != '':\n",
    "        test = eval(df['entity'][i])\n",
    "        for j in test:\n",
    "            for key,value in j.items():\n",
    "                temp = key.split(' ')\n",
    "                for item in temp:\n",
    "                    entity_vocabulary.append(item)\n",
    "\n",
    "entity_vocabulary = list(set(entity_vocabulary))\n",
    "print(list(set(entity_vocabulary)))\n",
    "\n",
    "\n",
    "# Create vocabulary for 'topic'\n",
    "\n",
    "topic_vocabulary = []\n",
    "\n",
    "for i in range(len(df['topic'])):\n",
    "    test = eval(df['topic'][i])\n",
    "    for j in test:\n",
    "        for key,value in j.items():\n",
    "            temp = key.split(' ')\n",
    "            for item in temp:\n",
    "                topic_vocabulary.append(item)\n",
    "\n",
    "topic_vocabulary = list(set(topic_vocabulary))\n",
    "print(list(set(topic_vocabulary)))\n",
    "        \n",
    "\n",
    "# Create vocabulary for 'Google_Entities'\n",
    "\n",
    "google_entity_vocabulary = []\n",
    "\n",
    "for i in range(len(df['topic'])):\n",
    "    test = eval(df['topic'][i])\n",
    "    for j in test:\n",
    "        for key,value in j.items():\n",
    "            temp = key.split(' ')\n",
    "            for item in temp:\n",
    "                google_entity_vocabulary.append(item)\n",
    "\n",
    "google_entity_vocabulary = list(set(google_entity_vocabulary))\n",
    "print(google_entity_vocabulary)"
   ]
  },
  {
   "cell_type": "code",
   "execution_count": 251,
   "metadata": {
    "collapsed": true
   },
   "outputs": [],
   "source": [
    "# Create vocabulary train by merging the individual column vocabularies\n",
    "\n",
    "vocabulary_train = entity_vocabulary + topic_vocabulary + google_entity_vocabulary\n",
    "vocabulary_train = list(set(vocabulary_train))"
   ]
  },
  {
   "cell_type": "code",
   "execution_count": 287,
   "metadata": {
    "collapsed": true
   },
   "outputs": [],
   "source": [
    "# Create inverted index to query song entities\n",
    "\n",
    "def makeInvertedIndex(df,voctrain):\n",
    "       \n",
    "    InvertInd = {}\n",
    "    \n",
    "    for word in voctrain:\n",
    "        InvertInd[word] = []\n",
    "    \n",
    "\n",
    "    for j in voctrain:\n",
    "        for ind, val in enumerate(df['topic']):\n",
    "            if df['topic'][ind] != '':\n",
    "                evalue = eval(val) \n",
    "                #print(evalue)\n",
    "                for dual in evalue:\n",
    "                    for key,value in dual.items():\n",
    "                        keySplit = key.split(' ')\n",
    "                        for kS in keySplit:\n",
    "                            if j == kS:\n",
    "                                InvertInd[j].append(ind)\n",
    "    \n",
    "        \n",
    "    for j in voctrain:\n",
    "        for ind, val in enumerate(df['Google_Entities']):\n",
    "            if df['Google_Entities'][ind] != '':\n",
    "                evalue = eval(val) \n",
    "                for dual in evalue:\n",
    "                    for key,value in dual.items():\n",
    "                        keySplit = key.split(' ')\n",
    "                        for kS in keySplit:\n",
    "                            if j == kS:\n",
    "                                InvertInd[j].append(ind)  \n",
    "    \n",
    "\n",
    "    for j in voctrain:\n",
    "        for ind, val in enumerate(df['entity']):\n",
    "            if df['entity'][ind] != '':\n",
    "                evalue = eval(val) \n",
    "                for dual in evalue:\n",
    "                    for key,value in dual.items():\n",
    "                        keySplit = key.split(' ')\n",
    "                        for kS in keySplit:\n",
    "                            if j == kS:\n",
    "                                InvertInd[j].append(ind)\n",
    "             \n",
    "        \n",
    "        \n",
    "    return InvertInd          \n"
   ]
  },
  {
   "cell_type": "code",
   "execution_count": 288,
   "metadata": {
    "collapsed": true
   },
   "outputs": [],
   "source": [
    "# Store inverted index in a variable\n",
    "\n",
    "invertind = makeInvertedIndex(df,vocabulary_train)"
   ]
  },
  {
   "cell_type": "markdown",
   "metadata": {},
   "source": [
    "## Create OR and AND query search"
   ]
  },
  {
   "cell_type": "code",
   "execution_count": 315,
   "metadata": {
    "collapsed": true
   },
   "outputs": [],
   "source": [
    "def orSearch(invertedIndex, query, df):\n",
    "    \n",
    "    results = []\n",
    "    \n",
    "    print(\"Query is:\",query,\"\\n\")\n",
    "    \n",
    "    for ask in query:\n",
    "        print(\"Check for:\",ask)\n",
    "        if ask in invertedIndex:\n",
    "            word = invertedIndex[ask]\n",
    "            print(\"Found...\\n\")\n",
    "            for res in word:\n",
    "                #print(res)\n",
    "                if res not in results:\n",
    "                    results.append(res)\n",
    "        else:\n",
    "            print(\"Not found...\\n\")\n",
    "        \n",
    "    for i in results:\n",
    "        print(df['song'].iloc[i],\" by \", df['artist'].iloc[i])\n",
    "    #print(\"Results: \",results)\n",
    "    "
   ]
  },
  {
   "cell_type": "code",
   "execution_count": 318,
   "metadata": {},
   "outputs": [
    {
     "name": "stdout",
     "output_type": "stream",
     "text": [
      "Query is: ['Pond', 'Canoe'] \n",
      "\n",
      "Check for: Pond\n",
      "Found...\n",
      "\n",
      "Check for: Canoe\n",
      "Found...\n",
      "\n",
      "Everybody Get Dangerous  by  Weezer\n",
      "Cosmic Charlie  by  Grateful Dead\n"
     ]
    }
   ],
   "source": [
    "orSearch(invertind,['Pond','Canoe'],df)"
   ]
  },
  {
   "cell_type": "code",
   "execution_count": null,
   "metadata": {
    "collapsed": true
   },
   "outputs": [],
   "source": []
  },
  {
   "cell_type": "code",
   "execution_count": null,
   "metadata": {
    "collapsed": true
   },
   "outputs": [],
   "source": []
  }
 ],
 "metadata": {
  "kernelspec": {
   "display_name": "Python 3",
   "language": "python",
   "name": "python3"
  },
  "language_info": {
   "codemirror_mode": {
    "name": "ipython",
    "version": 3
   },
   "file_extension": ".py",
   "mimetype": "text/x-python",
   "name": "python",
   "nbconvert_exporter": "python",
   "pygments_lexer": "ipython3",
   "version": "3.6.1"
  }
 },
 "nbformat": 4,
 "nbformat_minor": 2
}
