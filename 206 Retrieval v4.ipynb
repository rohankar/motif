{
 "cells": [
  {
   "cell_type": "code",
   "execution_count": 18,
   "metadata": {
    "collapsed": true
   },
   "outputs": [],
   "source": [
    "import pandas as pd\n",
    "import numpy as np\n",
    "import functools\n",
    "import collections\n",
    "pd.options.mode.chained_assignment = None"
   ]
  },
  {
   "cell_type": "code",
   "execution_count": 19,
   "metadata": {
    "collapsed": true
   },
   "outputs": [],
   "source": [
    "df = pd.read_excel('song_data2.xlsx')"
   ]
  },
  {
   "cell_type": "code",
   "execution_count": 20,
   "metadata": {},
   "outputs": [
    {
     "data": {
      "text/html": [
       "<div>\n",
       "<style>\n",
       "    .dataframe thead tr:only-child th {\n",
       "        text-align: right;\n",
       "    }\n",
       "\n",
       "    .dataframe thead th {\n",
       "        text-align: left;\n",
       "    }\n",
       "\n",
       "    .dataframe tbody tr th {\n",
       "        vertical-align: top;\n",
       "    }\n",
       "</style>\n",
       "<table border=\"1\" class=\"dataframe\">\n",
       "  <thead>\n",
       "    <tr style=\"text-align: right;\">\n",
       "      <th></th>\n",
       "      <th>ID</th>\n",
       "      <th>artist</th>\n",
       "      <th>song</th>\n",
       "      <th>album</th>\n",
       "      <th>released</th>\n",
       "      <th>genre</th>\n",
       "      <th>home_country</th>\n",
       "      <th>singer_age_at_release</th>\n",
       "      <th>entity</th>\n",
       "      <th>topic</th>\n",
       "      <th>Google_Entities</th>\n",
       "      <th>overall_sentiment</th>\n",
       "    </tr>\n",
       "  </thead>\n",
       "  <tbody>\n",
       "    <tr>\n",
       "      <th>0</th>\n",
       "      <td>1</td>\n",
       "      <td>Aerosmith</td>\n",
       "      <td>Janie's Got A Gun</td>\n",
       "      <td>Pump</td>\n",
       "      <td>1989</td>\n",
       "      <td>Hard rock, Rock</td>\n",
       "      <td>United States</td>\n",
       "      <td>41</td>\n",
       "      <td>[{\"Janie's Got a Gun\": 0.2361}, {'Honey': 0.05...</td>\n",
       "      <td>[{'Songs written': 1}, {'Aerosmith songs': 1},...</td>\n",
       "      <td>[{'Janie': 0.62619865}, {'honey': 0.10297375},...</td>\n",
       "      <td>-0.7</td>\n",
       "    </tr>\n",
       "    <tr>\n",
       "      <th>1</th>\n",
       "      <td>2</td>\n",
       "      <td>Aerosmith</td>\n",
       "      <td>Magic Touch</td>\n",
       "      <td>Permanent Vacation</td>\n",
       "      <td>1987</td>\n",
       "      <td>Hard rock, Rock</td>\n",
       "      <td>United States</td>\n",
       "      <td>39</td>\n",
       "      <td>[{'Shotgun': 0.1503}, {'babe': 0}]</td>\n",
       "      <td>[{'Albums': 0.5973}, {'Recorded music': 0.5719...</td>\n",
       "      <td>[{'fire burnin': 0.20596175}, {'Cause': 0.0714...</td>\n",
       "      <td>-0.6</td>\n",
       "    </tr>\n",
       "    <tr>\n",
       "      <th>2</th>\n",
       "      <td>3</td>\n",
       "      <td>Aerosmith</td>\n",
       "      <td>Taste Of India</td>\n",
       "      <td>Nine Lives</td>\n",
       "      <td>1997</td>\n",
       "      <td>Hard rock</td>\n",
       "      <td>United States</td>\n",
       "      <td>49</td>\n",
       "      <td>[{'Incense': 0.2548}, {'Sweetness of wine': 0....</td>\n",
       "      <td>[{'Wine': 0.7881}, {'Recorded music': 0.7072},...</td>\n",
       "      <td>[{'kind': 0.3166986}, {'taste': 0.23181729}, {...</td>\n",
       "      <td>0.6</td>\n",
       "    </tr>\n",
       "  </tbody>\n",
       "</table>\n",
       "</div>"
      ],
      "text/plain": [
       "   ID     artist               song               album  released  \\\n",
       "0   1  Aerosmith  Janie's Got A Gun                Pump      1989   \n",
       "1   2  Aerosmith        Magic Touch  Permanent Vacation      1987   \n",
       "2   3  Aerosmith     Taste Of India          Nine Lives      1997   \n",
       "\n",
       "             genre   home_country  singer_age_at_release  \\\n",
       "0  Hard rock, Rock  United States                     41   \n",
       "1  Hard rock, Rock  United States                     39   \n",
       "2        Hard rock  United States                     49   \n",
       "\n",
       "                                              entity  \\\n",
       "0  [{\"Janie's Got a Gun\": 0.2361}, {'Honey': 0.05...   \n",
       "1                 [{'Shotgun': 0.1503}, {'babe': 0}]   \n",
       "2  [{'Incense': 0.2548}, {'Sweetness of wine': 0....   \n",
       "\n",
       "                                               topic  \\\n",
       "0  [{'Songs written': 1}, {'Aerosmith songs': 1},...   \n",
       "1  [{'Albums': 0.5973}, {'Recorded music': 0.5719...   \n",
       "2  [{'Wine': 0.7881}, {'Recorded music': 0.7072},...   \n",
       "\n",
       "                                     Google_Entities  overall_sentiment  \n",
       "0  [{'Janie': 0.62619865}, {'honey': 0.10297375},...               -0.7  \n",
       "1  [{'fire burnin': 0.20596175}, {'Cause': 0.0714...               -0.6  \n",
       "2  [{'kind': 0.3166986}, {'taste': 0.23181729}, {...                0.6  "
      ]
     },
     "execution_count": 20,
     "metadata": {},
     "output_type": "execute_result"
    }
   ],
   "source": [
    "df.head(3)"
   ]
  },
  {
   "cell_type": "code",
   "execution_count": 21,
   "metadata": {
    "collapsed": true
   },
   "outputs": [],
   "source": [
    "# Replace NaN values with empty strings\n",
    "\n",
    "df['entity'] = df['entity'].fillna('')\n",
    "df['Google_Entities'] = df['Google_Entities'].fillna('')"
   ]
  },
  {
   "cell_type": "code",
   "execution_count": 22,
   "metadata": {
    "collapsed": true
   },
   "outputs": [],
   "source": [
    "# Function to convert the genre value in each row to a list  \n",
    "def list_converter (value):\n",
    "    return value.split(', ') \n",
    "df['genre'] = df['genre'].apply(list_converter)"
   ]
  },
  {
   "cell_type": "code",
   "execution_count": 23,
   "metadata": {},
   "outputs": [
    {
     "data": {
      "text/html": [
       "<div>\n",
       "<style>\n",
       "    .dataframe thead tr:only-child th {\n",
       "        text-align: right;\n",
       "    }\n",
       "\n",
       "    .dataframe thead th {\n",
       "        text-align: left;\n",
       "    }\n",
       "\n",
       "    .dataframe tbody tr th {\n",
       "        vertical-align: top;\n",
       "    }\n",
       "</style>\n",
       "<table border=\"1\" class=\"dataframe\">\n",
       "  <thead>\n",
       "    <tr style=\"text-align: right;\">\n",
       "      <th></th>\n",
       "      <th>ID</th>\n",
       "      <th>artist</th>\n",
       "      <th>song</th>\n",
       "      <th>album</th>\n",
       "      <th>released</th>\n",
       "      <th>genre</th>\n",
       "      <th>home_country</th>\n",
       "      <th>singer_age_at_release</th>\n",
       "      <th>entity</th>\n",
       "      <th>topic</th>\n",
       "      <th>Google_Entities</th>\n",
       "      <th>overall_sentiment</th>\n",
       "    </tr>\n",
       "  </thead>\n",
       "  <tbody>\n",
       "    <tr>\n",
       "      <th>0</th>\n",
       "      <td>1</td>\n",
       "      <td>Aerosmith</td>\n",
       "      <td>Janie's Got A Gun</td>\n",
       "      <td>Pump</td>\n",
       "      <td>1989</td>\n",
       "      <td>[Hard rock, Rock]</td>\n",
       "      <td>United States</td>\n",
       "      <td>41</td>\n",
       "      <td>[{\"Janie's Got a Gun\": 0.2361}, {'Honey': 0.05...</td>\n",
       "      <td>[{'Songs written': 1}, {'Aerosmith songs': 1},...</td>\n",
       "      <td>[{'Janie': 0.62619865}, {'honey': 0.10297375},...</td>\n",
       "      <td>-0.7</td>\n",
       "    </tr>\n",
       "    <tr>\n",
       "      <th>1</th>\n",
       "      <td>2</td>\n",
       "      <td>Aerosmith</td>\n",
       "      <td>Magic Touch</td>\n",
       "      <td>Permanent Vacation</td>\n",
       "      <td>1987</td>\n",
       "      <td>[Hard rock, Rock]</td>\n",
       "      <td>United States</td>\n",
       "      <td>39</td>\n",
       "      <td>[{'Shotgun': 0.1503}, {'babe': 0}]</td>\n",
       "      <td>[{'Albums': 0.5973}, {'Recorded music': 0.5719...</td>\n",
       "      <td>[{'fire burnin': 0.20596175}, {'Cause': 0.0714...</td>\n",
       "      <td>-0.6</td>\n",
       "    </tr>\n",
       "  </tbody>\n",
       "</table>\n",
       "</div>"
      ],
      "text/plain": [
       "   ID     artist               song               album  released  \\\n",
       "0   1  Aerosmith  Janie's Got A Gun                Pump      1989   \n",
       "1   2  Aerosmith        Magic Touch  Permanent Vacation      1987   \n",
       "\n",
       "               genre   home_country  singer_age_at_release  \\\n",
       "0  [Hard rock, Rock]  United States                     41   \n",
       "1  [Hard rock, Rock]  United States                     39   \n",
       "\n",
       "                                              entity  \\\n",
       "0  [{\"Janie's Got a Gun\": 0.2361}, {'Honey': 0.05...   \n",
       "1                 [{'Shotgun': 0.1503}, {'babe': 0}]   \n",
       "\n",
       "                                               topic  \\\n",
       "0  [{'Songs written': 1}, {'Aerosmith songs': 1},...   \n",
       "1  [{'Albums': 0.5973}, {'Recorded music': 0.5719...   \n",
       "\n",
       "                                     Google_Entities  overall_sentiment  \n",
       "0  [{'Janie': 0.62619865}, {'honey': 0.10297375},...               -0.7  \n",
       "1  [{'fire burnin': 0.20596175}, {'Cause': 0.0714...               -0.6  "
      ]
     },
     "execution_count": 23,
     "metadata": {},
     "output_type": "execute_result"
    }
   ],
   "source": [
    "df.head(2)"
   ]
  },
  {
   "cell_type": "code",
   "execution_count": 24,
   "metadata": {
    "collapsed": true
   },
   "outputs": [],
   "source": [
    "# Getting artist choices "
   ]
  },
  {
   "cell_type": "code",
   "execution_count": 25,
   "metadata": {},
   "outputs": [
    {
     "name": "stdout",
     "output_type": "stream",
     "text": [
      "Artist options: \n"
     ]
    },
    {
     "data": {
      "text/plain": [
       "(None,\n",
       " ['Aerosmith',\n",
       "  'Bruno Mars',\n",
       "  'Coldplay',\n",
       "  'Doors',\n",
       "  'Elton John',\n",
       "  'Elvis Presley',\n",
       "  'Grateful Dead',\n",
       "  'Jimi Hendrix',\n",
       "  'John Legend',\n",
       "  'Lady Gaga',\n",
       "  'Linkin Park',\n",
       "  'Maroon 5',\n",
       "  'Metallica',\n",
       "  'Michael Jackson',\n",
       "  'Nickelback',\n",
       "  'Outkast',\n",
       "  'Santana',\n",
       "  'Stevie Wonder',\n",
       "  'Weezer',\n",
       "  'Wu-Tang Clan'])"
      ]
     },
     "execution_count": 25,
     "metadata": {},
     "output_type": "execute_result"
    }
   ],
   "source": [
    "unique_artists = list(df['artist'].unique())\n",
    "print ('Artist options: '), unique_artists"
   ]
  },
  {
   "cell_type": "code",
   "execution_count": 9,
   "metadata": {},
   "outputs": [
    {
     "name": "stdout",
     "output_type": "stream",
     "text": [
      "Please select your artists (or type * to select all): \n"
     ]
    }
   ],
   "source": [
    "artist_input = input('Please select your artists (or type * to select all): ')"
   ]
  },
  {
   "cell_type": "code",
   "execution_count": 10,
   "metadata": {
    "collapsed": true
   },
   "outputs": [],
   "source": [
    "if artist_input == '*':\n",
    "    artist_input = unique_artists\n",
    "else:\n",
    "    artist_input = artist_input.split(', ')"
   ]
  },
  {
   "cell_type": "code",
   "execution_count": 11,
   "metadata": {
    "collapsed": true
   },
   "outputs": [],
   "source": [
    "# First instance of filtering the dataset\n",
    "df_filtered = df.loc[df['artist'].isin(artist_input)]"
   ]
  },
  {
   "cell_type": "code",
   "execution_count": null,
   "metadata": {
    "collapsed": true
   },
   "outputs": [],
   "source": []
  },
  {
   "cell_type": "code",
   "execution_count": 12,
   "metadata": {},
   "outputs": [
    {
     "name": "stdout",
     "output_type": "stream",
     "text": [
      "Song options: \n"
     ]
    },
    {
     "data": {
      "text/plain": [
       "(None, [])"
      ]
     },
     "execution_count": 12,
     "metadata": {},
     "output_type": "execute_result"
    }
   ],
   "source": [
    "unique_songs = list(df_filtered['song'].unique())\n",
    "print ('Song options: '), unique_songs"
   ]
  },
  {
   "cell_type": "code",
   "execution_count": 13,
   "metadata": {},
   "outputs": [
    {
     "name": "stdout",
     "output_type": "stream",
     "text": [
      "Please select your songs (or type * to select all): \n"
     ]
    }
   ],
   "source": [
    "# Getting song choices - include this?\n",
    "song_input = input('Please select your songs (or type * to select all): ')"
   ]
  },
  {
   "cell_type": "code",
   "execution_count": 14,
   "metadata": {
    "collapsed": true
   },
   "outputs": [],
   "source": [
    "if song_input == '*':\n",
    "    song_input = list(df['song'])\n",
    "else:\n",
    "    song_input = song_input.split(', ')"
   ]
  },
  {
   "cell_type": "code",
   "execution_count": 15,
   "metadata": {
    "collapsed": true
   },
   "outputs": [],
   "source": [
    "# Filtering again\n",
    "df_filtered = df_filtered.loc[df_filtered['song'].isin(song_input)]"
   ]
  },
  {
   "cell_type": "code",
   "execution_count": 16,
   "metadata": {},
   "outputs": [
    {
     "name": "stdout",
     "output_type": "stream",
     "text": [
      "Album options: \n"
     ]
    },
    {
     "data": {
      "text/plain": [
       "(None, [])"
      ]
     },
     "execution_count": 16,
     "metadata": {},
     "output_type": "execute_result"
    }
   ],
   "source": [
    "# Getting album choices\n",
    "unique_albums = list(df_filtered['album'].unique())\n",
    "print ('Album options: '), unique_albums"
   ]
  },
  {
   "cell_type": "code",
   "execution_count": 17,
   "metadata": {},
   "outputs": [
    {
     "name": "stdout",
     "output_type": "stream",
     "text": [
      "Please select your albums (or type * to select all): \n"
     ]
    }
   ],
   "source": [
    "album_input = input('Please select your albums (or type * to select all): ')"
   ]
  },
  {
   "cell_type": "code",
   "execution_count": 18,
   "metadata": {
    "collapsed": true
   },
   "outputs": [],
   "source": [
    "if album_input == '*':\n",
    "    album_input = unique_albums\n",
    "else:\n",
    "    album_input = album_input.split(', ')"
   ]
  },
  {
   "cell_type": "code",
   "execution_count": 19,
   "metadata": {
    "collapsed": true
   },
   "outputs": [],
   "source": [
    "# Filtering the dataset again\n",
    "df_filtered = df_filtered.loc[df_filtered['album'].isin(album_input)]"
   ]
  },
  {
   "cell_type": "code",
   "execution_count": 20,
   "metadata": {},
   "outputs": [
    {
     "name": "stdout",
     "output_type": "stream",
     "text": [
      "Country options: \n"
     ]
    },
    {
     "data": {
      "text/plain": [
       "(None, [])"
      ]
     },
     "execution_count": 20,
     "metadata": {},
     "output_type": "execute_result"
    }
   ],
   "source": [
    "# Getting country choices\n",
    "unique_countries = list(df_filtered['home_country'].unique())\n",
    "print ('Country options: '), unique_countries"
   ]
  },
  {
   "cell_type": "code",
   "execution_count": 21,
   "metadata": {
    "scrolled": true
   },
   "outputs": [
    {
     "name": "stdout",
     "output_type": "stream",
     "text": [
      "Please select your countries (or type * to select all): \n"
     ]
    }
   ],
   "source": [
    "country_input = input('Please select your countries (or type * to select all): ')"
   ]
  },
  {
   "cell_type": "code",
   "execution_count": 22,
   "metadata": {
    "collapsed": true
   },
   "outputs": [],
   "source": [
    "if country_input == '*':\n",
    "    country_input = unique_countries\n",
    "else:\n",
    "    country_input = country_input.split(', ')"
   ]
  },
  {
   "cell_type": "code",
   "execution_count": 23,
   "metadata": {
    "collapsed": true
   },
   "outputs": [],
   "source": [
    "# Filtering the dataset again\n",
    "df_filtered = df_filtered.loc[df_filtered['home_country'].isin(country_input)]"
   ]
  },
  {
   "cell_type": "code",
   "execution_count": 24,
   "metadata": {},
   "outputs": [
    {
     "name": "stdout",
     "output_type": "stream",
     "text": [
      "Genre options: \n"
     ]
    },
    {
     "data": {
      "text/plain": [
       "(None, set())"
      ]
     },
     "execution_count": 24,
     "metadata": {},
     "output_type": "execute_result"
    }
   ],
   "source": [
    "# Getting genre choices - will update once we decide to only use 1 per song\n",
    "\n",
    "unflattened_genre_list = list(df_filtered['genre'])\n",
    "unique_genres = set([item for sublist in unflattened_genre_list for item in sublist])\n",
    "print ('Genre options: '), unique_genres"
   ]
  },
  {
   "cell_type": "code",
   "execution_count": 25,
   "metadata": {
    "scrolled": true
   },
   "outputs": [
    {
     "name": "stdout",
     "output_type": "stream",
     "text": [
      "Please select your genres (or type * to select all): \n"
     ]
    }
   ],
   "source": [
    "genre_input = input('Please select your genres (or type * to select all): ')"
   ]
  },
  {
   "cell_type": "code",
   "execution_count": 26,
   "metadata": {
    "collapsed": true
   },
   "outputs": [],
   "source": [
    "if genre_input == '*':\n",
    "    genre_input = list(unique_genres)\n",
    "else:\n",
    "    genre_input = genre_input.split(', ')"
   ]
  },
  {
   "cell_type": "code",
   "execution_count": 27,
   "metadata": {
    "collapsed": true
   },
   "outputs": [],
   "source": [
    "# Filtering to rows that include the genres mentioned \n",
    "df_filtered['genre_match'] = False\n",
    "for count, each_row in enumerate(df_filtered['genre']):\n",
    "    for item in each_row:\n",
    "        if item in genre_input:\n",
    "            df_filtered['genre_match'].iloc[count] = True\n",
    "df_filtered = df_filtered.loc[df_filtered['genre_match'] == True]"
   ]
  },
  {
   "cell_type": "code",
   "execution_count": 28,
   "metadata": {},
   "outputs": [
    {
     "data": {
      "text/html": [
       "<div>\n",
       "<style scoped>\n",
       "    .dataframe tbody tr th:only-of-type {\n",
       "        vertical-align: middle;\n",
       "    }\n",
       "\n",
       "    .dataframe tbody tr th {\n",
       "        vertical-align: top;\n",
       "    }\n",
       "\n",
       "    .dataframe thead th {\n",
       "        text-align: right;\n",
       "    }\n",
       "</style>\n",
       "<table border=\"1\" class=\"dataframe\">\n",
       "  <thead>\n",
       "    <tr style=\"text-align: right;\">\n",
       "      <th></th>\n",
       "      <th>ID</th>\n",
       "      <th>artist</th>\n",
       "      <th>song</th>\n",
       "      <th>album</th>\n",
       "      <th>released</th>\n",
       "      <th>genre</th>\n",
       "      <th>home_country</th>\n",
       "      <th>singer_age_at_release</th>\n",
       "      <th>entity</th>\n",
       "      <th>topic</th>\n",
       "      <th>Google_Entities</th>\n",
       "      <th>overall_sentiment</th>\n",
       "      <th>genre_match</th>\n",
       "    </tr>\n",
       "  </thead>\n",
       "  <tbody>\n",
       "  </tbody>\n",
       "</table>\n",
       "</div>"
      ],
      "text/plain": [
       "Empty DataFrame\n",
       "Columns: [ID, artist, song, album, released, genre, home_country, singer_age_at_release, entity, topic, Google_Entities, overall_sentiment, genre_match]\n",
       "Index: []"
      ]
     },
     "execution_count": 28,
     "metadata": {},
     "output_type": "execute_result"
    }
   ],
   "source": [
    "df_filtered.head()"
   ]
  },
  {
   "cell_type": "code",
   "execution_count": 29,
   "metadata": {
    "scrolled": true
   },
   "outputs": [
    {
     "name": "stdout",
     "output_type": "stream",
     "text": [
      "Release date options: \n",
      " 1960-1969 \n",
      " 1970-1979 \n",
      " 1980-1989 \n",
      " 1990-1999 \n",
      " 2000-2009 \n",
      " 2010-Present\n"
     ]
    }
   ],
   "source": [
    "print ('Release date options: \\n 1960-1969 \\n 1970-1979 \\n 1980-1989 \\n 1990-1999 \\n 2000-2009 \\n 2010-Present')"
   ]
  },
  {
   "cell_type": "code",
   "execution_count": 30,
   "metadata": {},
   "outputs": [
    {
     "name": "stdout",
     "output_type": "stream",
     "text": [
      "Please select your release year (or type * to select all): \n"
     ]
    }
   ],
   "source": [
    "release_input = input('Please select your release year (or type * to select all): ')"
   ]
  },
  {
   "cell_type": "code",
   "execution_count": 31,
   "metadata": {
    "scrolled": true
   },
   "outputs": [
    {
     "data": {
      "text/plain": [
       "''"
      ]
     },
     "execution_count": 31,
     "metadata": {},
     "output_type": "execute_result"
    }
   ],
   "source": [
    "release_input"
   ]
  },
  {
   "cell_type": "code",
   "execution_count": 32,
   "metadata": {
    "collapsed": true
   },
   "outputs": [],
   "source": [
    "release_year_list = []\n",
    "\n",
    "if release_input == '*':\n",
    "    for elem in range (1960, 2018):\n",
    "        release_year_list.append(elem)\n",
    "else:\n",
    "    release_input = release_input.split(', ')\n",
    "    for elem in release_input:\n",
    "        if '1960' in elem:\n",
    "                for elem in range (1960, 1970):\n",
    "                    release_year_list.append(elem)\n",
    "        elif '1970' in elem:\n",
    "                for elem in range (1970, 1980):\n",
    "                    release_year_list.append(elem)\n",
    "        elif '1980' in elem:\n",
    "                for elem in range (1980, 1990):\n",
    "                    release_year_list.append(elem)\n",
    "        elif '1990' in elem:\n",
    "                for elem in range (1990, 2000):\n",
    "                    release_year_list.append(elem)\n",
    "        elif '2000' in elem:\n",
    "                for elem in range (2000, 2010):\n",
    "                    release_year_list.append(elem)\n",
    "        elif '2010' in elem:\n",
    "                for elem in range (2010, 2018):\n",
    "                    release_year_list.append(elem)\n",
    "                    \n",
    "release_input = release_year_list"
   ]
  },
  {
   "cell_type": "code",
   "execution_count": 14,
   "metadata": {},
   "outputs": [
    {
     "ename": "NameError",
     "evalue": "name 'df_filtered' is not defined",
     "output_type": "error",
     "traceback": [
      "\u001b[1;31m---------------------------------------------------------------------------\u001b[0m",
      "\u001b[1;31mNameError\u001b[0m                                 Traceback (most recent call last)",
      "\u001b[1;32m<ipython-input-14-5f1d29d8dbe8>\u001b[0m in \u001b[0;36m<module>\u001b[1;34m()\u001b[0m\n\u001b[0;32m      1\u001b[0m \u001b[1;31m# Filtering the dataset again\u001b[0m\u001b[1;33m\u001b[0m\u001b[1;33m\u001b[0m\u001b[0m\n\u001b[1;32m----> 2\u001b[1;33m \u001b[0mdf_filtered\u001b[0m \u001b[1;33m=\u001b[0m \u001b[0mdf_filtered\u001b[0m\u001b[1;33m.\u001b[0m\u001b[0mloc\u001b[0m\u001b[1;33m[\u001b[0m\u001b[0mdf_filtered\u001b[0m\u001b[1;33m[\u001b[0m\u001b[1;34m'released'\u001b[0m\u001b[1;33m]\u001b[0m\u001b[1;33m.\u001b[0m\u001b[0misin\u001b[0m\u001b[1;33m(\u001b[0m\u001b[0mrelease_input\u001b[0m\u001b[1;33m)\u001b[0m\u001b[1;33m]\u001b[0m\u001b[1;33m\u001b[0m\u001b[0m\n\u001b[0m",
      "\u001b[1;31mNameError\u001b[0m: name 'df_filtered' is not defined"
     ]
    }
   ],
   "source": [
    "# Filtering the dataset again\n",
    "df_filtered = df_filtered.loc[df_filtered['released'].isin(release_input)]"
   ]
  },
  {
   "cell_type": "code",
   "execution_count": 34,
   "metadata": {
    "collapsed": true
   },
   "outputs": [],
   "source": [
    "# Add ranges for how old the singer was at release"
   ]
  },
  {
   "cell_type": "code",
   "execution_count": 35,
   "metadata": {},
   "outputs": [
    {
     "name": "stdout",
     "output_type": "stream",
     "text": [
      "Singer age options: \n",
      " 10-19 \n",
      " 20-29 \n",
      " 30-39 \n",
      " 40-49 \n",
      " 50-59\n"
     ]
    }
   ],
   "source": [
    "print ('Singer age options: \\n 10-19 \\n 20-29 \\n 30-39 \\n 40-49 \\n 50-59')"
   ]
  },
  {
   "cell_type": "code",
   "execution_count": 36,
   "metadata": {},
   "outputs": [
    {
     "name": "stdout",
     "output_type": "stream",
     "text": [
      "Please select an age range for singers (or type * to select all): *\n"
     ]
    }
   ],
   "source": [
    "age_input = input('Please select an age range for singers (or type * to select all): ')"
   ]
  },
  {
   "cell_type": "code",
   "execution_count": 37,
   "metadata": {
    "collapsed": true
   },
   "outputs": [],
   "source": [
    "age_year_list = []\n",
    "\n",
    "if age_input == '*':\n",
    "    for elem in range (10, 56):\n",
    "        age_year_list.append(elem)\n",
    "else:\n",
    "    age_input = age_input.split(', ')\n",
    "    for elem in age_input:\n",
    "        if '10' in elem:\n",
    "                for elem in range (10, 20):\n",
    "                    age_year_list.append(elem)\n",
    "        elif '20' in elem:\n",
    "                for elem in range (20, 30):\n",
    "                    age_year_list.append(elem)\n",
    "        elif '30' in elem:\n",
    "                for elem in range (30, 40):\n",
    "                    age_year_list.append(elem)\n",
    "        elif '40' in elem:\n",
    "                for elem in range (40, 50):\n",
    "                    age_year_list.append(elem)\n",
    "        elif '50' in elem:\n",
    "                for elem in range (50, 57):\n",
    "                    age_year_list.append(elem)\n",
    "                    \n",
    "age_input = age_year_list"
   ]
  },
  {
   "cell_type": "code",
   "execution_count": 38,
   "metadata": {
    "collapsed": true
   },
   "outputs": [],
   "source": [
    "# Filtering the dataset again\n",
    "df_filtered = df_filtered.loc[df_filtered['singer_age_at_release'].isin(age_input)]"
   ]
  },
  {
   "cell_type": "code",
   "execution_count": 39,
   "metadata": {
    "scrolled": false
   },
   "outputs": [
    {
     "data": {
      "text/html": [
       "<div>\n",
       "<style scoped>\n",
       "    .dataframe tbody tr th:only-of-type {\n",
       "        vertical-align: middle;\n",
       "    }\n",
       "\n",
       "    .dataframe tbody tr th {\n",
       "        vertical-align: top;\n",
       "    }\n",
       "\n",
       "    .dataframe thead th {\n",
       "        text-align: right;\n",
       "    }\n",
       "</style>\n",
       "<table border=\"1\" class=\"dataframe\">\n",
       "  <thead>\n",
       "    <tr style=\"text-align: right;\">\n",
       "      <th></th>\n",
       "      <th>ID</th>\n",
       "      <th>artist</th>\n",
       "      <th>song</th>\n",
       "      <th>album</th>\n",
       "      <th>released</th>\n",
       "      <th>genre</th>\n",
       "      <th>home_country</th>\n",
       "      <th>singer_age_at_release</th>\n",
       "      <th>entity</th>\n",
       "      <th>topic</th>\n",
       "      <th>Google_Entities</th>\n",
       "      <th>overall_sentiment</th>\n",
       "      <th>genre_match</th>\n",
       "    </tr>\n",
       "  </thead>\n",
       "  <tbody>\n",
       "    <tr>\n",
       "      <th>0</th>\n",
       "      <td>1</td>\n",
       "      <td>Aerosmith</td>\n",
       "      <td>Janie's Got A Gun</td>\n",
       "      <td>Pump</td>\n",
       "      <td>1989</td>\n",
       "      <td>[Hard rock, Rock]</td>\n",
       "      <td>United States</td>\n",
       "      <td>41</td>\n",
       "      <td>[{\"Janie's Got a Gun\": 0.2361}, {'Honey': 0.05...</td>\n",
       "      <td>[{'Songs written': 1}, {'Aerosmith songs': 1},...</td>\n",
       "      <td>[{'Janie': 0.62619865}, {'honey': 0.10297375},...</td>\n",
       "      <td>-0.7</td>\n",
       "      <td>True</td>\n",
       "    </tr>\n",
       "    <tr>\n",
       "      <th>1</th>\n",
       "      <td>2</td>\n",
       "      <td>Aerosmith</td>\n",
       "      <td>Magic Touch</td>\n",
       "      <td>Permanent Vacation</td>\n",
       "      <td>1987</td>\n",
       "      <td>[Hard rock, Rock]</td>\n",
       "      <td>United States</td>\n",
       "      <td>39</td>\n",
       "      <td>[{'Shotgun': 0.1503}, {'babe': 0}]</td>\n",
       "      <td>[{'Albums': 0.5973}, {'Recorded music': 0.5719...</td>\n",
       "      <td>[{'fire burnin': 0.20596175}, {'Cause': 0.0714...</td>\n",
       "      <td>-0.6</td>\n",
       "      <td>True</td>\n",
       "    </tr>\n",
       "    <tr>\n",
       "      <th>2</th>\n",
       "      <td>3</td>\n",
       "      <td>Aerosmith</td>\n",
       "      <td>Taste Of India</td>\n",
       "      <td>Nine Lives</td>\n",
       "      <td>1997</td>\n",
       "      <td>[Hard rock]</td>\n",
       "      <td>United States</td>\n",
       "      <td>49</td>\n",
       "      <td>[{'Incense': 0.2548}, {'Sweetness of wine': 0....</td>\n",
       "      <td>[{'Wine': 0.7881}, {'Recorded music': 0.7072},...</td>\n",
       "      <td>[{'kind': 0.3166986}, {'taste': 0.23181729}, {...</td>\n",
       "      <td>0.6</td>\n",
       "      <td>True</td>\n",
       "    </tr>\n",
       "    <tr>\n",
       "      <th>3</th>\n",
       "      <td>4</td>\n",
       "      <td>Aerosmith</td>\n",
       "      <td>Dream On</td>\n",
       "      <td>Aerosmith</td>\n",
       "      <td>1973</td>\n",
       "      <td>[Classic rock, Rock]</td>\n",
       "      <td>United States</td>\n",
       "      <td>25</td>\n",
       "      <td>[{'Dawn': 0.2379}, {'Sin': 0.2023}, {'Laughter...</td>\n",
       "      <td>[{'Dawn': 0.3767}, {'Entertainment': 0.3653}, ...</td>\n",
       "      <td>[{'Lord': 0.2157075}, {'Everybody': 0.05828119...</td>\n",
       "      <td>0.0</td>\n",
       "      <td>True</td>\n",
       "    </tr>\n",
       "    <tr>\n",
       "      <th>5</th>\n",
       "      <td>6</td>\n",
       "      <td>Aerosmith</td>\n",
       "      <td>Falling Off</td>\n",
       "      <td>Nine Lives</td>\n",
       "      <td>1997</td>\n",
       "      <td>[Hard rock]</td>\n",
       "      <td>United States</td>\n",
       "      <td>49</td>\n",
       "      <td>[{'t callI': 0}, {'I saidI': 0}, {'I didn': 0}...</td>\n",
       "      <td>[{'Literature': 0.3241}, {'Fiction': 0.3006}, ...</td>\n",
       "      <td>[{'way': 0.24776857}, {'man': 0.14769095}, {'h...</td>\n",
       "      <td>-0.6</td>\n",
       "      <td>True</td>\n",
       "    </tr>\n",
       "  </tbody>\n",
       "</table>\n",
       "</div>"
      ],
      "text/plain": [
       "   ID     artist               song               album  released  \\\n",
       "0   1  Aerosmith  Janie's Got A Gun                Pump      1989   \n",
       "1   2  Aerosmith        Magic Touch  Permanent Vacation      1987   \n",
       "2   3  Aerosmith     Taste Of India          Nine Lives      1997   \n",
       "3   4  Aerosmith           Dream On           Aerosmith      1973   \n",
       "5   6  Aerosmith        Falling Off          Nine Lives      1997   \n",
       "\n",
       "                  genre   home_country  singer_age_at_release  \\\n",
       "0     [Hard rock, Rock]  United States                     41   \n",
       "1     [Hard rock, Rock]  United States                     39   \n",
       "2           [Hard rock]  United States                     49   \n",
       "3  [Classic rock, Rock]  United States                     25   \n",
       "5           [Hard rock]  United States                     49   \n",
       "\n",
       "                                              entity  \\\n",
       "0  [{\"Janie's Got a Gun\": 0.2361}, {'Honey': 0.05...   \n",
       "1                 [{'Shotgun': 0.1503}, {'babe': 0}]   \n",
       "2  [{'Incense': 0.2548}, {'Sweetness of wine': 0....   \n",
       "3  [{'Dawn': 0.2379}, {'Sin': 0.2023}, {'Laughter...   \n",
       "5  [{'t callI': 0}, {'I saidI': 0}, {'I didn': 0}...   \n",
       "\n",
       "                                               topic  \\\n",
       "0  [{'Songs written': 1}, {'Aerosmith songs': 1},...   \n",
       "1  [{'Albums': 0.5973}, {'Recorded music': 0.5719...   \n",
       "2  [{'Wine': 0.7881}, {'Recorded music': 0.7072},...   \n",
       "3  [{'Dawn': 0.3767}, {'Entertainment': 0.3653}, ...   \n",
       "5  [{'Literature': 0.3241}, {'Fiction': 0.3006}, ...   \n",
       "\n",
       "                                     Google_Entities  overall_sentiment  \\\n",
       "0  [{'Janie': 0.62619865}, {'honey': 0.10297375},...               -0.7   \n",
       "1  [{'fire burnin': 0.20596175}, {'Cause': 0.0714...               -0.6   \n",
       "2  [{'kind': 0.3166986}, {'taste': 0.23181729}, {...                0.6   \n",
       "3  [{'Lord': 0.2157075}, {'Everybody': 0.05828119...                0.0   \n",
       "5  [{'way': 0.24776857}, {'man': 0.14769095}, {'h...               -0.6   \n",
       "\n",
       "   genre_match  \n",
       "0         True  \n",
       "1         True  \n",
       "2         True  \n",
       "3         True  \n",
       "5         True  "
      ]
     },
     "execution_count": 39,
     "metadata": {},
     "output_type": "execute_result"
    }
   ],
   "source": [
    "# This shows the remaining data set after filtering \n",
    "\n",
    "df_filtered.head()"
   ]
  },
  {
   "cell_type": "code",
   "execution_count": 40,
   "metadata": {
    "scrolled": true
   },
   "outputs": [
    {
     "name": "stdout",
     "output_type": "stream",
     "text": [
      "Average sentiment for these songs: -0.2\n"
     ]
    }
   ],
   "source": [
    "print ('Average sentiment for these songs: ' + str(round(df_filtered['overall_sentiment'].mean(), 2)))"
   ]
  },
  {
   "cell_type": "code",
   "execution_count": 41,
   "metadata": {},
   "outputs": [
    {
     "name": "stdout",
     "output_type": "stream",
     "text": [
      "Song: \"Mutron Angel\", Artist: Outkast, Sentiment: 0.7\n",
      "Song: \"Taste Of India\", Artist: Aerosmith, Sentiment: 0.6\n",
      "Song: \"Hey Ya\", Artist: Outkast, Sentiment: 0.1\n",
      "Song: \"Dream On\", Artist: Aerosmith, Sentiment: 0.0\n",
      "Song: \"Lightning Strikes\", Artist: Aerosmith, Sentiment: 0.0\n"
     ]
    }
   ],
   "source": [
    "# Returning the Top 5 topics and sentiment from the filtered songs\n",
    "\n",
    "df_sentiment_copy = df_filtered.copy()\n",
    "df_sentiment_copy = df_sentiment_copy.sort_values(by=['overall_sentiment'], axis=0, ascending=False)[:5]\n",
    "df_sentiment_copy = df_sentiment_copy.reset_index()\n",
    "\n",
    "counter = 0\n",
    "while counter < len(df_sentiment_copy['artist']):\n",
    "    print ('Song: \"' + (df_sentiment_copy['song'][counter]) + '\", Artist: ' + str((df_sentiment_copy['artist'][counter])) + ', '  \n",
    "    + 'Sentiment: ' + str((df_sentiment_copy['overall_sentiment'][counter])))  \n",
    "    counter +=1"
   ]
  },
  {
   "cell_type": "code",
   "execution_count": 42,
   "metadata": {
    "collapsed": true
   },
   "outputs": [],
   "source": [
    "# The code below is how we can sum up all the values from the entities and return the top 5\n",
    "\n",
    "###\n",
    "### TO BE DELETED ?\n",
    "###"
   ]
  },
  {
   "cell_type": "code",
   "execution_count": 43,
   "metadata": {},
   "outputs": [
    {
     "data": {
      "text/plain": [
       "{'Computer': 5, 'Jake': 2, 'Test': 6}"
      ]
     },
     "execution_count": 43,
     "metadata": {},
     "output_type": "execute_result"
    }
   ],
   "source": [
    "# Test out the top_entity function\n",
    "dict_test = [{'Test': 6, 'Jake': 2, 'Computer': 5}, {'Pizza': 3, 'Jake': 5, 'Cat': 1}, {'John': 2, 'Jeff': 1}]\n",
    "dict_test[0]"
   ]
  },
  {
   "cell_type": "code",
   "execution_count": 44,
   "metadata": {},
   "outputs": [
    {
     "data": {
      "text/plain": [
       "['Jake', 'Test', 'Computer', 'Pizza', 'John']"
      ]
     },
     "execution_count": 44,
     "metadata": {},
     "output_type": "execute_result"
    }
   ],
   "source": [
    "summed_dict = collections.Counter()\n",
    "for d in dict_test: \n",
    "    summed_dict.update(d)\n",
    "low_to_high = sorted(summed_dict, key=summed_dict.__getitem__)[-5:]\n",
    "top_five_entities = low_to_high[::-1]\n",
    "top_five_entities"
   ]
  },
  {
   "cell_type": "markdown",
   "metadata": {},
   "source": [
    "# Use Cases"
   ]
  },
  {
   "cell_type": "markdown",
   "metadata": {},
   "source": [
    "## Define User Interface"
   ]
  },
  {
   "cell_type": "code",
   "execution_count": 26,
   "metadata": {
    "collapsed": true
   },
   "outputs": [],
   "source": [
    "# Here we define the user interface function the includes all the filters created above \n",
    "\n",
    "def UserInterface(df):\n",
    "    \n",
    "    print(\"In the following steps you will filter the song dataset on the following variables: \")\n",
    "    [print(i) for i in df.columns.values]\n",
    "    print(\"\")\n",
    "    \n",
    "    ####################\n",
    "    ###    ARTIST    ###\n",
    "    ####################\n",
    "    \n",
    "    unique_artists = list(df['artist'].unique())\n",
    "    print ('\\nArtist options: ', unique_artists)\n",
    "    artist_input = input('\\nPlease select your artists (or type * to select all): ')\n",
    "\n",
    "    if artist_input == '*':\n",
    "        artist_input = unique_artists\n",
    "    else:\n",
    "        artist_input = artist_input.split(', ')\n",
    "    \n",
    "    # Filtering for artist\n",
    "    df_filtered = df.loc[df['artist'].isin(artist_input)]\n",
    "    \n",
    "    ####################\n",
    "    ###     ALBUM    ###\n",
    "    ####################\n",
    "    \n",
    "    unique_albums = list(df_filtered['album'].unique())\n",
    "    print ('\\nAlbum options: ', unique_albums)\n",
    "    album_input = input('\\nPlease select your albums (or type * to select all): ')\n",
    "    \n",
    "    if album_input == '*':\n",
    "        album_input = unique_albums\n",
    "    else:\n",
    "        album_input = album_input.split(', ')\n",
    "    \n",
    "    df_filtered = df_filtered.loc[df_filtered['album'].isin(album_input)]\n",
    "    \n",
    "    ####################\n",
    "    ###   COUNTRY    ###\n",
    "    ####################\n",
    "    \n",
    "    unique_countries = list(df_filtered['home_country'].unique())\n",
    "    print ('\\nCountry options: ', unique_countries)\n",
    "    country_input = input('\\nPlease select your countries (or type * to select all): ')\n",
    "    \n",
    "    if country_input == '*':\n",
    "        country_input = unique_countries\n",
    "    else:\n",
    "        country_input = country_input.split(', ')\n",
    "    \n",
    "    df_filtered = df_filtered.loc[df_filtered['home_country'].isin(country_input)]\n",
    "    \n",
    "    ###################\n",
    "    ###    GENRE    ###\n",
    "    ###################\n",
    "\n",
    "    unflattened_genre_list = list(df_filtered['genre'])\n",
    "    unique_genres = set([item for sublist in unflattened_genre_list for item in sublist])\n",
    "    print ('\\nGenre options: '), unique_genres\n",
    "    \n",
    "    genre_input = input('\\nPlease select your genres (or type * to select all): ')\n",
    "    \n",
    "    if genre_input == '*':\n",
    "        genre_input = list(unique_genres)\n",
    "    else:\n",
    "        genre_input = genre_input.split(', ')\n",
    "    \n",
    "    df_filtered['genre_match'] = False\n",
    "    for count, each_row in enumerate(df_filtered['genre']):\n",
    "        for item in each_row:\n",
    "            if item in genre_input:\n",
    "                df_filtered['genre_match'].iloc[count] = True\n",
    "    df_filtered = df_filtered.loc[df_filtered['genre_match'] == True]\n",
    "    \n",
    "    \n",
    "    ####################\n",
    "    ### RELEASE YEAR ###\n",
    "    ####################\n",
    "    \n",
    "    print ('\\nRelease date options: \\n 1960-1969 \\n 1970-1979 \\n 1980-1989 \\n 1990-1999 \\n 2000-2009 \\n 2010-Present')\n",
    "    \n",
    "    release_input = input('\\nPlease select your release year (or type * to select all): ')\n",
    "    \n",
    "    release_year_list = []\n",
    "\n",
    "    if release_input == '*':\n",
    "        for elem in range (1960, 2018):\n",
    "            release_year_list.append(elem)\n",
    "    else:\n",
    "        release_input = release_input.split(', ')\n",
    "        for elem in release_input:\n",
    "            if '1960' in elem:\n",
    "                    for elem in range (1960, 1970):\n",
    "                        release_year_list.append(elem)\n",
    "            elif '1970' in elem:\n",
    "                    for elem in range (1970, 1980):\n",
    "                        release_year_list.append(elem)\n",
    "            elif '1980' in elem:\n",
    "                    for elem in range (1980, 1990):\n",
    "                        release_year_list.append(elem)\n",
    "            elif '1990' in elem:\n",
    "                    for elem in range (1990, 2000):\n",
    "                        release_year_list.append(elem)\n",
    "            elif '2000' in elem:\n",
    "                    for elem in range (2000, 2010):\n",
    "                        release_year_list.append(elem)\n",
    "            elif '2010' in elem:\n",
    "                    for elem in range (2010, 2018):\n",
    "                        release_year_list.append(elem)\n",
    "\n",
    "    release_input = release_year_list\n",
    "    \n",
    "    df_filtered = df_filtered.loc[df_filtered['released'].isin(release_input)]\n",
    "    \n",
    "    ##################\n",
    "    ### SINGER AGE ###\n",
    "    ##################\n",
    "    \n",
    "    print ('\\nSinger age options: \\n 10-19 \\n 20-29 \\n 30-39 \\n 40-49 \\n 50-59')\n",
    "    \n",
    "    age_input = input('\\nPlease select an age range for singers (or type * to select all): ')\n",
    "    \n",
    "    age_year_list = []\n",
    "\n",
    "    if age_input == '*':\n",
    "        for elem in range (10, 56):\n",
    "            age_year_list.append(elem)\n",
    "    else:\n",
    "        age_input = age_input.split(', ')\n",
    "        for elem in age_input:\n",
    "            if '10' in elem:\n",
    "                    for elem in range (10, 20):\n",
    "                        age_year_list.append(elem)\n",
    "            elif '20' in elem:\n",
    "                    for elem in range (20, 30):\n",
    "                        age_year_list.append(elem)\n",
    "            elif '30' in elem:\n",
    "                    for elem in range (30, 40):\n",
    "                        age_year_list.append(elem)\n",
    "            elif '40' in elem:\n",
    "                    for elem in range (40, 50):\n",
    "                        age_year_list.append(elem)\n",
    "            elif '50' in elem:\n",
    "                    for elem in range (50, 57):\n",
    "                        age_year_list.append(elem)\n",
    "\n",
    "    age_input = age_year_list\n",
    "    \n",
    "    df_filtered = df_filtered.loc[df_filtered['singer_age_at_release'].isin(age_input)]\n",
    "    \n",
    "    \n",
    "    #      ____        _               _   \n",
    "    #    / __ \\      | |             | |  \n",
    "    #   | |  | |_   _| |_ _ __  _   _| |_ \n",
    "    #   | |  | | | | | __| '_ \\| | | | __|\n",
    "    #   | |__| | |_| | |_| |_) | |_| | |_ \n",
    "    #    \\____/ \\__,_|\\__| .__/ \\__,_|\\__|\n",
    "    #                    | |              \n",
    "    #                    |_|              \n",
    "    \n",
    "    \n",
    "    print(\"\\n===================================================================\\n===================================================================\\n\")\n",
    "    \n",
    "    ## Print average sentiment of songs reslting from filtering ##\n",
    "    ####\n",
    "    \n",
    "    print ('The average sentiment of the songs resulting from your search is: ' + str(round(df_filtered['overall_sentiment'].mean(), 2)))\n",
    "    \n",
    "    print(\"\\n===================================================================\\n\")\n",
    "    \n",
    "    ## Return the Top 5 topics and their sentiment for the filtered songs\n",
    "    ####\n",
    "    \n",
    "    print('\\nThe top 5 most prevalent topics of the songs resulting from your search are:\\n')\n",
    "    \n",
    "    df_sentiment_copy = df_filtered.copy()\n",
    "    df_sentiment_copy = df_sentiment_copy.sort_values(by=['overall_sentiment'], axis=0, ascending=False)[:5]\n",
    "    df_sentiment_copy = df_sentiment_copy.reset_index()\n",
    "    \n",
    "    counter = 0\n",
    "    while counter < len(df_sentiment_copy['artist']):\n",
    "        print ('Song: \"' + (df_sentiment_copy['song'][counter]) + '\", Artist: ' + str((df_sentiment_copy['artist'][counter])) + ', '  \n",
    "        + 'Sentiment: ' + str((df_sentiment_copy['overall_sentiment'][counter])))  \n",
    "        print(\"\")\n",
    "        counter +=1\n",
    "    \n",
    "    return df_filtered\n",
    "\n"
   ]
  },
  {
   "cell_type": "markdown",
   "metadata": {},
   "source": [
    "## Run User Interface"
   ]
  },
  {
   "cell_type": "code",
   "execution_count": 35,
   "metadata": {},
   "outputs": [
    {
     "name": "stdout",
     "output_type": "stream",
     "text": [
      "In the following steps you will filter the song dataset on the following variables: \n",
      "ID\n",
      "artist\n",
      "song\n",
      "album\n",
      "released\n",
      "genre\n",
      "home_country\n",
      "singer_age_at_release\n",
      "entity\n",
      "topic\n",
      "Google_Entities\n",
      "overall_sentiment\n",
      "\n",
      "\n",
      "Artist options:  ['Aerosmith', 'Bruno Mars', 'Coldplay', 'Doors', 'Elton John', 'Elvis Presley', 'Grateful Dead', 'Jimi Hendrix', 'John Legend', 'Lady Gaga', 'Linkin Park', 'Maroon 5', 'Metallica', 'Michael Jackson', 'Nickelback', 'Outkast', 'Santana', 'Stevie Wonder', 'Weezer', 'Wu-Tang Clan']\n",
      "\n",
      "Please select your artists (or type * to select all): Aeromith, The Doors\n",
      "\n",
      "Album options:  []\n",
      "\n",
      "Please select your albums (or type * to select all): *\n",
      "\n",
      "Country options:  []\n",
      "\n",
      "Please select your countries (or type * to select all): *\n",
      "\n",
      "Genre options: \n",
      "\n",
      "Please select your genres (or type * to select all): *\n",
      "\n",
      "Release date options: \n",
      " 1960-1969 \n",
      " 1970-1979 \n",
      " 1980-1989 \n",
      " 1990-1999 \n",
      " 2000-2009 \n",
      " 2010-Present\n",
      "\n",
      "Please select your release year (or type * to select all): *\n",
      "\n",
      "Singer age options: \n",
      " 10-19 \n",
      " 20-29 \n",
      " 30-39 \n",
      " 40-49 \n",
      " 50-59\n",
      "\n",
      "Please select an age range for singers (or type * to select all): *\n",
      "\n",
      "===================================================================\n",
      "===================================================================\n",
      "\n",
      "The average sentiment of the songs resulting from your search is: nan\n",
      "\n",
      "===================================================================\n",
      "\n",
      "\n",
      "The top 5 most prevalent topics of the songs resulting from your search are:\n",
      "\n"
     ]
    }
   ],
   "source": [
    "# Test User Interface\n",
    "df_filtered = UserInterface(df)"
   ]
  },
  {
   "cell_type": "markdown",
   "metadata": {},
   "source": [
    "# Create Inverted Index"
   ]
  },
  {
   "cell_type": "code",
   "execution_count": 36,
   "metadata": {},
   "outputs": [
    {
     "name": "stdout",
     "output_type": "stream",
     "text": [
      "['Presley', 'Truth', 'Pick', 'Lord', 'Breakin', 'Kim', \"Janie's\", 'Peter', 'carrier', 'Snake', 'Morphine', '(islands)', 'Honda', 'I', 'Refrigerator', 'Hahaha', 'GZA', 'Street', 'Rube', 'Guitar', 'de', 'Hoe', 'Music', 'Belong', 'Petal', 'Bratwurst', 'Starch', 'Got', 'From', 'Lady', 'Charlie', 'Central', 'pageant', 'Stream', 'Ella', 'Pride', '68', 'gauntlet', 'Clan', 'Land', 'Brick', 'Take', 'Jean', 'Beauty', '3', 'Warlord', 'Mural', '40', 'Outkast', 'Dawn', 'butter', 'Living', 'Shade', 'rock', 'Fetus', '(landform)', 'Long', 'Sweetness', 'Sound', 'Disco', 'willin', 'String', 'Spoon', 'Hug', 'Sword', 'Mars', 'Fruit', 'Honey', 'Boarding', 'Rumble', 'Pillow', 'Bongo', 'Wanda', 'Time', 'Heine', 'Labellum', 'In', 'Dean', 'Bruno', 'Boi', 'Perfume', 'Know', 'Melody', '2017-12-01T00:00:00.000-05:00', 'Controlled-access', 'Method', 'Have', 'poker', 'Ohhh', 'Parchment', 'Déjà', 'Deck', 'wonder', 'Whoo', 'Was', 'Miss', 'Steven', 'Mail', 'Sachmo', '2', 'Miles', 'wire', 'Demon', 'slide', 'sins', 'Locket', 'Roller', 'Drums', 'Just', 'Legend', 'Michael', 'Vietnam', 'Breastfeeding', 'Altitude', 'You', 'Wine', '(botany)', 'Warrior', 'music', 'Canoe', 'Tipi', 'football)', 'Ship', 'spoon', 'United', 'Dough', 'Hip', 'Knife', 'Man', 'Ounce', 'Frantic', 'Hills,', 'congestion', 'or', 'Jr.', 'Raekwon', 'Hocus', 'Rock', '(music)', 'Liquor', 'Jimi', 'NME', 'Cocaine', 'Pocko', 'Blacklight', 'ball', 'an', 'Casey', '2017-12-09T00:00:00.000-05:00', 'perception', 'Elevator', 'Martin', 'Baghdad', 'SWAT', 'Soldier', 'saidI', 'Buddy', 'Bus', '2017-12-04T00:00:00.000-05:00', 'Prairie', 'Everything', 'Doodoo', 'Your', 'Photograph', 'Yin', 'Baby', 'Clampett', 'Delusion', 'Iron', 'Feet', 'Improvised', 'Silver', 'Heaven', 'Juice', 'cyclone', 'Fat', 'Jimmy', 'Bang', 'Red', 'Mind', 'Clam', 'Running', 'Corvette', 'Nigga', 'Dirty', 'My', 'Concubinage', 'Shotgun', 'space', 'Billie', 'Betting', 'Squaw', 'glass', 'Disease', 'Color', 'Sin', 'Show', 'Beggin', 'in', 'Lightning', 'Mirror', 'Duke', 'Toys', 'talk', 'mister', 'Chance', 'Gambling', 'Sunlight', 'Laughter', 'Rosey', 'Whoa', 'Heart', 'Albert', 'Water', 'beverage', 'Funeral', 'dare?', 'Miser', 'Sliding', 'Velvet', '2017-12-03T00:00:00.000-05:00', 'Diamond', 'Angel', 'Salt', '4', 'man', 'White', 'Oyster', 'powers', '90', 'Playboy', 'Cal', 'Gabriel', 'Fortune-telling', 'Big', 'Light', 'Jesus', 'Radio', 'Elvis', 'Israel', 't', 'Jerusalem', 'India', 'Autograph', 'Iroquois', 'Midnight', 'House', \"Fools'\", 'Town', 'Drivin', 'Defender', 'Powerful', 'Little', 'Choir', 'Bullet', 'Crosstown', 'Everybody', 'Searchlight', '1000000', 'Fuck', 'Curse', 'Whisky', 'Soul', 'Kings', 'Hell', 'Credit', 'God', 'Whatcha', 'Fire', 'Pearl', 'pocus', 'Life', 'Fence', 'Seven', 'Cher', 'Tryna', 'Crawling', 'Walkin', 'Barbed', 'Inspectah', 'yang', 'Luck', 'Substance', \"Ol'\", 'Calico', 'Gorilla', 'didn', 'Bunny', 'Gravity', 'Traffic', 'Are', 'Incense', 'Me', 'Dum', 'Wolf', 'Kids', 'Basie', 'Truckin', '(magic)', 'series)', '(firearms)', 'Axis', 'lee', 'Sky', '2018-04-04T00:00:00.000-04:00', 'Beer', 'Pyre', '20', 'Daddy', '100', '(TV', 'Dead', 'babe', 'wanna', 'Mountain', 'tree', 'Gun', 'Benzo', 'Claire', '(association', 'Day', 'Steering', 'Tide', 'deadly', '2018-02-01T00:00:00.000-05:00', 'Wicked', 'April', 'Flower', 'Romance', 'hop', 'Violin', 'New', '(stadium)', 'Aisha', 'chief', 'Icebox', 'Pineapple', 'Londie', 'Baseball', 'California', 'Geronimo', 'Punk', 'Sailing', 'Lottery', 'Sioux', 'Spit', 'Rapper', '(song)', 'highway', 'drum', 'Procuring', 'Massage', 'Moon', 'Karma', 'station', 'Girl', '10', 'identifier', 'States', 'Love', 'Chair', 'with', 'Riddler', 'school', 'Cadillac', 'Prophecy', 'Nickel', 'structure', '2018-06-24T00:00:00.000-04:00', 'Ooo', 'Cosby', 'Gettin', 'Orange', 'Bridge', 'Knot', 'Tire', 'Greed', 'Location', 'butter)', 'vu', 'Fix', 'Dog', 'Beach', 'Tsunami', 'Peanut', '(musical)', 'Mansion', 'Shield', 'Her', 'Gods', 'Destruction', 'Blues', 'Slate', 'Ninja', 'A', 'Lane', 'Airport', 'Trigger', 'Chicago', 'air', 'Jagger', 'Jif', '6', 'King', 'Company', 'Conversation', 'Dream', 'Missionary', 'skates', 'Purple', 'Wu-Tang', 'Uncle', 'Dimensions', 'Calliope', 'back', 'Pendulum', 'Wonder', 'Gong', 'Tomahawk', 'Crystal', '(prostitution)', 'Madly', 'Alibi', 'Kitchen,', 'Here', 'Drink', 'Clothing', 'Appetite', 'Pie', 'Toilet', 'Ready', 'Superman', 'Refrain', 'Car', 'bat', 'Conclusion', 'card', 'Cuz', 'The', 'to', 'Huxtible', 'Makin', 'Joey', 'Outer', 'Distilled', 'Sam', 'York', 'eye', 'Station', 'Seein', 'Monk', 'store', 'Ya!', 'the', 'Miller', 'Spades', 'and', 'Eternity', 'Dooooo', 'for', 'Vindaloo', 'Moses', 'paper', 'Thunder', 'like', 'Manhattan', 'Lip', 'sync', 'a', 'wheel', 'Saint', 'Monica', 'Hour', 'of', 'Bells', 'Nothing', 'Tribal', 'Eye', 'James', 'Bad', 'Lexus', 'Hemp', 'wine', 'Santa', 'Livin', 'Smile', 'Flood', 'Funk', '30', '1', 'Fallin', 'Darling', 'Nylon', 'Blond', 'Bastard', 'Fall', 'Clock', 'callI', 'Muscle', 'John', 'Rhyme', 'Switchman', 'Bill', 'Memphis,', 'Better', 'Buffalo,', 'Luther', 'Earth', 'Broadcasting', 'Bit', '(peanut', 'Dagger', 'door', \"Hell's\", 'Our', 'Snow', 'Song', 'rob', 'Lordy', 'Ringing', 'Firefly', 'Night', 'mmm', 'Dance', '(tool)', 'Guillotine', 'It', 'Poetry', 'Pond', 'Fleetwood', 'Happy', 'Tennessee', 'Devil', 'When', 'Hey', 'Beverly', 'Moves', 'Buckie', 'Vikings', 'Chesay', 'dependence', 'Pocketknife', 'Paddle', '2018-05-01T00:00:00.000-04:00', 'firearm', 'Tropical', 'Agent', 'Crawlin', 'Sayin', 'Skin', 'Visual', 'Door', 'Sir', '2018-10-01T00:00:00.000-04:00', 'Mmm', 'Tattoo', 'RZA', 'American', 'ship', 'Janie', 'Teeth', 'Jones', 'Right', 'Rain']\n",
      "['Presley', 'tools', 'Truth', 'Zee', 'compositions', 'Coast', 'originating', 'Peter', 'sciences', 'musical', 'Coasts', 'Morphine', 'Artificial', 'works', 'I', 'arts', 'Hooker', 'Refrigerator', 'hurricane', 'collectives', 'Catholic', 'Applied', 'Electropop', 'stories', 'Songwriter', 'Age', 'Politics', 'Albums', 'poetry', 'Kentucky', 'texts', 'Dance-pop', 'Songs', 'Novel', 'Vortices', 'Guitar', 'Atlantic', 'Yom', 'Chordophones', 'Rolling', 'Gaming', 'Music', 'Belong', 'materials', 'Consumer', 'episodes', 'singles', 'Middle', 'Jackson,', 'behaviour', 'Religion', 'Glass', 'form', 'From', 'Erosion', 'Lady', 'Railway', 'Traditions', 'Poems', 'programs', 'pageant', 'Pride', 'Philosophy', 'Clan', 'Melee', 'Land', 'Tattooing', 'Take', 'art', 'Jean', 'Astronomy', 'Weapons', 'Beauty', 'Fantasy', 'railroaders', 'Recorded', 'religions', 'Railroad', 'engineering', 'Dawn', 'Fictional', 'Living', 'rock', 'psychedelic', 'Sound', 'Disco', 'String', 'Funerals', 'Psychological', 'Spoon', 'Sword', 'Months', 'Alcoholic', 'Mars', 'articles', 'Honey', 'Boarding', 'East', 'Pillow', 'weapons', 'Equipment', 'Vocal', 'landforms', 'Bruno', 'In', 'philosophy', 'Number-one', 'Fiction', 'Perfume', 'Europe', 'videos', 'Controlled-access', 'Theology', 'Speculative', 'Was', 'fiction', 'Lee', 'Rituals', 'Card', 'Miles', 'Christian', 'sins', 'Roller', 'Just', 'Legend', 'People', 'You', 'Singles', 'Wine', 'music', 'Canoe', 'Crops', 'Metaphysics', 'County,', 'Ship', 'MTV', 'United', 'Hip', 'goods', 'Knife', 'Literature', 'Man', 'Native', 'Enterprises', 'Walls', 'Optical', 'Hocus', 'Rock', '(music)', 'NME', 'Cocaine', 'Blacklight', 'ball', 'attitude', 'Casey', 'perception', 'Elements', 'Transport', 'Epistemology', 'Buddy', 'Mythology', 'Bus', 'Meteorology', 'Your', 'Rail', 'Baby', 'conventions', 'religion', 'Heaven', 'from', 'cyclone', 'Ages', 'Clinical', 'Materials', 'aspects', 'about', 'Hindi-language', 'Clam', 'Mind', 'Jewish', 'synthpop', 'anthropology', 'mental', 'Weekly', 'industry', 'Shotgun', 'space', 'Billie', 'Electromagnetic', 'Mouth', 'Sin', 'taxonomy', 'Color', 'written', 'styles', 'Records', 'in', 'specialties', 'Mirror', 'Disasters', 'Toys', 'talk', 'blues', 'abuse', 'Gambling', 'percenters', 'Laughter', 'Acid', 'Heart', 'Alcohol', 'albums', 'Water', 'beverage', 'Funeral', 'Miser', 'Weather', 'series', 'care', 'peoples', 'Books', 'books', 'Christianity', 'hamartiology', 'modification', 'diaspora', 'Oyster', 'Afterlife', 'Playboy', 'objects', 'devices', 'physics', 'Fortune-telling', 'Tourism', 'Hand', 'members', 'franchises', 'Elvis', 'Israel', 'Jerusalem', 'Bivalves', 'Iroquois', 'Midnight', 'Grammy', 'ballads', 'Wire', 'Films', 'customs', 'cosmologies', 'cyclones', 'interdisciplinary', 'Dentistry', 'groups', 'Human', 'Health', 'British', 'prayer', 'Video', 'Choir', 'locations', 'Geffen', 'popular', 'Medieval', 'Performing', 'Cultural', 'hip', 'Monster', 'Hell', 'God', 'Pearl', 'pocus', 'Seven', 'Cher', 'Cutting', 'life', 'Indigenous', 'Luck', 'Substance', 'Viking', 'Gorilla', 'Hard', 'Gravity', 'Drama', 'Games', 'Film', 'events', 'attention', 'instruments', 'Tov', 'Me', 'needing', 'hard', 'Undertaking', '(magic)', 'Blade', 'Musical', 'Monkeys', 'safety', 'Pop', 'Sky', 'Primates', 'Hardware', 'doctrine', 'Ships', 'NASCAR', 'science', 'television', 'services', 'hazards', 'Culture', 'Traditional', 'Tide', 'deadly', 'Beaches', 'Romance', 'English', 'hop', 'New', 'Entertainment', 'directed', 'Baseball', 'Natural', 'Geronimo', 'theology', 'Creative', 'technology', 'Sioux', '(song)', 'appearance', 'radiation', 'highway', 'Fermented', 'songs', 'Award', 'Massage', 'Moon', 'Karma', 'Propositional', 'Death', 'States', 'Popular', 'Love', 'Chair', 'with', 'hurricanes', 'child', 'skill', 'TV', 'school', 'English-language', 'engineers', 'Medical', 'structure', 'Orange', 'Knot', 'Novels', 'disasters', 'Plains', 'Fix', 'Medicine', 'Knives', 'Shield', 'Her', 'Blues', 'Five', 'musicians', 'Ninja', 'doctrines', 'Philosophical', 'recordings', 'ethics', 'traditions,', 'Ephemera', 'Chicago', 'Body', 'communication', 'Cup', 'Jagger', 'Kingdom)', 'Hebrew', 'law', 'people', 'Dream', 'Missionary', 'skates', 'media', 'Purple', 'Wu-Tang', 'recording', 'Storm', 'Eric', 'Multilingual', 'Gaga', 'medicine', 'Pendulum', 'Cognitive', 'Religious', 'Crystal', 'Madly', 'calendar', 'reading', 'Here', 'Drink', 'Appetite', 'humans', 'belief', 'Superman', 'Great', 'Refrain', 'movements', 'bat', 'Denmark', 'The', 'Energy', 'Commemoration', 'prayers', 'African', 'applications', 'Outer', 'Distilled', 'York', 'depictions', 'Ya!', 'Sun', 'the', 'Primate', 'and', 'Criminal', 'readings', 'for', 'Coastal', 'Tabletop', 'geography', 'Shabbat', 'Playing', 'Thunder', 'Mythological', 'like', 'Year', 'Burdon', 'Series', 'faiths,', 'Horology', 'Aerosmith', 'Saint', 'Windstorms', 'Hour', 'of', 'Nothing', 'Eye', 'Bad', 'meteorology', 'Smile', 'Flood', 'procedures', 'Torah', 'body', 'drinks', 'Grief', 'Shacharit', 'Awards', 'Nylon', 'Sports', 'cards', 'Personal', 'Monotheistic', 'produced', 'Clock', 'America', 'metal', 'Grape', 'John', 'Television', 'Glam', 'Rhyme', 'transport', 'Earth', 'accidents', 'Song', 'Firefly', 'Early', 'forms', 'Dance', 'It', 'Poetry', 'Theoretical', 'African-American', 'rituals', 'Physical', 'games', 'Abrahamic', 'Tennessee', 'Devil', 'Optics', 'When', 'seasons', 'experience', 'Hey', 'Moves', 'chance', 'ritual', 'Vikings', 'dependence', 'Works', 'Arts', 'Machines', 'unknown', 'Tropical', 'Agent', 'Stones', 'Social', 'cycle', 'Visual', 'Door', 'attitudes', 'theories', 'RZA', 'Tattoo', 'death', '(mechanical)', 'Indian', 'American', 'Fences', 'Fulton', 'Jones', 'Contemporary', 'Tropics', 'Rain', 'North', '(United']\n",
      "['Presley', 'tools', 'Truth', 'Zee', 'compositions', 'Coast', 'originating', 'Peter', 'sciences', 'musical', 'Coasts', 'Morphine', 'Artificial', 'works', 'I', 'arts', 'Hooker', 'Refrigerator', 'hurricane', 'collectives', 'Catholic', 'Applied', 'Electropop', 'stories', 'Songwriter', 'Age', 'Politics', 'Albums', 'poetry', 'Kentucky', 'texts', 'Dance-pop', 'Songs', 'Novel', 'Vortices', 'Guitar', 'Atlantic', 'Yom', 'Chordophones', 'Rolling', 'Gaming', 'Music', 'Belong', 'materials', 'Consumer', 'episodes', 'singles', 'Middle', 'Jackson,', 'behaviour', 'Religion', 'Glass', 'form', 'From', 'Erosion', 'Lady', 'Railway', 'Traditions', 'Poems', 'programs', 'pageant', 'Pride', 'Philosophy', 'Clan', 'Melee', 'Land', 'Tattooing', 'Take', 'art', 'Jean', 'Astronomy', 'Weapons', 'Beauty', 'Fantasy', 'railroaders', 'Recorded', 'religions', 'Railroad', 'engineering', 'Dawn', 'Fictional', 'Living', 'rock', 'psychedelic', 'Sound', 'Disco', 'String', 'Funerals', 'Psychological', 'Spoon', 'Sword', 'Months', 'Alcoholic', 'Mars', 'articles', 'Honey', 'Boarding', 'East', 'Pillow', 'weapons', 'Equipment', 'Vocal', 'landforms', 'Bruno', 'In', 'philosophy', 'Number-one', 'Fiction', 'Perfume', 'Europe', 'videos', 'Controlled-access', 'Theology', 'Speculative', 'Was', 'fiction', 'Lee', 'Rituals', 'Card', 'Miles', 'Christian', 'sins', 'Roller', 'Just', 'Legend', 'People', 'You', 'Singles', 'Wine', 'music', 'Canoe', 'Crops', 'Metaphysics', 'County,', 'Ship', 'MTV', 'United', 'Hip', 'goods', 'Knife', 'Literature', 'Man', 'Native', 'Enterprises', 'Walls', 'Optical', 'Hocus', 'Rock', '(music)', 'NME', 'Cocaine', 'Blacklight', 'ball', 'attitude', 'Casey', 'perception', 'Elements', 'Transport', 'Epistemology', 'Buddy', 'Mythology', 'Bus', 'Meteorology', 'Your', 'Rail', 'Baby', 'conventions', 'religion', 'Heaven', 'from', 'cyclone', 'Ages', 'Clinical', 'Materials', 'aspects', 'about', 'Hindi-language', 'Clam', 'Mind', 'Jewish', 'synthpop', 'anthropology', 'mental', 'Weekly', 'industry', 'Shotgun', 'space', 'Billie', 'Electromagnetic', 'Mouth', 'Sin', 'taxonomy', 'Color', 'written', 'styles', 'Records', 'in', 'specialties', 'Mirror', 'Disasters', 'Toys', 'talk', 'blues', 'abuse', 'Gambling', 'percenters', 'Laughter', 'Acid', 'Heart', 'Alcohol', 'albums', 'Water', 'beverage', 'Funeral', 'Miser', 'Weather', 'series', 'care', 'peoples', 'Books', 'books', 'Christianity', 'hamartiology', 'modification', 'diaspora', 'Oyster', 'Afterlife', 'Playboy', 'objects', 'devices', 'physics', 'Fortune-telling', 'Tourism', 'Hand', 'members', 'franchises', 'Elvis', 'Israel', 'Jerusalem', 'Bivalves', 'Iroquois', 'Midnight', 'Grammy', 'ballads', 'Wire', 'Films', 'customs', 'cosmologies', 'cyclones', 'interdisciplinary', 'Dentistry', 'groups', 'Human', 'Health', 'British', 'prayer', 'Video', 'Choir', 'locations', 'Geffen', 'popular', 'Medieval', 'Performing', 'Cultural', 'hip', 'Monster', 'Hell', 'God', 'Pearl', 'pocus', 'Seven', 'Cher', 'Cutting', 'life', 'Indigenous', 'Luck', 'Substance', 'Gorilla', 'Viking', 'Gravity', 'Hard', 'Drama', 'Games', 'Film', 'events', 'attention', 'instruments', 'Tov', 'Me', 'needing', 'hard', 'Undertaking', 'Musical', 'Blade', '(magic)', 'Monkeys', 'safety', 'Pop', 'Sky', 'Primates', 'Hardware', 'doctrine', 'Ships', 'NASCAR', 'science', 'television', 'services', 'hazards', 'Culture', 'Traditional', 'Tide', 'deadly', 'Beaches', 'Romance', 'English', 'hop', 'New', 'Entertainment', 'directed', 'Baseball', 'Natural', 'Geronimo', 'theology', 'Creative', 'technology', 'Sioux', '(song)', 'appearance', 'radiation', 'Fermented', 'songs', 'highway', 'Award', 'Massage', 'Moon', 'Karma', 'Propositional', 'Death', 'States', 'Popular', 'Love', 'Chair', 'with', 'hurricanes', 'child', 'skill', 'TV', 'school', 'English-language', 'engineers', 'Medical', 'structure', 'Orange', 'Knot', 'Novels', 'disasters', 'Plains', 'Fix', 'Medicine', 'Knives', 'Shield', 'Her', 'Blues', 'Five', 'musicians', 'Ninja', 'doctrines', 'Philosophical', 'recordings', 'ethics', '(United', 'traditions,', 'Ephemera', 'Chicago', 'Body', 'communication', 'Cup', 'Jagger', 'Kingdom)', 'Hebrew', 'law', 'people', 'Dream', 'Missionary', 'skates', 'media', 'Purple', 'Wu-Tang', 'recording', 'Storm', 'Eric', 'Multilingual', 'Gaga', 'medicine', 'Pendulum', 'Cognitive', 'Religious', 'Crystal', 'Madly', 'calendar', 'reading', 'Here', 'Drink', 'Appetite', 'humans', 'belief', 'Superman', 'Great', 'Refrain', 'movements', 'bat', 'Denmark', 'The', 'Energy', 'Commemoration', 'prayers', 'African', 'applications', 'Outer', 'Distilled', 'York', 'depictions', 'Ya!', 'Sun', 'the', 'Primate', 'and', 'Criminal', 'readings', 'for', 'Coastal', 'Tabletop', 'geography', 'Shabbat', 'Playing', 'Thunder', 'Mythological', 'like', 'Year', 'Burdon', 'Series', 'faiths,', 'Horology', 'Aerosmith', 'Saint', 'Windstorms', 'Hour', 'of', 'Nothing', 'Eye', 'Bad', 'meteorology', 'Smile', 'Flood', 'procedures', 'Torah', 'body', 'drinks', 'Grief', 'Shacharit', 'Awards', 'Nylon', 'Sports', 'cards', 'Personal', 'Monotheistic', 'produced', 'Clock', 'America', 'metal', 'Grape', 'John', 'Television', 'Glam', 'Rhyme', 'transport', 'Earth', 'accidents', 'Song', 'Firefly', 'Early', 'forms', 'Dance', 'It', 'Poetry', 'Theoretical', 'African-American', 'rituals', 'Physical', 'games', 'Abrahamic', 'Tennessee', 'Devil', 'Optics', 'When', 'seasons', 'experience', 'Hey', 'Moves', 'chance', 'ritual', 'Vikings', 'dependence', 'Works', 'Arts', 'Machines', 'unknown', 'Tropical', 'Agent', 'Social', 'cycle', 'Visual', 'Door', 'attitudes', 'theories', 'RZA', 'Tattoo', 'death', '(mechanical)', 'Indian', 'American', 'Fences', 'Fulton', 'Jones', 'Contemporary', 'Tropics', 'Rain', 'North', 'Stones']\n"
     ]
    }
   ],
   "source": [
    "# Create vocabularies of individual columns 'entity','topic' and 'Google_Entity' \n",
    "# to be used in the vocabulary train for the inverted index\n",
    "\n",
    "# Create vocabulary for 'entity'\n",
    "\n",
    "entity_vocabulary = []\n",
    "\n",
    "for i in range(len(df['entity'])):\n",
    "    \n",
    "    if df['entity'][i] != '':\n",
    "        test = eval(df['entity'][i])\n",
    "        for j in test:\n",
    "            for key,value in j.items():\n",
    "                temp = key.split(' ')\n",
    "                for item in temp:\n",
    "                    entity_vocabulary.append(item)\n",
    "\n",
    "entity_vocabulary = list(set(entity_vocabulary))\n",
    "print(list(set(entity_vocabulary)))\n",
    "\n",
    "\n",
    "# Create vocabulary for 'topic'\n",
    "\n",
    "topic_vocabulary = []\n",
    "\n",
    "for i in range(len(df['topic'])):\n",
    "    test = eval(df['topic'][i])\n",
    "    for j in test:\n",
    "        for key,value in j.items():\n",
    "            temp = key.split(' ')\n",
    "            for item in temp:\n",
    "                topic_vocabulary.append(item)\n",
    "\n",
    "topic_vocabulary = list(set(topic_vocabulary))\n",
    "print(list(set(topic_vocabulary)))\n",
    "        \n",
    "\n",
    "# Create vocabulary for 'Google_Entities'\n",
    "\n",
    "google_entity_vocabulary = []\n",
    "\n",
    "for i in range(len(df['topic'])):\n",
    "    test = eval(df['topic'][i])\n",
    "    for j in test:\n",
    "        for key,value in j.items():\n",
    "            temp = key.split(' ')\n",
    "            for item in temp:\n",
    "                google_entity_vocabulary.append(item)\n",
    "\n",
    "google_entity_vocabulary = list(set(google_entity_vocabulary))\n",
    "print(google_entity_vocabulary)"
   ]
  },
  {
   "cell_type": "code",
   "execution_count": 37,
   "metadata": {
    "collapsed": true
   },
   "outputs": [],
   "source": [
    "# Create vocabulary train by merging the individual column vocabularies\n",
    "\n",
    "vocabulary_train = entity_vocabulary + topic_vocabulary + google_entity_vocabulary\n",
    "vocabulary_train = list(set(vocabulary_train))"
   ]
  },
  {
   "cell_type": "code",
   "execution_count": 38,
   "metadata": {
    "collapsed": true
   },
   "outputs": [],
   "source": [
    "# Create inverted index to query song entities\n",
    "\n",
    "def makeInvertedIndex(df,voctrain):\n",
    "       \n",
    "    InvertInd = {}\n",
    "    \n",
    "    for word in voctrain:\n",
    "        InvertInd[word] = []\n",
    "    \n",
    "\n",
    "    for j in voctrain:\n",
    "        for ind, val in enumerate(df['topic']):\n",
    "            if df['topic'][ind] != '':\n",
    "                evalue = eval(val) \n",
    "                #print(evalue)\n",
    "                for dual in evalue:\n",
    "                    for key,value in dual.items():\n",
    "                        keySplit = key.split(' ')\n",
    "                        for kS in keySplit:\n",
    "                            if j == kS:\n",
    "                                InvertInd[j].append(ind)\n",
    "    \n",
    "        \n",
    "    for j in voctrain:\n",
    "        for ind, val in enumerate(df['Google_Entities']):\n",
    "            if df['Google_Entities'][ind] != '':\n",
    "                evalue = eval(val) \n",
    "                for dual in evalue:\n",
    "                    for key,value in dual.items():\n",
    "                        keySplit = key.split(' ')\n",
    "                        for kS in keySplit:\n",
    "                            if j == kS:\n",
    "                                InvertInd[j].append(ind)  \n",
    "    \n",
    "\n",
    "    for j in voctrain:\n",
    "        for ind, val in enumerate(df['entity']):\n",
    "            if df['entity'][ind] != '':\n",
    "                evalue = eval(val) \n",
    "                for dual in evalue:\n",
    "                    for key,value in dual.items():\n",
    "                        keySplit = key.split(' ')\n",
    "                        for kS in keySplit:\n",
    "                            if j == kS:\n",
    "                                InvertInd[j].append(ind)\n",
    "             \n",
    "        \n",
    "        \n",
    "    return InvertInd          \n"
   ]
  },
  {
   "cell_type": "code",
   "execution_count": 39,
   "metadata": {
    "collapsed": true
   },
   "outputs": [],
   "source": [
    "# Store inverted index in a variable\n",
    "\n",
    "invertind = makeInvertedIndex(df,vocabulary_train)"
   ]
  },
  {
   "cell_type": "markdown",
   "metadata": {},
   "source": [
    "## Create OR search query"
   ]
  },
  {
   "cell_type": "code",
   "execution_count": 40,
   "metadata": {
    "collapsed": true
   },
   "outputs": [],
   "source": [
    "def orSearch(invertedIndex, query, df):\n",
    "    \n",
    "    results = []\n",
    "    \n",
    "    print(\"Query is:\",query,\"\\n\")\n",
    "    \n",
    "    for ask in query:\n",
    "        print(\"Check for:\",ask)\n",
    "        if ask in invertedIndex:\n",
    "            word = invertedIndex[ask]\n",
    "            print(\"Found...\\n\")\n",
    "            for res in word:\n",
    "                #print(res)\n",
    "                if res not in results:\n",
    "                    results.append(res)\n",
    "        else:\n",
    "            print(\"Not found...\\n\")\n",
    "        \n",
    "    for i in results:\n",
    "        print(df['song'].iloc[i],\" by \", df['artist'].iloc[i])\n",
    "    #print(\"Results: \",results)\n",
    "    "
   ]
  },
  {
   "cell_type": "markdown",
   "metadata": {},
   "source": [
    "## Run OR Search Query"
   ]
  },
  {
   "cell_type": "code",
   "execution_count": 37,
   "metadata": {},
   "outputs": [
    {
     "name": "stdout",
     "output_type": "stream",
     "text": [
      "Query is: ['Pond', 'Canoe'] \n",
      "\n",
      "Check for: Pond\n",
      "Found...\n",
      "\n",
      "Check for: Canoe\n",
      "Found...\n",
      "\n",
      "Everybody Get Dangerous  by  Weezer\n",
      "Cosmic Charlie  by  Grateful Dead\n"
     ]
    }
   ],
   "source": [
    "orSearch(invertind,['Pond','Canoe'],df)"
   ]
  },
  {
   "cell_type": "markdown",
   "metadata": {
    "collapsed": true
   },
   "source": [
    "## Creat AND Search Query"
   ]
  },
  {
   "cell_type": "code",
   "execution_count": 46,
   "metadata": {
    "collapsed": true
   },
   "outputs": [],
   "source": [
    "def andSearch(invertedIndex, query, df):\n",
    "    \n",
    "    results = {}\n",
    "    resultCheck = []\n",
    "    \n",
    "    for ask in query:\n",
    "        results[ask] = []\n",
    "    \n",
    "    print(\"Query is:\",query,\"\\n\")\n",
    "    \n",
    "    Match = False\n",
    "    \n",
    "    for ask in query:\n",
    "        print(\"Check for:\",ask,\"...\")\n",
    "        if ask in invertedIndex:\n",
    "            word = invertedIndex[ask]\n",
    "            print(\"Found\\n\")\n",
    "            for res in word:\n",
    "                results[ask].append(res)\n",
    "                if res not in resultCheck:\n",
    "                    resultCheck.append(res)\n",
    "        else:\n",
    "            print(\"Not found\\n\")\n",
    "    \n",
    "    print(\"Results: \",results)\n",
    "    \n",
    "    Matches = []\n",
    "    \n",
    "    for check in resultCheck:\n",
    "        Check = True\n",
    "        for key,value in results.items():\n",
    "            if check in value:\n",
    "                Check = Check and True\n",
    "            else:\n",
    "                Check = Check and False\n",
    "        if Check == True:\n",
    "            Matches.append(check)\n",
    "    \n",
    "    Matches = set (Matches)\n",
    "    print('\\n===================================\\n')\n",
    "    print(\"Common matches:\",Matches,\"\\n\")\n",
    "    \n",
    "    for num in Matches:\n",
    "        print(\"Found in title: \",df.iloc[num][2], \" by \", df.iloc[num][1])"
   ]
  },
  {
   "cell_type": "markdown",
   "metadata": {},
   "source": [
    "## Run AND search query"
   ]
  },
  {
   "cell_type": "code",
   "execution_count": 47,
   "metadata": {},
   "outputs": [
    {
     "name": "stdout",
     "output_type": "stream",
     "text": [
      "Query is: ['God', 'life'] \n",
      "\n",
      "Check for: God ...\n",
      "Found\n",
      "\n",
      "Check for: life ...\n",
      "Found\n",
      "\n",
      "Results:  {'God': [58, 108, 2, 58, 89, 90, 94, 108, 4, 50, 58, 89, 90, 108, 122], 'life': [4, 89, 3, 3, 7, 12, 26, 43, 43, 50, 56, 56, 57, 58, 61, 62, 69, 79, 81, 81, 83, 84, 84, 87, 88, 88, 88, 89, 89, 95, 97, 98, 104, 104, 106, 107, 108, 114, 114, 119, 119, 119]}\n",
      "\n",
      "===================================\n",
      "\n",
      "Common matches: {4, 108, 50, 89, 58} \n",
      "\n",
      "Found in title:  Eyesight To The Blind  by  Aerosmith\n",
      "Found in title:  Isn't She Lovely  by  Stevie Wonder\n",
      "Found in title:  Message Of Love  by  Jimi Hendrix\n",
      "Found in title:  Side Of A Bullet  by  Nickelback\n",
      "Found in title:  Show Me  by  John Legend\n"
     ]
    }
   ],
   "source": [
    "andSearch(invertind,['God','life'], df)\n",
    "\n",
    "# Wow remarkably many songs have 'God' and 'life' in them."
   ]
  },
  {
   "cell_type": "code",
   "execution_count": null,
   "metadata": {
    "collapsed": true
   },
   "outputs": [],
   "source": []
  }
 ],
 "metadata": {
  "kernelspec": {
   "display_name": "Python 3",
   "language": "python",
   "name": "python3"
  },
  "language_info": {
   "codemirror_mode": {
    "name": "ipython",
    "version": 3
   },
   "file_extension": ".py",
   "mimetype": "text/x-python",
   "name": "python",
   "nbconvert_exporter": "python",
   "pygments_lexer": "ipython3",
   "version": "3.6.1"
  }
 },
 "nbformat": 4,
 "nbformat_minor": 2
}
